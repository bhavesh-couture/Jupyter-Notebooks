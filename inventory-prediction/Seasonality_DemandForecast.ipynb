{
 "cells": [
  {
   "cell_type": "code",
   "execution_count": 1,
   "id": "8e19ef31-dc96-4a91-8938-5e3762cd8f32",
   "metadata": {},
   "outputs": [],
   "source": [
    "%%init_spark\n",
    "launcher.jars = [\"/app/setup/commons-ip.jar\"]\n",
    "launcher.conf.spark.app.name = \"bhavesh_notebook\"\n",
    "launcher.conf.spark.queue = \"default\"\n",
    "launcher.conf.spark.local.dir = \"/app/tmp\"\n",
    "launcher.conf.spark.sql.shuffle.partitions = 210\n",
    "launcher.conf.spark.sql.shuffle.minPartitions = 20\n",
    "launcher.conf.spark.driver.memory = \"50g\"\n",
    "launcher.conf.spark.ui.showConsoleProgress = \"true\"\n",
    "launcher.master = \"local[15]\""
   ]
  },
  {
   "cell_type": "code",
   "execution_count": 2,
   "id": "d845ae2b-03c0-43b5-968e-dd6b28ce053b",
   "metadata": {},
   "outputs": [
    {
     "data": {
      "text/plain": [
       "Intitializing Scala interpreter ..."
      ]
     },
     "metadata": {},
     "output_type": "display_data"
    },
    {
     "data": {
      "text/plain": [
       "Spark Web UI available at http://gcdevctrapp01:4043\n",
       "SparkContext available as 'sc' (version = 3.3.0, master = local[15], app id = local-1687962779421)\n",
       "SparkSession available as 'spark'\n"
      ]
     },
     "metadata": {},
     "output_type": "display_data"
    },
    {
     "data": {
      "text/plain": [
       "import ai.couture.obelisk.commons.Constants._\n",
       "import ai.couture.obelisk.commons.Constants.STANDARD_COL_NAMES._\n",
       "import ai.couture.obelisk.commons.Constants._\n",
       "import ai.couture.obelisk.commons.io._\n",
       "import ai.couture.obelisk.commons.utils.DateTimeUtil._\n",
       "import ai.couture.obelisk.commons.utils.DataFrameUtil.minMaxScaler\n",
       "import org.apache.spark.sql._\n",
       "import org.apache.spark.sql.expressions._\n",
       "import org.apache.spark.sql.functions._\n",
       "import org.apache.spark.sql.types._\n",
       "import spark.implicits._\n"
      ]
     },
     "execution_count": 2,
     "metadata": {},
     "output_type": "execute_result"
    }
   ],
   "source": [
    "import ai.couture.obelisk.commons.Constants._\n",
    "import ai.couture.obelisk.commons.Constants.STANDARD_COL_NAMES._\n",
    "import ai.couture.obelisk.commons.Constants._\n",
    "import ai.couture.obelisk.commons.io._\n",
    "import ai.couture.obelisk.commons.utils.DateTimeUtil._\n",
    "import ai.couture.obelisk.commons.utils.DataFrameUtil.minMaxScaler\n",
    "import org.apache.spark.sql._\n",
    "import org.apache.spark.sql.expressions._\n",
    "import org.apache.spark.sql.functions._\n",
    "import org.apache.spark.sql.types._\n",
    "import spark.implicits._"
   ]
  },
  {
   "cell_type": "code",
   "execution_count": 4,
   "id": "0fd9ba0e-6705-49cc-b9fe-f4406a9f7567",
   "metadata": {},
   "outputs": [
    {
     "name": "stdout",
     "output_type": "stream",
     "text": [
      "root\n",
      " |-- query: string (nullable = true)\n",
      " |-- similargrouplevel: integer (nullable = true)\n",
      " |-- month: string (nullable = true)\n",
      " |-- sales: long (nullable = true)\n",
      " |-- distinctPurchases: long (nullable = true)\n",
      "\n"
     ]
    },
    {
     "data": {
      "text/plain": [
       "monthlySales: org.apache.spark.sql.DataFrame = [query: string, similargrouplevel: int ... 3 more fields]\n"
      ]
     },
     "execution_count": 4,
     "metadata": {},
     "output_type": "execute_result"
    }
   ],
   "source": [
    "var monthlySales = ParquetToDF.getDF(\"/data/Archive/bhavesh/InventoryPrediction/temp/queryLevelMonthly\")\n",
    "monthlySales.printSchema"
   ]
  },
  {
   "cell_type": "code",
   "execution_count": 5,
   "id": "5cca1071-d1cb-4177-8334-c1d3c0ae063d",
   "metadata": {},
   "outputs": [
    {
     "name": "stdout",
     "output_type": "stream",
     "text": [
      "root\n",
      " |-- similargrouplevel: string (nullable = true)\n",
      " |-- category_name: string (nullable = true)\n",
      " |-- query: string (nullable = true)\n",
      " |-- m1: double (nullable = true)\n",
      " |-- m2: double (nullable = true)\n",
      " |-- m3: double (nullable = true)\n",
      " |-- m4: double (nullable = true)\n",
      " |-- m5: double (nullable = true)\n",
      " |-- m6: double (nullable = true)\n",
      " |-- actual: double (nullable = true)\n",
      "\n"
     ]
    },
    {
     "data": {
      "text/plain": [
       "predictions: org.apache.spark.sql.DataFrame = [similargrouplevel: string, category_name: string ... 8 more fields]\n"
      ]
     },
     "execution_count": 5,
     "metadata": {},
     "output_type": "execute_result"
    }
   ],
   "source": [
    "var predictions = ParquetToDF.getDF(\"/data/ecomm/ajio/processed/inventory/integrationSimulator/predictions\")\n",
    "predictions.printSchema"
   ]
  },
  {
   "cell_type": "code",
   "execution_count": 5,
   "id": "facfc58e-d399-498f-9700-5a38230a9ca6",
   "metadata": {},
   "outputs": [
    {
     "data": {
      "text/plain": [
       "res2: Long = 765221\n"
      ]
     },
     "execution_count": 5,
     "metadata": {},
     "output_type": "execute_result"
    }
   ],
   "source": [
    "predictions.count"
   ]
  },
  {
   "cell_type": "code",
   "execution_count": 6,
   "id": "3795e508-f16b-4fb7-a8dd-af3da3a59ec2",
   "metadata": {},
   "outputs": [
    {
     "name": "stdout",
     "output_type": "stream",
     "text": [
      "root\n",
      " |-- similargrouplevel: integer (nullable = false)\n",
      " |-- query: string (nullable = true)\n",
      " |-- m2: double (nullable = false)\n",
      " |-- m3: double (nullable = false)\n",
      " |-- m4: double (nullable = false)\n",
      " |-- m5: double (nullable = false)\n",
      " |-- m6: double (nullable = false)\n",
      "\n"
     ]
    },
    {
     "data": {
      "text/plain": [
       "historicalActual: org.apache.spark.sql.DataFrame = [similargrouplevel: int, query: string ... 5 more fields]\n"
      ]
     },
     "execution_count": 6,
     "metadata": {},
     "output_type": "execute_result"
    }
   ],
   "source": [
    "var historicalActual = monthlySales\n",
    "// .filter(col(\"month\").isin(\"2022-06\", \"2022-07\", \"2022-08\", \"2022-09\", \"2022-10\"))\n",
    ".filter(col(\"month\")>=\"2022-05\" && col(\"month\")<\"2023-05\")\n",
    ".groupBy(\"similargrouplevel\", \"query\")\n",
    ".pivot(\"month\")\n",
    ".agg(sum(\"sales\").cast(DoubleType) as \"sales\")\n",
    ".na.fill(0)\n",
    ".select(col(\"similargrouplevel\"), col(\"query\"), col(\"2022-06\") as \"m2\", col(\"2022-07\") as \"m3\", \n",
    "        col(\"2022-08\") as \"m4\", col(\"2022-09\") as \"m5\", col(\"2022-10\") as \"m6\")\n",
    ".join(predictions.select(\"similargrouplevel\", \"query\").distinct, Seq(\"similargrouplevel\", \"query\"))\n",
    "\n",
    "historicalActual.printSchema"
   ]
  },
  {
   "cell_type": "code",
   "execution_count": 7,
   "id": "553bf30d-8c6c-4f96-a8e9-9d4a1a75a970",
   "metadata": {},
   "outputs": [
    {
     "data": {
      "text/plain": [
       "res4: Long = 765221\n"
      ]
     },
     "execution_count": 7,
     "metadata": {},
     "output_type": "execute_result"
    }
   ],
   "source": [
    "historicalActual.count"
   ]
  },
  {
   "cell_type": "code",
   "execution_count": 8,
   "id": "fa7d9a1f-2dc5-4b1e-a75c-0b7c671077a5",
   "metadata": {},
   "outputs": [
    {
     "name": "stdout",
     "output_type": "stream",
     "text": [
      "root\n",
      " |-- similargrouplevel: string (nullable = true)\n",
      " |-- query: string (nullable = true)\n",
      " |-- m1: double (nullable = true)\n",
      " |-- m2: double (nullable = true)\n",
      " |-- m3: double (nullable = true)\n",
      " |-- m4: double (nullable = true)\n",
      " |-- m5: double (nullable = true)\n",
      " |-- m6: double (nullable = true)\n",
      " |-- actual: double (nullable = true)\n",
      " |-- type: string (nullable = false)\n",
      "\n",
      "root\n",
      " |-- similargrouplevel: integer (nullable = false)\n",
      " |-- query: string (nullable = true)\n",
      " |-- m1: integer (nullable = false)\n",
      " |-- m2: double (nullable = false)\n",
      " |-- m3: double (nullable = false)\n",
      " |-- m4: double (nullable = false)\n",
      " |-- m5: double (nullable = false)\n",
      " |-- m6: double (nullable = false)\n",
      " |-- actual: integer (nullable = false)\n",
      " |-- type: string (nullable = false)\n",
      "\n"
     ]
    },
    {
     "data": {
      "text/plain": [
       "predictions: org.apache.spark.sql.DataFrame = [similargrouplevel: string, query: string ... 8 more fields]\n",
       "historicalActual: org.apache.spark.sql.DataFrame = [similargrouplevel: int, query: string ... 8 more fields]\n"
      ]
     },
     "execution_count": 8,
     "metadata": {},
     "output_type": "execute_result"
    }
   ],
   "source": [
    "predictions = predictions.withColumn(\"type\", lit(\"predictions\")).drop(\"category_name\")\n",
    "historicalActual = historicalActual.withColumn(\"type\", lit(\"historical\")).withColumn(\"m1\", lit(0)).withColumn(\"actual\", lit(0)).select(predictions.columns.map(col): _*)\n",
    "predictions.printSchema\n",
    "historicalActual.printSchema"
   ]
  },
  {
   "cell_type": "code",
   "execution_count": 10,
   "id": "a78d9590-1479-44cb-b5bf-453eed08fa43",
   "metadata": {},
   "outputs": [
    {
     "data": {
      "text/plain": [
       "predictionWeight: Double = 0.5\n",
       "historicalWeight: Double = 0.5\n"
      ]
     },
     "execution_count": 10,
     "metadata": {},
     "output_type": "execute_result"
    }
   ],
   "source": [
    "val predictionWeight = 0.5\n",
    "val historicalWeight = 0.5\n",
    "Array(\"m2\", \"m3\", \"m4\", \"m5\", \"m6\").foreach(column => {\n",
    "    predictions = predictions.withColumn(column, col(column) * lit(predictionWeight))\n",
    "    historicalActual = historicalActual.withColumn(column, col(column) * lit(historicalWeight))\n",
    "})"
   ]
  },
  {
   "cell_type": "code",
   "execution_count": 11,
   "id": "53b8fefe-25ed-4a8b-91ee-0722379e6beb",
   "metadata": {},
   "outputs": [
    {
     "name": "stdout",
     "output_type": "stream",
     "text": [
      "root\n",
      " |-- similargrouplevel: string (nullable = true)\n",
      " |-- query: string (nullable = true)\n",
      " |-- m1: double (nullable = true)\n",
      " |-- m2: double (nullable = true)\n",
      " |-- m3: double (nullable = true)\n",
      " |-- m4: double (nullable = true)\n",
      " |-- m5: double (nullable = true)\n",
      " |-- m6: double (nullable = true)\n",
      " |-- actual: double (nullable = true)\n",
      " |-- category_name: string (nullable = true)\n",
      "\n"
     ]
    },
    {
     "data": {
      "text/plain": [
       "finalPredictions: org.apache.spark.sql.DataFrame = [similargrouplevel: string, query: string ... 8 more fields]\n"
      ]
     },
     "execution_count": 11,
     "metadata": {},
     "output_type": "execute_result"
    }
   ],
   "source": [
    "var finalPredictions = predictions.union(historicalActual).groupBy(\"similargrouplevel\", \"query\")\n",
    ".agg(\n",
    "    sum(\"m1\") as \"m1\",\n",
    "    sum(\"m2\") as \"m2\",\n",
    "    sum(\"m3\") as \"m3\",\n",
    "    sum(\"m4\") as \"m4\",\n",
    "    sum(\"m5\") as \"m5\",\n",
    "    sum(\"m6\") as \"m6\",\n",
    "    sum(\"actual\") as \"actual\"\n",
    "    )\n",
    ".withColumn(\"category_name\", when(col(\"similargrouplevel\") === \"830216013\", lit(\"Men-Shirts\")).when(col(\"similargrouplevel\") === \"830303011\", lit(\"Women-Kurtas\")))\n",
    "\n",
    "finalPredictions.printSchema"
   ]
  },
  {
   "cell_type": "code",
   "execution_count": null,
   "id": "b53cffe3-dccb-4faf-9d77-084009bc0417",
   "metadata": {},
   "outputs": [],
   "source": [
    "DFToParquet.putDF(\"/data/Archive/bhavesh/InventoryPrediction/temp/predictionsAvgHistorical\", finalPredictions)"
   ]
  },
  {
   "cell_type": "code",
   "execution_count": 3,
   "id": "1bcc72d4-b2e2-443d-b458-54d286cbc1a5",
   "metadata": {},
   "outputs": [
    {
     "name": "stdout",
     "output_type": "stream",
     "text": [
      "root\n",
      " |-- similargrouplevel: string (nullable = true)\n",
      " |-- query: string (nullable = true)\n",
      " |-- m1: double (nullable = true)\n",
      " |-- m2: double (nullable = true)\n",
      " |-- m3: double (nullable = true)\n",
      " |-- m4: double (nullable = true)\n",
      " |-- m5: double (nullable = true)\n",
      " |-- m6: double (nullable = true)\n",
      " |-- actual: double (nullable = true)\n",
      " |-- category_name: string (nullable = true)\n",
      "\n",
      "765221\n"
     ]
    },
    {
     "data": {
      "text/plain": [
       "finalPredictions: org.apache.spark.sql.DataFrame = [similargrouplevel: string, query: string ... 8 more fields]\n"
      ]
     },
     "execution_count": 3,
     "metadata": {},
     "output_type": "execute_result"
    }
   ],
   "source": [
    "var finalPredictions = ParquetToDF.getDF(\"/data/Archive/bhavesh/InventoryPrediction/temp/predictionsAvgHistorical\")\n",
    "finalPredictions.printSchema\n",
    "println(finalPredictions.count)"
   ]
  },
  {
   "cell_type": "code",
   "execution_count": 7,
   "id": "a9e8251a-fa50-4146-a701-254c1dda35c1",
   "metadata": {},
   "outputs": [
    {
     "name": "stdout",
     "output_type": "stream",
     "text": [
      "+-----------------+----------------------------------------------------+------------------+------------------+------------------+------------------+------------------+------------------+------+-------------+\n",
      "|similargrouplevel|query                                               |m1                |m2                |m3                |m4                |m5                |m6                |actual|category_name|\n",
      "+-----------------+----------------------------------------------------+------------------+------------------+------------------+------------------+------------------+------------------+------+-------------+\n",
      "|830216013        |linen-club_orange_check_2_full-length sleeve_classic|11.477221250534058|13.998111963272095|19.55418872833252 |22.59066939353943 |15.436954975128174|19.67927837371826 |0.0   |Men-Shirts   |\n",
      "|830216013        |van-heusen_brown_micro-print_3_short sleeve_#       |0.9143150631433059|0.535913178515699 |1.5175595374825264|3.6266786547425056|5.79166609962013  |1.9537984224083687|0.0   |Men-Shirts   |\n",
      "|830216013        |campus-sutra_#_dyed-washed_#_#_indian               |2.0568788829259574|1.192138293525204 |3.0474097521509975|2.7395698816981167|2.308861354133114 |2.1231952698435634|1.0   |Men-Shirts   |\n",
      "|830216013        |crocodile_blue_leaf_#_full-length sleeve_#          |2.3547782450914383|2.5080360546708107|1.9893578067421913|1.9350186362862587|3.251784421503544 |3.11451605707407  |0.0   |Men-Shirts   |\n",
      "|830216013        |tistabene_teal_abstract_#_#_indian                  |1.478567212820053 |0.8457985445857048|1.2380941659212112|1.238283209502697 |2.640386961400509 |3.3747609481215477|0.0   |Men-Shirts   |\n",
      "+-----------------+----------------------------------------------------+------------------+------------------+------------------+------------------+------------------+------------------+------+-------------+\n",
      "only showing top 5 rows\n",
      "\n"
     ]
    }
   ],
   "source": [
    "finalPredictions.filter(col(\"similargrouplevel\") === \"830216013\").show(5, false)"
   ]
  },
  {
   "cell_type": "code",
   "execution_count": 9,
   "id": "34c77f7e-f077-49ad-a32b-b7a6f74b80bd",
   "metadata": {},
   "outputs": [
    {
     "name": "stdout",
     "output_type": "stream",
     "text": [
      "+-----------------+-------------+----------------------------------------------------+------------------+------------------+------------------+------------------+------------------+------------------+------+\n",
      "|similargrouplevel|category_name|query                                               |m1                |m2                |m3                |m4                |m5                |m6                |actual|\n",
      "+-----------------+-------------+----------------------------------------------------+------------------+------------------+------------------+------------------+------------------+------------------+------+\n",
      "|830216013        |Men-Shirts   |linen-club_orange_check_2_full-length sleeve_classic|11.477221250534058|14.99622392654419 |19.10837745666504 |17.181338787078857|19.873909950256348|22.358556747436523|0.0   |\n",
      "|830216013        |Men-Shirts   |campus-sutra_#_dyed-washed_#_#_indian               |2.0568788829259574|2.384276587050408 |6.094819504301995 |4.479139763396233 |4.617722708266228 |4.246390539687127 |1.0   |\n",
      "|830216013        |Men-Shirts   |van-heusen_brown_micro-print_3_short sleeve_#       |0.9143150631433059|1.071826357031398 |2.0351190749650527|1.2533573094850112|1.5833321992402603|0.9075968448167373|0.0   |\n",
      "|830216013        |Men-Shirts   |tistabene_teal_abstract_#_#_indian                  |1.478567212820053 |1.6915970891714096|2.4761883318424225|2.476566419005394 |5.280773922801018 |5.749521896243095 |0.0   |\n",
      "|830216013        |Men-Shirts   |crocodile_blue_leaf_#_full-length sleeve_#          |2.3547782450914383|3.0160721093416214|3.9787156134843826|3.8700372725725174|6.503568843007088 |5.22903211414814  |0.0   |\n",
      "+-----------------+-------------+----------------------------------------------------+------------------+------------------+------------------+------------------+------------------+------------------+------+\n",
      "\n"
     ]
    },
    {
     "data": {
      "text/plain": [
       "queries: Array[String] = Array(linen-club_orange_check_2_full-length sleeve_classic, van-heusen_brown_micro-print_3_short sleeve_#, campus-sutra_#_dyed-washed_#_#_indian, crocodile_blue_leaf_#_full-length sleeve_#, tistabene_teal_abstract_#_#_indian)\n"
      ]
     },
     "execution_count": 9,
     "metadata": {},
     "output_type": "execute_result"
    }
   ],
   "source": [
    "val queries = Array(\"linen-club_orange_check_2_full-length sleeve_classic\", \n",
    "                    \"van-heusen_brown_micro-print_3_short sleeve_#\",\n",
    "                   \"campus-sutra_#_dyed-washed_#_#_indian\",\n",
    "                   \"crocodile_blue_leaf_#_full-length sleeve_#\",\n",
    "                   \"tistabene_teal_abstract_#_#_indian\")\n",
    "predictions.filter(col(\"similargrouplevel\") === \"830216013\").filter(col(\"query\").isin(queries: _*)).show(false)"
   ]
  },
  {
   "cell_type": "code",
   "execution_count": 11,
   "id": "5e663abd-6c3d-4726-ac56-bb2c3bf91b6b",
   "metadata": {},
   "outputs": [
    {
     "name": "stdout",
     "output_type": "stream",
     "text": [
      "+-----------------+----------------------------------------------------+-------+-------+-------+-------+-------+-------+-------+-------+-------+-------+-------+-------+-------+-------+-------+-------+-------+-------+\n",
      "|similargrouplevel|query                                               |2022-01|2022-02|2022-03|2022-04|2022-05|2022-06|2022-07|2022-08|2022-09|2022-10|2022-11|2022-12|2023-01|2023-02|2023-03|2023-04|2023-05|2023-06|\n",
      "+-----------------+----------------------------------------------------+-------+-------+-------+-------+-------+-------+-------+-------+-------+-------+-------+-------+-------+-------+-------+-------+-------+-------+\n",
      "|830216013        |campus-sutra_#_dyed-washed_#_#_indian               |1      |1      |5      |1      |null   |null   |null   |1      |null   |null   |1      |1      |null   |null   |1      |null   |1      |1      |\n",
      "|830216013        |van-heusen_brown_micro-print_3_short sleeve_#       |null   |null   |null   |null   |null   |null   |1      |6      |10     |3      |2      |null   |1      |null   |null   |null   |null   |null   |\n",
      "|830216013        |linen-club_orange_check_2_full-length sleeve_classic|null   |null   |null   |1      |8      |13     |20     |28     |11     |17     |5      |13     |19     |20     |27     |14     |null   |null   |\n",
      "|830216013        |tistabene_teal_abstract_#_#_indian                  |null   |null   |null   |null   |null   |null   |null   |null   |null   |1      |2      |null   |null   |2      |null   |null   |null   |null   |\n",
      "|830216013        |crocodile_blue_leaf_#_full-length sleeve_#          |null   |null   |2      |null   |null   |2      |null   |null   |null   |1      |null   |null   |1      |null   |null   |1      |null   |null   |\n",
      "+-----------------+----------------------------------------------------+-------+-------+-------+-------+-------+-------+-------+-------+-------+-------+-------+-------+-------+-------+-------+-------+-------+-------+\n",
      "\n"
     ]
    }
   ],
   "source": [
    "monthlySales.filter(col(\"similargrouplevel\") === \"830216013\").filter(col(\"query\").isin(queries: _*)).groupBy(\"similargrouplevel\", \"query\").pivot(\"month\").agg(sum(\"sales\")).show(false)"
   ]
  },
  {
   "cell_type": "code",
   "execution_count": 12,
   "id": "bcf640af-4918-4424-812a-821075ab085a",
   "metadata": {},
   "outputs": [
    {
     "name": "stdout",
     "output_type": "stream",
     "text": [
      "root\n",
      " |-- similargrouplevel: integer (nullable = true)\n",
      " |-- query: string (nullable = true)\n",
      "\n"
     ]
    },
    {
     "data": {
      "text/plain": [
       "top20WKQ: org.apache.spark.sql.DataFrame = [similargrouplevel: int, query: string]\n"
      ]
     },
     "execution_count": 12,
     "metadata": {},
     "output_type": "execute_result"
    }
   ],
   "source": [
    "var top20WKQ = CSVToDF.getDF(\"/data/Archive/bhavesh/InventoryPrediction/temp/topQueries/WomenKurtas/top20\", inferSchema=true).select(\"similargrouplevel\", \"query\")\n",
    "top20WKQ.printSchema"
   ]
  },
  {
   "cell_type": "code",
   "execution_count": null,
   "id": "cc38f72d-336e-4b84-bb29-22062507a90b",
   "metadata": {},
   "outputs": [
    {
     "name": "stdout",
     "output_type": "stream",
     "text": [
      "root\n",
      " |-- similargrouplevel: string (nullable = true)\n",
      " |-- query: string (nullable = true)\n",
      " |-- m1: double (nullable = true)\n",
      " |-- m2: double (nullable = true)\n",
      " |-- m3: double (nullable = true)\n",
      " |-- m4: double (nullable = true)\n",
      " |-- m5: double (nullable = true)\n",
      " |-- m6: double (nullable = true)\n",
      " |-- actual: double (nullable = true)\n",
      " |-- category_name: string (nullable = true)\n",
      "\n",
      "20\n"
     ]
    }
   ],
   "source": [
    "var trimmedPredictions = finalPredictions.join(top20WKQ, Seq(\"similargrouplevel\", \"query\"))\n",
    "trimmedPredictions.printSchema\n",
    "println(trimmedPredictions.count)\n",
    "DFToCSV.putDF(\"/data/Archive/bhavesh/InventoryPrediction/temp/womenKurtasTop20Predictions\", trimmedPredictions.coalesce(1))"
   ]
  },
  {
   "cell_type": "code",
   "execution_count": 7,
   "id": "43edb26a-1d81-45e4-9014-0e2222aa4d27",
   "metadata": {},
   "outputs": [
    {
     "name": "stdout",
     "output_type": "stream",
     "text": [
      "root\n",
      " |-- query: string (nullable = true)\n",
      " |-- template: string (nullable = true)\n",
      " |-- actual: long (nullable = true)\n",
      " |-- predicted: double (nullable = true)\n",
      " |-- lowerBound: double (nullable = true)\n",
      " |-- upperBound: double (nullable = true)\n",
      " |-- similargrouplevel: integer (nullable = true)\n",
      "\n",
      "root\n",
      " |-- similargrouplevel: integer (nullable = true)\n",
      " |-- query: string (nullable = true)\n",
      "\n"
     ]
    },
    {
     "data": {
      "text/plain": [
       "df: org.apache.spark.sql.DataFrame = [similargrouplevel: int, query: string]\n",
       "df: org.apache.spark.sql.DataFrame = [similargrouplevel: int, query: string]\n",
       "df: org.apache.spark.sql.DataFrame = [similargrouplevel: int, query: string]\n",
       "limitQueries: Int = 5\n",
       "df: org.apache.spark.sql.DataFrame = [similargrouplevel: int, query: string]\n",
       "oldQueryToNewQueryMap: org.apache.spark.sql.DataFrame = [query: string, template: string ... 2 more fields]\n",
       "df: org.apache.spark.sql.DataFrame = [similargrouplevel: int, query: string]\n",
       "queryProductMap: org.apache.spark.sql.DataFrame = [similargrouplevel: int, productid: string ... 1 more field]\n",
       "highErrorQueries: org.apache.spark.sql.DataFrame = [similargrouplevel: int, query: string ... 1 more field]\n"
      ]
     },
     "execution_count": 7,
     "metadata": {},
     "output_type": "execute_result"
    }
   ],
   "source": [
    "var df = ParquetToDF.getDF(\"/data/Archive/bhavesh/InventoryPrediction/2023-04-30/experiments/exp_neural_network_dropout_lr_0.0005/metricsActualDF/productLevelModelForEachBrick/queryLevel/model=neural_network/date=2023-05-01\")\n",
    "df.printSchema\n",
    "\n",
    "df = df.withColumn(\"absError\", abs(col(\"actual\") - col(\"predicted\")))\n",
    "df = df.withColumn(\"errorRank\", row_number().over(Window.partitionBy(\"similargrouplevel\").orderBy(desc(\"absError\"))))\n",
    "\n",
    "val limitQueries = 5\n",
    "df = df.filter(col(\"errorRank\")<=limitQueries).select(\"similargrouplevel\", \"query\", \"template\")\n",
    "\n",
    "var oldQueryToNewQueryMap = ParquetToDF.getDF(\"/data/Archive/inventory/2023-04-30/queryProductMap_colorfamily_pricebucket_styletype_pattern_sleeve_brandname/attributesQueryInfo/final\").select(\"query\",\"template\",\"similargrouplevel\",\"newQuery\")\n",
    "df = df.join(oldQueryToNewQueryMap, Seq(\"similargrouplevel\", \"query\", \"template\")).drop(\"query\", \"template\").withColumnRenamed(\"newQuery\", \"query\")\n",
    "df.printSchema\n",
    "\n",
    "var queryProductMap = ParquetToDF.getDF(\"/data/Archive/bhavesh/InventoryPrediction/2023-04-30/QueryProductMapping-Revamp/suffix=colorfamily_pricebucket_styletype_pattern_sleeve_brandname\").drop(\"template\")\n",
    "\n",
    "var highErrorQueries = df.join(queryProductMap, Seq(\"similargrouplevel\", \"query\"))\n",
    "DFToParquet.putDF(\"/data/Archive/bhavesh/InventoryPrediction/temp/highErrorQueries\", highErrorQueries)"
   ]
  }
 ],
 "metadata": {
  "kernelspec": {
   "display_name": "spark",
   "language": "scala",
   "name": "spylon-kernel"
  },
  "language_info": {
   "codemirror_mode": "text/x-scala",
   "file_extension": ".scala",
   "help_links": [
    {
     "text": "MetaKernel Magics",
     "url": "https://metakernel.readthedocs.io/en/latest/source/README.html"
    }
   ],
   "mimetype": "text/x-scala",
   "name": "scala",
   "pygments_lexer": "scala",
   "version": "0.4.1"
  },
  "widgets": {
   "application/vnd.jupyter.widget-state+json": {
    "state": {},
    "version_major": 2,
    "version_minor": 0
   }
  }
 },
 "nbformat": 4,
 "nbformat_minor": 5
}
