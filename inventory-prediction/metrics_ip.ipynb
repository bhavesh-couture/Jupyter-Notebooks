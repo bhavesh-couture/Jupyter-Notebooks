{
 "cells": [
  {
   "cell_type": "code",
   "execution_count": 1,
   "metadata": {},
   "outputs": [],
   "source": [
    "!kinit -kt $KRB5_CLIENT_KTNAME $KRB5_PRINCIPAL"
   ]
  },
  {
   "cell_type": "code",
   "execution_count": 1,
   "metadata": {
    "vscode": {
     "languageId": "python"
    }
   },
   "outputs": [
    {
     "data": {
      "text/html": [
       "Current session configs: <tt>{'conf': {'spark.app.name': 'Bhavesh_Inventory_Metrics', 'spark.yarn.queue': 'default', 'spark.jars': '/apps/Jars/obelisk-retail-legos-Bhavesh.jar,/apps/Jars/obelisk-retail-usecases-Bhavesh.jar,/apps/Jars/mysql-connector-java-5.1.40.jar', 'spark.driver.extraJavaOptions': '-Dscala.color', 'spark.driver.memory': '3g', 'spark.executor.memory': '3g', 'spark.executor.instances': '4'}, 'kind': 'spark'}</tt><br>"
      ],
      "text/plain": [
       "<IPython.core.display.HTML object>"
      ]
     },
     "metadata": {},
     "output_type": "display_data"
    },
    {
     "data": {
      "text/html": [
       "No active sessions."
      ],
      "text/plain": [
       "<IPython.core.display.HTML object>"
      ]
     },
     "metadata": {},
     "output_type": "display_data"
    }
   ],
   "source": [
    "%%configure -f \n",
    "{\n",
    "    \"conf\":\n",
    "    {\n",
    "        \"spark.app.name\":\"Bhavesh_Inventory_Metrics\",\n",
    "        \"spark.yarn.queue\": \"default\",\n",
    "        \"spark.jars\": \"/apps/Jars/obelisk-retail-legos-Bhavesh.jar,/apps/Jars/obelisk-retail-usecases-Bhavesh.jar,/apps/Jars/mysql-connector-java-5.1.40.jar\",\n",
    "        \"spark.driver.extraJavaOptions\": \"-Dscala.color\",\n",
    "        \"spark.driver.memory\": \"3g\",\n",
    "        \"spark.executor.memory\": \"3g\",\n",
    "        \"spark.executor.instances\": \"4\"\n",
    "    }\n",
    "}"
   ]
  },
  {
   "cell_type": "code",
   "execution_count": 2,
   "metadata": {},
   "outputs": [
    {
     "name": "stdout",
     "output_type": "stream",
     "text": [
      "Starting Spark application\n"
     ]
    },
    {
     "data": {
      "text/html": [
       "<table>\n",
       "<tr><th>ID</th><th>YARN Application ID</th><th>Kind</th><th>State</th><th>Spark UI</th><th>Driver log</th><th>Current session?</th></tr><tr><td>1392</td><td>application_1686980170466_0031</td><td>spark</td><td>idle</td><td><a target=\"_blank\" href=\"http://JMNGD1BAF370C10:8088/proxy/application_1686980170466_0031/\">Link</a></td><td><a target=\"_blank\" href=\"http://JMNGDBAE230C07:8042/node/containerlogs/container_e114_1686980170466_0031_01_000001/couture\">Link</a></td><td>✔</td></tr></table>"
      ],
      "text/plain": [
       "<IPython.core.display.HTML object>"
      ]
     },
     "metadata": {},
     "output_type": "display_data"
    },
    {
     "data": {
      "application/vnd.jupyter.widget-view+json": {
       "model_id": "",
       "version_major": 2,
       "version_minor": 0
      },
      "text/plain": [
       "FloatProgress(value=0.0, bar_style='info', description='Progress:', layout=Layout(height='25px', width='50%'),…"
      ]
     },
     "metadata": {},
     "output_type": "display_data"
    },
    {
     "name": "stdout",
     "output_type": "stream",
     "text": [
      "SparkSession available as 'spark'.\n"
     ]
    },
    {
     "data": {
      "application/vnd.jupyter.widget-view+json": {
       "model_id": "",
       "version_major": 2,
       "version_minor": 0
      },
      "text/plain": [
       "FloatProgress(value=0.0, bar_style='info', description='Progress:', layout=Layout(height='25px', width='50%'),…"
      ]
     },
     "metadata": {},
     "output_type": "display_data"
    },
    {
     "name": "stdout",
     "output_type": "stream",
     "text": [
      "import ai.couture.obelisk.commons.Constants._\n",
      "import ai.couture.obelisk.commons.Constants.STANDARD_COL_NAMES._\n",
      "import ai.couture.obelisk.commons.Constants._\n",
      "import ai.couture.obelisk.commons.io._\n",
      "import ai.couture.obelisk.commons.utils.DateTimeUtil._\n",
      "import org.apache.spark.sql._\n",
      "import org.apache.spark.sql.expressions._\n",
      "import org.apache.spark.sql.functions._\n",
      "import org.apache.spark.sql.types._\n",
      "import spark.implicits._\n"
     ]
    }
   ],
   "source": [
    "import ai.couture.obelisk.commons.Constants._\n",
    "import ai.couture.obelisk.commons.Constants.STANDARD_COL_NAMES._\n",
    "import ai.couture.obelisk.commons.Constants._\n",
    "import ai.couture.obelisk.commons.io._\n",
    "import ai.couture.obelisk.commons.utils.DateTimeUtil._\n",
    "import org.apache.spark.sql._\n",
    "import org.apache.spark.sql.expressions._\n",
    "import org.apache.spark.sql.functions._\n",
    "import org.apache.spark.sql.types._\n",
    "import spark.implicits._"
   ]
  },
  {
   "cell_type": "markdown",
   "metadata": {},
   "source": [
    "### Local Metrics"
   ]
  },
  {
   "cell_type": "code",
   "execution_count": 6,
   "metadata": {},
   "outputs": [
    {
     "data": {
      "application/vnd.jupyter.widget-view+json": {
       "model_id": "",
       "version_major": 2,
       "version_minor": 0
      },
      "text/plain": [
       "FloatProgress(value=0.0, bar_style='info', description='Progress:', layout=Layout(height='25px', width='50%'),…"
      ]
     },
     "metadata": {},
     "output_type": "display_data"
    },
    {
     "name": "stdout",
     "output_type": "stream",
     "text": [
      "\u001b[1m\u001b[34mthresholdColumns\u001b[0m: \u001b[1m\u001b[32m(columns: Array[String], minThreshold: Double, maxThreshold: Double)(df: org.apache.spark.sql.DataFrame)org.apache.spark.sql.DataFrame\u001b[0m\n",
      "\u001b[1m\u001b[34mrunDate\u001b[0m: \u001b[1m\u001b[32mString\u001b[0m = 2023-04-30\n",
      "\u001b[1m\u001b[34mbaseDir\u001b[0m: \u001b[1m\u001b[32mString\u001b[0m = /data/Archive/bhavesh/InventoryPrediction\n",
      "\u001b[1m\u001b[34mrunDir\u001b[0m: \u001b[1m\u001b[32mString\u001b[0m = /data/Archive/bhavesh/InventoryPrediction/2023-04-30\n",
      "\u001b[1m\u001b[34msuffix\u001b[0m: \u001b[1m\u001b[32mString\u001b[0m = colorfamily_pricebucket_styletype_pattern_sleeve_brandname\n",
      "\u001b[1m\u001b[34mprodLevelSigma\u001b[0m: \u001b[1m\u001b[32morg.apache.spark.sql.DataFrame\u001b[0m = [productid: string, stddev: double]\n",
      "\u001b[1m\u001b[34mqueryLevelSigma\u001b[0m: \u001b[1m\u001b[32morg.apache.spark.sql.DataFrame\u001b[0m = [query: string, stddev: double ... 2 more fields]\n",
      "\u001b[1m\u001b[34mproductQueryMap\u001b[0m: \u001b[1m\u001b[32morg.apache.spark.sql.Dataset[org.apache.spark.sql.Row]\u001b[0m = [query: string, productid: string ... 2 more fields]\n",
      "\u001b[1m\u001b[34mconvertLocalToRequiredFormat\u001b[0m: \u001b[1m\u001b[32m(dateForWhichPredictionsAreMade: String, basePath: String, level: String, localFile: String, fileType: String, model: String)Unit\u001b[0m\n"
     ]
    }
   ],
   "source": [
    "def thresholdColumns(columns: Array[String], minThreshold: Double = 0, maxThreshold: Double = Double.PositiveInfinity)(df: DataFrame): DataFrame = {\n",
    "\n",
    "    var scaledDF = df\n",
    "    columns.foreach(\n",
    "    column => {\n",
    "    scaledDF = scaledDF.withColumn(column,\n",
    "      when(col(column) > maxThreshold, lit(maxThreshold)).otherwise(col(column)))\n",
    "      .withColumn(column, when(col(column) < minThreshold, lit(minThreshold)).otherwise(col(column)))\n",
    "    })\n",
    "    scaledDF\n",
    "}\n",
    "\n",
    "var runDate: String = \"2023-04-30\"\n",
    "var baseDir: String = \"/data/Archive/bhavesh/InventoryPrediction\"\n",
    "var runDir: String = s\"$baseDir/$runDate\"\n",
    "var suffix: String = \"colorfamily_pricebucket_styletype_pattern_sleeve_brandname\"\n",
    "var prodLevelSigma = ParquetToDF.getDF(s\"$runDir/Statistics12Months/product\").select(PRODUCTID, \"stddev\")\n",
    "var queryLevelSigma = ParquetToDF.getDF(s\"$runDir/Statistics12Months/query\").select(\"query\", \"stddev\", SIMILAR_GROUP_LEVEL, \"template\")\n",
    "var productQueryMap = ParquetToDF.getDF(s\"$runDir/QueryProductMapping/suffix=$suffix\").filter(col(\"query\") =!= \"\")\n",
    "\n",
    "def convertLocalToRequiredFormat(dateForWhichPredictionsAreMade: String, basePath: String, level: String, localFile: String, fileType: String = \"csv\", model: String = \"lr\"): Unit = {\n",
    "    \n",
    "    var actual = ParquetToDF.getDF(s\"/data/Archive/bhavesh/InventoryPrediction/actualDataForPredictionPeriod/date=$dateForWhichPredictionsAreMade/sales\")\n",
    "    var fileName: String = if(level == \"product\"){\n",
    "       \"productLevelPredictions\"\n",
    "    } else{\n",
    "        \"queryAggregatedPredictions\"\n",
    "    }\n",
    "    def doConversion(brick: String, brickId: String): DataFrame = {\n",
    "        var localPredictionsPath = s\"$basePath/$brick/$localFile\"\n",
    "        var df = if(fileType==\"csv\"){\n",
    "            CSVToDF.getDF(localPredictionsPath, inferSchema = true)\n",
    "        }\n",
    "        else{\n",
    "            ParquetToDF.getDF(localPredictionsPath)\n",
    "        }\n",
    "\n",
    "        \n",
    "        df = df\n",
    "        .withColumn(SIMILAR_GROUP_LEVEL, lit(brickId))\n",
    "        .withColumn(\"model\", lit(model))\n",
    "        .withColumn(\"predicted\", col(\"predictedyQuantity\"))\n",
    "        .select(PRODUCTID, SIMILAR_GROUP_LEVEL, \"predicted\", \"model\")\n",
    "        \n",
    "        if(level == \"product\") {\n",
    "            df.transform(thresholdColumns(Array(\"predicted\")))\n",
    "            .join(prodLevelSigma, Seq(PRODUCTID))\n",
    "            .withColumn(\"lowerBound\", col(\"predicted\") - (lit(2.0) * col(\"stddev\")))\n",
    "            .withColumn(\"upperBound\", col(\"predicted\") + (lit(2.0) * col(\"stddev\")))\n",
    "            .transform(thresholdColumns(Array(\"lowerBound\")))\n",
    "        }\n",
    "        else {\n",
    "            df.transform(thresholdColumns(Array(\"predicted\")))\n",
    "            .join(productQueryMap, Seq(SIMILAR_GROUP_LEVEL, PRODUCTID))\n",
    "            .groupBy(\"model\", \"query\", SIMILAR_GROUP_LEVEL, \"template\")\n",
    "            .agg(sum(\"predicted\") as \"predicted\")\n",
    "            .join(queryLevelSigma, Seq(SIMILAR_GROUP_LEVEL, \"query\", \"template\"))\n",
    "            .withColumn(\"lowerBound\", col(\"predicted\") - (lit(2.0) * col(\"stddev\")))\n",
    "            .withColumn(\"upperBound\", col(\"predicted\") + (lit(2.0) * col(\"stddev\")))\n",
    "            .transform(thresholdColumns(Array(\"lowerBound\")))\n",
    "        }\n",
    "    }\n",
    "    var menShirts = doConversion(\"menShirts\", \"830216013\")\n",
    "    DFToParquet.putDF(s\"$basePath/menShirts/$fileName\", menShirts, partitionedColumn=\"model\")\n",
    "    var womenKurtas = doConversion(\"womenKurtas\", \"830303011\")\n",
    "    DFToParquet.putDF(s\"$basePath/womenKurtas/$fileName\", womenKurtas, partitionedColumn=\"model\")\n",
    "}"
   ]
  },
  {
   "cell_type": "code",
   "execution_count": 38,
   "metadata": {},
   "outputs": [
    {
     "data": {
      "application/vnd.jupyter.widget-view+json": {
       "model_id": "",
       "version_major": 2,
       "version_minor": 0
      },
      "text/plain": [
       "FloatProgress(value=0.0, bar_style='info', description='Progress:', layout=Layout(height='25px', width='50%'),…"
      ]
     },
     "metadata": {},
     "output_type": "display_data"
    },
    {
     "name": "stdout",
     "output_type": "stream",
     "text": [
      "\u001b[1m\u001b[34mconvertLocal\u001b[0m: \u001b[1m\u001b[32m(exp: String, date: String, filename: String, format: String, baseDir: String, model: String)Unit\u001b[0m\n"
     ]
    }
   ],
   "source": [
    "def convertLocal(exp: String, date: String, filename: String, format: String, baseDir: String, model: String = \"lr\"){\n",
    "    convertLocalToRequiredFormat(date, s\"$baseDir/experiments/exp_$exp/predictions/ModelForEachBrickProductLevel\", \"product\", filename, format, model = model)\n",
    "    convertLocalToRequiredFormat(date, s\"$baseDir/experiments/exp_$exp/predictions/ModelForEachBrickProductLevel\", \"query\", filename, format, model = model)\n",
    "}"
   ]
  },
  {
   "cell_type": "code",
   "execution_count": 4,
   "metadata": {},
   "outputs": [
    {
     "data": {
      "application/vnd.jupyter.widget-view+json": {
       "model_id": "",
       "version_major": 2,
       "version_minor": 0
      },
      "text/plain": [
       "FloatProgress(value=0.0, bar_style='info', description='Progress:', layout=Layout(height='25px', width='50%'),…"
      ]
     },
     "metadata": {},
     "output_type": "display_data"
    },
    {
     "name": "stdout",
     "output_type": "stream",
     "text": [
      "\u001b[1m\u001b[34mconvertLocal2\u001b[0m: \u001b[1m\u001b[32m(exp: String, date: String, filename: String, format: String, baseDir: String, model: String)Unit\u001b[0m\n"
     ]
    }
   ],
   "source": [
    "def convertLocal2(exp: String, date: String, filename: String, format: String, baseDir: String, model: String = \"lr\"){\n",
    "    convertLocalToRequiredFormat(date, s\"$baseDir/NMonthsAheadExperiment/${exp}MonthsAhead/predictions\", \"product\", filename, format, model = model)\n",
    "    convertLocalToRequiredFormat(date, s\"$baseDir/NMonthsAheadExperiment/${exp}MonthsAhead/predictions\", \"query\", filename, format, model = model)\n",
    "}"
   ]
  },
  {
   "cell_type": "code",
   "execution_count": 9,
   "metadata": {},
   "outputs": [
    {
     "data": {
      "application/vnd.jupyter.widget-view+json": {
       "model_id": "",
       "version_major": 2,
       "version_minor": 0
      },
      "text/plain": [
       "FloatProgress(value=0.0, bar_style='info', description='Progress:', layout=Layout(height='25px', width='50%'),…"
      ]
     },
     "metadata": {},
     "output_type": "display_data"
    }
   ],
   "source": [
    "convertLocal2(\n",
    "    \"6\",\n",
    "    date = \"2023-05-01\",\n",
    "    filename = \"predictions\",\n",
    "    format = \"parquet\",\n",
    "    baseDir = \"/data/Archive/bhavesh/InventoryPrediction/2023-04-30\",\n",
    "    model = \"neural_network\"\n",
    ")"
   ]
  },
  {
   "cell_type": "code",
   "execution_count": 41,
   "metadata": {},
   "outputs": [
    {
     "data": {
      "application/vnd.jupyter.widget-view+json": {
       "model_id": "",
       "version_major": 2,
       "version_minor": 0
      },
      "text/plain": [
       "FloatProgress(value=0.0, bar_style='info', description='Progress:', layout=Layout(height='25px', width='50%'),…"
      ]
     },
     "metadata": {},
     "output_type": "display_data"
    }
   ],
   "source": [
    "convertLocal(\n",
    "    exp = \"neural_network_dropout_lr_0.0005\",\n",
    "    date = \"2023-05-01\",\n",
    "    filename = \"predictions\",\n",
    "    format = \"parquet\",\n",
    "    baseDir = \"/data/Archive/bhavesh/InventoryPrediction/2023-04-30\",\n",
    "    model = \"neural_network\"\n",
    ")"
   ]
  },
  {
   "cell_type": "markdown",
   "metadata": {},
   "source": [
    "### Metrics Show"
   ]
  },
  {
   "cell_type": "code",
   "execution_count": 12,
   "metadata": {},
   "outputs": [
    {
     "data": {
      "application/vnd.jupyter.widget-view+json": {
       "model_id": "",
       "version_major": 2,
       "version_minor": 0
      },
      "text/plain": [
       "FloatProgress(value=0.0, bar_style='info', description='Progress:', layout=Layout(height='25px', width='50%'),…"
      ]
     },
     "metadata": {},
     "output_type": "display_data"
    },
    {
     "name": "stdout",
     "output_type": "stream",
     "text": [
      "\u001b[1m\u001b[34mmetricsShow\u001b[0m: \u001b[1m\u001b[32m(exp: String)Unit\u001b[0m\n"
     ]
    }
   ],
   "source": [
    "def metricsShow(exp: String): Unit = {\n",
    "    var pl = CSVToDF.getDF(s\"/data/Archive/bhavesh/InventoryPrediction/2023-04-30/experiments/exp_${exp}/metrics/productLevelModelForEachBrick/productLevel\", inferSchema=true).orderBy(\"model\", \"similargrouplevel\").drop(DATE).persist()\n",
    "    pl.printSchema\n",
    "\n",
    "    var show = pl.orderBy(\"metric\").groupBy(\"model\", \"metric\").pivot(\"similargrouplevel\").agg(first(\"value\")).orderBy(\"model\", \"metric\").withColumn(\"final\", concat(lit(\"Men Shirts: \"), col(\"830216013\"), lit(\"\\n\"), lit(\"Women Kurtas: \"), col(\"830303011\"))).groupBy(\"model\").pivot(\"metric\").agg(first(\"final\") as \"final\").persist()\n",
    "    show.orderBy(\"model\").show(false)\n",
    "    // show.orderBy(\"model\").drop(\"model\").show(false)\n",
    "    DFToCSV.putDF(\"/data/Archive/bhavesh/InventoryPrediction/temp/ip/pl_show\", show.orderBy(\"model\").coalesce(1))\n",
    "    pl.unpersist()\n",
    "\n",
    "    var ql = CSVToDF.getDF(s\"/data/Archive/bhavesh/InventoryPrediction/2023-04-30/experiments/exp_${exp}/metrics/productLevelModelForEachBrick/queryLevel\", inferSchema=true).orderBy(\"model\", \"similargrouplevel\").drop(DATE).persist()\n",
    "    ql.printSchema\n",
    "\n",
    "    show = ql.orderBy(\"metric\").groupBy(\"model\", \"metric\").pivot(\"similargrouplevel\").agg(first(\"value\")).orderBy(\"model\", \"metric\").withColumn(\"final\", concat(lit(\"Men Shirts: \"), col(\"830216013\"), lit(\"\\n\"), lit(\"Women Kurtas: \"), col(\"830303011\"))).groupBy(\"model\").pivot(\"metric\").agg(first(\"final\") as \"final\").persist()\n",
    "    show.orderBy(\"model\").show(false)\n",
    "    // show.orderBy(\"model\").drop(\"model\").show(false)\n",
    "    DFToCSV.putDF(\"/data/Archive/bhavesh/InventoryPrediction/temp/ip/ql_show\", show.orderBy(\"model\").coalesce(1))\n",
    "    ql.unpersist()\n",
    "}"
   ]
  },
  {
   "cell_type": "code",
   "execution_count": 28,
   "metadata": {},
   "outputs": [
    {
     "data": {
      "application/vnd.jupyter.widget-view+json": {
       "model_id": "",
       "version_major": 2,
       "version_minor": 0
      },
      "text/plain": [
       "FloatProgress(value=0.0, bar_style='info', description='Progress:', layout=Layout(height='25px', width='50%'),…"
      ]
     },
     "metadata": {},
     "output_type": "display_data"
    },
    {
     "name": "stdout",
     "output_type": "stream",
     "text": [
      "\u001b[1m\u001b[34mql\u001b[0m: \u001b[1m\u001b[32morg.apache.spark.sql.Dataset[org.apache.spark.sql.Row]\u001b[0m = [metric: string, value: string ... 1 more field]\n",
      "root\n",
      " |-- metric: string (nullable = true)\n",
      " |-- value: string (nullable = true)\n",
      " |-- similargrouplevel: integer (nullable = true)\n",
      "\n",
      "\u001b[1m\u001b[34mshow\u001b[0m: \u001b[1m\u001b[32morg.apache.spark.sql.Dataset[org.apache.spark.sql.Row]\u001b[0m = [model: string, Bias: string ... 7 more fields]\n",
      "+--------+--------------------+--------------------+---------------------------+-------------------------------------------------+------------------------------------------------+------------------------------------------------+------------------------------------------------+------------------------------------------------+\n",
      "|   model|                Bias|            Hit Rate|Mean Absolute Percent Error|Root Mean Square Error for 100.0 percentile error|Root Mean Square Error for 25.0 percentile error|Root Mean Square Error for 50.0 percentile error|Root Mean Square Error for 75.0 percentile error|Root Mean Square Error for 90.0 percentile error|\n",
      "+--------+--------------------+--------------------+---------------------------+-------------------------------------------------+------------------------------------------------+------------------------------------------------+------------------------------------------------+------------------------------------------------+\n",
      "|combined|Men Shirts: 27562...|Men Shirts: 0.756...|       Men Shirts: 227.8...|                             Men Shirts: 547.3...|                            Men Shirts: 0.876...|                            Men Shirts: 2.697...|                            Men Shirts: 7.969...|                            Men Shirts: 21.13...|\n",
      "+--------+--------------------+--------------------+---------------------------+-------------------------------------------------+------------------------------------------------+------------------------------------------------+------------------------------------------------+------------------------------------------------+\n",
      "\n",
      "\u001b[1m\u001b[34mres37\u001b[0m: \u001b[1m\u001b[32morg.apache.spark.sql.Dataset[org.apache.spark.sql.Row]\u001b[0m = [metric: string, value: string ... 1 more field]\n"
     ]
    }
   ],
   "source": [
    "var ql = CSVToDF.getDF(\"/data/Archive/bhavesh/InventoryPrediction/2023-04-30/experiments/combined/nn_crostonsba/metrics/date=2023-05-01\").orderBy(\"similargrouplevel\").persist()\n",
    "ql.printSchema\n",
    "var show = ql.groupBy(\"metric\").pivot(\"similargrouplevel\").agg(first(\"value\")).orderBy(\"metric\").withColumn(\"final\", concat(lit(\"Men Shirts: \"), col(\"830216013\"), lit(\"\\n\"), lit(\"Women Kurtas: \"), col(\"830303011\"))).withColumn(\"model\", lit(\"combined\")).groupBy(\"model\").pivot(\"metric\").agg(first(\"final\") as \"final\").persist()\n",
    "show.show()\n",
    "DFToCSV.putDF(\"/data/Archive/bhavesh/InventoryPrediction/temp/ip/ql_show\", show.coalesce(1))\n",
    "ql.unpersist()"
   ]
  },
  {
   "cell_type": "code",
   "execution_count": 13,
   "metadata": {},
   "outputs": [
    {
     "data": {
      "application/vnd.jupyter.widget-view+json": {
       "model_id": "",
       "version_major": 2,
       "version_minor": 0
      },
      "text/plain": [
       "FloatProgress(value=0.0, bar_style='info', description='Progress:', layout=Layout(height='25px', width='50%'),…"
      ]
     },
     "metadata": {},
     "output_type": "display_data"
    },
    {
     "name": "stdout",
     "output_type": "stream",
     "text": [
      "\u001b[1m\u001b[34mexp_code\u001b[0m: \u001b[1m\u001b[32mString\u001b[0m = 1\n",
      "root\n",
      " |-- metric: string (nullable = true)\n",
      " |-- value: double (nullable = true)\n",
      " |-- model: string (nullable = true)\n",
      " |-- similargrouplevel: integer (nullable = true)\n",
      "\n",
      "+-----+----------------------------------------------------------------+---------------------------------------------------------------+---------------------------------------------------------------+--------------------------------------------------------------+---------------------------------------------------------------+--------------------------------------------------------------+--------------------------------------------------------------+---------------------------------------------------------------+\n",
      "|model|Bias                                                            |Hit Rate                                                       |Mean Absolute Percent Error                                    |Root Mean Square Error for 100.0 percentile error             |Root Mean Square Error for 25.0 percentile error               |Root Mean Square Error for 50.0 percentile error              |Root Mean Square Error for 75.0 percentile error              |Root Mean Square Error for 90.0 percentile error               |\n",
      "+-----+----------------------------------------------------------------+---------------------------------------------------------------+---------------------------------------------------------------+--------------------------------------------------------------+---------------------------------------------------------------+--------------------------------------------------------------+--------------------------------------------------------------+---------------------------------------------------------------+\n",
      "|dt   |Men Shirts: 358680.0\n",
      "Women Kurtas: 50732.0                      |Men Shirts: 0.7131995133819952\n",
      "Women Kurtas: 0.761813669734257 |Men Shirts: 288.02869250395304\n",
      "Women Kurtas: 199.38944894528183|Men Shirts: 117.95432942065088\n",
      "Women Kurtas: 135.2835791181993|Men Shirts: 0.6979558351377503\n",
      "Women Kurtas: 0.6910805069854924|Men Shirts: 1.539549431506099\n",
      "Women Kurtas: 1.5127680434503736|Men Shirts: 4.2760323661821795\n",
      "Women Kurtas: 4.079790176903322|Men Shirts: 10.853577223490781\n",
      "Women Kurtas: 13.548841896189549|\n",
      "|lr   |Men Shirts: 322409.12574267696\n",
      "Women Kurtas: -46218.66469448188 |Men Shirts: 0.6417579075425791\n",
      "Women Kurtas: 0.5605418260779651|Men Shirts: 263.68327117029247\n",
      "Women Kurtas: 456.85551243684523|Men Shirts: 83.55292718256116\n",
      "Women Kurtas: 109.02005330295863|Men Shirts: 0.9687895656074375\n",
      "Women Kurtas: 1.8574571509779652|Men Shirts: 2.282678547676126\n",
      "Women Kurtas: 5.091258253580755 |Men Shirts: 4.953108271270103\n",
      "Women Kurtas: 10.109213949499837|Men Shirts: 10.253897377112194\n",
      "Women Kurtas: 16.11177058992122 |\n",
      "|xgb  |Men Shirts: 238539.80753745517\n",
      "Women Kurtas: -24987.045149829355|Men Shirts: 0.5367092457420924\n",
      "Women Kurtas: 0.5688656809016648|Men Shirts: 393.8544024691496\n",
      "Women Kurtas: 372.9338009931422  |Men Shirts: 78.34943309839345\n",
      "Women Kurtas: 104.55607089945832|Men Shirts: 4.198908406005614\n",
      "Women Kurtas: 3.3937522425990037 |Men Shirts: 6.362006119607095\n",
      "Women Kurtas: 5.454096203199191 |Men Shirts: 6.460948254180296\n",
      "Women Kurtas: 5.899717326120628 |Men Shirts: 8.925545861312985\n",
      "Women Kurtas: 13.472146772541116 |\n",
      "+-----+----------------------------------------------------------------+---------------------------------------------------------------+---------------------------------------------------------------+--------------------------------------------------------------+---------------------------------------------------------------+--------------------------------------------------------------+--------------------------------------------------------------+---------------------------------------------------------------+\n",
      "\n",
      "root\n",
      " |-- metric: string (nullable = true)\n",
      " |-- value: double (nullable = true)\n",
      " |-- model: string (nullable = true)\n",
      " |-- similargrouplevel: integer (nullable = true)\n",
      "\n",
      "+-----+-----------------------------------------------------------------+---------------------------------------------------------------+--------------------------------------------------------------+---------------------------------------------------------------+---------------------------------------------------------------+---------------------------------------------------------------+---------------------------------------------------------------+--------------------------------------------------------------+\n",
      "|model|Bias                                                             |Hit Rate                                                       |Mean Absolute Percent Error                                   |Root Mean Square Error for 100.0 percentile error              |Root Mean Square Error for 25.0 percentile error               |Root Mean Square Error for 50.0 percentile error               |Root Mean Square Error for 75.0 percentile error               |Root Mean Square Error for 90.0 percentile error              |\n",
      "+-----+-----------------------------------------------------------------+---------------------------------------------------------------+--------------------------------------------------------------+---------------------------------------------------------------+---------------------------------------------------------------+---------------------------------------------------------------+---------------------------------------------------------------+--------------------------------------------------------------+\n",
      "|dt   |Men Shirts: 3.5996984E7\n",
      "Women Kurtas: 5137403.0                  |Men Shirts: 0.6488785274187557\n",
      "Women Kurtas: 0.7599182282793867|Men Shirts: 492.5739328958539\n",
      "Women Kurtas: 319.06681082703517|Men Shirts: 2647.489105520356\n",
      "Women Kurtas: 907.6311904254113  |Men Shirts: 1.2022801307290294\n",
      "Women Kurtas: 1.204596683037678 |Men Shirts: 3.5944613142028623\n",
      "Women Kurtas: 3.5028207551587984|Men Shirts: 12.507861990863006\n",
      "Women Kurtas: 12.680421461578788|Men Shirts: 45.22204624478483\n",
      "Women Kurtas: 45.4228396460817  |\n",
      "|lr   |Men Shirts: 1.9290011788566764E7\n",
      "Women Kurtas: 5784376.2316096295|Men Shirts: 0.6198948766230716\n",
      "Women Kurtas: 0.5704288216093928|Men Shirts: 307.4463507414544\n",
      "Women Kurtas: 863.9351941596689 |Men Shirts: 1468.1752602012843\n",
      "Women Kurtas: 1250.3609163379635|Men Shirts: 1.6896759769629293\n",
      "Women Kurtas: 3.0590694866628025|Men Shirts: 4.543696388776557\n",
      "Women Kurtas: 10.152083797035598 |Men Shirts: 12.001924825586142\n",
      "Women Kurtas: 27.130328528814143|Men Shirts: 30.396075698581868\n",
      "Women Kurtas: 64.28776797512253|\n",
      "|xgb  |Men Shirts: 4.1174828458255075E7\n",
      "Women Kurtas: 6789576.29351539  |Men Shirts: 0.3660274721286416\n",
      "Women Kurtas: 0.5237410562180579|Men Shirts: 970.7646437539261\n",
      "Women Kurtas: 797.1696566899    |Men Shirts: 3066.9662904223\n",
      "Women Kurtas: 1173.6727267023844   |Men Shirts: 6.308859088724691\n",
      "Women Kurtas: 5.323693320548244  |Men Shirts: 12.411086815865712\n",
      "Women Kurtas: 10.377399076428615|Men Shirts: 27.447017491624916\n",
      "Women Kurtas: 24.3207755277035  |Men Shirts: 61.98364316226771\n",
      "Women Kurtas: 55.181353978095515|\n",
      "+-----+-----------------------------------------------------------------+---------------------------------------------------------------+--------------------------------------------------------------+---------------------------------------------------------------+---------------------------------------------------------------+---------------------------------------------------------------+---------------------------------------------------------------+--------------------------------------------------------------+\n",
      "\n"
     ]
    }
   ],
   "source": [
    "val exp_code = \"1\"\n",
    "metricsShow(exp_code)"
   ]
  },
  {
   "cell_type": "markdown",
   "metadata": {},
   "source": [
    "### Combined 6 months predictions to one file"
   ]
  },
  {
   "cell_type": "code",
   "execution_count": 11,
   "metadata": {},
   "outputs": [
    {
     "data": {
      "application/vnd.jupyter.widget-view+json": {
       "model_id": "",
       "version_major": 2,
       "version_minor": 0
      },
      "text/plain": [
       "FloatProgress(value=0.0, bar_style='info', description='Progress:', layout=Layout(height='25px', width='50%'),…"
      ]
     },
     "metadata": {},
     "output_type": "display_data"
    },
    {
     "name": "stdout",
     "output_type": "stream",
     "text": [
      "\u001b[1m\u001b[34mbasePath\u001b[0m: \u001b[1m\u001b[32mString\u001b[0m = /data/Archive/bhavesh/InventoryPrediction/2023-04-30/NMonthsAheadExperiment\n"
     ]
    }
   ],
   "source": [
    "var basePath: String = \"/data/Archive/bhavesh/InventoryPrediction/2023-04-30/NMonthsAheadExperiment\""
   ]
  },
  {
   "cell_type": "code",
   "execution_count": 14,
   "metadata": {},
   "outputs": [
    {
     "data": {
      "application/vnd.jupyter.widget-view+json": {
       "model_id": "",
       "version_major": 2,
       "version_minor": 0
      },
      "text/plain": [
       "FloatProgress(value=0.0, bar_style='info', description='Progress:', layout=Layout(height='25px', width='50%'),…"
      ]
     },
     "metadata": {},
     "output_type": "display_data"
    },
    {
     "name": "stdout",
     "output_type": "stream",
     "text": [
      "\u001b[1m\u001b[34moldQueryToNewQueryMap\u001b[0m: \u001b[1m\u001b[32morg.apache.spark.sql.DataFrame\u001b[0m = [query: string, template: string ... 2 more fields]\n",
      "root\n",
      " |-- query: string (nullable = true)\n",
      " |-- template: string (nullable = true)\n",
      " |-- similargrouplevel: string (nullable = true)\n",
      " |-- newQuery: string (nullable = true)\n",
      "\n"
     ]
    }
   ],
   "source": [
    "var oldQueryToNewQueryMap = ParquetToDF.getDF(\"/data/Archive/inventory/2023-04-30/queryProductMap_colorfamily_pricebucket_styletype_pattern_sleeve_brandname/attributesQueryInfo/final\").select(\"query\",\"template\",\"similargrouplevel\",\"newQuery\")\n",
    "oldQueryToNewQueryMap.printSchema"
   ]
  },
  {
   "cell_type": "code",
   "execution_count": 17,
   "metadata": {},
   "outputs": [
    {
     "data": {
      "application/vnd.jupyter.widget-view+json": {
       "model_id": "",
       "version_major": 2,
       "version_minor": 0
      },
      "text/plain": [
       "FloatProgress(value=0.0, bar_style='info', description='Progress:', layout=Layout(height='25px', width='50%'),…"
      ]
     },
     "metadata": {},
     "output_type": "display_data"
    }
   ],
   "source": [
    "Array(1, 2, 3, 4, 5, 6).foreach(months => {\n",
    "    var predictionsPath = s\"$basePath/${months}MonthsAhead/predictions\"\n",
    "    var menShirts = ParquetToDF.getDF(s\"$predictionsPath/menShirts/queryAggregatedPredictions/model=neural_network\")\n",
    "    .select(\"similargrouplevel\", \"query\", \"template\", \"predicted\")\n",
    "    var womenKurtas = ParquetToDF.getDF(s\"$predictionsPath/womenKurtas/queryAggregatedPredictions/model=neural_network\")\n",
    "    .select(\"similargrouplevel\", \"query\", \"template\", \"predicted\")\n",
    "    \n",
    "    var predictions = menShirts.union(womenKurtas).join(oldQueryToNewQueryMap, Seq(\"similargrouplevel\", \"query\", \"template\"))\n",
    "    .withColumnRenamed(\"query\", \"oldQuery\")\n",
    "    .withColumnRenamed(\"newQuery\", \"query\")\n",
    "    .select(\"similargrouplevel\", \"query\", \"predicted\", \"oldQuery\", \"template\")\n",
    "    \n",
    "    DFToParquet.putDF(s\"/data/Archive/bhavesh/InventoryPrediction/2023-04-30/NMonthsAheadExperiment/predictions/months=m$months\", predictions)\n",
    "})"
   ]
  },
  {
   "cell_type": "code",
   "execution_count": 27,
   "metadata": {},
   "outputs": [
    {
     "data": {
      "application/vnd.jupyter.widget-view+json": {
       "model_id": "",
       "version_major": 2,
       "version_minor": 0
      },
      "text/plain": [
       "FloatProgress(value=0.0, bar_style='info', description='Progress:', layout=Layout(height='25px', width='50%'),…"
      ]
     },
     "metadata": {},
     "output_type": "display_data"
    },
    {
     "name": "stdout",
     "output_type": "stream",
     "text": [
      "\u001b[1m\u001b[34mdf\u001b[0m: \u001b[1m\u001b[32morg.apache.spark.sql.DataFrame\u001b[0m = [similargrouplevel: string, query: string ... 4 more fields]\n",
      "root\n",
      " |-- similargrouplevel: string (nullable = true)\n",
      " |-- query: string (nullable = true)\n",
      " |-- predicted: double (nullable = true)\n",
      " |-- oldQuery: string (nullable = true)\n",
      " |-- template: string (nullable = true)\n",
      " |-- months: string (nullable = true)\n",
      "\n"
     ]
    }
   ],
   "source": [
    "var df = ParquetToDF.getDF(\"/data/Archive/bhavesh/InventoryPrediction/2023-04-30/NMonthsAheadExperiment/predictions\")\n",
    "df.printSchema"
   ]
  },
  {
   "cell_type": "code",
   "execution_count": 39,
   "metadata": {},
   "outputs": [
    {
     "data": {
      "application/vnd.jupyter.widget-view+json": {
       "model_id": "",
       "version_major": 2,
       "version_minor": 0
      },
      "text/plain": [
       "FloatProgress(value=0.0, bar_style='info', description='Progress:', layout=Layout(height='25px', width='50%'),…"
      ]
     },
     "metadata": {},
     "output_type": "display_data"
    },
    {
     "name": "stdout",
     "output_type": "stream",
     "text": [
      "+-----------------+------+------------+\n",
      "|similargrouplevel|months|count(query)|\n",
      "+-----------------+------+------------+\n",
      "|830303011        |m1    |286269      |\n",
      "|830303011        |m3    |286269      |\n",
      "|830303011        |m6    |286269      |\n",
      "|830303011        |m2    |286269      |\n",
      "|830216013        |m5    |425838      |\n",
      "|830303011        |m5    |286269      |\n",
      "|830216013        |m4    |425838      |\n",
      "|830216013        |m1    |425838      |\n",
      "|830303011        |m4    |286269      |\n",
      "|830216013        |m2    |425838      |\n",
      "|830216013        |m6    |425838      |\n",
      "|830216013        |m3    |425838      |\n",
      "+-----------------+------+------------+\n",
      "\n"
     ]
    }
   ],
   "source": [
    "df.groupBy(\"similargrouplevel\", \"months\").agg(count(\"query\")).show(false)"
   ]
  },
  {
   "cell_type": "code",
   "execution_count": 34,
   "metadata": {},
   "outputs": [
    {
     "data": {
      "application/vnd.jupyter.widget-view+json": {
       "model_id": "",
       "version_major": 2,
       "version_minor": 0
      },
      "text/plain": [
       "FloatProgress(value=0.0, bar_style='info', description='Progress:', layout=Layout(height='25px', width='50%'),…"
      ]
     },
     "metadata": {},
     "output_type": "display_data"
    },
    {
     "name": "stdout",
     "output_type": "stream",
     "text": [
      "\u001b[1m\u001b[34marima\u001b[0m: \u001b[1m\u001b[32morg.apache.spark.sql.DataFrame\u001b[0m = [query: string, predictionMonth: string ... 2 more fields]\n",
      "root\n",
      " |-- query: string (nullable = true)\n",
      " |-- predictionMonth: string (nullable = true)\n",
      " |-- predicted: double (nullable = true)\n",
      " |-- similargrouplevel: integer (nullable = true)\n",
      "\n"
     ]
    }
   ],
   "source": [
    "var arima = ParquetToDF.getDF(\"/data/Archive/inventory/2023-04-30/queryProductMap_colorfamily_pricebucket_styletype_pattern_sleeve_brandname/allTimeSeriesFull6months/queryPredictions/model=DynamicOptimizedTheta\")\n",
    "arima.printSchema"
   ]
  },
  {
   "cell_type": "code",
   "execution_count": 41,
   "metadata": {},
   "outputs": [
    {
     "data": {
      "application/vnd.jupyter.widget-view+json": {
       "model_id": "",
       "version_major": 2,
       "version_minor": 0
      },
      "text/plain": [
       "FloatProgress(value=0.0, bar_style='info', description='Progress:', layout=Layout(height='25px', width='50%'),…"
      ]
     },
     "metadata": {},
     "output_type": "display_data"
    },
    {
     "name": "stdout",
     "output_type": "stream",
     "text": [
      "+-----------------+---------------+------------+\n",
      "|similargrouplevel|predictionMonth|count(query)|\n",
      "+-----------------+---------------+------------+\n",
      "|830303011        |2023-09-01     |311129      |\n",
      "|830303011        |2023-06-01     |311129      |\n",
      "|830216013        |2023-07-01     |454092      |\n",
      "|830216013        |2023-08-01     |454092      |\n",
      "|830303011        |2023-08-01     |311129      |\n",
      "|830303011        |2023-07-01     |311129      |\n",
      "|830216013        |2023-05-01     |454092      |\n",
      "|830216013        |2023-09-01     |454092      |\n",
      "|830216013        |2023-06-01     |454092      |\n",
      "|830303011        |2023-05-01     |311129      |\n",
      "|830216013        |2023-10-01     |454092      |\n",
      "|830303011        |2023-10-01     |311129      |\n",
      "+-----------------+---------------+------------+\n",
      "\n"
     ]
    }
   ],
   "source": [
    "arima.groupBy(\"similargrouplevel\", \"predictionMonth\").agg(count(\"query\")).show(false)"
   ]
  },
  {
   "cell_type": "code",
   "execution_count": 49,
   "metadata": {},
   "outputs": [
    {
     "data": {
      "application/vnd.jupyter.widget-view+json": {
       "model_id": "",
       "version_major": 2,
       "version_minor": 0
      },
      "text/plain": [
       "FloatProgress(value=0.0, bar_style='info', description='Progress:', layout=Layout(height='25px', width='50%'),…"
      ]
     },
     "metadata": {},
     "output_type": "display_data"
    },
    {
     "name": "stdout",
     "output_type": "stream",
     "text": [
      "\u001b[1m\u001b[34mmonthDateToLetterMap\u001b[0m: \u001b[1m\u001b[32morg.apache.spark.sql.Dataset[org.apache.spark.sql.Row]\u001b[0m = [predictionMonth: string, monthInWords: string]\n",
      "+---------------+------------+\n",
      "|predictionMonth|monthInWords|\n",
      "+---------------+------------+\n",
      "|2023-05-01     |m1          |\n",
      "|2023-06-01     |m2          |\n",
      "|2023-07-01     |m3          |\n",
      "|2023-08-01     |m4          |\n",
      "|2023-09-01     |m5          |\n",
      "|2023-10-01     |m6          |\n",
      "+---------------+------------+\n",
      "\n"
     ]
    }
   ],
   "source": [
    "var monthDateToLetterMap = arima.select(\"predictionMonth\").distinct().withColumn(\"monthInWords\", concat(lit(\"m\"), row_number().over(Window.orderBy(asc(\"predictionMonth\"))))).persist()\n",
    "monthDateToLetterMap.show(false)"
   ]
  },
  {
   "cell_type": "code",
   "execution_count": 50,
   "metadata": {},
   "outputs": [
    {
     "data": {
      "application/vnd.jupyter.widget-view+json": {
       "model_id": "",
       "version_major": 2,
       "version_minor": 0
      },
      "text/plain": [
       "FloatProgress(value=0.0, bar_style='info', description='Progress:', layout=Layout(height='25px', width='50%'),…"
      ]
     },
     "metadata": {},
     "output_type": "display_data"
    },
    {
     "name": "stdout",
     "output_type": "stream",
     "text": [
      "df: org.apache.spark.sql.DataFrame = [query: string, similargrouplevel: string ... 3 more fields]\n",
      "arima: org.apache.spark.sql.DataFrame = [query: string, similargrouplevel: int ... 3 more fields]\n",
      "root\n",
      " |-- query: string (nullable = true)\n",
      " |-- similargrouplevel: string (nullable = true)\n",
      " |-- predictionMonth: string (nullable = true)\n",
      " |-- model: string (nullable = false)\n",
      " |-- predicted: double (nullable = true)\n",
      "\n",
      "root\n",
      " |-- query: string (nullable = true)\n",
      " |-- similargrouplevel: integer (nullable = true)\n",
      " |-- predictionMonth: string (nullable = true)\n",
      " |-- model: string (nullable = false)\n",
      " |-- predicted: double (nullable = true)\n",
      "\n"
     ]
    }
   ],
   "source": [
    "df = df.withColumn(\"model\", lit(\"nn\")).select(col(\"query\"), col(\"similargrouplevel\"), col(\"months\").as(\"predictionMonth\"), col(\"model\"), col(\"predicted\"))\n",
    "arima = arima.withColumn(\"model\", lit(\"arima\")).join(monthDateToLetterMap, Seq(\"predictionMonth\")).drop(\"predictionMonth\").select(col(\"query\"), col(\"similargrouplevel\"), col(\"monthInWords\").as(\"predictionMonth\"), col(\"model\"), col(\"predicted\"))\n",
    "\n",
    "df.printSchema\n",
    "arima.printSchema"
   ]
  },
  {
   "cell_type": "code",
   "execution_count": 51,
   "metadata": {},
   "outputs": [
    {
     "data": {
      "application/vnd.jupyter.widget-view+json": {
       "model_id": "",
       "version_major": 2,
       "version_minor": 0
      },
      "text/plain": [
       "FloatProgress(value=0.0, bar_style='info', description='Progress:', layout=Layout(height='25px', width='50%'),…"
      ]
     },
     "metadata": {},
     "output_type": "display_data"
    },
    {
     "name": "stdout",
     "output_type": "stream",
     "text": [
      "+-----------------+---------------+------------+\n",
      "|similargrouplevel|predictionMonth|count(query)|\n",
      "+-----------------+---------------+------------+\n",
      "|830303011        |m5             |311129      |\n",
      "|830216013        |m3             |454092      |\n",
      "|830303011        |m2             |311129      |\n",
      "|830303011        |m6             |311129      |\n",
      "|830216013        |m1             |454092      |\n",
      "|830216013        |m5             |454092      |\n",
      "|830303011        |m1             |311129      |\n",
      "|830216013        |m2             |454092      |\n",
      "|830303011        |m4             |311129      |\n",
      "|830216013        |m6             |454092      |\n",
      "|830216013        |m4             |454092      |\n",
      "|830303011        |m3             |311129      |\n",
      "+-----------------+---------------+------------+\n",
      "\n"
     ]
    }
   ],
   "source": [
    "arima.groupBy(\"similargrouplevel\", \"predictionMonth\").agg(count(\"query\")).show(false)"
   ]
  },
  {
   "cell_type": "code",
   "execution_count": 52,
   "metadata": {},
   "outputs": [
    {
     "data": {
      "application/vnd.jupyter.widget-view+json": {
       "model_id": "",
       "version_major": 2,
       "version_minor": 0
      },
      "text/plain": [
       "FloatProgress(value=0.0, bar_style='info', description='Progress:', layout=Layout(height='25px', width='50%'),…"
      ]
     },
     "metadata": {},
     "output_type": "display_data"
    },
    {
     "name": "stdout",
     "output_type": "stream",
     "text": [
      "\u001b[1m\u001b[34mcombinedPredictions\u001b[0m: \u001b[1m\u001b[32morg.apache.spark.sql.DataFrame\u001b[0m = [similargrouplevel: string, query: string ... 2 more fields]\n",
      "root\n",
      " |-- similargrouplevel: string (nullable = true)\n",
      " |-- query: string (nullable = true)\n",
      " |-- predictionMonth: string (nullable = true)\n",
      " |-- predicted: double (nullable = true)\n",
      "\n"
     ]
    }
   ],
   "source": [
    "var combinedPredictions = df.union(arima).groupBy(\"similargrouplevel\", \"query\", \"predictionMonth\").agg(avg(\"predicted\") as \"predicted\")\n",
    "combinedPredictions.printSchema"
   ]
  },
  {
   "cell_type": "code",
   "execution_count": 53,
   "metadata": {},
   "outputs": [
    {
     "data": {
      "application/vnd.jupyter.widget-view+json": {
       "model_id": "",
       "version_major": 2,
       "version_minor": 0
      },
      "text/plain": [
       "FloatProgress(value=0.0, bar_style='info', description='Progress:', layout=Layout(height='25px', width='50%'),…"
      ]
     },
     "metadata": {},
     "output_type": "display_data"
    }
   ],
   "source": [
    "DFToParquet.putDF(\"/data/Archive/bhavesh/InventoryPrediction/2023-04-30/NMonthsAheadExperiment/combinedPredictions/nn_DynamicOptimizedTheta\", combinedPredictions)"
   ]
  },
  {
   "cell_type": "code",
   "execution_count": 3,
   "metadata": {},
   "outputs": [
    {
     "data": {
      "application/vnd.jupyter.widget-view+json": {
       "model_id": "",
       "version_major": 2,
       "version_minor": 0
      },
      "text/plain": [
       "FloatProgress(value=0.0, bar_style='info', description='Progress:', layout=Layout(height='25px', width='50%'),…"
      ]
     },
     "metadata": {},
     "output_type": "display_data"
    },
    {
     "name": "stdout",
     "output_type": "stream",
     "text": [
      "\u001b[1m\u001b[34mcombinedPredictions\u001b[0m: \u001b[1m\u001b[32morg.apache.spark.sql.DataFrame\u001b[0m = [similargrouplevel: string, query: string ... 2 more fields]\n",
      "root\n",
      " |-- similargrouplevel: string (nullable = true)\n",
      " |-- query: string (nullable = true)\n",
      " |-- predictionMonth: string (nullable = true)\n",
      " |-- predicted: double (nullable = true)\n",
      "\n"
     ]
    }
   ],
   "source": [
    "var combinedPredictions = ParquetToDF.getDF(\"/data/Archive/bhavesh/InventoryPrediction/2023-04-30/NMonthsAheadExperiment/combinedPredictions/nn_DynamicOptimizedTheta\")\n",
    "combinedPredictions.printSchema"
   ]
  },
  {
   "cell_type": "code",
   "execution_count": 4,
   "metadata": {},
   "outputs": [
    {
     "data": {
      "application/vnd.jupyter.widget-view+json": {
       "model_id": "",
       "version_major": 2,
       "version_minor": 0
      },
      "text/plain": [
       "FloatProgress(value=0.0, bar_style='info', description='Progress:', layout=Layout(height='25px', width='50%'),…"
      ]
     },
     "metadata": {},
     "output_type": "display_data"
    },
    {
     "name": "stdout",
     "output_type": "stream",
     "text": [
      "+-----------------+---------------+------------+\n",
      "|similargrouplevel|predictionMonth|count(query)|\n",
      "+-----------------+---------------+------------+\n",
      "|830303011        |m1             |311129      |\n",
      "|830303011        |m3             |311129      |\n",
      "|830303011        |m6             |311129      |\n",
      "|830303011        |m2             |311129      |\n",
      "|830216013        |m5             |454092      |\n",
      "|830303011        |m5             |311129      |\n",
      "|830216013        |m4             |454092      |\n",
      "|830216013        |m1             |454092      |\n",
      "|830216013        |m2             |454092      |\n",
      "|830216013        |m6             |454092      |\n",
      "|830303011        |m4             |311129      |\n",
      "|830216013        |m3             |454092      |\n",
      "+-----------------+---------------+------------+\n",
      "\n"
     ]
    }
   ],
   "source": [
    "combinedPredictions.groupBy(\"similargrouplevel\", \"predictionMonth\").agg(count(\"query\")).show(false)"
   ]
  },
  {
   "cell_type": "code",
   "execution_count": 6,
   "metadata": {},
   "outputs": [
    {
     "data": {
      "application/vnd.jupyter.widget-view+json": {
       "model_id": "",
       "version_major": 2,
       "version_minor": 0
      },
      "text/plain": [
       "FloatProgress(value=0.0, bar_style='info', description='Progress:', layout=Layout(height='25px', width='50%'),…"
      ]
     },
     "metadata": {},
     "output_type": "display_data"
    },
    {
     "name": "stdout",
     "output_type": "stream",
     "text": [
      "\u001b[1m\u001b[34mrunDir\u001b[0m: \u001b[1m\u001b[32mString\u001b[0m = /data/Archive/bhavesh/InventoryPrediction/2023-04-30\n",
      "\u001b[1m\u001b[34mproductsActual\u001b[0m: \u001b[1m\u001b[32morg.apache.spark.sql.DataFrame\u001b[0m = [productid: string, actual: bigint]\n",
      "\u001b[1m\u001b[34msuffix\u001b[0m: \u001b[1m\u001b[32mString\u001b[0m = colorfamily_pricebucket_styletype_pattern_sleeve_brandname\n",
      "\u001b[1m\u001b[34mqueriesToProductMap\u001b[0m: \u001b[1m\u001b[32morg.apache.spark.sql.DataFrame\u001b[0m = [query: string, productid: string ... 2 more fields]\n",
      "\u001b[1m\u001b[34moldQueryToNewQueryMap\u001b[0m: \u001b[1m\u001b[32morg.apache.spark.sql.DataFrame\u001b[0m = [query: string, template: string ... 2 more fields]\n",
      "queriesToProductMap: org.apache.spark.sql.DataFrame = [similargrouplevel: int, template: string ... 2 more fields]\n",
      "\u001b[1m\u001b[34mproductAttr\u001b[0m: \u001b[1m\u001b[32morg.apache.spark.sql.DataFrame\u001b[0m = [productid: string, similargrouplevel: string]\n",
      "productsActual: org.apache.spark.sql.DataFrame = [productid: string, actual: bigint]\n",
      "\u001b[1m\u001b[34mqueryActual\u001b[0m: \u001b[1m\u001b[32morg.apache.spark.sql.DataFrame\u001b[0m = [similargrouplevel: int, query: string ... 1 more field]\n",
      "root\n",
      " |-- similargrouplevel: integer (nullable = true)\n",
      " |-- query: string (nullable = true)\n",
      " |-- actual: long (nullable = true)\n",
      "\n"
     ]
    }
   ],
   "source": [
    "var runDir = \"/data/Archive/bhavesh/InventoryPrediction/2023-04-30\"\n",
    "var productsActual = ParquetToDF.getDF(\"/data/Archive/bhavesh/InventoryPrediction/actualDataForPredictionPeriod/date=2023-05-01/sales\")\n",
    "var suffix = \"colorfamily_pricebucket_styletype_pattern_sleeve_brandname\"\n",
    "var queriesToProductMap = ParquetToDF.getDF(s\"$runDir/QueryProductMapping/suffix=$suffix\").select(\"query\", \"productid\", \"similargrouplevel\", \"template\").na.drop()\n",
    "var oldQueryToNewQueryMap = ParquetToDF.getDF(\"/data/Archive/inventory/2023-04-30/queryProductMap_colorfamily_pricebucket_styletype_pattern_sleeve_brandname/attributesQueryInfo/final\").select(\"query\",\"template\",\"similargrouplevel\",\"newQuery\")\n",
    "\n",
    "queriesToProductMap = queriesToProductMap.join(oldQueryToNewQueryMap, Seq(\"similargrouplevel\", \"query\", \"template\")).drop(\"query\").withColumnRenamed(\"newQuery\", \"query\")\n",
    "\n",
    "var productAttr = (\n",
    "    ParquetToDF.getDF(\"/data/Archive/inventory/\"+\"2023-04-30/queryProductMap_colorfamily_pricebucket_styletype_pattern_sleeve_brandname\"+\"/processedProductAttr\")\n",
    "    .select(PRODUCTID, SIMILAR_GROUP_LEVEL)\n",
    "    .na.drop\n",
    ")\n",
    "\n",
    "productsActual = (\n",
    "    productsActual      \n",
    "    .join(productAttr, Seq(PRODUCTID))\n",
    "    .select(PRODUCTID, \"actual\")\n",
    ")\n",
    "\n",
    "var queryActual = productsActual.join(queriesToProductMap, Seq(PRODUCTID)).groupBy(\"similargrouplevel\", \"query\").agg(sum(\"actual\") as \"actual\")\n",
    "queryActual.printSchema"
   ]
  },
  {
   "cell_type": "code",
   "execution_count": 7,
   "metadata": {},
   "outputs": [
    {
     "data": {
      "application/vnd.jupyter.widget-view+json": {
       "model_id": "",
       "version_major": 2,
       "version_minor": 0
      },
      "text/plain": [
       "FloatProgress(value=0.0, bar_style='info', description='Progress:', layout=Layout(height='25px', width='50%'),…"
      ]
     },
     "metadata": {},
     "output_type": "display_data"
    },
    {
     "name": "stdout",
     "output_type": "stream",
     "text": [
      "queryActual: org.apache.spark.sql.DataFrame = [similargrouplevel: int, query: string ... 1 more field]\n"
     ]
    }
   ],
   "source": [
    "DFToParquet.putDF(\"/data/Archive/bhavesh/InventoryPrediction/2023-04-30/NMonthsAheadExperiment/actual\", queryActual)\n",
    "queryActual = ParquetToDF.getDF(\"/data/Archive/bhavesh/InventoryPrediction/2023-04-30/NMonthsAheadExperiment/actual\")"
   ]
  },
  {
   "cell_type": "code",
   "execution_count": 8,
   "metadata": {},
   "outputs": [
    {
     "data": {
      "application/vnd.jupyter.widget-view+json": {
       "model_id": "",
       "version_major": 2,
       "version_minor": 0
      },
      "text/plain": [
       "FloatProgress(value=0.0, bar_style='info', description='Progress:', layout=Layout(height='25px', width='50%'),…"
      ]
     },
     "metadata": {},
     "output_type": "display_data"
    },
    {
     "name": "stdout",
     "output_type": "stream",
     "text": [
      "\u001b[1m\u001b[34mpredictions\u001b[0m: \u001b[1m\u001b[32morg.apache.spark.sql.DataFrame\u001b[0m = [query: string, similargrouplevel: string ... 7 more fields]\n",
      "root\n",
      " |-- query: string (nullable = true)\n",
      " |-- similargrouplevel: string (nullable = true)\n",
      " |-- m1: double (nullable = true)\n",
      " |-- m2: double (nullable = true)\n",
      " |-- m3: double (nullable = true)\n",
      " |-- m4: double (nullable = true)\n",
      " |-- m5: double (nullable = true)\n",
      " |-- m6: double (nullable = true)\n",
      " |-- actual: double (nullable = false)\n",
      "\n"
     ]
    }
   ],
   "source": [
    "var predictions = (\n",
    "    combinedPredictions.groupBy(\"similargrouplevel\", \"query\")\n",
    "    .pivot(\"predictionMonth\")\n",
    "    .agg(sum(\"predicted\"))\n",
    "    .join(queryActual, Seq(\"query\", \"similargrouplevel\"), \"left\")\n",
    "    .withColumn(\"actual\", col(\"actual\").cast(DoubleType))\n",
    "    .na.fill(0.0, Seq(\"actual\"))\n",
    ")\n",
    "predictions.printSchema"
   ]
  },
  {
   "cell_type": "code",
   "execution_count": 9,
   "metadata": {},
   "outputs": [
    {
     "data": {
      "application/vnd.jupyter.widget-view+json": {
       "model_id": "",
       "version_major": 2,
       "version_minor": 0
      },
      "text/plain": [
       "FloatProgress(value=0.0, bar_style='info', description='Progress:', layout=Layout(height='25px', width='50%'),…"
      ]
     },
     "metadata": {},
     "output_type": "display_data"
    },
    {
     "name": "stdout",
     "output_type": "stream",
     "text": [
      "+-----------------+------+\n",
      "|similargrouplevel| count|\n",
      "+-----------------+------+\n",
      "|        830216013|454092|\n",
      "|        830303011|311129|\n",
      "+-----------------+------+\n",
      "\n"
     ]
    }
   ],
   "source": [
    "predictions.groupBy(\"similargrouplevel\").count.show"
   ]
  },
  {
   "cell_type": "code",
   "execution_count": 10,
   "metadata": {},
   "outputs": [
    {
     "data": {
      "application/vnd.jupyter.widget-view+json": {
       "model_id": "",
       "version_major": 2,
       "version_minor": 0
      },
      "text/plain": [
       "FloatProgress(value=0.0, bar_style='info', description='Progress:', layout=Layout(height='25px', width='50%'),…"
      ]
     },
     "metadata": {},
     "output_type": "display_data"
    },
    {
     "name": "stdout",
     "output_type": "stream",
     "text": [
      "+-----------------+------+\n",
      "|similargrouplevel| count|\n",
      "+-----------------+------+\n",
      "|        830216013|454092|\n",
      "|        830303011|311129|\n",
      "+-----------------+------+\n",
      "\n"
     ]
    }
   ],
   "source": [
    "predictions.na.drop.groupBy(\"similargrouplevel\").count.show"
   ]
  },
  {
   "cell_type": "code",
   "execution_count": 13,
   "metadata": {},
   "outputs": [
    {
     "data": {
      "application/vnd.jupyter.widget-view+json": {
       "model_id": "",
       "version_major": 2,
       "version_minor": 0
      },
      "text/plain": [
       "FloatProgress(value=0.0, bar_style='info', description='Progress:', layout=Layout(height='25px', width='50%'),…"
      ]
     },
     "metadata": {},
     "output_type": "display_data"
    },
    {
     "name": "stdout",
     "output_type": "stream",
     "text": [
      "predictions: org.apache.spark.sql.DataFrame = [similargrouplevel: string, category_name: string ... 8 more fields]\n",
      "root\n",
      " |-- similargrouplevel: string (nullable = true)\n",
      " |-- category_name: string (nullable = false)\n",
      " |-- query: string (nullable = true)\n",
      " |-- m1: double (nullable = true)\n",
      " |-- m2: double (nullable = true)\n",
      " |-- m3: double (nullable = true)\n",
      " |-- m4: double (nullable = true)\n",
      " |-- m5: double (nullable = true)\n",
      " |-- m6: double (nullable = true)\n",
      " |-- actual: double (nullable = false)\n",
      "\n"
     ]
    }
   ],
   "source": [
    "predictions = predictions.withColumn(\"category_name\", when(col(\"similargrouplevel\") === \"830216013\", lit(\"Men-Shirts\")).otherwise(lit(\"Women-Kurtas\")))\n",
    "predictions.printSchema"
   ]
  },
  {
   "cell_type": "code",
   "execution_count": 12,
   "metadata": {},
   "outputs": [
    {
     "data": {
      "application/vnd.jupyter.widget-view+json": {
       "model_id": "",
       "version_major": 2,
       "version_minor": 0
      },
      "text/plain": [
       "FloatProgress(value=0.0, bar_style='info', description='Progress:', layout=Layout(height='25px', width='50%'),…"
      ]
     },
     "metadata": {},
     "output_type": "display_data"
    },
    {
     "name": "stdout",
     "output_type": "stream",
     "text": [
      "predictions: org.apache.spark.sql.DataFrame = [similargrouplevel: string, category_name: string ... 8 more fields]\n",
      "root\n",
      " |-- similargrouplevel: string (nullable = true)\n",
      " |-- category_name: string (nullable = false)\n",
      " |-- query: string (nullable = true)\n",
      " |-- m1: double (nullable = true)\n",
      " |-- m2: double (nullable = true)\n",
      " |-- m3: double (nullable = true)\n",
      " |-- m4: double (nullable = true)\n",
      " |-- m5: double (nullable = true)\n",
      " |-- m6: double (nullable = true)\n",
      " |-- actual: double (nullable = false)\n",
      "\n"
     ]
    }
   ],
   "source": [
    "predictions = predictions.select(\"similargrouplevel\", \"category_name\", \"query\", \"m1\", \"m2\", \"m3\", \"m4\", \"m5\", \"m6\", \"actual\")\n",
    "predictions.printSchema"
   ]
  },
  {
   "cell_type": "code",
   "execution_count": 14,
   "metadata": {},
   "outputs": [
    {
     "data": {
      "application/vnd.jupyter.widget-view+json": {
       "model_id": "",
       "version_major": 2,
       "version_minor": 0
      },
      "text/plain": [
       "FloatProgress(value=0.0, bar_style='info', description='Progress:', layout=Layout(height='25px', width='50%'),…"
      ]
     },
     "metadata": {},
     "output_type": "display_data"
    }
   ],
   "source": [
    "DFToParquet.putDF(\"/data/ecomm/ajio/processed/inventory/integrationSimulator/predictions\", predictions)"
   ]
  },
  {
   "cell_type": "code",
   "execution_count": 15,
   "metadata": {},
   "outputs": [
    {
     "data": {
      "application/vnd.jupyter.widget-view+json": {
       "model_id": "",
       "version_major": 2,
       "version_minor": 0
      },
      "text/plain": [
       "FloatProgress(value=0.0, bar_style='info', description='Progress:', layout=Layout(height='25px', width='50%'),…"
      ]
     },
     "metadata": {},
     "output_type": "display_data"
    },
    {
     "name": "stdout",
     "output_type": "stream",
     "text": [
      "\u001b[1m\u001b[34mpredictions\u001b[0m: \u001b[1m\u001b[32morg.apache.spark.sql.DataFrame\u001b[0m = [similargrouplevel: string, category_name: string ... 8 more fields]\n",
      "root\n",
      " |-- similargrouplevel: string (nullable = true)\n",
      " |-- category_name: string (nullable = true)\n",
      " |-- query: string (nullable = true)\n",
      " |-- m1: double (nullable = true)\n",
      " |-- m2: double (nullable = true)\n",
      " |-- m3: double (nullable = true)\n",
      " |-- m4: double (nullable = true)\n",
      " |-- m5: double (nullable = true)\n",
      " |-- m6: double (nullable = true)\n",
      " |-- actual: double (nullable = true)\n",
      "\n"
     ]
    }
   ],
   "source": [
    "var predictions = ParquetToDF.getDF(\"/data/ecomm/ajio/processed/inventory/integrationSimulator/predictions\")\n",
    "predictions.printSchema"
   ]
  },
  {
   "cell_type": "code",
   "execution_count": 16,
   "metadata": {},
   "outputs": [
    {
     "data": {
      "application/vnd.jupyter.widget-view+json": {
       "model_id": "",
       "version_major": 2,
       "version_minor": 0
      },
      "text/plain": [
       "FloatProgress(value=0.0, bar_style='info', description='Progress:', layout=Layout(height='25px', width='50%'),…"
      ]
     },
     "metadata": {},
     "output_type": "display_data"
    },
    {
     "name": "stdout",
     "output_type": "stream",
     "text": [
      "+-----------------+------+\n",
      "|similargrouplevel| count|\n",
      "+-----------------+------+\n",
      "|        830216013|454092|\n",
      "|        830303011|311129|\n",
      "+-----------------+------+\n",
      "\n"
     ]
    }
   ],
   "source": [
    "predictions.na.drop.groupBy(\"similargrouplevel\").count.show"
   ]
  },
  {
   "cell_type": "code",
   "execution_count": 22,
   "metadata": {},
   "outputs": [
    {
     "data": {
      "application/vnd.jupyter.widget-view+json": {
       "model_id": "",
       "version_major": 2,
       "version_minor": 0
      },
      "text/plain": [
       "FloatProgress(value=0.0, bar_style='info', description='Progress:', layout=Layout(height='25px', width='50%'),…"
      ]
     },
     "metadata": {},
     "output_type": "display_data"
    },
    {
     "name": "stdout",
     "output_type": "stream",
     "text": [
      "+-----------------+-------------+--------------------------------------------+-------------------+-------------------+-------------------+-------------------+-------------------+-------------------+------+\n",
      "|similargrouplevel|category_name|query                                       |m1                 |m2                 |m3                 |m4                 |m5                 |m6                 |actual|\n",
      "+-----------------+-------------+--------------------------------------------+-------------------+-------------------+-------------------+-------------------+-------------------+-------------------+------+\n",
      "|830216013        |Men-Shirts   |bossini_pink_solid_2_#_classic              |9.482614755630493  |11.17599630355835  |12.983623385429382 |12.771461009979248 |19.449276208877563 |10.994883179664612 |3.0   |\n",
      "|830216013        |Men-Shirts   |arrow-sports_red_check_2_#_classic          |143.1906315088272  |204.89316129684448 |201.19756412506104 |197.51847159862518 |207.42465138435364 |205.17467546463013 |36.0  |\n",
      "|830216013        |Men-Shirts   |yovish_white_tropical_#_short sleeve_classic|5.964796662330627  |8.32237160205841   |8.988203883171082  |7.364275932312012  |7.5737879276275635 |5.9451600313186646 |4.0   |\n",
      "|830216013        |Men-Shirts   |flying-machine_navy_floral_#_#_classic      |0.03874204680323601|0.03874204680323601|0.03874204680323601|0.03874204680323601|0.03874204680323601|0.03874204680323601|0.0   |\n",
      "|830216013        |Men-Shirts   |ecko-unltd_black_#_3_full-length sleeve_#   |14.607053518295288 |23.137315273284912 |28.83323907852173  |48.4378981590271   |45.71300983428955  |43.49502658843994  |1.0   |\n",
      "+-----------------+-------------+--------------------------------------------+-------------------+-------------------+-------------------+-------------------+-------------------+-------------------+------+\n",
      "only showing top 5 rows\n",
      "\n"
     ]
    }
   ],
   "source": [
    "predictions.show(5, false)"
   ]
  },
  {
   "cell_type": "code",
   "execution_count": 23,
   "metadata": {},
   "outputs": [
    {
     "data": {
      "application/vnd.jupyter.widget-view+json": {
       "model_id": "",
       "version_major": 2,
       "version_minor": 0
      },
      "text/plain": [
       "FloatProgress(value=0.0, bar_style='info', description='Progress:', layout=Layout(height='25px', width='50%'),…"
      ]
     },
     "metadata": {},
     "output_type": "display_data"
    },
    {
     "name": "stdout",
     "output_type": "stream",
     "text": [
      "+-----------------+-------------+--------------------------------------------------+------------------+------------------+------------------+------------------+------------------+------------------+-------+\n",
      "|similargrouplevel|category_name|query                                             |m1                |m2                |m3                |m4                |m5                |m6                |actual |\n",
      "+-----------------+-------------+--------------------------------------------------+------------------+------------------+------------------+------------------+------------------+------------------+-------+\n",
      "|830216013        |Men-Shirts   |the-indian-garage-co_navy_#_2_full-length sleeve_#|16037.080436170101|16930.395792484283|16545.689509868622|17657.16510117054 |17583.962018013   |16794.849339723587|13581.0|\n",
      "|830303011        |Women-Kurtas |#_#_stripes_1_3-4th sleeve_straight               |8213.88771790266  |7903.296661674976 |8242.566283345222 |8104.708490490913 |8223.204407453537 |7793.466326653957 |6937.0 |\n",
      "|830303011        |Women-Kurtas |#_pink_embellished_#_#_#                          |5026.317359983921 |5092.650671899319 |5065.93611651659  |5067.209544837475 |4371.906790435314 |4187.657050073147 |3638.0 |\n",
      "|830303011        |Women-Kurtas |aviraa_yellow_#_1_3-4th sleeve_straight           |1319.9374635219574|982.6240735054016 |1012.60657954216  |1278.8459587097168|1228.6266841888428|1345.9526929855347|1091.0 |\n",
      "|830303011        |Women-Kurtas |#_#_embellished_2_sleeveless sleeve_#             |1080.2587158679962|1068.523052930832 |1020.870830476284 |928.2805390357971 |797.7770448923111 |876.3027582168579 |755.0  |\n",
      "+-----------------+-------------+--------------------------------------------------+------------------+------------------+------------------+------------------+------------------+------------------+-------+\n",
      "only showing top 5 rows\n",
      "\n"
     ]
    }
   ],
   "source": [
    "predictions.filter(col(\"m1\")>1000).show(5, false)"
   ]
  },
  {
   "cell_type": "markdown",
   "metadata": {},
   "source": [
    "### Metrics Computation for the generated predictions of m1"
   ]
  },
  {
   "cell_type": "code",
   "execution_count": 3,
   "metadata": {},
   "outputs": [
    {
     "data": {
      "application/vnd.jupyter.widget-view+json": {
       "model_id": "",
       "version_major": 2,
       "version_minor": 0
      },
      "text/plain": [
       "FloatProgress(value=0.0, bar_style='info', description='Progress:', layout=Layout(height='25px', width='50%'),…"
      ]
     },
     "metadata": {},
     "output_type": "display_data"
    },
    {
     "name": "stdout",
     "output_type": "stream",
     "text": [
      "\u001b[1m\u001b[34mpredictions\u001b[0m: \u001b[1m\u001b[32morg.apache.spark.sql.DataFrame\u001b[0m = [similargrouplevel: string, category_name: string ... 8 more fields]\n",
      "root\n",
      " |-- similargrouplevel: string (nullable = true)\n",
      " |-- category_name: string (nullable = true)\n",
      " |-- query: string (nullable = true)\n",
      " |-- m1: double (nullable = true)\n",
      " |-- m2: double (nullable = true)\n",
      " |-- m3: double (nullable = true)\n",
      " |-- m4: double (nullable = true)\n",
      " |-- m5: double (nullable = true)\n",
      " |-- m6: double (nullable = true)\n",
      " |-- actual: double (nullable = true)\n",
      "\n"
     ]
    }
   ],
   "source": [
    "var predictions = ParquetToDF.getDF(\"/data/ecomm/ajio/processed/inventory/integrationSimulator/predictions\")\n",
    "predictions.printSchema"
   ]
  },
  {
   "cell_type": "code",
   "execution_count": 7,
   "metadata": {},
   "outputs": [
    {
     "data": {
      "application/vnd.jupyter.widget-view+json": {
       "model_id": "",
       "version_major": 2,
       "version_minor": 0
      },
      "text/plain": [
       "FloatProgress(value=0.0, bar_style='info', description='Progress:', layout=Layout(height='25px', width='50%'),…"
      ]
     },
     "metadata": {},
     "output_type": "display_data"
    },
    {
     "name": "stdout",
     "output_type": "stream",
     "text": [
      "\u001b[1m\u001b[34moldQueryToNewQueryMap\u001b[0m: \u001b[1m\u001b[32morg.apache.spark.sql.DataFrame\u001b[0m = [query: string, template: string ... 2 more fields]\n",
      "queryLevelSigma: org.apache.spark.sql.DataFrame = [similargrouplevel: int, stddev: double ... 1 more field]\n",
      "root\n",
      " |-- similargrouplevel: integer (nullable = true)\n",
      " |-- stddev: double (nullable = true)\n",
      " |-- query: string (nullable = true)\n",
      "\n"
     ]
    }
   ],
   "source": [
    "var oldQueryToNewQueryMap = ParquetToDF.getDF(\"/data/Archive/inventory/2023-04-30/queryProductMap_colorfamily_pricebucket_styletype_pattern_sleeve_brandname/attributesQueryInfo/final\").select(\"query\",\"template\",\"similargrouplevel\",\"newQuery\")\n",
    "queryLevelSigma = queryLevelSigma.join(oldQueryToNewQueryMap, Seq(\"similargrouplevel\", \"query\", \"template\")).drop(\"query\", \"template\").withColumnRenamed(\"newQuery\", \"query\")\n",
    "queryLevelSigma.printSchema"
   ]
  },
  {
   "cell_type": "code",
   "execution_count": 8,
   "metadata": {},
   "outputs": [
    {
     "data": {
      "application/vnd.jupyter.widget-view+json": {
       "model_id": "",
       "version_major": 2,
       "version_minor": 0
      },
      "text/plain": [
       "FloatProgress(value=0.0, bar_style='info', description='Progress:', layout=Layout(height='25px', width='50%'),…"
      ]
     },
     "metadata": {},
     "output_type": "display_data"
    },
    {
     "name": "stdout",
     "output_type": "stream",
     "text": [
      "predictions: org.apache.spark.sql.DataFrame = [similargrouplevel: string, query: string ... 2 more fields]\n",
      "predictions: org.apache.spark.sql.DataFrame = [similargrouplevel: string, query: string ... 5 more fields]\n",
      "root\n",
      " |-- similargrouplevel: string (nullable = true)\n",
      " |-- query: string (nullable = true)\n",
      " |-- predicted: double (nullable = true)\n",
      " |-- actual: double (nullable = true)\n",
      " |-- stddev: double (nullable = true)\n",
      " |-- lowerBound: double (nullable = true)\n",
      " |-- upperBound: double (nullable = true)\n",
      "\n"
     ]
    }
   ],
   "source": [
    "predictions = predictions.select(col(\"similargrouplevel\"), col(\"query\"), col(\"m1\") as \"predicted\", col(\"actual\"))\n",
    "\n",
    "predictions = (\n",
    "    predictions.join(queryLevelSigma, Seq(\"similargrouplevel\", \"query\"))\n",
    "    .withColumn(\"lowerBound\", col(\"predicted\") - (lit(2.0) * col(\"stddev\")))\n",
    "    .withColumn(\"upperBound\", col(\"predicted\") + (lit(2.0) * col(\"stddev\")))\n",
    "    .transform(thresholdColumns(Array(\"lowerBound\")))\n",
    ")\n",
    "\n",
    "predictions.printSchema"
   ]
  },
  {
   "cell_type": "code",
   "execution_count": 13,
   "metadata": {},
   "outputs": [
    {
     "data": {
      "application/vnd.jupyter.widget-view+json": {
       "model_id": "",
       "version_major": 2,
       "version_minor": 0
      },
      "text/plain": [
       "FloatProgress(value=0.0, bar_style='info', description='Progress:', layout=Layout(height='25px', width='50%'),…"
      ]
     },
     "metadata": {},
     "output_type": "display_data"
    },
    {
     "name": "stdout",
     "output_type": "stream",
     "text": [
      "\u001b[1m\u001b[34mres21\u001b[0m: \u001b[1m\u001b[32mLong\u001b[0m = 765221\n"
     ]
    }
   ],
   "source": [
    "predictions.count"
   ]
  },
  {
   "cell_type": "code",
   "execution_count": 11,
   "metadata": {},
   "outputs": [
    {
     "data": {
      "application/vnd.jupyter.widget-view+json": {
       "model_id": "",
       "version_major": 2,
       "version_minor": 0
      },
      "text/plain": [
       "FloatProgress(value=0.0, bar_style='info', description='Progress:', layout=Layout(height='25px', width='50%'),…"
      ]
     },
     "metadata": {},
     "output_type": "display_data"
    },
    {
     "name": "stdout",
     "output_type": "stream",
     "text": [
      "import ai.couture.obelisk.retail.usecases.inventoryprediction.Metrics.computeAllMetrics\n",
      "\u001b[1m\u001b[34mmetricsMS\u001b[0m: \u001b[1m\u001b[32morg.apache.spark.sql.Dataset[org.apache.spark.sql.Row]\u001b[0m = [metric: string, value: double]\n",
      "\u001b[1m\u001b[34mmetricsWK\u001b[0m: \u001b[1m\u001b[32morg.apache.spark.sql.Dataset[org.apache.spark.sql.Row]\u001b[0m = [metric: string, value: double]\n",
      "root\n",
      " |-- metric: string (nullable = true)\n",
      " |-- value: double (nullable = false)\n",
      "\n",
      "root\n",
      " |-- metric: string (nullable = true)\n",
      " |-- value: double (nullable = false)\n",
      "\n"
     ]
    }
   ],
   "source": [
    "import ai.couture.obelisk.retail.usecases.inventoryprediction.Metrics.computeAllMetrics\n",
    "\n",
    "var metricsMS = predictions.filter(col(\"similargrouplevel\") === \"830216013\").transform(computeAllMetrics)\n",
    "var metricsWK = predictions.filter(col(\"similargrouplevel\") === \"830303011\").transform(computeAllMetrics)\n",
    "metricsMS.printSchema\n",
    "metricsWK.printSchema"
   ]
  },
  {
   "cell_type": "code",
   "execution_count": 12,
   "metadata": {},
   "outputs": [
    {
     "data": {
      "application/vnd.jupyter.widget-view+json": {
       "model_id": "",
       "version_major": 2,
       "version_minor": 0
      },
      "text/plain": [
       "FloatProgress(value=0.0, bar_style='info', description='Progress:', layout=Layout(height='25px', width='50%'),…"
      ]
     },
     "metadata": {},
     "output_type": "display_data"
    },
    {
     "name": "stdout",
     "output_type": "stream",
     "text": [
      "MenShirts\n",
      "+-------------------------------------------------+--------------------+\n",
      "|metric                                           |value               |\n",
      "+-------------------------------------------------+--------------------+\n",
      "|Mean Absolute Percent Error                      |216.87214674162075  |\n",
      "|Bias                                             |1.0341494563089509E7|\n",
      "|Hit Rate                                         |0.6030694220554426  |\n",
      "|Root Mean Square Error for 25.0 percentile error |0.7321321348462142  |\n",
      "|Root Mean Square Error for 50.0 percentile error |1.2777653048670148  |\n",
      "|Root Mean Square Error for 75.0 percentile error |3.1086104050274006  |\n",
      "|Root Mean Square Error for 90.0 percentile error |8.96610211138317    |\n",
      "|Root Mean Square Error for 100.0 percentile error|400.190129625687    |\n",
      "+-------------------------------------------------+--------------------+\n",
      "\n",
      "\n",
      "WomenKurtas\n",
      "+-------------------------------------------------+------------------+\n",
      "|metric                                           |value             |\n",
      "+-------------------------------------------------+------------------+\n",
      "|Mean Absolute Percent Error                      |205.9804035812856 |\n",
      "|Bias                                             |5987427.304178324 |\n",
      "|Hit Rate                                         |0.6342835286970999|\n",
      "|Root Mean Square Error for 25.0 percentile error |0.6242682565608278|\n",
      "|Root Mean Square Error for 50.0 percentile error |1.1238994384228966|\n",
      "|Root Mean Square Error for 75.0 percentile error |2.6647755392413637|\n",
      "|Root Mean Square Error for 90.0 percentile error |9.004432093200647 |\n",
      "|Root Mean Square Error for 100.0 percentile error|517.8682752383389 |\n",
      "+-------------------------------------------------+------------------+\n",
      "\n"
     ]
    }
   ],
   "source": [
    "println(\"MenShirts\")\n",
    "metricsMS.show(false)\n",
    "println(\"\\nWomenKurtas\")\n",
    "metricsWK.show(false)"
   ]
  },
  {
   "cell_type": "code",
   "execution_count": 14,
   "metadata": {},
   "outputs": [
    {
     "data": {
      "application/vnd.jupyter.widget-view+json": {
       "model_id": "",
       "version_major": 2,
       "version_minor": 0
      },
      "text/plain": [
       "FloatProgress(value=0.0, bar_style='info', description='Progress:', layout=Layout(height='25px', width='50%'),…"
      ]
     },
     "metadata": {},
     "output_type": "display_data"
    },
    {
     "name": "stdout",
     "output_type": "stream",
     "text": [
      "Only for queries that had observed sales on test month\n",
      "\n",
      "MenShirts\n",
      "+-------------------------------------------------+------------------+\n",
      "|metric                                           |value             |\n",
      "+-------------------------------------------------+------------------+\n",
      "|Mean Absolute Percent Error                      |216.87214674162075|\n",
      "|Bias                                             |9748222.00341982  |\n",
      "|Hit Rate                                         |0.7419049197183877|\n",
      "|Root Mean Square Error for 25.0 percentile error |1.017199049249959 |\n",
      "|Root Mean Square Error for 50.0 percentile error |3.0799378948907123|\n",
      "|Root Mean Square Error for 75.0 percentile error |8.927414844545458 |\n",
      "|Root Mean Square Error for 90.0 percentile error |23.51238189886229 |\n",
      "|Root Mean Square Error for 100.0 percentile error|555.827300576082  |\n",
      "+-------------------------------------------------+------------------+\n",
      "\n",
      "\n",
      "WomenKurtas\n",
      "+-------------------------------------------------+------------------+\n",
      "|metric                                           |value             |\n",
      "+-------------------------------------------------+------------------+\n",
      "|Mean Absolute Percent Error                      |205.9804035812856 |\n",
      "|Bias                                             |5580660.628505733 |\n",
      "|Hit Rate                                         |0.8094503740378501|\n",
      "|Root Mean Square Error for 25.0 percentile error |0.9567549417354132|\n",
      "|Root Mean Square Error for 50.0 percentile error |3.01189204752965  |\n",
      "|Root Mean Square Error for 75.0 percentile error |9.967640105570492 |\n",
      "|Root Mean Square Error for 90.0 percentile error |33.00345510863258 |\n",
      "|Root Mean Square Error for 100.0 percentile error|751.2074642828087 |\n",
      "+-------------------------------------------------+------------------+\n",
      "\n"
     ]
    }
   ],
   "source": [
    "println(\"Only for queries that had observed sales on test month\")\n",
    "println(\"\\nMenShirts\")\n",
    "predictions.filter(col(\"similargrouplevel\") === \"830216013\").filter(col(\"actual\") > 0).transform(computeAllMetrics).show(false)\n",
    "println(\"\\nWomenKurtas\")\n",
    "predictions.filter(col(\"similargrouplevel\") === \"830303011\").filter(col(\"actual\") > 0).transform(computeAllMetrics).show(false)"
   ]
  }
 ],
 "metadata": {
  "kernelspec": {
   "display_name": "Spark",
   "language": "",
   "name": "sparkkernel"
  },
  "language_info": {
   "codemirror_mode": "text/x-scala",
   "mimetype": "text/x-scala",
   "name": "scala",
   "pygments_lexer": "scala"
  }
 },
 "nbformat": 4,
 "nbformat_minor": 4
}
