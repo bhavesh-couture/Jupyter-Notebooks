{
 "cells": [
  {
   "cell_type": "code",
   "execution_count": 1,
   "metadata": {
    "vscode": {
     "languageId": "python"
    }
   },
   "outputs": [
    {
     "data": {
      "text/html": [
       "Current session configs: <tt>{'conf': {'spark.app.name': 'Bhavesh_Inventory_Metrics', 'spark.yarn.queue': 'default', 'spark.jars': '/apps/Jars/obelisk-retail-legos-Bhavesh.jar,/apps/Jars/obelisk-retail-usecases-Bhavesh.jar,/apps/Jars/mysql-connector-java-5.1.40.jar', 'spark.driver.extraJavaOptions': '-Dscala.color', 'spark.driver.memory': '3g', 'spark.executor.memory': '3g', 'spark.executor.instances': '4'}, 'kind': 'spark'}</tt><br>"
      ],
      "text/plain": [
       "<IPython.core.display.HTML object>"
      ]
     },
     "metadata": {},
     "output_type": "display_data"
    },
    {
     "data": {
      "text/html": [
       "No active sessions."
      ],
      "text/plain": [
       "<IPython.core.display.HTML object>"
      ]
     },
     "metadata": {},
     "output_type": "display_data"
    }
   ],
   "source": [
    "%%configure -f \n",
    "{\n",
    "    \"conf\":\n",
    "    {\n",
    "        \"spark.app.name\":\"Bhavesh_Inventory_Metrics\",\n",
    "        \"spark.yarn.queue\": \"default\",\n",
    "        \"spark.jars\": \"/apps/Jars/obelisk-retail-legos-Bhavesh.jar,/apps/Jars/obelisk-retail-usecases-Bhavesh.jar,/apps/Jars/mysql-connector-java-5.1.40.jar\",\n",
    "        \"spark.driver.extraJavaOptions\": \"-Dscala.color\",\n",
    "        \"spark.driver.memory\": \"3g\",\n",
    "        \"spark.executor.memory\": \"3g\",\n",
    "        \"spark.executor.instances\": \"4\"\n",
    "    }\n",
    "}"
   ]
  },
  {
   "cell_type": "code",
   "execution_count": 2,
   "metadata": {},
   "outputs": [
    {
     "name": "stdout",
     "output_type": "stream",
     "text": [
      "Starting Spark application\n"
     ]
    },
    {
     "data": {
      "text/html": [
       "<table>\n",
       "<tr><th>ID</th><th>YARN Application ID</th><th>Kind</th><th>State</th><th>Spark UI</th><th>Driver log</th><th>Current session?</th></tr><tr><td>1353</td><td>application_1685341929318_1929</td><td>spark</td><td>idle</td><td><a target=\"_blank\" href=\"http://JMNGD1BAF370C10:8088/proxy/application_1685341929318_1929/\">Link</a></td><td><a target=\"_blank\" href=\"http://JMNGD1BAE210V09:8042/node/containerlogs/container_e112_1685341929318_1929_01_000002/couture\">Link</a></td><td>✔</td></tr></table>"
      ],
      "text/plain": [
       "<IPython.core.display.HTML object>"
      ]
     },
     "metadata": {},
     "output_type": "display_data"
    },
    {
     "data": {
      "application/vnd.jupyter.widget-view+json": {
       "model_id": "",
       "version_major": 2,
       "version_minor": 0
      },
      "text/plain": [
       "FloatProgress(value=0.0, bar_style='info', description='Progress:', layout=Layout(height='25px', width='50%'),…"
      ]
     },
     "metadata": {},
     "output_type": "display_data"
    },
    {
     "name": "stdout",
     "output_type": "stream",
     "text": [
      "SparkSession available as 'spark'.\n"
     ]
    },
    {
     "data": {
      "application/vnd.jupyter.widget-view+json": {
       "model_id": "",
       "version_major": 2,
       "version_minor": 0
      },
      "text/plain": [
       "FloatProgress(value=0.0, bar_style='info', description='Progress:', layout=Layout(height='25px', width='50%'),…"
      ]
     },
     "metadata": {},
     "output_type": "display_data"
    },
    {
     "name": "stdout",
     "output_type": "stream",
     "text": [
      "import ai.couture.obelisk.commons.Constants._\n",
      "import ai.couture.obelisk.commons.Constants.STANDARD_COL_NAMES._\n",
      "import ai.couture.obelisk.commons.Constants._\n",
      "import ai.couture.obelisk.commons.io._\n",
      "import ai.couture.obelisk.commons.utils.DateTimeUtil._\n",
      "import org.apache.spark.sql._\n",
      "import org.apache.spark.sql.expressions._\n",
      "import org.apache.spark.sql.functions._\n",
      "import org.apache.spark.sql.types._\n",
      "import spark.implicits._\n"
     ]
    }
   ],
   "source": [
    "import ai.couture.obelisk.commons.Constants._\n",
    "import ai.couture.obelisk.commons.Constants.STANDARD_COL_NAMES._\n",
    "import ai.couture.obelisk.commons.Constants._\n",
    "import ai.couture.obelisk.commons.io._\n",
    "import ai.couture.obelisk.commons.utils.DateTimeUtil._\n",
    "import org.apache.spark.sql._\n",
    "import org.apache.spark.sql.expressions._\n",
    "import org.apache.spark.sql.functions._\n",
    "import org.apache.spark.sql.types._\n",
    "import spark.implicits._"
   ]
  },
  {
   "cell_type": "markdown",
   "metadata": {},
   "source": [
    "### Local Metrics"
   ]
  },
  {
   "cell_type": "code",
   "execution_count": 14,
   "metadata": {},
   "outputs": [
    {
     "data": {
      "application/vnd.jupyter.widget-view+json": {
       "model_id": "",
       "version_major": 2,
       "version_minor": 0
      },
      "text/plain": [
       "FloatProgress(value=0.0, bar_style='info', description='Progress:', layout=Layout(height='25px', width='50%'),…"
      ]
     },
     "metadata": {},
     "output_type": "display_data"
    },
    {
     "name": "stdout",
     "output_type": "stream",
     "text": [
      "\u001b[1m\u001b[34mthresholdColumns\u001b[0m: \u001b[1m\u001b[32m(columns: Array[String], minThreshold: Double, maxThreshold: Double)(df: org.apache.spark.sql.DataFrame)org.apache.spark.sql.DataFrame\u001b[0m\n",
      "\u001b[1m\u001b[34mrunDate\u001b[0m: \u001b[1m\u001b[32mString\u001b[0m = 2023-04-30\n",
      "\u001b[1m\u001b[34mbaseDir\u001b[0m: \u001b[1m\u001b[32mString\u001b[0m = /data/Archive/bhavesh/InventoryPrediction\n",
      "\u001b[1m\u001b[34mrunDir\u001b[0m: \u001b[1m\u001b[32mString\u001b[0m = /data/Archive/bhavesh/InventoryPrediction/2023-04-30\n",
      "\u001b[1m\u001b[34msuffix\u001b[0m: \u001b[1m\u001b[32mString\u001b[0m = colorfamily_pricebucket_styletype_pattern_sleeve_brandname\n",
      "\u001b[1m\u001b[34mprodLevelSigma\u001b[0m: \u001b[1m\u001b[32morg.apache.spark.sql.DataFrame\u001b[0m = [productid: string, stddev: double]\n",
      "\u001b[1m\u001b[34mqueryLevelSigma\u001b[0m: \u001b[1m\u001b[32morg.apache.spark.sql.DataFrame\u001b[0m = [query: string, stddev: double ... 2 more fields]\n",
      "\u001b[1m\u001b[34mproductQueryMap\u001b[0m: \u001b[1m\u001b[32morg.apache.spark.sql.Dataset[org.apache.spark.sql.Row]\u001b[0m = [query: string, productid: string ... 2 more fields]\n",
      "\u001b[1m\u001b[34mconvertLocalToRequiredFormat\u001b[0m: \u001b[1m\u001b[32m(dateForWhichPredictionsAreMade: String, basePath: String, level: String, localFile: String, fileType: String, model: String)Unit\u001b[0m\n"
     ]
    }
   ],
   "source": [
    "def thresholdColumns(columns: Array[String], minThreshold: Double = 0, maxThreshold: Double = Double.PositiveInfinity)(df: DataFrame): DataFrame = {\n",
    "\n",
    "    var scaledDF = df\n",
    "    columns.foreach(\n",
    "    column => {\n",
    "    scaledDF = scaledDF.withColumn(column,\n",
    "      when(col(column) > maxThreshold, lit(maxThreshold)).otherwise(col(column)))\n",
    "      .withColumn(column, when(col(column) < minThreshold, lit(minThreshold)).otherwise(col(column)))\n",
    "    })\n",
    "    scaledDF\n",
    "}\n",
    "\n",
    "var runDate: String = \"2023-04-30\"\n",
    "var baseDir: String = \"/data/Archive/bhavesh/InventoryPrediction\"\n",
    "var runDir: String = s\"$baseDir/$runDate\"\n",
    "var suffix: String = \"colorfamily_pricebucket_styletype_pattern_sleeve_brandname\"\n",
    "var prodLevelSigma = ParquetToDF.getDF(s\"$runDir/Statistics12Months/product\").select(PRODUCTID, \"stddev\")\n",
    "var queryLevelSigma = ParquetToDF.getDF(s\"$runDir/Statistics12Months/query\").select(\"query\", \"stddev\", SIMILAR_GROUP_LEVEL, \"template\")\n",
    "var productQueryMap = ParquetToDF.getDF(s\"$runDir/QueryProductMapping/suffix=$suffix\").filter(col(\"query\") =!= \"\")\n",
    "\n",
    "def convertLocalToRequiredFormat(dateForWhichPredictionsAreMade: String, basePath: String, level: String, localFile: String, fileType: String = \"csv\", model: String = \"lr\"): Unit = {\n",
    "    \n",
    "    var actual = ParquetToDF.getDF(s\"/data/Archive/bhavesh/InventoryPrediction/actualDataForPredictionPeriod/date=$dateForWhichPredictionsAreMade/sales\")\n",
    "    var fileName: String = if(level == \"product\"){\n",
    "       \"productLevelPredictions\"\n",
    "    } else{\n",
    "        \"queryAggregatedPredictions\"\n",
    "    }\n",
    "    def doConversion(brick: String, brickId: String): DataFrame = {\n",
    "        var localPredictionsPath = s\"$basePath/$brick/$localFile\"\n",
    "        var df = if(fileType==\"csv\"){\n",
    "            CSVToDF.getDF(localPredictionsPath, inferSchema = true)\n",
    "        }\n",
    "        else{\n",
    "            ParquetToDF.getDF(localPredictionsPath)\n",
    "        }\n",
    "\n",
    "        \n",
    "        df = df\n",
    "        .withColumn(SIMILAR_GROUP_LEVEL, lit(brickId))\n",
    "        .withColumn(\"model\", lit(model))\n",
    "        .withColumn(\"predicted\", col(\"predictedyQuantity\"))\n",
    "        .select(PRODUCTID, SIMILAR_GROUP_LEVEL, \"predicted\", \"model\")\n",
    "        \n",
    "        if(level == \"product\") {\n",
    "            df.transform(thresholdColumns(Array(\"predicted\")))\n",
    "            .join(prodLevelSigma, Seq(PRODUCTID))\n",
    "            .withColumn(\"lowerBound\", col(\"predicted\") - (lit(2.0) * col(\"stddev\")))\n",
    "            .withColumn(\"upperBound\", col(\"predicted\") + (lit(2.0) * col(\"stddev\")))\n",
    "            .transform(thresholdColumns(Array(\"lowerBound\")))\n",
    "        }\n",
    "        else {\n",
    "            df.transform(thresholdColumns(Array(\"predicted\")))\n",
    "            .join(productQueryMap, Seq(SIMILAR_GROUP_LEVEL, PRODUCTID))\n",
    "            .groupBy(\"model\", \"query\", SIMILAR_GROUP_LEVEL, \"template\")\n",
    "            .agg(sum(\"predicted\") as \"predicted\")\n",
    "            .join(queryLevelSigma, Seq(SIMILAR_GROUP_LEVEL, \"query\", \"template\"))\n",
    "            .withColumn(\"lowerBound\", col(\"predicted\") - (lit(2.0) * col(\"stddev\")))\n",
    "            .withColumn(\"upperBound\", col(\"predicted\") + (lit(2.0) * col(\"stddev\")))\n",
    "            .transform(thresholdColumns(Array(\"lowerBound\")))\n",
    "        }\n",
    "    }\n",
    "    var menShirts = doConversion(\"menShirts\", \"830216013\")\n",
    "    DFToParquet.putDF(s\"$basePath/menShirts/$fileName\", menShirts, partitionedColumn=\"model\")\n",
    "    var womenKurtas = doConversion(\"womenKurtas\", \"830303011\")\n",
    "    DFToParquet.putDF(s\"$basePath/womenKurtas/$fileName\", womenKurtas, partitionedColumn=\"model\")\n",
    "}"
   ]
  },
  {
   "cell_type": "code",
   "execution_count": 38,
   "metadata": {},
   "outputs": [
    {
     "data": {
      "application/vnd.jupyter.widget-view+json": {
       "model_id": "",
       "version_major": 2,
       "version_minor": 0
      },
      "text/plain": [
       "FloatProgress(value=0.0, bar_style='info', description='Progress:', layout=Layout(height='25px', width='50%'),…"
      ]
     },
     "metadata": {},
     "output_type": "display_data"
    },
    {
     "name": "stdout",
     "output_type": "stream",
     "text": [
      "\u001b[1m\u001b[34mconvertLocal\u001b[0m: \u001b[1m\u001b[32m(exp: String, date: String, filename: String, format: String, baseDir: String, model: String)Unit\u001b[0m\n"
     ]
    }
   ],
   "source": [
    "def convertLocal(exp: String, date: String, filename: String, format: String, baseDir: String, model: String = \"lr\"){\n",
    "    convertLocalToRequiredFormat(date, s\"$baseDir/experiments/exp_$exp/predictions/ModelForEachBrickProductLevel\", \"product\", filename, format, model = model)\n",
    "    convertLocalToRequiredFormat(date, s\"$baseDir/experiments/exp_$exp/predictions/ModelForEachBrickProductLevel\", \"query\", filename, format, model = model)\n",
    "}"
   ]
  },
  {
   "cell_type": "code",
   "execution_count": 41,
   "metadata": {},
   "outputs": [
    {
     "data": {
      "application/vnd.jupyter.widget-view+json": {
       "model_id": "",
       "version_major": 2,
       "version_minor": 0
      },
      "text/plain": [
       "FloatProgress(value=0.0, bar_style='info', description='Progress:', layout=Layout(height='25px', width='50%'),…"
      ]
     },
     "metadata": {},
     "output_type": "display_data"
    }
   ],
   "source": [
    "convertLocal(\n",
    "    exp = \"neural_network_dropout_lr_0.0005\",\n",
    "    date = \"2023-05-01\",\n",
    "    filename = \"predictions\",\n",
    "    format = \"parquet\",\n",
    "    baseDir = \"/data/Archive/bhavesh/InventoryPrediction/2023-04-30\",\n",
    "    model = \"neural_network\"\n",
    ")"
   ]
  },
  {
   "cell_type": "markdown",
   "metadata": {},
   "source": [
    "### Metrics Show"
   ]
  },
  {
   "cell_type": "code",
   "execution_count": 12,
   "metadata": {},
   "outputs": [
    {
     "data": {
      "application/vnd.jupyter.widget-view+json": {
       "model_id": "",
       "version_major": 2,
       "version_minor": 0
      },
      "text/plain": [
       "FloatProgress(value=0.0, bar_style='info', description='Progress:', layout=Layout(height='25px', width='50%'),…"
      ]
     },
     "metadata": {},
     "output_type": "display_data"
    },
    {
     "name": "stdout",
     "output_type": "stream",
     "text": [
      "\u001b[1m\u001b[34mmetricsShow\u001b[0m: \u001b[1m\u001b[32m(exp: String)Unit\u001b[0m\n"
     ]
    }
   ],
   "source": [
    "def metricsShow(exp: String): Unit = {\n",
    "    var pl = CSVToDF.getDF(s\"/data/Archive/bhavesh/InventoryPrediction/2023-04-30/experiments/exp_${exp}/metrics/productLevelModelForEachBrick/productLevel\", inferSchema=true).orderBy(\"model\", \"similargrouplevel\").drop(DATE).persist()\n",
    "    pl.printSchema\n",
    "\n",
    "    var show = pl.orderBy(\"metric\").groupBy(\"model\", \"metric\").pivot(\"similargrouplevel\").agg(first(\"value\")).orderBy(\"model\", \"metric\").withColumn(\"final\", concat(lit(\"Men Shirts: \"), col(\"830216013\"), lit(\"\\n\"), lit(\"Women Kurtas: \"), col(\"830303011\"))).groupBy(\"model\").pivot(\"metric\").agg(first(\"final\") as \"final\").persist()\n",
    "    show.orderBy(\"model\").show(false)\n",
    "    // show.orderBy(\"model\").drop(\"model\").show(false)\n",
    "    DFToCSV.putDF(\"/data/Archive/bhavesh/InventoryPrediction/temp/ip/pl_show\", show.orderBy(\"model\").coalesce(1))\n",
    "    pl.unpersist()\n",
    "\n",
    "    var ql = CSVToDF.getDF(s\"/data/Archive/bhavesh/InventoryPrediction/2023-04-30/experiments/exp_${exp}/metrics/productLevelModelForEachBrick/queryLevel\", inferSchema=true).orderBy(\"model\", \"similargrouplevel\").drop(DATE).persist()\n",
    "    ql.printSchema\n",
    "\n",
    "    show = ql.orderBy(\"metric\").groupBy(\"model\", \"metric\").pivot(\"similargrouplevel\").agg(first(\"value\")).orderBy(\"model\", \"metric\").withColumn(\"final\", concat(lit(\"Men Shirts: \"), col(\"830216013\"), lit(\"\\n\"), lit(\"Women Kurtas: \"), col(\"830303011\"))).groupBy(\"model\").pivot(\"metric\").agg(first(\"final\") as \"final\").persist()\n",
    "    show.orderBy(\"model\").show(false)\n",
    "    // show.orderBy(\"model\").drop(\"model\").show(false)\n",
    "    DFToCSV.putDF(\"/data/Archive/bhavesh/InventoryPrediction/temp/ip/ql_show\", show.orderBy(\"model\").coalesce(1))\n",
    "    ql.unpersist()\n",
    "}"
   ]
  },
  {
   "cell_type": "code",
   "execution_count": 28,
   "metadata": {},
   "outputs": [
    {
     "data": {
      "application/vnd.jupyter.widget-view+json": {
       "model_id": "",
       "version_major": 2,
       "version_minor": 0
      },
      "text/plain": [
       "FloatProgress(value=0.0, bar_style='info', description='Progress:', layout=Layout(height='25px', width='50%'),…"
      ]
     },
     "metadata": {},
     "output_type": "display_data"
    },
    {
     "name": "stdout",
     "output_type": "stream",
     "text": [
      "\u001b[1m\u001b[34mql\u001b[0m: \u001b[1m\u001b[32morg.apache.spark.sql.Dataset[org.apache.spark.sql.Row]\u001b[0m = [metric: string, value: string ... 1 more field]\n",
      "root\n",
      " |-- metric: string (nullable = true)\n",
      " |-- value: string (nullable = true)\n",
      " |-- similargrouplevel: integer (nullable = true)\n",
      "\n",
      "\u001b[1m\u001b[34mshow\u001b[0m: \u001b[1m\u001b[32morg.apache.spark.sql.Dataset[org.apache.spark.sql.Row]\u001b[0m = [model: string, Bias: string ... 7 more fields]\n",
      "+--------+--------------------+--------------------+---------------------------+-------------------------------------------------+------------------------------------------------+------------------------------------------------+------------------------------------------------+------------------------------------------------+\n",
      "|   model|                Bias|            Hit Rate|Mean Absolute Percent Error|Root Mean Square Error for 100.0 percentile error|Root Mean Square Error for 25.0 percentile error|Root Mean Square Error for 50.0 percentile error|Root Mean Square Error for 75.0 percentile error|Root Mean Square Error for 90.0 percentile error|\n",
      "+--------+--------------------+--------------------+---------------------------+-------------------------------------------------+------------------------------------------------+------------------------------------------------+------------------------------------------------+------------------------------------------------+\n",
      "|combined|Men Shirts: 27562...|Men Shirts: 0.756...|       Men Shirts: 227.8...|                             Men Shirts: 547.3...|                            Men Shirts: 0.876...|                            Men Shirts: 2.697...|                            Men Shirts: 7.969...|                            Men Shirts: 21.13...|\n",
      "+--------+--------------------+--------------------+---------------------------+-------------------------------------------------+------------------------------------------------+------------------------------------------------+------------------------------------------------+------------------------------------------------+\n",
      "\n",
      "\u001b[1m\u001b[34mres37\u001b[0m: \u001b[1m\u001b[32morg.apache.spark.sql.Dataset[org.apache.spark.sql.Row]\u001b[0m = [metric: string, value: string ... 1 more field]\n"
     ]
    }
   ],
   "source": [
    "var ql = CSVToDF.getDF(\"/data/Archive/bhavesh/InventoryPrediction/2023-04-30/experiments/combined/nn_crostonsba/metrics/date=2023-05-01\").orderBy(\"similargrouplevel\").persist()\n",
    "ql.printSchema\n",
    "var show = ql.groupBy(\"metric\").pivot(\"similargrouplevel\").agg(first(\"value\")).orderBy(\"metric\").withColumn(\"final\", concat(lit(\"Men Shirts: \"), col(\"830216013\"), lit(\"\\n\"), lit(\"Women Kurtas: \"), col(\"830303011\"))).withColumn(\"model\", lit(\"combined\")).groupBy(\"model\").pivot(\"metric\").agg(first(\"final\") as \"final\").persist()\n",
    "show.show()\n",
    "DFToCSV.putDF(\"/data/Archive/bhavesh/InventoryPrediction/temp/ip/ql_show\", show.coalesce(1))\n",
    "ql.unpersist()"
   ]
  },
  {
   "cell_type": "code",
   "execution_count": 13,
   "metadata": {},
   "outputs": [
    {
     "data": {
      "application/vnd.jupyter.widget-view+json": {
       "model_id": "",
       "version_major": 2,
       "version_minor": 0
      },
      "text/plain": [
       "FloatProgress(value=0.0, bar_style='info', description='Progress:', layout=Layout(height='25px', width='50%'),…"
      ]
     },
     "metadata": {},
     "output_type": "display_data"
    },
    {
     "name": "stdout",
     "output_type": "stream",
     "text": [
      "\u001b[1m\u001b[34mexp_code\u001b[0m: \u001b[1m\u001b[32mString\u001b[0m = 1\n",
      "root\n",
      " |-- metric: string (nullable = true)\n",
      " |-- value: double (nullable = true)\n",
      " |-- model: string (nullable = true)\n",
      " |-- similargrouplevel: integer (nullable = true)\n",
      "\n",
      "+-----+----------------------------------------------------------------+---------------------------------------------------------------+---------------------------------------------------------------+--------------------------------------------------------------+---------------------------------------------------------------+--------------------------------------------------------------+--------------------------------------------------------------+---------------------------------------------------------------+\n",
      "|model|Bias                                                            |Hit Rate                                                       |Mean Absolute Percent Error                                    |Root Mean Square Error for 100.0 percentile error             |Root Mean Square Error for 25.0 percentile error               |Root Mean Square Error for 50.0 percentile error              |Root Mean Square Error for 75.0 percentile error              |Root Mean Square Error for 90.0 percentile error               |\n",
      "+-----+----------------------------------------------------------------+---------------------------------------------------------------+---------------------------------------------------------------+--------------------------------------------------------------+---------------------------------------------------------------+--------------------------------------------------------------+--------------------------------------------------------------+---------------------------------------------------------------+\n",
      "|dt   |Men Shirts: 358680.0\n",
      "Women Kurtas: 50732.0                      |Men Shirts: 0.7131995133819952\n",
      "Women Kurtas: 0.761813669734257 |Men Shirts: 288.02869250395304\n",
      "Women Kurtas: 199.38944894528183|Men Shirts: 117.95432942065088\n",
      "Women Kurtas: 135.2835791181993|Men Shirts: 0.6979558351377503\n",
      "Women Kurtas: 0.6910805069854924|Men Shirts: 1.539549431506099\n",
      "Women Kurtas: 1.5127680434503736|Men Shirts: 4.2760323661821795\n",
      "Women Kurtas: 4.079790176903322|Men Shirts: 10.853577223490781\n",
      "Women Kurtas: 13.548841896189549|\n",
      "|lr   |Men Shirts: 322409.12574267696\n",
      "Women Kurtas: -46218.66469448188 |Men Shirts: 0.6417579075425791\n",
      "Women Kurtas: 0.5605418260779651|Men Shirts: 263.68327117029247\n",
      "Women Kurtas: 456.85551243684523|Men Shirts: 83.55292718256116\n",
      "Women Kurtas: 109.02005330295863|Men Shirts: 0.9687895656074375\n",
      "Women Kurtas: 1.8574571509779652|Men Shirts: 2.282678547676126\n",
      "Women Kurtas: 5.091258253580755 |Men Shirts: 4.953108271270103\n",
      "Women Kurtas: 10.109213949499837|Men Shirts: 10.253897377112194\n",
      "Women Kurtas: 16.11177058992122 |\n",
      "|xgb  |Men Shirts: 238539.80753745517\n",
      "Women Kurtas: -24987.045149829355|Men Shirts: 0.5367092457420924\n",
      "Women Kurtas: 0.5688656809016648|Men Shirts: 393.8544024691496\n",
      "Women Kurtas: 372.9338009931422  |Men Shirts: 78.34943309839345\n",
      "Women Kurtas: 104.55607089945832|Men Shirts: 4.198908406005614\n",
      "Women Kurtas: 3.3937522425990037 |Men Shirts: 6.362006119607095\n",
      "Women Kurtas: 5.454096203199191 |Men Shirts: 6.460948254180296\n",
      "Women Kurtas: 5.899717326120628 |Men Shirts: 8.925545861312985\n",
      "Women Kurtas: 13.472146772541116 |\n",
      "+-----+----------------------------------------------------------------+---------------------------------------------------------------+---------------------------------------------------------------+--------------------------------------------------------------+---------------------------------------------------------------+--------------------------------------------------------------+--------------------------------------------------------------+---------------------------------------------------------------+\n",
      "\n",
      "root\n",
      " |-- metric: string (nullable = true)\n",
      " |-- value: double (nullable = true)\n",
      " |-- model: string (nullable = true)\n",
      " |-- similargrouplevel: integer (nullable = true)\n",
      "\n",
      "+-----+-----------------------------------------------------------------+---------------------------------------------------------------+--------------------------------------------------------------+---------------------------------------------------------------+---------------------------------------------------------------+---------------------------------------------------------------+---------------------------------------------------------------+--------------------------------------------------------------+\n",
      "|model|Bias                                                             |Hit Rate                                                       |Mean Absolute Percent Error                                   |Root Mean Square Error for 100.0 percentile error              |Root Mean Square Error for 25.0 percentile error               |Root Mean Square Error for 50.0 percentile error               |Root Mean Square Error for 75.0 percentile error               |Root Mean Square Error for 90.0 percentile error              |\n",
      "+-----+-----------------------------------------------------------------+---------------------------------------------------------------+--------------------------------------------------------------+---------------------------------------------------------------+---------------------------------------------------------------+---------------------------------------------------------------+---------------------------------------------------------------+--------------------------------------------------------------+\n",
      "|dt   |Men Shirts: 3.5996984E7\n",
      "Women Kurtas: 5137403.0                  |Men Shirts: 0.6488785274187557\n",
      "Women Kurtas: 0.7599182282793867|Men Shirts: 492.5739328958539\n",
      "Women Kurtas: 319.06681082703517|Men Shirts: 2647.489105520356\n",
      "Women Kurtas: 907.6311904254113  |Men Shirts: 1.2022801307290294\n",
      "Women Kurtas: 1.204596683037678 |Men Shirts: 3.5944613142028623\n",
      "Women Kurtas: 3.5028207551587984|Men Shirts: 12.507861990863006\n",
      "Women Kurtas: 12.680421461578788|Men Shirts: 45.22204624478483\n",
      "Women Kurtas: 45.4228396460817  |\n",
      "|lr   |Men Shirts: 1.9290011788566764E7\n",
      "Women Kurtas: 5784376.2316096295|Men Shirts: 0.6198948766230716\n",
      "Women Kurtas: 0.5704288216093928|Men Shirts: 307.4463507414544\n",
      "Women Kurtas: 863.9351941596689 |Men Shirts: 1468.1752602012843\n",
      "Women Kurtas: 1250.3609163379635|Men Shirts: 1.6896759769629293\n",
      "Women Kurtas: 3.0590694866628025|Men Shirts: 4.543696388776557\n",
      "Women Kurtas: 10.152083797035598 |Men Shirts: 12.001924825586142\n",
      "Women Kurtas: 27.130328528814143|Men Shirts: 30.396075698581868\n",
      "Women Kurtas: 64.28776797512253|\n",
      "|xgb  |Men Shirts: 4.1174828458255075E7\n",
      "Women Kurtas: 6789576.29351539  |Men Shirts: 0.3660274721286416\n",
      "Women Kurtas: 0.5237410562180579|Men Shirts: 970.7646437539261\n",
      "Women Kurtas: 797.1696566899    |Men Shirts: 3066.9662904223\n",
      "Women Kurtas: 1173.6727267023844   |Men Shirts: 6.308859088724691\n",
      "Women Kurtas: 5.323693320548244  |Men Shirts: 12.411086815865712\n",
      "Women Kurtas: 10.377399076428615|Men Shirts: 27.447017491624916\n",
      "Women Kurtas: 24.3207755277035  |Men Shirts: 61.98364316226771\n",
      "Women Kurtas: 55.181353978095515|\n",
      "+-----+-----------------------------------------------------------------+---------------------------------------------------------------+--------------------------------------------------------------+---------------------------------------------------------------+---------------------------------------------------------------+---------------------------------------------------------------+---------------------------------------------------------------+--------------------------------------------------------------+\n",
      "\n"
     ]
    }
   ],
   "source": [
    "val exp_code = \"1\"\n",
    "metricsShow(exp_code)"
   ]
  }
 ],
 "metadata": {
  "kernelspec": {
   "display_name": "Spark",
   "language": "",
   "name": "sparkkernel"
  },
  "language_info": {
   "codemirror_mode": "text/x-scala",
   "mimetype": "text/x-scala",
   "name": "scala",
   "pygments_lexer": "scala"
  }
 },
 "nbformat": 4,
 "nbformat_minor": 4
}
