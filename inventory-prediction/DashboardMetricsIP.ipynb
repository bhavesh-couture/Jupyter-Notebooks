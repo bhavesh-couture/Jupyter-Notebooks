{
 "cells": [
  {
   "cell_type": "code",
   "execution_count": 1,
   "metadata": {},
   "outputs": [
    {
     "data": {
      "text/html": [
       "Current session configs: <tt>{'conf': {'spark.app.name': 'Bhavesh_Inventory_prediction', 'spark.yarn.queue': 'workflow', 'spark.jars': '/apps/Jars/obelisk-retail-legos.jar,/apps/Jars/mysql-connector-java-5.1.40.jar', 'spark.driver.extraJavaOptions': '-Dscala.color', 'spark.driver.memory': '4g', 'spark.executor.memory': '4g', 'spark.executor.instances': '4'}, 'kind': 'spark'}</tt><br>"
      ],
      "text/plain": [
       "<IPython.core.display.HTML object>"
      ]
     },
     "metadata": {},
     "output_type": "display_data"
    },
    {
     "data": {
      "text/html": [
       "No active sessions."
      ],
      "text/plain": [
       "<IPython.core.display.HTML object>"
      ]
     },
     "metadata": {},
     "output_type": "display_data"
    }
   ],
   "source": [
    "%%configure -f \n",
    "{\n",
    "    \"conf\":\n",
    "    {\n",
    "        \"spark.app.name\":\"Bhavesh_Inventory_prediction\",\n",
    "        \"spark.yarn.queue\": \"workflow\",\n",
    "        \"spark.jars\": \"/apps/Jars/obelisk-retail-legos.jar,/apps/Jars/mysql-connector-java-5.1.40.jar\",\n",
    "        \"spark.driver.extraJavaOptions\": \"-Dscala.color\",\n",
    "        \"spark.driver.memory\": \"4g\",\n",
    "        \"spark.executor.memory\": \"4g\",\n",
    "        \"spark.executor.instances\": \"4\"\n",
    "    }\n",
    "}"
   ]
  },
  {
   "cell_type": "code",
   "execution_count": 2,
   "metadata": {},
   "outputs": [
    {
     "name": "stdout",
     "output_type": "stream",
     "text": [
      "Starting Spark application\n"
     ]
    },
    {
     "data": {
      "text/html": [
       "<table>\n",
       "<tr><th>ID</th><th>YARN Application ID</th><th>Kind</th><th>State</th><th>Spark UI</th><th>Driver log</th><th>Current session?</th></tr><tr><td>1388</td><td>application_1685341929318_2162</td><td>spark</td><td>idle</td><td><a target=\"_blank\" href=\"http://JMNGD1BAF370C10:8088/proxy/application_1685341929318_2162/\">Link</a></td><td><a target=\"_blank\" href=\"http://JMNGD1BAE210V09:8042/node/containerlogs/container_e112_1685341929318_2162_01_000001/couture\">Link</a></td><td>✔</td></tr></table>"
      ],
      "text/plain": [
       "<IPython.core.display.HTML object>"
      ]
     },
     "metadata": {},
     "output_type": "display_data"
    },
    {
     "data": {
      "application/vnd.jupyter.widget-view+json": {
       "model_id": "",
       "version_major": 2,
       "version_minor": 0
      },
      "text/plain": [
       "FloatProgress(value=0.0, bar_style='info', description='Progress:', layout=Layout(height='25px', width='50%'),…"
      ]
     },
     "metadata": {},
     "output_type": "display_data"
    },
    {
     "name": "stdout",
     "output_type": "stream",
     "text": [
      "SparkSession available as 'spark'.\n"
     ]
    },
    {
     "data": {
      "application/vnd.jupyter.widget-view+json": {
       "model_id": "",
       "version_major": 2,
       "version_minor": 0
      },
      "text/plain": [
       "FloatProgress(value=0.0, bar_style='info', description='Progress:', layout=Layout(height='25px', width='50%'),…"
      ]
     },
     "metadata": {},
     "output_type": "display_data"
    },
    {
     "name": "stdout",
     "output_type": "stream",
     "text": [
      "import ai.couture.obelisk.commons.Constants._\n",
      "import ai.couture.obelisk.commons.Constants.STANDARD_COL_NAMES._\n",
      "import ai.couture.obelisk.commons.Constants._\n",
      "import ai.couture.obelisk.commons.io._\n",
      "import ai.couture.obelisk.commons.utils.DateTimeUtil._\n",
      "import org.apache.spark.sql._\n",
      "import org.apache.spark.sql.expressions._\n",
      "import org.apache.spark.sql.functions._\n",
      "import org.apache.spark.sql.types._\n",
      "import spark.implicits._\n"
     ]
    }
   ],
   "source": [
    "import ai.couture.obelisk.commons.Constants._\n",
    "import ai.couture.obelisk.commons.Constants.STANDARD_COL_NAMES._\n",
    "import ai.couture.obelisk.commons.Constants._\n",
    "import ai.couture.obelisk.commons.io._\n",
    "import ai.couture.obelisk.commons.utils.DateTimeUtil._\n",
    "import org.apache.spark.sql._\n",
    "import org.apache.spark.sql.expressions._\n",
    "import org.apache.spark.sql.functions._\n",
    "import org.apache.spark.sql.types._\n",
    "import spark.implicits._"
   ]
  },
  {
   "cell_type": "code",
   "execution_count": 3,
   "metadata": {},
   "outputs": [
    {
     "data": {
      "application/vnd.jupyter.widget-view+json": {
       "model_id": "",
       "version_major": 2,
       "version_minor": 0
      },
      "text/plain": [
       "FloatProgress(value=0.0, bar_style='info', description='Progress:', layout=Layout(height='25px', width='50%'),…"
      ]
     },
     "metadata": {},
     "output_type": "display_data"
    },
    {
     "name": "stdout",
     "output_type": "stream",
     "text": [
      "import java.text.SimpleDateFormat\n",
      "import java.time.DayOfWeek.{MONDAY, SUNDAY}\n",
      "import java.time.format.DateTimeFormatter\n",
      "import java.time.format.DateTimeFormatter.ofPattern\n",
      "import java.time.temporal.TemporalAdjusters.previousOrSame\n",
      "import java.time.temporal.{ChronoUnit, WeekFields}\n",
      "import java.time.{LocalDate, LocalDateTime}\n",
      "import java.util.{Date, Locale, TimeZone}\n",
      "\u001b[1m\u001b[34mgetFutureMonthDateFromHere\u001b[0m: \u001b[1m\u001b[32m(numMonths: Int, date: String, inputDateFormat: String, outputDateFormat: String)String\u001b[0m\n"
     ]
    }
   ],
   "source": [
    "import java.text.SimpleDateFormat\n",
    "import java.time.DayOfWeek.{MONDAY, SUNDAY}\n",
    "import java.time.format.DateTimeFormatter\n",
    "import java.time.format.DateTimeFormatter.ofPattern\n",
    "import java.time.temporal.TemporalAdjusters.previousOrSame\n",
    "import java.time.temporal.{ChronoUnit, WeekFields}\n",
    "import java.time.{LocalDate, LocalDateTime}\n",
    "import java.util.{Date, Locale, TimeZone}  \n",
    "def getFutureMonthDateFromHere(numMonths: Int, date: String, inputDateFormat: String,\n",
    "                                 outputDateFormat: String = \"yyyy-MM-dd\"): String = {\n",
    "    LocalDate.parse(date, ofPattern(inputDateFormat)).plusMonths(numMonths).format(ofPattern(outputDateFormat))\n",
    "  }"
   ]
  },
  {
   "cell_type": "code",
   "execution_count": 3,
   "metadata": {},
   "outputs": [
    {
     "data": {
      "application/vnd.jupyter.widget-view+json": {
       "model_id": "",
       "version_major": 2,
       "version_minor": 0
      },
      "text/plain": [
       "FloatProgress(value=0.0, bar_style='info', description='Progress:', layout=Layout(height='25px', width='50%'),…"
      ]
     },
     "metadata": {},
     "output_type": "display_data"
    },
    {
     "name": "stdout",
     "output_type": "stream",
     "text": [
      "import org.apache.spark.sql.functions._\n",
      "import org.apache.spark.sql.{DataFrame, SparkSession}\n",
      "import java.time.format.DateTimeFormatter.ofPattern\n",
      "import java.time.temporal.ChronoUnit\n",
      "import java.time.LocalDate\n",
      "import org.apache.spark.sql.types._\n",
      "\u001b[1m\u001b[34mgetNumOfMonthsBetweenTwoDates\u001b[0m: \u001b[1m\u001b[32morg.apache.spark.sql.expressions.UserDefinedFunction\u001b[0m = UserDefinedFunction(<function2>,LongType,Some(List(StringType, StringType)))\n",
      "\u001b[1m\u001b[34mgetOldMonthDateFromHere\u001b[0m: \u001b[1m\u001b[32morg.apache.spark.sql.expressions.UserDefinedFunction\u001b[0m = UserDefinedFunction(<function2>,StringType,Some(List(IntegerType, StringType)))\n",
      "\u001b[1m\u001b[34mgetFutureMonthDateFromHere\u001b[0m: \u001b[1m\u001b[32m(numMonths: Int, date: String, inputDateFormat: String, outputDateFormat: String)String\u001b[0m\n",
      "\u001b[1m\u001b[34mgetFutureDateFromHere\u001b[0m: \u001b[1m\u001b[32m(numDays: Int, date: String, inputDateFormat: String, outputDateFormat: String)String\u001b[0m\n",
      "\u001b[1m\u001b[34mgetOldDateFromHere\u001b[0m: \u001b[1m\u001b[32m(numDays: Int, date: String, inputDateFormat: String, outputDateFormat: String)String\u001b[0m\n",
      "\u001b[1m\u001b[34mgetOldMonthDateFromHerenotUdf\u001b[0m: \u001b[1m\u001b[32m(numMonths: Int, date: String, inputDateFormat: String, outputDateFormat: String)String\u001b[0m\n",
      "\u001b[1m\u001b[34mDATE\u001b[0m: \u001b[1m\u001b[32mString\u001b[0m = date\n",
      "\u001b[1m\u001b[34mPREDICTED\u001b[0m: \u001b[1m\u001b[32mString\u001b[0m = predicted\n",
      "\u001b[1m\u001b[34mACTUAL\u001b[0m: \u001b[1m\u001b[32mString\u001b[0m = actual\n",
      "\u001b[1m\u001b[34mrundate\u001b[0m: \u001b[1m\u001b[32mString\u001b[0m = 2023-04-30\n",
      "\u001b[1m\u001b[34mdateForWhichPredictionsMade\u001b[0m: \u001b[1m\u001b[32mString\u001b[0m = 2023-05-01\n",
      "\u001b[1m\u001b[34mpredictionend\u001b[0m: \u001b[1m\u001b[32mString\u001b[0m = 2023-05-31\n",
      "\u001b[1m\u001b[34mtrainendDate\u001b[0m: \u001b[1m\u001b[32mString\u001b[0m = 2023-04-29\n",
      "\u001b[1m\u001b[34mtrainStartDate\u001b[0m: \u001b[1m\u001b[32mString\u001b[0m = 2022-02-01\n"
     ]
    }
   ],
   "source": [
    "import org.apache.spark.sql.functions._\n",
    "import org.apache.spark.sql.{DataFrame, SparkSession}\n",
    "import java.time.format.DateTimeFormatter.ofPattern\n",
    "import java.time.temporal.{ChronoUnit}\n",
    "import java.time.{LocalDate}\n",
    "import org.apache.spark.sql.types._\n",
    "\n",
    "  val getNumOfMonthsBetweenTwoDates = udf((startDate: String, endDate: String)=> {\n",
    "\n",
    "    val inputDateFormat: String = \"yyyy-MM-dd\"\n",
    "    val dateBefore: LocalDate = LocalDate.parse(startDate, ofPattern(inputDateFormat))\n",
    "\n",
    "    val dateAfter: LocalDate = LocalDate.parse(endDate, ofPattern(inputDateFormat))\n",
    "\n",
    "    ChronoUnit.MONTHS.between(dateBefore, dateAfter)\n",
    "\n",
    "  })\n",
    "\n",
    "  val getOldMonthDateFromHere = udf((numMonths: Int, date: String) => {\n",
    "      val inputDateFormat: String = \"yyyy-MM-dd\"\n",
    "    val outputDateFormat: String = \"yyyy-MM-dd\"\n",
    "\n",
    "    LocalDate.parse(date, ofPattern(inputDateFormat)).minusMonths(numMonths).format(ofPattern(outputDateFormat))\n",
    "  })\n",
    "\n",
    "\n",
    "    def getFutureMonthDateFromHere(numMonths: Int, date: String, inputDateFormat: String,\n",
    "                                 outputDateFormat: String = \"yyyy-MM-dd\"): String = {\n",
    "    LocalDate.parse(date, ofPattern(inputDateFormat)).plusMonths(numMonths).format(ofPattern(outputDateFormat))\n",
    "  }\n",
    "\n",
    "\n",
    "  def getFutureDateFromHere(numDays: Int, date: String, inputDateFormat: String,\n",
    "                            outputDateFormat: String = \"yyyy-MM-dd\"): String = {\n",
    "    LocalDate.parse(date, ofPattern(inputDateFormat)).plusDays(numDays).format(ofPattern(outputDateFormat))\n",
    "  }\n",
    "\n",
    "    def getOldDateFromHere(numDays: Int, date: String, inputDateFormat: String,\n",
    "                         outputDateFormat: String = \"yyyy-MM-dd\"): String = {\n",
    "    LocalDate.parse(date, ofPattern(inputDateFormat)).minusDays(numDays).format(ofPattern(outputDateFormat))\n",
    "  }\n",
    "\n",
    "  def getOldMonthDateFromHerenotUdf(numMonths: Int, date: String, inputDateFormat: String,\n",
    "                              outputDateFormat: String = \"yyyy-MM-dd\"): String = {\n",
    "    LocalDate.parse(date, ofPattern(inputDateFormat)).minusMonths(numMonths).format(ofPattern(outputDateFormat))\n",
    "  }"
   ]
  },
  {
   "cell_type": "code",
   "execution_count": 3,
   "metadata": {},
   "outputs": [
    {
     "data": {
      "application/vnd.jupyter.widget-view+json": {
       "model_id": "",
       "version_major": 2,
       "version_minor": 0
      },
      "text/plain": [
       "FloatProgress(value=0.0, bar_style='info', description='Progress:', layout=Layout(height='25px', width='50%'),…"
      ]
     },
     "metadata": {},
     "output_type": "display_data"
    },
    {
     "name": "stdout",
     "output_type": "stream",
     "text": [
      "\u001b[1m\u001b[34mDATE\u001b[0m: \u001b[1m\u001b[32mString\u001b[0m = date\n",
      "\u001b[1m\u001b[34mPREDICTED\u001b[0m: \u001b[1m\u001b[32mString\u001b[0m = predicted\n",
      "\u001b[1m\u001b[34mACTUAL\u001b[0m: \u001b[1m\u001b[32mString\u001b[0m = actual\n",
      "\u001b[1m\u001b[34mrundate\u001b[0m: \u001b[1m\u001b[32mString\u001b[0m = 2023-04-30\n",
      "\u001b[1m\u001b[34mdateForWhichPredictionsMade\u001b[0m: \u001b[1m\u001b[32mString\u001b[0m = 2023-05-01\n",
      "\u001b[1m\u001b[34mpredictionend\u001b[0m: \u001b[1m\u001b[32mString\u001b[0m = 2023-05-31\n",
      "\u001b[1m\u001b[34mtrainendDate\u001b[0m: \u001b[1m\u001b[32mString\u001b[0m = 2023-04-29\n",
      "\u001b[1m\u001b[34mtrainStartDate\u001b[0m: \u001b[1m\u001b[32mString\u001b[0m = 2022-02-01\n"
     ]
    }
   ],
   "source": [
    "var DATE=\"date\"\n",
    "var PREDICTED=\"predicted\"\n",
    "var ACTUAL=\"actual\"\n",
    "\n",
    "var rundate = \"2023-04-30\"\n",
    "var dateForWhichPredictionsMade = getFutureDateFromHere(1,rundate,\"yyyy-MM-dd\")\n",
    "var predictionend = \"2023-05-31\"\n",
    "var trainendDate =getOldDateFromHere(1,rundate,\"yyyy-MM-dd\")\n",
    "var trainStartDate = \"2022-02-01\""
   ]
  },
  {
   "cell_type": "code",
   "execution_count": 4,
   "metadata": {},
   "outputs": [
    {
     "data": {
      "application/vnd.jupyter.widget-view+json": {
       "model_id": "",
       "version_major": 2,
       "version_minor": 0
      },
      "text/plain": [
       "FloatProgress(value=0.0, bar_style='info', description='Progress:', layout=Layout(height='25px', width='50%'),…"
      ]
     },
     "metadata": {},
     "output_type": "display_data"
    },
    {
     "name": "stdout",
     "output_type": "stream",
     "text": [
      "\u001b[1m\u001b[34msaveNLoadDF\u001b[0m: \u001b[1m\u001b[32m(key: String)(df: org.apache.spark.sql.DataFrame)org.apache.spark.sql.DataFrame\u001b[0m\n",
      "\u001b[1m\u001b[34mload\u001b[0m: \u001b[1m\u001b[32m(key: String)org.apache.spark.sql.DataFrame\u001b[0m\n",
      "\u001b[1m\u001b[34mgetOldDateFromHereUDF\u001b[0m: \u001b[1m\u001b[32morg.apache.spark.sql.expressions.UserDefinedFunction\u001b[0m = UserDefinedFunction(<function4>,StringType,Some(List(IntegerType, StringType, StringType, StringType)))\n",
      "\u001b[1m\u001b[34mgetMonths\u001b[0m: \u001b[1m\u001b[32m(dateFormat: String)(df: org.apache.spark.sql.DataFrame)org.apache.spark.sql.DataFrame\u001b[0m\n"
     ]
    }
   ],
   "source": [
    "def saveNLoadDF(key: String)(df: DataFrame): DataFrame = {\n",
    "    var tempPath = \"/data/Archive/bhavesh/InventoryPrediction/temp/dashboard_metrics\"\n",
    "    DFToParquet.putDF(tempPath + \"/\" + key, df)\n",
    "    ParquetToDF.getDF(tempPath + \"/\" + key)\n",
    "  }\n",
    "\n",
    "def load(key: String): DataFrame = {\n",
    "    var tempPath = \"/data/Archive/bhavesh/InventoryPrediction/temp/dashboard_metrics\"\n",
    "    ParquetToDF.getDF(tempPath + \"/\" + key)\n",
    "}\n",
    "\n",
    "val getOldDateFromHereUDF = udf((numDays: Int, date: String, inputDateFormat: String, outputDateFormat: String) => {\n",
    "    getOldDateFromHere(numDays, date, inputDateFormat, outputDateFormat)\n",
    "})\n",
    "\n",
    "def getMonths(dateFormat: String)(df: DataFrame): DataFrame = {\n",
    "    df.withColumn(\"dateFormatted\", getOldDateFromHereUDF(lit(0), col(DATE), lit(dateFormat), lit(\"yyyy-MM-dd\")))\n",
    "    .withColumn(\"year\", split(col(\"dateFormatted\"), \"-\")(0))\n",
    "    .withColumn(\"month\", split(col(\"dateFormatted\"), \"-\")(1))\n",
    "    .withColumn(\"monthsInHis\", dense_rank().over(Window.orderBy(desc(\"year\"), desc(\"month\"))) - lit(1))\n",
    "    .drop(\"dateFormatted\", \"year\", \"month\")\n",
    "}"
   ]
  },
  {
   "cell_type": "code",
   "execution_count": 5,
   "metadata": {},
   "outputs": [
    {
     "data": {
      "application/vnd.jupyter.widget-view+json": {
       "model_id": "",
       "version_major": 2,
       "version_minor": 0
      },
      "text/plain": [
       "FloatProgress(value=0.0, bar_style='info', description='Progress:', layout=Layout(height='25px', width='50%'),…"
      ]
     },
     "metadata": {},
     "output_type": "display_data"
    },
    {
     "name": "stdout",
     "output_type": "stream",
     "text": [
      "\u001b[1m\u001b[34mbaseDir\u001b[0m: \u001b[1m\u001b[32mString\u001b[0m = /data/Archive/bhavesh/InventoryPrediction\n",
      "\u001b[1m\u001b[34mrunDir\u001b[0m: \u001b[1m\u001b[32mString\u001b[0m = /data/Archive/bhavesh/InventoryPrediction/2023-04-30\n"
     ]
    }
   ],
   "source": [
    "var baseDir = \"/data/Archive/bhavesh/InventoryPrediction\"\n",
    "var runDir = s\"$baseDir/$rundate\""
   ]
  },
  {
   "cell_type": "code",
   "execution_count": 6,
   "metadata": {},
   "outputs": [
    {
     "data": {
      "application/vnd.jupyter.widget-view+json": {
       "model_id": "",
       "version_major": 2,
       "version_minor": 0
      },
      "text/plain": [
       "FloatProgress(value=0.0, bar_style='info', description='Progress:', layout=Layout(height='25px', width='50%'),…"
      ]
     },
     "metadata": {},
     "output_type": "display_data"
    },
    {
     "name": "stdout",
     "output_type": "stream",
     "text": [
      "\u001b[1m\u001b[34mproductLevelDailyQuantity\u001b[0m: \u001b[1m\u001b[32morg.apache.spark.sql.DataFrame\u001b[0m = [productid: string, date: date ... 1 more field]\n",
      "root\n",
      " |-- productid: string (nullable = true)\n",
      " |-- date: date (nullable = true)\n",
      " |-- quantity: double (nullable = true)\n",
      "\n"
     ]
    }
   ],
   "source": [
    "var productLevelDailyQuantity = ParquetToDF.getDF(s\"$runDir/DailyQuantity/product\")\n",
    "productLevelDailyQuantity.printSchema"
   ]
  },
  {
   "cell_type": "code",
   "execution_count": 7,
   "metadata": {},
   "outputs": [
    {
     "data": {
      "application/vnd.jupyter.widget-view+json": {
       "model_id": "",
       "version_major": 2,
       "version_minor": 0
      },
      "text/plain": [
       "FloatProgress(value=0.0, bar_style='info', description='Progress:', layout=Layout(height='25px', width='50%'),…"
      ]
     },
     "metadata": {},
     "output_type": "display_data"
    },
    {
     "name": "stdout",
     "output_type": "stream",
     "text": [
      "\u001b[1m\u001b[34mproductLevelQuantity\u001b[0m: \u001b[1m\u001b[32morg.apache.spark.sql.DataFrame\u001b[0m = [productid: string, quantity: double]\n"
     ]
    }
   ],
   "source": [
    "// var productLevelQuantity = (\n",
    "//     productLevelDailyQuantity.filter(col(\"date\")>=trainStartDate && col(\"date\")<dateForWhichPredictionsMade).filter(!(col(\"date\")===rundate))\n",
    "//     .transform(getMonths(\"yyyy-MM-dd\"))\n",
    "//     .withColumnRenamed(\"monthsInHis\", \"pastmonth\")\n",
    "//     .filter(col(\"pastmonth\") < 12)\n",
    "//     .groupBy(PRODUCTID)\n",
    "//     .agg(sum(QUANTITY) as QUANTITY)\n",
    "//     .transform(saveNLoadDF(\"productQuantityForPast15MonthsAggregated\"))\n",
    "// )\n",
    "\n",
    "var productLevelQuantity = load(\"productQuantityForPast15MonthsAggregated\")"
   ]
  },
  {
   "cell_type": "code",
   "execution_count": 8,
   "metadata": {},
   "outputs": [
    {
     "data": {
      "application/vnd.jupyter.widget-view+json": {
       "model_id": "",
       "version_major": 2,
       "version_minor": 0
      },
      "text/plain": [
       "FloatProgress(value=0.0, bar_style='info', description='Progress:', layout=Layout(height='25px', width='50%'),…"
      ]
     },
     "metadata": {},
     "output_type": "display_data"
    },
    {
     "name": "stdout",
     "output_type": "stream",
     "text": [
      "\u001b[1m\u001b[34mga\u001b[0m: \u001b[1m\u001b[32morg.apache.spark.sql.DataFrame\u001b[0m = [productid: string, impressions: double]\n"
     ]
    }
   ],
   "source": [
    "// var ga = (\n",
    "//     ParquetToDF.getDF(\"/data/ecomm/ajio/processed/ProcessedGAData\")\n",
    "//     .select(PRODUCTID, \"PLPViewsPerDay\", DATE)\n",
    "//     .filter(col(\"date\")>=trainStartDate && col(\"date\")<dateForWhichPredictionsMade).filter(!(col(\"date\")===rundate))\n",
    "//     .transform(getMonths(\"yyyy-MM-dd\"))\n",
    "//     .withColumnRenamed(\"monthsInHis\", \"pastmonth\")\n",
    "//     .filter(col(\"pastmonth\") < 12)\n",
    "//     .groupBy(PRODUCTID)\n",
    "//     .agg(sum(\"PLPViewsPerDay\") as \"impressions\")\n",
    "//     .transform(saveNLoadDF(\"productImpressionsForPast15MonthsAggregated\"))\n",
    "// )\n",
    "\n",
    "var ga = load(\"productImpressionsForPast15MonthsAggregated\")"
   ]
  },
  {
   "cell_type": "code",
   "execution_count": 6,
   "metadata": {},
   "outputs": [
    {
     "data": {
      "application/vnd.jupyter.widget-view+json": {
       "model_id": "",
       "version_major": 2,
       "version_minor": 0
      },
      "text/plain": [
       "FloatProgress(value=0.0, bar_style='info', description='Progress:', layout=Layout(height='25px', width='50%'),…"
      ]
     },
     "metadata": {},
     "output_type": "display_data"
    },
    {
     "name": "stdout",
     "output_type": "stream",
     "text": [
      "\u001b[1m\u001b[34mproductDetails\u001b[0m: \u001b[1m\u001b[32morg.apache.spark.sql.DataFrame\u001b[0m = [productid: string, similargrouplevel: string ... 9 more fields]\n",
      "root\n",
      " |-- productid: string (nullable = true)\n",
      " |-- similargrouplevel: string (nullable = true)\n",
      " |-- colorfamily: string (nullable = true)\n",
      " |-- brandname: string (nullable = true)\n",
      " |-- styletype: string (nullable = true)\n",
      " |-- pattern: string (nullable = true)\n",
      " |-- sleeve: string (nullable = true)\n",
      " |-- price: double (nullable = true)\n",
      " |-- title: string (nullable = true)\n",
      " |-- imgcode: string (nullable = true)\n",
      " |-- category_name: string (nullable = true)\n",
      "\n"
     ]
    }
   ],
   "source": [
    "var productDetails = ParquetToDF.getDF(\"/data/ecomm/ajio/processed/inventory/integrationSimulator/productDetails\")\n",
    "productDetails.printSchema"
   ]
  },
  {
   "cell_type": "code",
   "execution_count": 7,
   "metadata": {},
   "outputs": [
    {
     "data": {
      "application/vnd.jupyter.widget-view+json": {
       "model_id": "",
       "version_major": 2,
       "version_minor": 0
      },
      "text/plain": [
       "FloatProgress(value=0.0, bar_style='info', description='Progress:', layout=Layout(height='25px', width='50%'),…"
      ]
     },
     "metadata": {},
     "output_type": "display_data"
    },
    {
     "name": "stdout",
     "output_type": "stream",
     "text": [
      "productDetails: org.apache.spark.sql.DataFrame = [productid: string]\n"
     ]
    }
   ],
   "source": [
    "productDetails = productDetails.select(\"productid\").distinct().transform(saveNLoadDF(\"allProducts\"))"
   ]
  },
  {
   "cell_type": "code",
   "execution_count": 9,
   "metadata": {},
   "outputs": [
    {
     "data": {
      "application/vnd.jupyter.widget-view+json": {
       "model_id": "",
       "version_major": 2,
       "version_minor": 0
      },
      "text/plain": [
       "FloatProgress(value=0.0, bar_style='info', description='Progress:', layout=Layout(height='25px', width='50%'),…"
      ]
     },
     "metadata": {},
     "output_type": "display_data"
    },
    {
     "name": "stdout",
     "output_type": "stream",
     "text": [
      "\u001b[1m\u001b[34mproductDetails\u001b[0m: \u001b[1m\u001b[32morg.apache.spark.sql.DataFrame\u001b[0m = [productid: string]\n"
     ]
    }
   ],
   "source": [
    "var productDetails = load(\"allProducts\")"
   ]
  },
  {
   "cell_type": "code",
   "execution_count": 10,
   "metadata": {},
   "outputs": [
    {
     "data": {
      "application/vnd.jupyter.widget-view+json": {
       "model_id": "",
       "version_major": 2,
       "version_minor": 0
      },
      "text/plain": [
       "FloatProgress(value=0.0, bar_style='info', description='Progress:', layout=Layout(height='25px', width='50%'),…"
      ]
     },
     "metadata": {},
     "output_type": "display_data"
    },
    {
     "name": "stdout",
     "output_type": "stream",
     "text": [
      "\u001b[1m\u001b[34mres28\u001b[0m: \u001b[1m\u001b[32mLong\u001b[0m = 434089\n"
     ]
    }
   ],
   "source": [
    "productDetails.count"
   ]
  },
  {
   "cell_type": "code",
   "execution_count": 12,
   "metadata": {},
   "outputs": [
    {
     "data": {
      "application/vnd.jupyter.widget-view+json": {
       "model_id": "",
       "version_major": 2,
       "version_minor": 0
      },
      "text/plain": [
       "FloatProgress(value=0.0, bar_style='info', description='Progress:', layout=Layout(height='25px', width='50%'),…"
      ]
     },
     "metadata": {},
     "output_type": "display_data"
    },
    {
     "name": "stdout",
     "output_type": "stream",
     "text": [
      "\u001b[1m\u001b[34mproductMetrics\u001b[0m: \u001b[1m\u001b[32morg.apache.spark.sql.Dataset[org.apache.spark.sql.Row]\u001b[0m = [productid: string, quantity: double ... 1 more field]\n"
     ]
    }
   ],
   "source": [
    "var productMetrics = productDetails.join(productLevelQuantity, Seq(PRODUCTID), \"left\").join(ga, Seq(PRODUCTID), \"left\").na.fill(0).transform(saveNLoadDF(\"productLevelMetrics\"))"
   ]
  },
  {
   "cell_type": "code",
   "execution_count": 11,
   "metadata": {},
   "outputs": [
    {
     "data": {
      "application/vnd.jupyter.widget-view+json": {
       "model_id": "",
       "version_major": 2,
       "version_minor": 0
      },
      "text/plain": [
       "FloatProgress(value=0.0, bar_style='info', description='Progress:', layout=Layout(height='25px', width='50%'),…"
      ]
     },
     "metadata": {},
     "output_type": "display_data"
    },
    {
     "name": "stdout",
     "output_type": "stream",
     "text": [
      "\u001b[1m\u001b[34mproductMetrics\u001b[0m: \u001b[1m\u001b[32morg.apache.spark.sql.DataFrame\u001b[0m = [productid: string, quantity: double ... 1 more field]\n"
     ]
    }
   ],
   "source": [
    "var productMetrics = load(\"productLevelMetrics\")"
   ]
  },
  {
   "cell_type": "code",
   "execution_count": 12,
   "metadata": {},
   "outputs": [
    {
     "data": {
      "application/vnd.jupyter.widget-view+json": {
       "model_id": "",
       "version_major": 2,
       "version_minor": 0
      },
      "text/plain": [
       "FloatProgress(value=0.0, bar_style='info', description='Progress:', layout=Layout(height='25px', width='50%'),…"
      ]
     },
     "metadata": {},
     "output_type": "display_data"
    },
    {
     "name": "stdout",
     "output_type": "stream",
     "text": [
      "\u001b[1m\u001b[34msuffix\u001b[0m: \u001b[1m\u001b[32mString\u001b[0m = colorfamily_pricebucket_styletype_pattern_sleeve_brandname\n",
      "\u001b[1m\u001b[34mqueriesToProductMap\u001b[0m: \u001b[1m\u001b[32morg.apache.spark.sql.DataFrame\u001b[0m = [query: string, productid: string ... 2 more fields]\n",
      "\u001b[1m\u001b[34moldQueryToNewQueryMap\u001b[0m: \u001b[1m\u001b[32morg.apache.spark.sql.DataFrame\u001b[0m = [query: string, template: string ... 2 more fields]\n",
      "queriesToProductMap: org.apache.spark.sql.DataFrame = [similargrouplevel: int, template: string ... 2 more fields]\n"
     ]
    }
   ],
   "source": [
    "var suffix = \"colorfamily_pricebucket_styletype_pattern_sleeve_brandname\"\n",
    "var queriesToProductMap = ParquetToDF.getDF(s\"$runDir/QueryProductMapping/suffix=$suffix\").select(\"query\", \"productid\", \"similargrouplevel\", \"template\").na.drop()\n",
    "var oldQueryToNewQueryMap = ParquetToDF.getDF(\"/data/Archive/inventory/2023-04-30/queryProductMap_colorfamily_pricebucket_styletype_pattern_sleeve_brandname/attributesQueryInfo/final\").select(\"query\",\"template\",\"similargrouplevel\",\"newQuery\")\n",
    "\n",
    "queriesToProductMap = queriesToProductMap.join(oldQueryToNewQueryMap, Seq(\"similargrouplevel\", \"query\", \"template\")).drop(\"query\").withColumnRenamed(\"newQuery\", \"query\")"
   ]
  },
  {
   "cell_type": "code",
   "execution_count": 13,
   "metadata": {},
   "outputs": [
    {
     "data": {
      "application/vnd.jupyter.widget-view+json": {
       "model_id": "",
       "version_major": 2,
       "version_minor": 0
      },
      "text/plain": [
       "FloatProgress(value=0.0, bar_style='info', description='Progress:', layout=Layout(height='25px', width='50%'),…"
      ]
     },
     "metadata": {},
     "output_type": "display_data"
    },
    {
     "name": "stdout",
     "output_type": "stream",
     "text": [
      "+-----------------+--------+---------------+-------------------+\n",
      "|similargrouplevel|template|productid      |query              |\n",
      "+-----------------+--------+---------------+-------------------+\n",
      "|830216013        |pattern |410315517_01c  |#_#_solid_#_#_#    |\n",
      "|830216013        |pattern |461102288_blue |#_#_check_#_#_#    |\n",
      "|830216013        |pattern |461132549_khaki|#_#_solid_#_#_#    |\n",
      "|830216013        |pattern |461575742_green|#_#_check_#_#_#    |\n",
      "|830216013        |pattern |464973861_white|#_#_geometric_#_#_#|\n",
      "+-----------------+--------+---------------+-------------------+\n",
      "only showing top 5 rows\n",
      "\n"
     ]
    }
   ],
   "source": [
    "queriesToProductMap.filter(col(\"query\") =!= \"#_#_#_#_#_#\").show(5, false)"
   ]
  },
  {
   "cell_type": "code",
   "execution_count": 17,
   "metadata": {},
   "outputs": [
    {
     "data": {
      "application/vnd.jupyter.widget-view+json": {
       "model_id": "",
       "version_major": 2,
       "version_minor": 0
      },
      "text/plain": [
       "FloatProgress(value=0.0, bar_style='info', description='Progress:', layout=Layout(height='25px', width='50%'),…"
      ]
     },
     "metadata": {},
     "output_type": "display_data"
    },
    {
     "name": "stdout",
     "output_type": "stream",
     "text": [
      "\u001b[1m\u001b[34mqueryLevelMetrics\u001b[0m: \u001b[1m\u001b[32morg.apache.spark.sql.Dataset[org.apache.spark.sql.Row]\u001b[0m = [query: string, similargrouplevel: int ... 2 more fields]\n"
     ]
    }
   ],
   "source": [
    "var queryLevelMetrics = (\n",
    "    productMetrics.join(queriesToProductMap, Seq(PRODUCTID))\n",
    "    .groupBy(\"query\", \"similargrouplevel\")\n",
    "    .agg(sum(QUANTITY).cast(DoubleType) as QUANTITY, sum(\"impressions\").cast(DoubleType) as \"impressions\")\n",
    "    .transform(saveNLoadDF(\"queryLevelMetrics\"))\n",
    ")"
   ]
  },
  {
   "cell_type": "code",
   "execution_count": 14,
   "metadata": {},
   "outputs": [
    {
     "data": {
      "application/vnd.jupyter.widget-view+json": {
       "model_id": "",
       "version_major": 2,
       "version_minor": 0
      },
      "text/plain": [
       "FloatProgress(value=0.0, bar_style='info', description='Progress:', layout=Layout(height='25px', width='50%'),…"
      ]
     },
     "metadata": {},
     "output_type": "display_data"
    },
    {
     "name": "stdout",
     "output_type": "stream",
     "text": [
      "\u001b[1m\u001b[34mqueryLevelMetrics\u001b[0m: \u001b[1m\u001b[32morg.apache.spark.sql.DataFrame\u001b[0m = [query: string, similargrouplevel: int ... 2 more fields]\n"
     ]
    }
   ],
   "source": [
    "var queryLevelMetrics = load(\"queryLevelMetrics\")"
   ]
  },
  {
   "cell_type": "code",
   "execution_count": 15,
   "metadata": {},
   "outputs": [
    {
     "data": {
      "application/vnd.jupyter.widget-view+json": {
       "model_id": "",
       "version_major": 2,
       "version_minor": 0
      },
      "text/plain": [
       "FloatProgress(value=0.0, bar_style='info', description='Progress:', layout=Layout(height='25px', width='50%'),…"
      ]
     },
     "metadata": {},
     "output_type": "display_data"
    },
    {
     "name": "stdout",
     "output_type": "stream",
     "text": [
      "+--------------------------------+-----------------+--------+-----------+\n",
      "|query                           |similargrouplevel|quantity|impressions|\n",
      "+--------------------------------+-----------------+--------+-----------+\n",
      "|#_black_#_4_full-length sleeve_#|830216013        |12117.0 |3.4713124E7|\n",
      "|#_black_#_4_full-length sleeve_#|830303011        |181.0   |1197605.0  |\n",
      "+--------------------------------+-----------------+--------+-----------+\n",
      "\n"
     ]
    }
   ],
   "source": [
    "queryLevelMetrics.filter(col(\"query\") === \"#_black_#_4_full-length sleeve_#\").show(false)"
   ]
  },
  {
   "cell_type": "code",
   "execution_count": 16,
   "metadata": {},
   "outputs": [
    {
     "data": {
      "application/vnd.jupyter.widget-view+json": {
       "model_id": "",
       "version_major": 2,
       "version_minor": 0
      },
      "text/plain": [
       "FloatProgress(value=0.0, bar_style='info', description='Progress:', layout=Layout(height='25px', width='50%'),…"
      ]
     },
     "metadata": {},
     "output_type": "display_data"
    },
    {
     "name": "stdout",
     "output_type": "stream",
     "text": [
      "\u001b[1m\u001b[34mres32\u001b[0m: \u001b[1m\u001b[32mLong\u001b[0m = 1480430\n"
     ]
    }
   ],
   "source": [
    "queryLevelMetrics.count"
   ]
  },
  {
   "cell_type": "code",
   "execution_count": 17,
   "metadata": {},
   "outputs": [
    {
     "data": {
      "application/vnd.jupyter.widget-view+json": {
       "model_id": "",
       "version_major": 2,
       "version_minor": 0
      },
      "text/plain": [
       "FloatProgress(value=0.0, bar_style='info', description='Progress:', layout=Layout(height='25px', width='50%'),…"
      ]
     },
     "metadata": {},
     "output_type": "display_data"
    },
    {
     "name": "stdout",
     "output_type": "stream",
     "text": [
      "\u001b[1m\u001b[34mpredictions\u001b[0m: \u001b[1m\u001b[32morg.apache.spark.sql.DataFrame\u001b[0m = [similargrouplevel: string, category_name: string ... 8 more fields]\n",
      "root\n",
      " |-- similargrouplevel: string (nullable = true)\n",
      " |-- category_name: string (nullable = true)\n",
      " |-- query: string (nullable = true)\n",
      " |-- m1: double (nullable = true)\n",
      " |-- m2: double (nullable = true)\n",
      " |-- m3: double (nullable = true)\n",
      " |-- m4: double (nullable = true)\n",
      " |-- m5: double (nullable = true)\n",
      " |-- m6: double (nullable = true)\n",
      " |-- actual: double (nullable = true)\n",
      "\n"
     ]
    }
   ],
   "source": [
    "var predictions = ParquetToDF.getDF(\"/data/ecomm/ajio/processed/inventory/integrationSimulator/predictions\")\n",
    "predictions.printSchema"
   ]
  },
  {
   "cell_type": "code",
   "execution_count": 18,
   "metadata": {},
   "outputs": [
    {
     "data": {
      "application/vnd.jupyter.widget-view+json": {
       "model_id": "",
       "version_major": 2,
       "version_minor": 0
      },
      "text/plain": [
       "FloatProgress(value=0.0, bar_style='info', description='Progress:', layout=Layout(height='25px', width='50%'),…"
      ]
     },
     "metadata": {},
     "output_type": "display_data"
    },
    {
     "name": "stdout",
     "output_type": "stream",
     "text": [
      "+-----------------+-------------+--------------------------------+------------------+-----------------+------------------+-----------------+------------------+------------------+------+\n",
      "|similargrouplevel|category_name|query                           |m1                |m2               |m3                |m4               |m5                |m6                |actual|\n",
      "+-----------------+-------------+--------------------------------+------------------+-----------------+------------------+-----------------+------------------+------------------+------+\n",
      "|830303011        |Women-Kurtas |#_black_#_4_full-length sleeve_#|7.647328495979309 |8.373806715011597|7.294650614261627 |8.877344787120819|9.22247713804245  |8.630289733409882 |3.0   |\n",
      "|830216013        |Men-Shirts   |#_black_#_4_full-length sleeve_#|1574.0018355846405|1544.768319606781|1692.9795962572098|1677.558549940586|1979.5642426609993|1753.6360110640526|1713.0|\n",
      "+-----------------+-------------+--------------------------------+------------------+-----------------+------------------+-----------------+------------------+------------------+------+\n",
      "\n"
     ]
    }
   ],
   "source": [
    "predictions.filter(col(\"query\") === \"#_black_#_4_full-length sleeve_#\").show(false)"
   ]
  },
  {
   "cell_type": "code",
   "execution_count": 23,
   "metadata": {},
   "outputs": [
    {
     "data": {
      "application/vnd.jupyter.widget-view+json": {
       "model_id": "",
       "version_major": 2,
       "version_minor": 0
      },
      "text/plain": [
       "FloatProgress(value=0.0, bar_style='info', description='Progress:', layout=Layout(height='25px', width='50%'),…"
      ]
     },
     "metadata": {},
     "output_type": "display_data"
    },
    {
     "name": "stdout",
     "output_type": "stream",
     "text": [
      "\u001b[1m\u001b[34mres36\u001b[0m: \u001b[1m\u001b[32mLong\u001b[0m = 765221\n"
     ]
    }
   ],
   "source": [
    "predictions.count"
   ]
  },
  {
   "cell_type": "code",
   "execution_count": 19,
   "metadata": {},
   "outputs": [
    {
     "data": {
      "application/vnd.jupyter.widget-view+json": {
       "model_id": "",
       "version_major": 2,
       "version_minor": 0
      },
      "text/plain": [
       "FloatProgress(value=0.0, bar_style='info', description='Progress:', layout=Layout(height='25px', width='50%'),…"
      ]
     },
     "metadata": {},
     "output_type": "display_data"
    },
    {
     "name": "stdout",
     "output_type": "stream",
     "text": [
      "\u001b[1m\u001b[34mimpressions\u001b[0m: \u001b[1m\u001b[32morg.apache.spark.sql.DataFrame\u001b[0m = [query: string, similargrouplevel: string ... 1 more field]\n",
      "impressions: org.apache.spark.sql.DataFrame = [query: string, similargrouplevel: string ... 1 more field]\n"
     ]
    }
   ],
   "source": [
    "var impressions = (\n",
    "    predictions.select(col(\"query\"), col(\"similargrouplevel\"), col(\"m1\").as(\"predicted\"), col(\"actual\"))\n",
    "    .join(queryLevelMetrics, Seq(\"query\", SIMILAR_GROUP_LEVEL), \"left\")\n",
    "    .na.fill(0)\n",
    "    .withColumn(\"impressions\", when(col(\"impressions\") === 0 || col(\"quantity\") === 0, lit(null)).otherwise((col(\"predicted\") * col(\"impressions\"))/col(\"quantity\").cast(DoubleType)))\n",
    "    .transform(saveNLoadDF(\"completeQuantityImpressionsQueryLevel\"))\n",
    "    .select(\"query\", \"similargrouplevel\", \"impressions\")\n",
    ")\n",
    "\n",
    "DFToParquet.putDF(\"/data/Archive/bhavesh/InventoryPrediction/2023-04-30/dashboardMetrics/impressions\", impressions)\n",
    "impressions = ParquetToDF.getDF(\"/data/Archive/bhavesh/InventoryPrediction/2023-04-30/dashboardMetrics/impressions\")"
   ]
  },
  {
   "cell_type": "code",
   "execution_count": 20,
   "metadata": {},
   "outputs": [
    {
     "data": {
      "application/vnd.jupyter.widget-view+json": {
       "model_id": "",
       "version_major": 2,
       "version_minor": 0
      },
      "text/plain": [
       "FloatProgress(value=0.0, bar_style='info', description='Progress:', layout=Layout(height='25px', width='50%'),…"
      ]
     },
     "metadata": {},
     "output_type": "display_data"
    },
    {
     "name": "stdout",
     "output_type": "stream",
     "text": [
      "\u001b[1m\u001b[34mimpressions\u001b[0m: \u001b[1m\u001b[32morg.apache.spark.sql.DataFrame\u001b[0m = [query: string, similargrouplevel: string ... 1 more field]\n"
     ]
    }
   ],
   "source": [
    "var impressions = ParquetToDF.getDF(\"/data/Archive/bhavesh/InventoryPrediction/2023-04-30/dashboardMetrics/impressions\")"
   ]
  },
  {
   "cell_type": "code",
   "execution_count": 21,
   "metadata": {},
   "outputs": [
    {
     "data": {
      "application/vnd.jupyter.widget-view+json": {
       "model_id": "",
       "version_major": 2,
       "version_minor": 0
      },
      "text/plain": [
       "FloatProgress(value=0.0, bar_style='info', description='Progress:', layout=Layout(height='25px', width='50%'),…"
      ]
     },
     "metadata": {},
     "output_type": "display_data"
    },
    {
     "name": "stdout",
     "output_type": "stream",
     "text": [
      "+--------------------------------+-----------------+-----------------+\n",
      "|query                           |similargrouplevel|impressions      |\n",
      "+--------------------------------+-----------------+-----------------+\n",
      "|#_black_#_4_full-length sleeve_#|830216013        |4509244.936442786|\n",
      "|#_black_#_4_full-length sleeve_#|830303011        |50599.33062667017|\n",
      "+--------------------------------+-----------------+-----------------+\n",
      "\n"
     ]
    }
   ],
   "source": [
    "impressions.filter(col(\"query\") === \"#_black_#_4_full-length sleeve_#\").show(false)"
   ]
  },
  {
   "cell_type": "code",
   "execution_count": 22,
   "metadata": {},
   "outputs": [
    {
     "data": {
      "application/vnd.jupyter.widget-view+json": {
       "model_id": "",
       "version_major": 2,
       "version_minor": 0
      },
      "text/plain": [
       "FloatProgress(value=0.0, bar_style='info', description='Progress:', layout=Layout(height='25px', width='50%'),…"
      ]
     },
     "metadata": {},
     "output_type": "display_data"
    },
    {
     "name": "stdout",
     "output_type": "stream",
     "text": [
      "\u001b[1m\u001b[34mres38\u001b[0m: \u001b[1m\u001b[32mLong\u001b[0m = 765221\n"
     ]
    }
   ],
   "source": [
    "impressions.count"
   ]
  },
  {
   "cell_type": "code",
   "execution_count": 40,
   "metadata": {},
   "outputs": [
    {
     "data": {
      "application/vnd.jupyter.widget-view+json": {
       "model_id": "",
       "version_major": 2,
       "version_minor": 0
      },
      "text/plain": [
       "FloatProgress(value=0.0, bar_style='info', description='Progress:', layout=Layout(height='25px', width='50%'),…"
      ]
     },
     "metadata": {},
     "output_type": "display_data"
    },
    {
     "name": "stdout",
     "output_type": "stream",
     "text": [
      "\u001b[1m\u001b[34mdiscountProductLevel\u001b[0m: \u001b[1m\u001b[32morg.apache.spark.sql.DataFrame\u001b[0m = [productid: string, WeightedAvgDiscount: double]\n",
      "root\n",
      " |-- productid: string (nullable = true)\n",
      " |-- WeightedAvgDiscount: double (nullable = true)\n",
      "\n"
     ]
    }
   ],
   "source": [
    "var discountProductLevel = ParquetToDF.getDF(\"/data/Archive/inventory/2023-04-30/queryProductMap_colorfamily_pricebucket_styletype_pattern_sleeve_brandname/productDiscountDashboard\")\n",
    "discountProductLevel.printSchema"
   ]
  },
  {
   "cell_type": "code",
   "execution_count": 41,
   "metadata": {},
   "outputs": [
    {
     "data": {
      "application/vnd.jupyter.widget-view+json": {
       "model_id": "",
       "version_major": 2,
       "version_minor": 0
      },
      "text/plain": [
       "FloatProgress(value=0.0, bar_style='info', description='Progress:', layout=Layout(height='25px', width='50%'),…"
      ]
     },
     "metadata": {},
     "output_type": "display_data"
    },
    {
     "name": "stdout",
     "output_type": "stream",
     "text": [
      "discountProductLevel: org.apache.spark.sql.DataFrame = [productid: string, WeightedAvgDiscount: double]\n",
      "\u001b[1m\u001b[34mres48\u001b[0m: \u001b[1m\u001b[32mLong\u001b[0m = 434089\n"
     ]
    }
   ],
   "source": [
    "discountProductLevel = discountProductLevel.join(productDetails, Seq(PRODUCTID))\n",
    "discountProductLevel.count"
   ]
  },
  {
   "cell_type": "code",
   "execution_count": 42,
   "metadata": {},
   "outputs": [
    {
     "data": {
      "application/vnd.jupyter.widget-view+json": {
       "model_id": "",
       "version_major": 2,
       "version_minor": 0
      },
      "text/plain": [
       "FloatProgress(value=0.0, bar_style='info', description='Progress:', layout=Layout(height='25px', width='50%'),…"
      ]
     },
     "metadata": {},
     "output_type": "display_data"
    },
    {
     "name": "stdout",
     "output_type": "stream",
     "text": [
      "\u001b[1m\u001b[34mdiscountQueryLevel\u001b[0m: \u001b[1m\u001b[32morg.apache.spark.sql.Dataset[org.apache.spark.sql.Row]\u001b[0m = [query: string, similargrouplevel: int ... 1 more field]\n"
     ]
    }
   ],
   "source": [
    "var discountQueryLevel = (\n",
    "    discountProductLevel.join(queriesToProductMap, Seq(PRODUCTID))\n",
    "    .groupBy(\"query\", \"similargrouplevel\")\n",
    "    .agg(avg(\"WeightedAvgDiscount\").cast(DoubleType) as \"discount\")\n",
    "    .transform(saveNLoadDF(\"queryLevelDiscount\"))\n",
    ")"
   ]
  },
  {
   "cell_type": "code",
   "execution_count": 43,
   "metadata": {},
   "outputs": [
    {
     "data": {
      "application/vnd.jupyter.widget-view+json": {
       "model_id": "",
       "version_major": 2,
       "version_minor": 0
      },
      "text/plain": [
       "FloatProgress(value=0.0, bar_style='info', description='Progress:', layout=Layout(height='25px', width='50%'),…"
      ]
     },
     "metadata": {},
     "output_type": "display_data"
    },
    {
     "name": "stdout",
     "output_type": "stream",
     "text": [
      "+--------------------------------+-----------------+------------------+\n",
      "|query                           |similargrouplevel|discount          |\n",
      "+--------------------------------+-----------------+------------------+\n",
      "|#_black_#_4_full-length sleeve_#|830216013        |14.039917502521597|\n",
      "|#_black_#_4_full-length sleeve_#|830303011        |11.759362207500645|\n",
      "+--------------------------------+-----------------+------------------+\n",
      "\n"
     ]
    }
   ],
   "source": [
    "discountQueryLevel.filter(col(\"query\") === \"#_black_#_4_full-length sleeve_#\").show(false)"
   ]
  },
  {
   "cell_type": "code",
   "execution_count": 44,
   "metadata": {},
   "outputs": [
    {
     "data": {
      "application/vnd.jupyter.widget-view+json": {
       "model_id": "",
       "version_major": 2,
       "version_minor": 0
      },
      "text/plain": [
       "FloatProgress(value=0.0, bar_style='info', description='Progress:', layout=Layout(height='25px', width='50%'),…"
      ]
     },
     "metadata": {},
     "output_type": "display_data"
    },
    {
     "name": "stdout",
     "output_type": "stream",
     "text": [
      "\u001b[1m\u001b[34mdiscount\u001b[0m: \u001b[1m\u001b[32morg.apache.spark.sql.DataFrame\u001b[0m = [query: string, similargrouplevel: string ... 1 more field]\n",
      "discount: org.apache.spark.sql.DataFrame = [query: string, similargrouplevel: string ... 1 more field]\n"
     ]
    }
   ],
   "source": [
    "var discount = (\n",
    "    predictions.select(\"query\", \"similargrouplevel\")\n",
    "    .join(discountQueryLevel, Seq(\"query\", SIMILAR_GROUP_LEVEL), \"left\")\n",
    "    .na.fill(0.0)\n",
    "    .select(\"query\", \"similargrouplevel\", \"discount\")\n",
    ")\n",
    "\n",
    "DFToParquet.putDF(\"/data/Archive/bhavesh/InventoryPrediction/2023-04-30/dashboardMetrics/discount\", discount)\n",
    "discount = ParquetToDF.getDF(\"/data/Archive/bhavesh/InventoryPrediction/2023-04-30/dashboardMetrics/discount\")"
   ]
  },
  {
   "cell_type": "code",
   "execution_count": 23,
   "metadata": {},
   "outputs": [
    {
     "data": {
      "application/vnd.jupyter.widget-view+json": {
       "model_id": "",
       "version_major": 2,
       "version_minor": 0
      },
      "text/plain": [
       "FloatProgress(value=0.0, bar_style='info', description='Progress:', layout=Layout(height='25px', width='50%'),…"
      ]
     },
     "metadata": {},
     "output_type": "display_data"
    },
    {
     "name": "stdout",
     "output_type": "stream",
     "text": [
      "\u001b[1m\u001b[34mdiscount\u001b[0m: \u001b[1m\u001b[32morg.apache.spark.sql.DataFrame\u001b[0m = [query: string, similargrouplevel: string ... 1 more field]\n"
     ]
    }
   ],
   "source": [
    "var discount = ParquetToDF.getDF(\"/data/Archive/bhavesh/InventoryPrediction/2023-04-30/dashboardMetrics/discount\")"
   ]
  },
  {
   "cell_type": "code",
   "execution_count": 24,
   "metadata": {},
   "outputs": [
    {
     "data": {
      "application/vnd.jupyter.widget-view+json": {
       "model_id": "",
       "version_major": 2,
       "version_minor": 0
      },
      "text/plain": [
       "FloatProgress(value=0.0, bar_style='info', description='Progress:', layout=Layout(height='25px', width='50%'),…"
      ]
     },
     "metadata": {},
     "output_type": "display_data"
    },
    {
     "name": "stdout",
     "output_type": "stream",
     "text": [
      "\u001b[1m\u001b[34mres39\u001b[0m: \u001b[1m\u001b[32mLong\u001b[0m = 765221\n"
     ]
    }
   ],
   "source": [
    "discount.count"
   ]
  },
  {
   "cell_type": "code",
   "execution_count": 25,
   "metadata": {},
   "outputs": [
    {
     "data": {
      "application/vnd.jupyter.widget-view+json": {
       "model_id": "",
       "version_major": 2,
       "version_minor": 0
      },
      "text/plain": [
       "FloatProgress(value=0.0, bar_style='info', description='Progress:', layout=Layout(height='25px', width='50%'),…"
      ]
     },
     "metadata": {},
     "output_type": "display_data"
    },
    {
     "name": "stdout",
     "output_type": "stream",
     "text": [
      "+----------------------------------+-----------------+------------------+\n",
      "|query                             |similargrouplevel|discount          |\n",
      "+----------------------------------+-----------------+------------------+\n",
      "|#_#_#_2_#_2piece-sets             |830303011        |70.0              |\n",
      "|#_#_#_3_3-4th sleeve_anarkali     |830303011        |26.78706999565042 |\n",
      "|#_#_#_3_full-length sleeve_classic|830216013        |30.552704830847677|\n",
      "|#_#_#_4_full-length sleeve_utility|830216013        |33.98458287687867 |\n",
      "|#_#_#_6_full-length sleeve_flared |830303011        |17.283471512952453|\n",
      "+----------------------------------+-----------------+------------------+\n",
      "only showing top 5 rows\n",
      "\n"
     ]
    }
   ],
   "source": [
    "discount.show(5, false)"
   ]
  },
  {
   "cell_type": "code",
   "execution_count": 48,
   "metadata": {},
   "outputs": [
    {
     "data": {
      "application/vnd.jupyter.widget-view+json": {
       "model_id": "",
       "version_major": 2,
       "version_minor": 0
      },
      "text/plain": [
       "FloatProgress(value=0.0, bar_style='info', description='Progress:', layout=Layout(height='25px', width='50%'),…"
      ]
     },
     "metadata": {},
     "output_type": "display_data"
    },
    {
     "name": "stdout",
     "output_type": "stream",
     "text": [
      "\u001b[1m\u001b[34mres54\u001b[0m: \u001b[1m\u001b[32mLong\u001b[0m = 765221\n"
     ]
    }
   ],
   "source": [
    "impressions.count"
   ]
  },
  {
   "cell_type": "code",
   "execution_count": 26,
   "metadata": {},
   "outputs": [
    {
     "data": {
      "application/vnd.jupyter.widget-view+json": {
       "model_id": "",
       "version_major": 2,
       "version_minor": 0
      },
      "text/plain": [
       "FloatProgress(value=0.0, bar_style='info', description='Progress:', layout=Layout(height='25px', width='50%'),…"
      ]
     },
     "metadata": {},
     "output_type": "display_data"
    },
    {
     "name": "stdout",
     "output_type": "stream",
     "text": [
      "+-------+------------------+\n",
      "|summary|discount          |\n",
      "+-------+------------------+\n",
      "|count  |765221            |\n",
      "|mean   |50.266337388129976|\n",
      "|stddev |21.091183787796652|\n",
      "|min    |0.0               |\n",
      "|max    |95.02251125562782 |\n",
      "+-------+------------------+\n",
      "\n"
     ]
    }
   ],
   "source": [
    "discount.select(\"discount\").describe().show(false)"
   ]
  },
  {
   "cell_type": "markdown",
   "metadata": {},
   "source": [
    "### derive product level views from predicted impressions for query"
   ]
  },
  {
   "cell_type": "code",
   "execution_count": 27,
   "metadata": {},
   "outputs": [
    {
     "data": {
      "application/vnd.jupyter.widget-view+json": {
       "model_id": "",
       "version_major": 2,
       "version_minor": 0
      },
      "text/plain": [
       "FloatProgress(value=0.0, bar_style='info', description='Progress:', layout=Layout(height='25px', width='50%'),…"
      ]
     },
     "metadata": {},
     "output_type": "display_data"
    },
    {
     "name": "stdout",
     "output_type": "stream",
     "text": [
      "\u001b[1m\u001b[34mproductMetrics\u001b[0m: \u001b[1m\u001b[32morg.apache.spark.sql.DataFrame\u001b[0m = [productid: string, quantity: double ... 1 more field]\n",
      "root\n",
      " |-- productid: string (nullable = true)\n",
      " |-- quantity: double (nullable = true)\n",
      " |-- impressions: double (nullable = true)\n",
      "\n"
     ]
    }
   ],
   "source": [
    "var productMetrics = ParquetToDF.getDF(\"/data/Archive/bhavesh/InventoryPrediction/temp/dashboard_metrics/productLevelMetrics\")\n",
    "productMetrics.printSchema"
   ]
  },
  {
   "cell_type": "code",
   "execution_count": 28,
   "metadata": {},
   "outputs": [
    {
     "data": {
      "application/vnd.jupyter.widget-view+json": {
       "model_id": "",
       "version_major": 2,
       "version_minor": 0
      },
      "text/plain": [
       "FloatProgress(value=0.0, bar_style='info', description='Progress:', layout=Layout(height='25px', width='50%'),…"
      ]
     },
     "metadata": {},
     "output_type": "display_data"
    },
    {
     "name": "stdout",
     "output_type": "stream",
     "text": [
      "\u001b[1m\u001b[34mqueryLevelData\u001b[0m: \u001b[1m\u001b[32morg.apache.spark.sql.DataFrame\u001b[0m = [query: string, similargrouplevel: string ... 4 more fields]\n",
      "root\n",
      " |-- query: string (nullable = true)\n",
      " |-- similargrouplevel: string (nullable = true)\n",
      " |-- predicted: double (nullable = true)\n",
      " |-- actual: double (nullable = true)\n",
      " |-- quantity: double (nullable = true)\n",
      " |-- impressions: double (nullable = true)\n",
      "\n"
     ]
    }
   ],
   "source": [
    "var queryLevelData = load(\"completeQuantityImpressionsQueryLevel\")\n",
    "queryLevelData.printSchema"
   ]
  },
  {
   "cell_type": "code",
   "execution_count": 29,
   "metadata": {},
   "outputs": [
    {
     "data": {
      "application/vnd.jupyter.widget-view+json": {
       "model_id": "",
       "version_major": 2,
       "version_minor": 0
      },
      "text/plain": [
       "FloatProgress(value=0.0, bar_style='info', description='Progress:', layout=Layout(height='25px', width='50%'),…"
      ]
     },
     "metadata": {},
     "output_type": "display_data"
    },
    {
     "name": "stdout",
     "output_type": "stream",
     "text": [
      "\u001b[1m\u001b[34mqueryMetrics\u001b[0m: \u001b[1m\u001b[32morg.apache.spark.sql.Dataset[org.apache.spark.sql.Row]\u001b[0m = [productid: string, quantity: double ... 4 more fields]\n",
      "\u001b[1m\u001b[34mqueryMetricsStats\u001b[0m: \u001b[1m\u001b[32morg.apache.spark.sql.DataFrame\u001b[0m = [query: string, similargrouplevel: int ... 2 more fields]\n",
      "queryMetrics: org.apache.spark.sql.Dataset[org.apache.spark.sql.Row] = [query: string, similargrouplevel: int ... 7 more fields]\n"
     ]
    }
   ],
   "source": [
    "var queryMetrics = productMetrics.join(queriesToProductMap, Seq(PRODUCTID)).transform(saveNLoadDF(\"queryWiseImpressionsQuantity\"))\n",
    "var queryMetricsStats = queryMetrics.groupBy(\"query\", \"similargrouplevel\").agg(sum(\"impressions\") as \"sum_impressions\", sum(\"quantity\") as \"sum_quantity\")\n",
    "\n",
    "queryMetrics = (\n",
    "    queryMetrics.join(queryMetricsStats, Seq(\"query\", \"similargrouplevel\"))\n",
    "    .withColumn(\"viewsFraction\", col(\"impressions\")/col(\"sum_impressions\").cast(DoubleType))\n",
    "    .withColumn(\"quantityFraction\", col(\"quantity\")/col(\"sum_quantity\").cast(DoubleType))\n",
    "    .select(\"productid\", \"query\", \"similargrouplevel\", \"viewsFraction\", \"quantityFraction\")\n",
    "    .transform(saveNLoadDF(\"queryWiseProductFraction\"))\n",
    "    .join(queryLevelData, Seq(\"query\", \"similargrouplevel\"))\n",
    "    .withColumn(\"impressions\", col(\"impressions\") * col(\"viewsFraction\"))\n",
    "    .withColumn(\"predicted\", col(\"predicted\") * col(\"quantityFraction\"))\n",
    "    .withColumn(\"actual\", col(\"actual\") * col(\"quantityFraction\"))\n",
    "    .transform(saveNLoadDF(\"featuresProductLevelFromQueryLevel\"))\n",
    ")"
   ]
  },
  {
   "cell_type": "code",
   "execution_count": 30,
   "metadata": {},
   "outputs": [
    {
     "data": {
      "application/vnd.jupyter.widget-view+json": {
       "model_id": "",
       "version_major": 2,
       "version_minor": 0
      },
      "text/plain": [
       "FloatProgress(value=0.0, bar_style='info', description='Progress:', layout=Layout(height='25px', width='50%'),…"
      ]
     },
     "metadata": {},
     "output_type": "display_data"
    },
    {
     "name": "stdout",
     "output_type": "stream",
     "text": [
      "root\n",
      " |-- query: string (nullable = true)\n",
      " |-- similargrouplevel: integer (nullable = true)\n",
      " |-- productid: string (nullable = true)\n",
      " |-- viewsFraction: double (nullable = true)\n",
      " |-- quantityFraction: double (nullable = true)\n",
      " |-- predicted: double (nullable = true)\n",
      " |-- actual: double (nullable = true)\n",
      " |-- quantity: double (nullable = true)\n",
      " |-- impressions: double (nullable = true)\n",
      "\n"
     ]
    }
   ],
   "source": [
    "queryMetrics.printSchema"
   ]
  },
  {
   "cell_type": "code",
   "execution_count": 31,
   "metadata": {},
   "outputs": [
    {
     "data": {
      "application/vnd.jupyter.widget-view+json": {
       "model_id": "",
       "version_major": 2,
       "version_minor": 0
      },
      "text/plain": [
       "FloatProgress(value=0.0, bar_style='info', description='Progress:', layout=Layout(height='25px', width='50%'),…"
      ]
     },
     "metadata": {},
     "output_type": "display_data"
    },
    {
     "name": "stdout",
     "output_type": "stream",
     "text": [
      "\u001b[1m\u001b[34mres46\u001b[0m: \u001b[1m\u001b[32mLong\u001b[0m = 20592793\n"
     ]
    }
   ],
   "source": [
    "queryMetrics.count"
   ]
  },
  {
   "cell_type": "code",
   "execution_count": 32,
   "metadata": {},
   "outputs": [
    {
     "data": {
      "application/vnd.jupyter.widget-view+json": {
       "model_id": "",
       "version_major": 2,
       "version_minor": 0
      },
      "text/plain": [
       "FloatProgress(value=0.0, bar_style='info', description='Progress:', layout=Layout(height='25px', width='50%'),…"
      ]
     },
     "metadata": {},
     "output_type": "display_data"
    },
    {
     "name": "stdout",
     "output_type": "stream",
     "text": [
      "\u001b[1m\u001b[34mres47\u001b[0m: \u001b[1m\u001b[32mLong\u001b[0m = 20592304\n"
     ]
    }
   ],
   "source": [
    "queryMetrics.na.drop.count"
   ]
  },
  {
   "cell_type": "code",
   "execution_count": 33,
   "metadata": {},
   "outputs": [
    {
     "data": {
      "application/vnd.jupyter.widget-view+json": {
       "model_id": "",
       "version_major": 2,
       "version_minor": 0
      },
      "text/plain": [
       "FloatProgress(value=0.0, bar_style='info', description='Progress:', layout=Layout(height='25px', width='50%'),…"
      ]
     },
     "metadata": {},
     "output_type": "display_data"
    }
   ],
   "source": [
    "DFToParquet.putDF(\"/data/ecomm/ajio/processed/inventory/integrationSimulator/productPredictions\", queryMetrics)"
   ]
  },
  {
   "cell_type": "code",
   "execution_count": 34,
   "metadata": {},
   "outputs": [
    {
     "data": {
      "application/vnd.jupyter.widget-view+json": {
       "model_id": "",
       "version_major": 2,
       "version_minor": 0
      },
      "text/plain": [
       "FloatProgress(value=0.0, bar_style='info', description='Progress:', layout=Layout(height='25px', width='50%'),…"
      ]
     },
     "metadata": {},
     "output_type": "display_data"
    },
    {
     "name": "stdout",
     "output_type": "stream",
     "text": [
      "\u001b[1m\u001b[34mres49\u001b[0m: \u001b[1m\u001b[32mLong\u001b[0m = 434089\n"
     ]
    }
   ],
   "source": [
    "queryMetrics.select(PRODUCTID).distinct.count"
   ]
  },
  {
   "cell_type": "markdown",
   "metadata": {},
   "source": [
    "### Dashboard Metrics"
   ]
  },
  {
   "cell_type": "code",
   "execution_count": 35,
   "metadata": {},
   "outputs": [
    {
     "data": {
      "application/vnd.jupyter.widget-view+json": {
       "model_id": "",
       "version_major": 2,
       "version_minor": 0
      },
      "text/plain": [
       "FloatProgress(value=0.0, bar_style='info', description='Progress:', layout=Layout(height='25px', width='50%'),…"
      ]
     },
     "metadata": {},
     "output_type": "display_data"
    },
    {
     "name": "stdout",
     "output_type": "stream",
     "text": [
      "\u001b[1m\u001b[34maggregatedImpressions\u001b[0m: \u001b[1m\u001b[32morg.apache.spark.sql.DataFrame\u001b[0m = [query: string, similargrouplevel: string ... 1 more field]\n",
      "\u001b[1m\u001b[34maggregatedDiscount\u001b[0m: \u001b[1m\u001b[32morg.apache.spark.sql.DataFrame\u001b[0m = [query: string, similargrouplevel: string ... 1 more field]\n",
      "\u001b[1m\u001b[34mdashboardMetricsAggregated\u001b[0m: \u001b[1m\u001b[32morg.apache.spark.sql.DataFrame\u001b[0m = [query: string, similargrouplevel: string ... 2 more fields]\n",
      "765221\n"
     ]
    }
   ],
   "source": [
    "var aggregatedImpressions = ParquetToDF.getDF(\"/data/Archive/bhavesh/InventoryPrediction/2023-04-30/dashboardMetrics/impressions\")\n",
    "var aggregatedDiscount = ParquetToDF.getDF(\"/data/Archive/bhavesh/InventoryPrediction/2023-04-30/dashboardMetrics/discount\")\n",
    "\n",
    "var dashboardMetricsAggregated = aggregatedImpressions.join(aggregatedDiscount, Seq(\"query\", \"similargrouplevel\"))\n",
    "println(dashboardMetricsAggregated.count)"
   ]
  },
  {
   "cell_type": "code",
   "execution_count": 36,
   "metadata": {},
   "outputs": [
    {
     "data": {
      "application/vnd.jupyter.widget-view+json": {
       "model_id": "",
       "version_major": 2,
       "version_minor": 0
      },
      "text/plain": [
       "FloatProgress(value=0.0, bar_style='info', description='Progress:', layout=Layout(height='25px', width='50%'),…"
      ]
     },
     "metadata": {},
     "output_type": "display_data"
    },
    {
     "name": "stdout",
     "output_type": "stream",
     "text": [
      "\u001b[1m\u001b[34mdashboardMetricsAvg\u001b[0m: \u001b[1m\u001b[32morg.apache.spark.sql.DataFrame\u001b[0m = [query: string, similargrouplevel: int ... 7 more fields]\n",
      "root\n",
      " |-- query: string (nullable = true)\n",
      " |-- similargrouplevel: integer (nullable = true)\n",
      " |-- predicted_stats: struct (nullable = false)\n",
      " |    |-- min: double (nullable = true)\n",
      " |    |-- percentile_25: double (nullable = true)\n",
      " |    |-- percentile_50: double (nullable = true)\n",
      " |    |-- percentile_75: double (nullable = true)\n",
      " |    |-- max: double (nullable = true)\n",
      " |-- impressions_stats: struct (nullable = false)\n",
      " |    |-- min: double (nullable = true)\n",
      " |    |-- percentile_25: double (nullable = true)\n",
      " |    |-- percentile_50: double (nullable = true)\n",
      " |    |-- percentile_75: double (nullable = true)\n",
      " |    |-- max: double (nullable = true)\n",
      " |-- actual_stats: struct (nullable = false)\n",
      " |    |-- min: double (nullable = true)\n",
      " |    |-- percentile_25: double (nullable = true)\n",
      " |    |-- percentile_50: double (nullable = true)\n",
      " |    |-- percentile_75: double (nullable = true)\n",
      " |    |-- max: double (nullable = true)\n",
      " |-- avg_impressions: double (nullable = true)\n",
      " |-- avg_predicted: double (nullable = true)\n",
      " |-- avg_actual: double (nullable = true)\n",
      " |-- numProducts: long (nullable = false)\n",
      "\n"
     ]
    }
   ],
   "source": [
    "var dashboardMetricsAvg = (\n",
    "    load(\"featuresProductLevelFromQueryLevel\").filter(col(\"impressions\") > 0 && !col(\"impressions\").isNull && col(\"quantityFraction\") > 0)\n",
    "    .groupBy(\"query\", \"similargrouplevel\")\n",
    "    .agg(\n",
    "        struct(\n",
    "            min(\"predicted\").as(\"min\"), \n",
    "            callUDF(\"percentile\", col(\"predicted\"), lit(0.25)).as(\"percentile_25\"),\n",
    "            callUDF(\"percentile\", col(\"predicted\"), lit(0.5)).as(\"percentile_50\"),\n",
    "            callUDF(\"percentile\", col(\"predicted\"), lit(0.75)).as(\"percentile_75\"),\n",
    "            max(\"predicted\").as(\"max\")\n",
    "        ) as \"predicted_stats\",\n",
    "        struct(\n",
    "            min(\"impressions\").as(\"min\"), \n",
    "            callUDF(\"percentile\", col(\"impressions\"), lit(0.25)).as(\"percentile_25\"),\n",
    "            callUDF(\"percentile\", col(\"impressions\"), lit(0.5)).as(\"percentile_50\"),\n",
    "            callUDF(\"percentile\", col(\"impressions\"), lit(0.75)).as(\"percentile_75\"),\n",
    "            max(\"impressions\").as(\"max\")\n",
    "        ) as \"impressions_stats\",\n",
    "        struct(\n",
    "            min(\"actual\").as(\"min\"), \n",
    "            callUDF(\"percentile\", col(\"actual\"), lit(0.25)).as(\"percentile_25\"),\n",
    "            callUDF(\"percentile\", col(\"actual\"), lit(0.5)).as(\"percentile_50\"),\n",
    "            callUDF(\"percentile\", col(\"actual\"), lit(0.75)).as(\"percentile_75\"),\n",
    "            max(\"actual\").as(\"max\")\n",
    "        ) as \"actual_stats\",\n",
    "        avg(\"impressions\") as \"avg_impressions\",\n",
    "        avg(\"predicted\") as \"avg_predicted\",\n",
    "        avg(\"actual\") as \"avg_actual\",\n",
    "        count(\"productid\") as \"numProducts\"\n",
    "    )\n",
    ")\n",
    "dashboardMetricsAvg.printSchema"
   ]
  },
  {
   "cell_type": "code",
   "execution_count": 37,
   "metadata": {},
   "outputs": [
    {
     "data": {
      "application/vnd.jupyter.widget-view+json": {
       "model_id": "",
       "version_major": 2,
       "version_minor": 0
      },
      "text/plain": [
       "FloatProgress(value=0.0, bar_style='info', description='Progress:', layout=Layout(height='25px', width='50%'),…"
      ]
     },
     "metadata": {},
     "output_type": "display_data"
    },
    {
     "name": "stdout",
     "output_type": "stream",
     "text": [
      "\u001b[1m\u001b[34mres53\u001b[0m: \u001b[1m\u001b[32mLong\u001b[0m = 762659\n"
     ]
    }
   ],
   "source": [
    "dashboardMetricsAvg.count"
   ]
  },
  {
   "cell_type": "code",
   "execution_count": 38,
   "metadata": {},
   "outputs": [
    {
     "data": {
      "application/vnd.jupyter.widget-view+json": {
       "model_id": "",
       "version_major": 2,
       "version_minor": 0
      },
      "text/plain": [
       "FloatProgress(value=0.0, bar_style='info', description='Progress:', layout=Layout(height='25px', width='50%'),…"
      ]
     },
     "metadata": {},
     "output_type": "display_data"
    },
    {
     "name": "stdout",
     "output_type": "stream",
     "text": [
      "+-----------------------------------------------+-----------------+------------------------------------------------------------------------------------------------------+---------------------------------------------------------------------------------------------------+----------------------------------------------------------------------------------------------------------+------------------+------------------+-------------------+-----------+\n",
      "|query                                          |similargrouplevel|predicted_stats                                                                                       |impressions_stats                                                                                  |actual_stats                                                                                              |avg_impressions   |avg_predicted     |avg_actual         |numProducts|\n",
      "+-----------------------------------------------+-----------------+------------------------------------------------------------------------------------------------------+---------------------------------------------------------------------------------------------------+----------------------------------------------------------------------------------------------------------+------------------+------------------+-------------------+-----------+\n",
      "|#_#_#_2_short sleeve_indian                    |830216013        |[0.13106044453000773, 0.26212088906001546, 0.9174231117100541, 2.1297322236126255, 87.67943739057517] |[0.13106044453000773, 1379.8698902341864, 3256.458865237102, 6572.157051401767, 280009.32913391624]|[0.10692828838041672, 0.21385657676083344, 0.748498018662917, 1.7375846861817716, 71.53502492649879]      |6760.135839855487 |2.695533958484947 |2.1992053627293413 |760        |\n",
      "|#_#_abstract_1_sleeveless sleeve_regular-kurtas|830303011        |[0.05348970679349677, 0.30513446375381115, 0.7853261497408844, 1.7870424769645514, 3.6032611576346465]|[13.382152099609376, 32.182568362369096, 178.6167190853385, 391.20791171062825, 608.479453680349]  |[0.03069767441860465, 0.17511627906976743, 0.45069767441860464, 1.025581395348837, 2.067906976744186]     |244.77376098765887|1.306850790977478 |0.75               |4          |\n",
      "|#_#_baroque_2_#_#                              |830216013        |[0.09974250197410583, 0.39897000789642334, 0.6981975138187408, 1.9449787884950638, 3.1917600631713867]|[43.08876085281372, 809.8592447787523, 1576.629728704691, 2522.2883899211884, 3467.9470511376862]  |[0.15000000000000002, 0.5999999999999999, 1.0499999999999998, 2.9250000000000003, 4.800000000000001]      |1695.8885135650635|1.3299000263214111|2.0                |3          |\n",
      "|#_#_block-print_#_full-length sleeve_anarkali  |830303011        |[0.7677405327558517, 0.7677405327558517, 0.7677405327558517, 0.7677405327558517, 0.7677405327558517]  |[8988.96207101643, 8988.96207101643, 8988.96207101643, 8988.96207101643, 8988.96207101643]         |[0.0, 0.0, 0.0, 0.0, 0.0]                                                                                 |8988.96207101643  |0.7677405327558517|0.0                |1          |\n",
      "|#_#_camouflage_2_full-length sleeve_indian     |830216013        |[0.0704053820682173, 0.22881749172170623, 0.5632430565457384, 0.7744592027503904, 5.280403655116298]  |[53.7193065180498, 2639.286557591262, 3814.8100192932525, 9119.609139296186, 12469.074785809556]   |[0.012605042016806723, 0.040966386554621856, 0.10084033613445378, 0.13865546218487396, 0.9453781512605042]|5602.234479370349 |0.9309156073464288|0.16666666666666666|18         |\n",
      "+-----------------------------------------------+-----------------+------------------------------------------------------------------------------------------------------+---------------------------------------------------------------------------------------------------+----------------------------------------------------------------------------------------------------------+------------------+------------------+-------------------+-----------+\n",
      "only showing top 5 rows\n",
      "\n"
     ]
    }
   ],
   "source": [
    "dashboardMetricsAvg.show(5, false)"
   ]
  },
  {
   "cell_type": "code",
   "execution_count": 39,
   "metadata": {},
   "outputs": [
    {
     "data": {
      "application/vnd.jupyter.widget-view+json": {
       "model_id": "",
       "version_major": 2,
       "version_minor": 0
      },
      "text/plain": [
       "FloatProgress(value=0.0, bar_style='info', description='Progress:', layout=Layout(height='25px', width='50%'),…"
      ]
     },
     "metadata": {},
     "output_type": "display_data"
    },
    {
     "name": "stdout",
     "output_type": "stream",
     "text": [
      "+----------------------------------+-----------------+-------------------+------------------+\n",
      "|query                             |similargrouplevel|impressions        |discount          |\n",
      "+----------------------------------+-----------------+-------------------+------------------+\n",
      "|#_#_#_2_#_2piece-sets             |830303011        |136.69046905636787 |70.0              |\n",
      "|#_#_#_3_3-4th sleeve_anarkali     |830303011        |8775390.589225857  |26.78706999565042 |\n",
      "|#_#_#_3_full-length sleeve_classic|830216013        |2.038563718529041E8|30.552704830847677|\n",
      "|#_#_#_4_full-length sleeve_utility|830216013        |260325.6715233877  |33.98458287687867 |\n",
      "|#_#_#_6_full-length sleeve_flared |830303011        |61640.09917333421  |17.283471512952453|\n",
      "+----------------------------------+-----------------+-------------------+------------------+\n",
      "only showing top 5 rows\n",
      "\n"
     ]
    }
   ],
   "source": [
    "dashboardMetricsAggregated.show(5, false)"
   ]
  },
  {
   "cell_type": "code",
   "execution_count": 40,
   "metadata": {},
   "outputs": [
    {
     "data": {
      "application/vnd.jupyter.widget-view+json": {
       "model_id": "",
       "version_major": 2,
       "version_minor": 0
      },
      "text/plain": [
       "FloatProgress(value=0.0, bar_style='info', description='Progress:', layout=Layout(height='25px', width='50%'),…"
      ]
     },
     "metadata": {},
     "output_type": "display_data"
    },
    {
     "name": "stdout",
     "output_type": "stream",
     "text": [
      "+---------------------------+-----------------+-----------------+-----------------+\n",
      "|query                      |similargrouplevel|impressions      |discount         |\n",
      "+---------------------------+-----------------+-----------------+-----------------+\n",
      "|#_#_#_2_short sleeve_indian|830216013        |5279109.332190486|41.53878442868594|\n",
      "+---------------------------+-----------------+-----------------+-----------------+\n",
      "\n"
     ]
    }
   ],
   "source": [
    "dashboardMetricsAggregated.filter(col(\"query\") === \"#_#_#_2_short sleeve_indian\").show(false)"
   ]
  },
  {
   "cell_type": "code",
   "execution_count": 79,
   "metadata": {},
   "outputs": [
    {
     "data": {
      "application/vnd.jupyter.widget-view+json": {
       "model_id": "",
       "version_major": 2,
       "version_minor": 0
      },
      "text/plain": [
       "FloatProgress(value=0.0, bar_style='info', description='Progress:', layout=Layout(height='25px', width='50%'),…"
      ]
     },
     "metadata": {},
     "output_type": "display_data"
    },
    {
     "name": "stdout",
     "output_type": "stream",
     "text": [
      "+---------------------------+-----------------+-----------------+-----------------+\n",
      "|query                      |similargrouplevel|impressions      |discount         |\n",
      "+---------------------------+-----------------+-----------------+-----------------+\n",
      "|#_#_#_2_short sleeve_indian|830216013        |5279109.332190486|41.53878442868594|\n",
      "+---------------------------+-----------------+-----------------+-----------------+\n",
      "\n"
     ]
    }
   ],
   "source": [
    "dashboardMetricsAggregated.filter(col(\"query\") === \"#_#_#_2_short sleeve_indian\").show(false)"
   ]
  },
  {
   "cell_type": "code",
   "execution_count": 41,
   "metadata": {},
   "outputs": [
    {
     "data": {
      "application/vnd.jupyter.widget-view+json": {
       "model_id": "",
       "version_major": 2,
       "version_minor": 0
      },
      "text/plain": [
       "FloatProgress(value=0.0, bar_style='info', description='Progress:', layout=Layout(height='25px', width='50%'),…"
      ]
     },
     "metadata": {},
     "output_type": "display_data"
    },
    {
     "name": "stdout",
     "output_type": "stream",
     "text": [
      "\u001b[1m\u001b[34mdashboardMetrics\u001b[0m: \u001b[1m\u001b[32morg.apache.spark.sql.DataFrame\u001b[0m = [query: string, similargrouplevel: string ... 9 more fields]\n",
      "root\n",
      " |-- query: string (nullable = true)\n",
      " |-- similargrouplevel: string (nullable = true)\n",
      " |-- impressions: double (nullable = true)\n",
      " |-- discount: double (nullable = true)\n",
      " |-- predicted_stats: struct (nullable = true)\n",
      " |    |-- min: double (nullable = true)\n",
      " |    |-- percentile_25: double (nullable = true)\n",
      " |    |-- percentile_50: double (nullable = true)\n",
      " |    |-- percentile_75: double (nullable = true)\n",
      " |    |-- max: double (nullable = true)\n",
      " |-- impressions_stats: struct (nullable = true)\n",
      " |    |-- min: double (nullable = true)\n",
      " |    |-- percentile_25: double (nullable = true)\n",
      " |    |-- percentile_50: double (nullable = true)\n",
      " |    |-- percentile_75: double (nullable = true)\n",
      " |    |-- max: double (nullable = true)\n",
      " |-- actual_stats: struct (nullable = true)\n",
      " |    |-- min: double (nullable = true)\n",
      " |    |-- percentile_25: double (nullable = true)\n",
      " |    |-- percentile_50: double (nullable = true)\n",
      " |    |-- percentile_75: double (nullable = true)\n",
      " |    |-- max: double (nullable = true)\n",
      " |-- avg_impressions: double (nullable = true)\n",
      " |-- avg_predicted: double (nullable = true)\n",
      " |-- avg_actual: double (nullable = true)\n",
      " |-- numProducts: long (nullable = true)\n",
      "\n",
      "765221\n"
     ]
    }
   ],
   "source": [
    "var dashboardMetrics = dashboardMetricsAggregated.join(dashboardMetricsAvg, Seq(\"query\", \"similargrouplevel\"), \"left\")\n",
    "dashboardMetrics.printSchema\n",
    "println(dashboardMetrics.count)"
   ]
  },
  {
   "cell_type": "code",
   "execution_count": 42,
   "metadata": {},
   "outputs": [
    {
     "data": {
      "application/vnd.jupyter.widget-view+json": {
       "model_id": "",
       "version_major": 2,
       "version_minor": 0
      },
      "text/plain": [
       "FloatProgress(value=0.0, bar_style='info', description='Progress:', layout=Layout(height='25px', width='50%'),…"
      ]
     },
     "metadata": {},
     "output_type": "display_data"
    },
    {
     "name": "stdout",
     "output_type": "stream",
     "text": [
      "dashboardMetrics: org.apache.spark.sql.DataFrame = [query: string, similargrouplevel: string ... 9 more fields]\n",
      "root\n",
      " |-- query: string (nullable = true)\n",
      " |-- similargrouplevel: string (nullable = true)\n",
      " |-- impressions: double (nullable = true)\n",
      " |-- discount: double (nullable = true)\n",
      " |-- predicted_stats: struct (nullable = true)\n",
      " |    |-- min: double (nullable = true)\n",
      " |    |-- percentile_25: double (nullable = true)\n",
      " |    |-- percentile_50: double (nullable = true)\n",
      " |    |-- percentile_75: double (nullable = true)\n",
      " |    |-- max: double (nullable = true)\n",
      " |-- impressions_stats: struct (nullable = true)\n",
      " |    |-- min: double (nullable = true)\n",
      " |    |-- percentile_25: double (nullable = true)\n",
      " |    |-- percentile_50: double (nullable = true)\n",
      " |    |-- percentile_75: double (nullable = true)\n",
      " |    |-- max: double (nullable = true)\n",
      " |-- actual_stats: struct (nullable = true)\n",
      " |    |-- min: double (nullable = true)\n",
      " |    |-- percentile_25: double (nullable = true)\n",
      " |    |-- percentile_50: double (nullable = true)\n",
      " |    |-- percentile_75: double (nullable = true)\n",
      " |    |-- max: double (nullable = true)\n",
      " |-- avg_impressions: double (nullable = true)\n",
      " |-- avg_predicted: double (nullable = true)\n",
      " |-- avg_actual: double (nullable = true)\n",
      " |-- numProducts: long (nullable = true)\n",
      "\n"
     ]
    }
   ],
   "source": [
    "DFToParquet.putDF(\"/data/ecomm/ajio/processed/inventory/integrationSimulator/dashboardMetrics\", dashboardMetrics)\n",
    "dashboardMetrics = ParquetToDF.getDF(\"/data/ecomm/ajio/processed/inventory/integrationSimulator/dashboardMetrics\")\n",
    "\n",
    "dashboardMetrics.printSchema"
   ]
  },
  {
   "cell_type": "code",
   "execution_count": 43,
   "metadata": {},
   "outputs": [
    {
     "data": {
      "application/vnd.jupyter.widget-view+json": {
       "model_id": "",
       "version_major": 2,
       "version_minor": 0
      },
      "text/plain": [
       "FloatProgress(value=0.0, bar_style='info', description='Progress:', layout=Layout(height='25px', width='50%'),…"
      ]
     },
     "metadata": {},
     "output_type": "display_data"
    },
    {
     "name": "stdout",
     "output_type": "stream",
     "text": [
      "\u001b[1m\u001b[34mres62\u001b[0m: \u001b[1m\u001b[32mLong\u001b[0m = 765221\n"
     ]
    }
   ],
   "source": [
    "dashboardMetrics.count"
   ]
  },
  {
   "cell_type": "code",
   "execution_count": 44,
   "metadata": {},
   "outputs": [
    {
     "data": {
      "application/vnd.jupyter.widget-view+json": {
       "model_id": "",
       "version_major": 2,
       "version_minor": 0
      },
      "text/plain": [
       "FloatProgress(value=0.0, bar_style='info', description='Progress:', layout=Layout(height='25px', width='50%'),…"
      ]
     },
     "metadata": {},
     "output_type": "display_data"
    },
    {
     "name": "stdout",
     "output_type": "stream",
     "text": [
      "\u001b[1m\u001b[34mres63\u001b[0m: \u001b[1m\u001b[32mLong\u001b[0m = 0\n"
     ]
    }
   ],
   "source": [
    "dashboardMetrics.filter(col(\"query\") === \"#_#_#_#_#_#\").count"
   ]
  },
  {
   "cell_type": "code",
   "execution_count": 45,
   "metadata": {},
   "outputs": [
    {
     "data": {
      "application/vnd.jupyter.widget-view+json": {
       "model_id": "",
       "version_major": 2,
       "version_minor": 0
      },
      "text/plain": [
       "FloatProgress(value=0.0, bar_style='info', description='Progress:', layout=Layout(height='25px', width='50%'),…"
      ]
     },
     "metadata": {},
     "output_type": "display_data"
    },
    {
     "name": "stdout",
     "output_type": "stream",
     "text": [
      "+-------------------------------+-----------------+-----------------+-----------------+-------------------------------------------------------------------------------------------------+-------------------------------------------------------------------------------------------------+-----------------------------------------------------------------------------------------------------+------------------+------------------+------------------+-----------+\n",
      "|query                          |similargrouplevel|impressions      |discount         |predicted_stats                                                                                  |impressions_stats                                                                                |actual_stats                                                                                         |avg_impressions   |avg_predicted     |avg_actual        |numProducts|\n",
      "+-------------------------------+-----------------+-----------------+-----------------+-------------------------------------------------------------------------------------------------+-------------------------------------------------------------------------------------------------+-----------------------------------------------------------------------------------------------------+------------------+------------------+------------------+-----------+\n",
      "|#_beige_#_1_3-4th sleeve_a-line|830303011        |2214022.080748933|64.06952023169832|[0.1862506874549411, 0.5121893905010881, 1.862506874549411, 29.93979800838178, 303.4023698640991]|[34.27012649170916, 2365.6631067089347, 5835.140912619578, 63946.79884138898, 347646.59317039524]|[0.08708198947547105, 0.2394754710575454, 0.8708198947547106, 13.998429808181971, 141.85656085554237]|61498.171400679304|30.477855549918292|14.249999999999996|36         |\n",
      "+-------------------------------+-----------------+-----------------+-----------------+-------------------------------------------------------------------------------------------------+-------------------------------------------------------------------------------------------------+-----------------------------------------------------------------------------------------------------+------------------+------------------+------------------+-----------+\n",
      "\n"
     ]
    }
   ],
   "source": [
    "dashboardMetrics.filter(col(\"query\") === \"#_beige_#_1_3-4th sleeve_a-line\").show(false)"
   ]
  },
  {
   "cell_type": "code",
   "execution_count": 46,
   "metadata": {},
   "outputs": [
    {
     "data": {
      "application/vnd.jupyter.widget-view+json": {
       "model_id": "",
       "version_major": 2,
       "version_minor": 0
      },
      "text/plain": [
       "FloatProgress(value=0.0, bar_style='info', description='Progress:', layout=Layout(height='25px', width='50%'),…"
      ]
     },
     "metadata": {},
     "output_type": "display_data"
    },
    {
     "name": "stdout",
     "output_type": "stream",
     "text": [
      "+-----------------------------+-----------------+-----------+-----------------+---------------+-----------------+------------+---------------+-------------+----------+-----------+\n",
      "|query                        |similargrouplevel|impressions|discount         |predicted_stats|impressions_stats|actual_stats|avg_impressions|avg_predicted|avg_actual|numProducts|\n",
      "+-----------------------------+-----------------+-----------+-----------------+---------------+-----------------+------------+---------------+-------------+----------+-----------+\n",
      "|abhishti_#_solid_4_#_anarkali|830303011        |0.0        |38.77367939461646|null           |null             |null        |null           |null         |null      |null       |\n",
      "+-----------------------------+-----------------+-----------+-----------------+---------------+-----------------+------------+---------------+-------------+----------+-----------+\n",
      "only showing top 1 row\n",
      "\n"
     ]
    }
   ],
   "source": [
    "dashboardMetrics.filter(col(\"predicted_stats\").isNull).show(1, false)"
   ]
  },
  {
   "cell_type": "code",
   "execution_count": 83,
   "metadata": {},
   "outputs": [
    {
     "data": {
      "application/vnd.jupyter.widget-view+json": {
       "model_id": "",
       "version_major": 2,
       "version_minor": 0
      },
      "text/plain": [
       "FloatProgress(value=0.0, bar_style='info', description='Progress:', layout=Layout(height='25px', width='50%'),…"
      ]
     },
     "metadata": {},
     "output_type": "display_data"
    },
    {
     "name": "stdout",
     "output_type": "stream",
     "text": [
      "+-------------------------------+-----------------+-----------------+-----------------+-------------------------------------------------------------------------------------------------+-------------------------------------------------------------------------------------------------+------------------+-----------------+-----------+\n",
      "|query                          |similargrouplevel|impressions      |discount         |predicted_stats                                                                                  |impressions_stats                                                                                |avg_impressions   |avg_predicted    |numProducts|\n",
      "+-------------------------------+-----------------+-----------------+-----------------+-------------------------------------------------------------------------------------------------+-------------------------------------------------------------------------------------------------+------------------+-----------------+-----------+\n",
      "|#_beige_#_1_3-4th sleeve_a-line|830303011        |2214022.080748933|64.06952023169832|[0.1862506874549411, 0.5121893905010881, 1.862506874549411, 29.93979800838178, 303.4023698640991]|[34.27012649170916, 2365.6631067089347, 5835.140912619578, 63946.79884138898, 347646.59317039524]|61498.171400679304|30.47785554991828|36         |\n",
      "+-------------------------------+-----------------+-----------------+-----------------+-------------------------------------------------------------------------------------------------+-------------------------------------------------------------------------------------------------+------------------+-----------------+-----------+\n",
      "\n"
     ]
    }
   ],
   "source": [
    "dashboardMetrics.filter(col(\"query\") === \"#_beige_#_1_3-4th sleeve_a-line\").show(false)"
   ]
  },
  {
   "cell_type": "code",
   "execution_count": 84,
   "metadata": {},
   "outputs": [
    {
     "data": {
      "application/vnd.jupyter.widget-view+json": {
       "model_id": "",
       "version_major": 2,
       "version_minor": 0
      },
      "text/plain": [
       "FloatProgress(value=0.0, bar_style='info', description='Progress:', layout=Layout(height='25px', width='50%'),…"
      ]
     },
     "metadata": {},
     "output_type": "display_data"
    },
    {
     "name": "stdout",
     "output_type": "stream",
     "text": [
      "+-----------------------------+-----------------+-----------+-----------------+---------------+-----------------+---------------+-------------+-----------+\n",
      "|query                        |similargrouplevel|impressions|discount         |predicted_stats|impressions_stats|avg_impressions|avg_predicted|numProducts|\n",
      "+-----------------------------+-----------------+-----------+-----------------+---------------+-----------------+---------------+-------------+-----------+\n",
      "|abhishti_#_solid_4_#_anarkali|830303011        |0.0        |38.77367939461646|null           |null             |null           |null         |null       |\n",
      "+-----------------------------+-----------------+-----------+-----------------+---------------+-----------------+---------------+-------------+-----------+\n",
      "only showing top 1 row\n",
      "\n"
     ]
    }
   ],
   "source": [
    "dashboardMetrics.filter(col(\"predicted_stats\").isNull).show(1, false)"
   ]
  },
  {
   "cell_type": "markdown",
   "metadata": {},
   "source": [
    "### New"
   ]
  },
  {
   "cell_type": "code",
   "execution_count": 86,
   "metadata": {},
   "outputs": [
    {
     "data": {
      "application/vnd.jupyter.widget-view+json": {
       "model_id": "",
       "version_major": 2,
       "version_minor": 0
      },
      "text/plain": [
       "FloatProgress(value=0.0, bar_style='info', description='Progress:', layout=Layout(height='25px', width='50%'),…"
      ]
     },
     "metadata": {},
     "output_type": "display_data"
    },
    {
     "name": "stdout",
     "output_type": "stream",
     "text": [
      "\u001b[1m\u001b[34mproductPredictions\u001b[0m: \u001b[1m\u001b[32morg.apache.spark.sql.DataFrame\u001b[0m = [query: string, similargrouplevel: int ... 6 more fields]\n",
      "root\n",
      " |-- query: string (nullable = true)\n",
      " |-- similargrouplevel: integer (nullable = true)\n",
      " |-- productid: string (nullable = true)\n",
      " |-- viewsFraction: double (nullable = true)\n",
      " |-- quantityFraction: double (nullable = true)\n",
      " |-- predicted: double (nullable = true)\n",
      " |-- quantity: double (nullable = true)\n",
      " |-- impressions: double (nullable = true)\n",
      "\n",
      "\u001b[1m\u001b[34mpredictions\u001b[0m: \u001b[1m\u001b[32morg.apache.spark.sql.DataFrame\u001b[0m = [similargrouplevel: string, category_name: string ... 7 more fields]\n",
      "root\n",
      " |-- similargrouplevel: string (nullable = true)\n",
      " |-- category_name: string (nullable = true)\n",
      " |-- query: string (nullable = true)\n",
      " |-- m1: double (nullable = true)\n",
      " |-- m2: double (nullable = true)\n",
      " |-- m3: double (nullable = true)\n",
      " |-- m4: double (nullable = true)\n",
      " |-- m5: double (nullable = true)\n",
      " |-- m6: double (nullable = true)\n",
      "\n",
      "\u001b[1m\u001b[34mdashboardMetrics\u001b[0m: \u001b[1m\u001b[32morg.apache.spark.sql.DataFrame\u001b[0m = [query: string, similargrouplevel: string ... 7 more fields]\n",
      "root\n",
      " |-- query: string (nullable = true)\n",
      " |-- similargrouplevel: string (nullable = true)\n",
      " |-- impressions: double (nullable = true)\n",
      " |-- discount: double (nullable = true)\n",
      " |-- predicted_stats: struct (nullable = true)\n",
      " |    |-- min: double (nullable = true)\n",
      " |    |-- percentile_25: double (nullable = true)\n",
      " |    |-- percentile_50: double (nullable = true)\n",
      " |    |-- percentile_75: double (nullable = true)\n",
      " |    |-- max: double (nullable = true)\n",
      " |-- impressions_stats: struct (nullable = true)\n",
      " |    |-- min: double (nullable = true)\n",
      " |    |-- percentile_25: double (nullable = true)\n",
      " |    |-- percentile_50: double (nullable = true)\n",
      " |    |-- percentile_75: double (nullable = true)\n",
      " |    |-- max: double (nullable = true)\n",
      " |-- avg_impressions: double (nullable = true)\n",
      " |-- avg_predicted: double (nullable = true)\n",
      " |-- numProducts: long (nullable = true)\n",
      "\n"
     ]
    }
   ],
   "source": [
    "var productPredictions = ParquetToDF.getDF(\"/data/ecomm/ajio/processed/inventory/integrationSimulator/productPredictions\")\n",
    "productPredictions.printSchema\n",
    "\n",
    "var predictions = ParquetToDF.getDF(\"/data/ecomm/ajio/processed/inventory/integrationSimulator/predictions\")\n",
    "predictions.printSchema\n",
    "\n",
    "var dashboardMetrics = ParquetToDF.getDF(\"/data/ecomm/ajio/processed/inventory/integrationSimulator/dashboardMetrics\")\n",
    "dashboardMetrics.printSchema"
   ]
  },
  {
   "cell_type": "code",
   "execution_count": 87,
   "metadata": {},
   "outputs": [
    {
     "data": {
      "application/vnd.jupyter.widget-view+json": {
       "model_id": "",
       "version_major": 2,
       "version_minor": 0
      },
      "text/plain": [
       "FloatProgress(value=0.0, bar_style='info', description='Progress:', layout=Layout(height='25px', width='50%'),…"
      ]
     },
     "metadata": {},
     "output_type": "display_data"
    },
    {
     "name": "stdout",
     "output_type": "stream",
     "text": [
      "+-----------------+-------------+-------------------------------------------------+------------------+------------------+------------------+------------------+------------------+------------------+\n",
      "|similargrouplevel|category_name|query                                            |m1                |m2                |m3                |m4                |m5                |m6                |\n",
      "+-----------------+-------------+-------------------------------------------------+------------------+------------------+------------------+------------------+------------------+------------------+\n",
      "|830216013        |Men-Shirts   |campus-sutra_multi_stripes_2_short sleeve_classic|1041.2389748096466|1027.6615380048752|1007.5732480287552|1135.5232311487198|1084.8571891784668|1156.5783071517944|\n",
      "+-----------------+-------------+-------------------------------------------------+------------------+------------------+------------------+------------------+------------------+------------------+\n",
      "\n"
     ]
    }
   ],
   "source": [
    "predictions.filter(col(\"query\") === \"campus-sutra_multi_stripes_2_short sleeve_classic\").show(false)"
   ]
  },
  {
   "cell_type": "code",
   "execution_count": 88,
   "metadata": {},
   "outputs": [
    {
     "data": {
      "application/vnd.jupyter.widget-view+json": {
       "model_id": "",
       "version_major": 2,
       "version_minor": 0
      },
      "text/plain": [
       "FloatProgress(value=0.0, bar_style='info', description='Progress:', layout=Layout(height='25px', width='50%'),…"
      ]
     },
     "metadata": {},
     "output_type": "display_data"
    },
    {
     "name": "stdout",
     "output_type": "stream",
     "text": [
      "+-------------------------------------------------+-----------------+------------------+-----------------+---------------------------------------------------------------------------------------------------+-------------------------------------------------------------------------------------------------+----------------+-----------------+-----------+\n",
      "|query                                            |similargrouplevel|impressions       |discount         |predicted_stats                                                                                    |impressions_stats                                                                                |avg_impressions |avg_predicted    |numProducts|\n",
      "+-------------------------------------------------+-----------------+------------------+-----------------+---------------------------------------------------------------------------------------------------+-------------------------------------------------------------------------------------------------+----------------+-----------------+-----------+\n",
      "|campus-sutra_multi_stripes_2_short sleeve_classic|830216013        |1477749.1999075576|63.01239046339029|[0.39391133977666326, 1.7069491390322076, 10.241694834193245, 44.21654788993046, 490.5509218018713]|[1045.0467844274876, 5563.0128959959275, 12529.006680496404, 77329.2275007315, 648783.7939523577]|73887.4599953779|52.06194874048233|20         |\n",
      "+-------------------------------------------------+-----------------+------------------+-----------------+---------------------------------------------------------------------------------------------------+-------------------------------------------------------------------------------------------------+----------------+-----------------+-----------+\n",
      "\n"
     ]
    }
   ],
   "source": [
    "dashboardMetrics.filter(col(\"query\") === \"campus-sutra_multi_stripes_2_short sleeve_classic\").show(false)"
   ]
  },
  {
   "cell_type": "code",
   "execution_count": 89,
   "metadata": {},
   "outputs": [
    {
     "data": {
      "application/vnd.jupyter.widget-view+json": {
       "model_id": "",
       "version_major": 2,
       "version_minor": 0
      },
      "text/plain": [
       "FloatProgress(value=0.0, bar_style='info', description='Progress:', layout=Layout(height='25px', width='50%'),…"
      ]
     },
     "metadata": {},
     "output_type": "display_data"
    },
    {
     "name": "stdout",
     "output_type": "stream",
     "text": [
      "+------------------+------------------+\n",
      "|sum(predicted)    |sum(impressions)  |\n",
      "+------------------+------------------+\n",
      "|1041.2389748096466|1477749.1999075578|\n",
      "+------------------+------------------+\n",
      "\n"
     ]
    }
   ],
   "source": [
    "productPredictions.filter(col(\"query\") === \"campus-sutra_multi_stripes_2_short sleeve_classic\").agg(sum(\"predicted\"), sum(\"impressions\")).show(false)"
   ]
  },
  {
   "cell_type": "markdown",
   "metadata": {},
   "source": [
    "#### Deprecated (query level hitrate) as not calculating actual at product level anymore"
   ]
  },
  {
   "cell_type": "code",
   "execution_count": 22,
   "metadata": {},
   "outputs": [
    {
     "data": {
      "application/vnd.jupyter.widget-view+json": {
       "model_id": "",
       "version_major": 2,
       "version_minor": 0
      },
      "text/plain": [
       "FloatProgress(value=0.0, bar_style='info', description='Progress:', layout=Layout(height='25px', width='50%'),…"
      ]
     },
     "metadata": {},
     "output_type": "display_data"
    },
    {
     "name": "stdout",
     "output_type": "stream",
     "text": [
      "\u001b[1m\u001b[34mproductLevelSigma\u001b[0m: \u001b[1m\u001b[32morg.apache.spark.sql.DataFrame\u001b[0m = [productid: string, stddev: double]\n",
      "root\n",
      " |-- productid: string (nullable = true)\n",
      " |-- stddev: double (nullable = true)\n",
      "\n"
     ]
    }
   ],
   "source": [
    "var productLevelSigma = ParquetToDF.getDF(\"/data/Archive/bhavesh/InventoryPrediction/2023-04-30/Statistics12Months/product\").select(\"productid\", \"stddev\")\n",
    "productLevelSigma.printSchema"
   ]
  },
  {
   "cell_type": "code",
   "execution_count": 32,
   "metadata": {},
   "outputs": [
    {
     "data": {
      "application/vnd.jupyter.widget-view+json": {
       "model_id": "",
       "version_major": 2,
       "version_minor": 0
      },
      "text/plain": [
       "FloatProgress(value=0.0, bar_style='info', description='Progress:', layout=Layout(height='25px', width='50%'),…"
      ]
     },
     "metadata": {},
     "output_type": "display_data"
    },
    {
     "name": "stdout",
     "output_type": "stream",
     "text": [
      "\u001b[1m\u001b[34mproductPreds\u001b[0m: \u001b[1m\u001b[32morg.apache.spark.sql.DataFrame\u001b[0m = [productid: string, query: string ... 4 more fields]\n",
      "root\n",
      " |-- productid: string (nullable = true)\n",
      " |-- query: string (nullable = true)\n",
      " |-- predicted: double (nullable = true)\n",
      " |-- similargrouplevel: integer (nullable = true)\n",
      " |-- actual: double (nullable = true)\n",
      " |-- template: string (nullable = true)\n",
      "\n",
      "7978258\n"
     ]
    }
   ],
   "source": [
    "var productPreds = productPredictions.filter(col(\"impressions\").isNotNull && col(\"impressions\")>0 && col(\"quantityFraction\")>0).select(\"productid\", \"query\", \"predicted\", \"similargrouplevel\", \"actual\", \"template\")\n",
    "productPreds.printSchema\n",
    "println(productPreds.count)"
   ]
  },
  {
   "cell_type": "code",
   "execution_count": 33,
   "metadata": {},
   "outputs": [
    {
     "data": {
      "application/vnd.jupyter.widget-view+json": {
       "model_id": "",
       "version_major": 2,
       "version_minor": 0
      },
      "text/plain": [
       "FloatProgress(value=0.0, bar_style='info', description='Progress:', layout=Layout(height='25px', width='50%'),…"
      ]
     },
     "metadata": {},
     "output_type": "display_data"
    },
    {
     "name": "stdout",
     "output_type": "stream",
     "text": [
      "\u001b[1m\u001b[34mres43\u001b[0m: \u001b[1m\u001b[32mLong\u001b[0m = 7978258\n"
     ]
    }
   ],
   "source": [
    "productPreds.join(productLevelSigma, Seq(PRODUCTID)).count"
   ]
  },
  {
   "cell_type": "code",
   "execution_count": 34,
   "metadata": {},
   "outputs": [
    {
     "data": {
      "application/vnd.jupyter.widget-view+json": {
       "model_id": "",
       "version_major": 2,
       "version_minor": 0
      },
      "text/plain": [
       "FloatProgress(value=0.0, bar_style='info', description='Progress:', layout=Layout(height='25px', width='50%'),…"
      ]
     },
     "metadata": {},
     "output_type": "display_data"
    },
    {
     "name": "stdout",
     "output_type": "stream",
     "text": [
      "\u001b[1m\u001b[34mthresholdColumns\u001b[0m: \u001b[1m\u001b[32m(columns: Array[String], minThreshold: Double, maxThreshold: Double)(df: org.apache.spark.sql.DataFrame)org.apache.spark.sql.DataFrame\u001b[0m\n"
     ]
    }
   ],
   "source": [
    "def thresholdColumns(columns: Array[String], minThreshold: Double = 0, maxThreshold: Double = Double.PositiveInfinity)(df: DataFrame): DataFrame = {\n",
    "\n",
    "    var scaledDF = df\n",
    "    columns.foreach(\n",
    "      column => {\n",
    "        scaledDF = scaledDF.withColumn(column,\n",
    "          when(col(column) > maxThreshold, lit(maxThreshold)).otherwise(col(column)))\n",
    "          .withColumn(column, when(col(column) < minThreshold, lit(minThreshold)).otherwise(col(column)))\n",
    "      })\n",
    "    scaledDF\n",
    "}"
   ]
  },
  {
   "cell_type": "code",
   "execution_count": 35,
   "metadata": {},
   "outputs": [
    {
     "data": {
      "application/vnd.jupyter.widget-view+json": {
       "model_id": "",
       "version_major": 2,
       "version_minor": 0
      },
      "text/plain": [
       "FloatProgress(value=0.0, bar_style='info', description='Progress:', layout=Layout(height='25px', width='50%'),…"
      ]
     },
     "metadata": {},
     "output_type": "display_data"
    },
    {
     "name": "stdout",
     "output_type": "stream",
     "text": [
      "productPreds: org.apache.spark.sql.DataFrame = [productid: string, query: string ... 5 more fields]\n",
      "productPreds: org.apache.spark.sql.DataFrame = [productid: string, query: string ... 7 more fields]\n",
      "root\n",
      " |-- productid: string (nullable = true)\n",
      " |-- query: string (nullable = true)\n",
      " |-- predicted: double (nullable = true)\n",
      " |-- similargrouplevel: integer (nullable = true)\n",
      " |-- actual: double (nullable = true)\n",
      " |-- template: string (nullable = true)\n",
      " |-- stddev: double (nullable = true)\n",
      " |-- lowerBound: double (nullable = true)\n",
      " |-- upperBound: double (nullable = true)\n",
      "\n"
     ]
    }
   ],
   "source": [
    "productPreds = productPreds.join(productLevelSigma, Seq(PRODUCTID))\n",
    "productPreds = (\n",
    "    productPreds.withColumn(\"lowerBound\", col(\"predicted\") - (lit(2.0) * col(\"stddev\")))\n",
    "      .withColumn(\"upperBound\", col(\"predicted\") + (lit(2.0) * col(\"stddev\")))\n",
    "      .transform(thresholdColumns(Array(\"lowerBound\")))\n",
    ")\n",
    "productPreds.printSchema"
   ]
  },
  {
   "cell_type": "code",
   "execution_count": 40,
   "metadata": {},
   "outputs": [
    {
     "data": {
      "application/vnd.jupyter.widget-view+json": {
       "model_id": "",
       "version_major": 2,
       "version_minor": 0
      },
      "text/plain": [
       "FloatProgress(value=0.0, bar_style='info', description='Progress:', layout=Layout(height='25px', width='50%'),…"
      ]
     },
     "metadata": {},
     "output_type": "display_data"
    },
    {
     "name": "stdout",
     "output_type": "stream",
     "text": [
      "productPreds: org.apache.spark.sql.DataFrame = [productid: string, query: string ... 8 more fields]\n",
      "root\n",
      " |-- productid: string (nullable = true)\n",
      " |-- query: string (nullable = true)\n",
      " |-- predicted: double (nullable = true)\n",
      " |-- similargrouplevel: integer (nullable = true)\n",
      " |-- actual: double (nullable = true)\n",
      " |-- template: string (nullable = true)\n",
      " |-- stddev: double (nullable = true)\n",
      " |-- lowerBound: double (nullable = true)\n",
      " |-- upperBound: double (nullable = true)\n",
      " |-- isHit: double (nullable = true)\n",
      "\n"
     ]
    }
   ],
   "source": [
    "productPreds = productPreds.withColumn(\"isHit\", (col(\"actual\") >= col(\"lowerBound\") && col(\"actual\") <= col(\"upperBound\")).cast(DoubleType))\n",
    "productPreds.printSchema"
   ]
  },
  {
   "cell_type": "code",
   "execution_count": 41,
   "metadata": {},
   "outputs": [
    {
     "data": {
      "application/vnd.jupyter.widget-view+json": {
       "model_id": "",
       "version_major": 2,
       "version_minor": 0
      },
      "text/plain": [
       "FloatProgress(value=0.0, bar_style='info', description='Progress:', layout=Layout(height='25px', width='50%'),…"
      ]
     },
     "metadata": {},
     "output_type": "display_data"
    },
    {
     "name": "stdout",
     "output_type": "stream",
     "text": [
      "\u001b[1m\u001b[34mhitRateDF\u001b[0m: \u001b[1m\u001b[32morg.apache.spark.sql.DataFrame\u001b[0m = [query: string, similargrouplevel: int ... 2 more fields]\n",
      "root\n",
      " |-- query: string (nullable = true)\n",
      " |-- similargrouplevel: integer (nullable = true)\n",
      " |-- template: string (nullable = true)\n",
      " |-- hitRate: double (nullable = true)\n",
      "\n"
     ]
    }
   ],
   "source": [
    "var hitRateDF = productPreds.groupBy(\"query\", \"similargrouplevel\", \"template\").agg(sum(\"isHit\")/count(\"productid\") as \"hitRate\")\n",
    "hitRateDF.printSchema"
   ]
  },
  {
   "cell_type": "code",
   "execution_count": 42,
   "metadata": {},
   "outputs": [
    {
     "data": {
      "application/vnd.jupyter.widget-view+json": {
       "model_id": "",
       "version_major": 2,
       "version_minor": 0
      },
      "text/plain": [
       "FloatProgress(value=0.0, bar_style='info', description='Progress:', layout=Layout(height='25px', width='50%'),…"
      ]
     },
     "metadata": {},
     "output_type": "display_data"
    },
    {
     "name": "stdout",
     "output_type": "stream",
     "text": [
      "+-----------------------------------+-----------------+-------------------------------------------+------------------+\n",
      "|query                              |similargrouplevel|template                                   |hitRate           |\n",
      "+-----------------------------------+-----------------+-------------------------------------------+------------------+\n",
      "|enchanted-drapes_blue_#_1_#_classic|830216013        |pricebucket_colorfamily_styletype_brandname|0.6666666666666666|\n",
      "|#_lavender_embroidery_#_#_#        |830303011        |pattern_colorfamily                        |0.4166666666666667|\n",
      "|showoff_#_floral_6_#_anarkali      |830303011        |pattern_pricebucket_styletype_brandname    |1.0               |\n",
      "|sringam_green_floral_#_#_#         |830303011        |pattern_colorfamily_brandname              |0.5625            |\n",
      "|rangmayee_red_floral_#_#_flared    |830303011        |pattern_colorfamily_styletype_brandname    |0.0               |\n",
      "+-----------------------------------+-----------------+-------------------------------------------+------------------+\n",
      "only showing top 5 rows\n",
      "\n"
     ]
    }
   ],
   "source": [
    "hitRateDF.show(5, false)"
   ]
  },
  {
   "cell_type": "code",
   "execution_count": 43,
   "metadata": {},
   "outputs": [
    {
     "data": {
      "application/vnd.jupyter.widget-view+json": {
       "model_id": "",
       "version_major": 2,
       "version_minor": 0
      },
      "text/plain": [
       "FloatProgress(value=0.0, bar_style='info', description='Progress:', layout=Layout(height='25px', width='50%'),…"
      ]
     },
     "metadata": {},
     "output_type": "display_data"
    },
    {
     "name": "stdout",
     "output_type": "stream",
     "text": [
      "\u001b[1m\u001b[34mres51\u001b[0m: \u001b[1m\u001b[32mLong\u001b[0m = 383183\n"
     ]
    }
   ],
   "source": [
    "hitRateDF.count"
   ]
  },
  {
   "cell_type": "code",
   "execution_count": 44,
   "metadata": {},
   "outputs": [
    {
     "data": {
      "application/vnd.jupyter.widget-view+json": {
       "model_id": "",
       "version_major": 2,
       "version_minor": 0
      },
      "text/plain": [
       "FloatProgress(value=0.0, bar_style='info', description='Progress:', layout=Layout(height='25px', width='50%'),…"
      ]
     },
     "metadata": {},
     "output_type": "display_data"
    },
    {
     "name": "stdout",
     "output_type": "stream",
     "text": [
      "\u001b[1m\u001b[34mpredictions\u001b[0m: \u001b[1m\u001b[32morg.apache.spark.sql.Dataset[org.apache.spark.sql.Row]\u001b[0m = [query: string, similargrouplevel: int ... 1 more field]\n",
      "\u001b[1m\u001b[34mres52\u001b[0m: \u001b[1m\u001b[32mLong\u001b[0m = 383205\n"
     ]
    }
   ],
   "source": [
    "var predictions = ParquetToDF.getDF(\"/data/ecomm/ajio/processed/inventory/integrationSimulator/predictions\").select(\"query\", \"similargrouplevel\", \"template\").distinct\n",
    "predictions.count"
   ]
  },
  {
   "cell_type": "code",
   "execution_count": 45,
   "metadata": {},
   "outputs": [
    {
     "data": {
      "application/vnd.jupyter.widget-view+json": {
       "model_id": "",
       "version_major": 2,
       "version_minor": 0
      },
      "text/plain": [
       "FloatProgress(value=0.0, bar_style='info', description='Progress:', layout=Layout(height='25px', width='50%'),…"
      ]
     },
     "metadata": {},
     "output_type": "display_data"
    },
    {
     "name": "stdout",
     "output_type": "stream",
     "text": [
      "hitRateDF: org.apache.spark.sql.DataFrame = [query: string, similargrouplevel: int ... 2 more fields]\n"
     ]
    }
   ],
   "source": [
    "hitRateDF = predictions.join(hitRateDF, Seq(\"query\", \"similargrouplevel\", \"template\"), \"left\")\n",
    "DFToParquet.putDF(\"/data/Archive/bhavesh/InventoryPrediction/2023-04-30/dashboardMetrics/hitRate\", hitRateDF)"
   ]
  }
 ],
 "metadata": {
  "kernelspec": {
   "display_name": "Spark",
   "language": "",
   "name": "sparkkernel"
  },
  "language_info": {
   "codemirror_mode": "text/x-scala",
   "mimetype": "text/x-scala",
   "name": "scala",
   "pygments_lexer": "scala"
  }
 },
 "nbformat": 4,
 "nbformat_minor": 4
}
