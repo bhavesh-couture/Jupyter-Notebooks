{
 "cells": [
  {
   "cell_type": "code",
   "execution_count": null,
   "metadata": {
    "vscode": {
     "languageId": "python"
    }
   },
   "outputs": [],
   "source": [
    "%%configure -f \n",
    "{\n",
    "    \"conf\":\n",
    "    {\n",
    "        \"spark.app.name\":\"Bhavesh_Relevancy_notebook\",\n",
    "        \"spark.yarn.queue\": \"default\",\n",
    "        \"spark.jars\": \"/apps/Jars/obelisk-retail-legos.jar,/apps/Jars/mysql-connector-java-5.1.40.jar\",\n",
    "        \"spark.driver.extraJavaOptions\": \"-Dscala.color\",\n",
    "        \"spark.driver.memory\": \"2g\",\n",
    "        \"spark.executor.memory\": \"2g\",\n",
    "        \"spark.executor.instances\": \"4\"\n",
    "    }\n",
    "}"
   ]
  },
  {
   "cell_type": "code",
   "execution_count": null,
   "metadata": {},
   "outputs": [],
   "source": [
    "import ai.couture.obelisk.commons.Constants._\n",
    "import ai.couture.obelisk.commons.Constants.STANDARD_COL_NAMES._\n",
    "import ai.couture.obelisk.commons.Constants._\n",
    "import ai.couture.obelisk.commons.io._\n",
    "import ai.couture.obelisk.commons.utils.DateTimeUtil._\n",
    "import org.apache.spark.sql._\n",
    "import org.apache.spark.sql.expressions._\n",
    "import org.apache.spark.sql.functions._\n",
    "import org.apache.spark.sql.types._\n",
    "import spark.implicits._"
   ]
  },
  {
   "cell_type": "code",
   "execution_count": null,
   "metadata": {},
   "outputs": [],
   "source": [
    "val exp = \"neural_network_new\""
   ]
  },
  {
   "cell_type": "code",
   "execution_count": null,
   "metadata": {},
   "outputs": [],
   "source": [
    "def metricsShow(exp: String): Unit = {\n",
    "    var pl = CSVToDF.getDF(s\"/data/Archive/bhavesh/inventoryPrediction/experiments/exp_${exp}/metrics/productLevelModelForEachBrick/productLevel\", inferSchema=true).orderBy(\"model\", \"similargrouplevel\").drop(DATE).persist()\n",
    "    pl.printSchema\n",
    "\n",
    "    var show = pl.orderBy(\"metric\").groupBy(\"model\", \"metric\").pivot(\"similargrouplevel\").agg(first(\"value\")).orderBy(\"model\", \"metric\").withColumn(\"final\", concat(lit(\"Men Shirts: \"), col(\"830216013\"), lit(\"\\n\"), lit(\"Women Kurtas: \"), col(\"830303011\"))).groupBy(\"model\").pivot(\"metric\").agg(first(\"final\") as \"final\").persist()\n",
    "    show.orderBy(\"model\").show(false)\n",
    "    // show.orderBy(\"model\").drop(\"model\").show(false)\n",
    "    DFToCSV.putDF(\"/data/Archive/plp/bhavesh/temp/ip/pl_show\", show.orderBy(\"model\").coalesce(1))\n",
    "    pl.unpersist()\n",
    "\n",
    "    var ql = CSVToDF.getDF(s\"/data/Archive/bhavesh/inventoryPrediction/experiments/exp_${exp}/metrics/productLevelModelForEachBrick/queryLevel\", inferSchema=true).orderBy(\"model\", \"similargrouplevel\").drop(DATE).persist()\n",
    "    ql.printSchema\n",
    "\n",
    "    var show = ql.orderBy(\"metric\").groupBy(\"model\", \"metric\").pivot(\"similargrouplevel\").agg(first(\"value\")).orderBy(\"model\", \"metric\").withColumn(\"final\", concat(lit(\"Men Shirts: \"), col(\"830216013\"), lit(\"\\n\"), lit(\"Women Kurtas: \"), col(\"830303011\"))).groupBy(\"model\").pivot(\"metric\").agg(first(\"final\") as \"final\").persist()\n",
    "    show.orderBy(\"model\").show(false)\n",
    "    // show.orderBy(\"model\").drop(\"model\").show(false)\n",
    "    DFToCSV.putDF(\"/data/Archive/plp/bhavesh/temp/ip/ql_show\", show.orderBy(\"model\").coalesce(1))\n",
    "    ql.unpersist()\n",
    "}\n"
   ]
  }
 ],
 "metadata": {
  "kernelspec": {
   "display_name": "Spark",
   "language": "",
   "name": "sparkkernel"
  },
  "language_info": {
   "codemirror_mode": "text/x-scala",
   "mimetype": "text/x-scala",
   "name": "scala",
   "pygments_lexer": "scala"
  }
 },
 "nbformat": 4,
 "nbformat_minor": 4
}
