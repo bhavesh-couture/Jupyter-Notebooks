{
 "cells": [
  {
   "cell_type": "code",
   "execution_count": 1,
   "metadata": {},
   "outputs": [],
   "source": [
    "!kinit -kt $KRB5_CLIENT_KTNAME $KRB5_PRINCIPAL"
   ]
  },
  {
   "cell_type": "code",
   "execution_count": 1,
   "metadata": {},
   "outputs": [
    {
     "data": {
      "text/html": [
       "Current session configs: <tt>{'conf': {'spark.app.name': 'Bhavesh_Demand_Forecast_Notebook', 'spark.yarn.queue': 'default', 'spark.jars': '/apps/Jars/obelisk-retail-legos-Bhavesh.jar,/apps/Jars/mysql-connector-java-5.1.40.jar', 'spark.driver.extraJavaOptions': '-Dscala.color', 'spark.driver.memory': '2g', 'spark.executor.memory': '2g', 'spark.executor.instances': '4'}, 'kind': 'spark'}</tt><br>"
      ],
      "text/plain": [
       "<IPython.core.display.HTML object>"
      ]
     },
     "metadata": {},
     "output_type": "display_data"
    },
    {
     "data": {
      "text/html": [
       "<table>\n",
       "<tr><th>ID</th><th>YARN Application ID</th><th>Kind</th><th>State</th><th>Spark UI</th><th>Driver log</th><th>Current session?</th></tr><tr><td>1512</td><td>application_1686980170466_0869</td><td>spark</td><td>idle</td><td><a target=\"_blank\" href=\"http://JMNGD1BAF370C10:8088/proxy/application_1686980170466_0869/\">Link</a></td><td><a target=\"_blank\" href=\"http://JMNGD1BAE210V09:8042/node/containerlogs/container_e114_1686980170466_0869_01_000001/couture\">Link</a></td><td></td></tr><tr><td>1515</td><td>application_1686980170466_0883</td><td>spark</td><td>idle</td><td><a target=\"_blank\" href=\"http://JMNGD1BAF370C10:8088/proxy/application_1686980170466_0883/\">Link</a></td><td><a target=\"_blank\" href=\"http://JMNGD1BAF070C08:8042/node/containerlogs/container_e114_1686980170466_0883_01_000001/couture\">Link</a></td><td></td></tr></table>"
      ],
      "text/plain": [
       "<IPython.core.display.HTML object>"
      ]
     },
     "metadata": {},
     "output_type": "display_data"
    }
   ],
   "source": [
    "%%configure -f \n",
    "{\n",
    "    \"conf\":\n",
    "    {\n",
    "        \"spark.app.name\":\"Bhavesh_Demand_Forecast_Notebook\",\n",
    "        \"spark.yarn.queue\": \"default\",\n",
    "        \"spark.jars\": \"/apps/Jars/obelisk-retail-legos-Bhavesh.jar,/apps/Jars/mysql-connector-java-5.1.40.jar\",\n",
    "        \"spark.driver.extraJavaOptions\": \"-Dscala.color\",\n",
    "        \"spark.driver.memory\": \"2g\",\n",
    "        \"spark.executor.memory\": \"2g\",\n",
    "        \"spark.executor.instances\": \"4\"\n",
    "    }\n",
    "}"
   ]
  },
  {
   "cell_type": "code",
   "execution_count": 2,
   "metadata": {},
   "outputs": [
    {
     "name": "stdout",
     "output_type": "stream",
     "text": [
      "Starting Spark application\n"
     ]
    },
    {
     "data": {
      "text/html": [
       "<table>\n",
       "<tr><th>ID</th><th>YARN Application ID</th><th>Kind</th><th>State</th><th>Spark UI</th><th>Driver log</th><th>Current session?</th></tr><tr><td>1517</td><td>application_1686980170466_0885</td><td>spark</td><td>idle</td><td><a target=\"_blank\" href=\"http://JMNGD1BAF370C10:8088/proxy/application_1686980170466_0885/\">Link</a></td><td><a target=\"_blank\" href=\"http://JMNGD1BAE050V03:8042/node/containerlogs/container_e114_1686980170466_0885_01_000001/couture\">Link</a></td><td>✔</td></tr></table>"
      ],
      "text/plain": [
       "<IPython.core.display.HTML object>"
      ]
     },
     "metadata": {},
     "output_type": "display_data"
    },
    {
     "data": {
      "application/vnd.jupyter.widget-view+json": {
       "model_id": "",
       "version_major": 2,
       "version_minor": 0
      },
      "text/plain": [
       "FloatProgress(value=0.0, bar_style='info', description='Progress:', layout=Layout(height='25px', width='50%'),…"
      ]
     },
     "metadata": {},
     "output_type": "display_data"
    },
    {
     "name": "stdout",
     "output_type": "stream",
     "text": [
      "SparkSession available as 'spark'.\n"
     ]
    },
    {
     "data": {
      "application/vnd.jupyter.widget-view+json": {
       "model_id": "",
       "version_major": 2,
       "version_minor": 0
      },
      "text/plain": [
       "FloatProgress(value=0.0, bar_style='info', description='Progress:', layout=Layout(height='25px', width='50%'),…"
      ]
     },
     "metadata": {},
     "output_type": "display_data"
    },
    {
     "name": "stdout",
     "output_type": "stream",
     "text": [
      "import ai.couture.obelisk.commons.Constants._\n",
      "import ai.couture.obelisk.commons.Constants.STANDARD_COL_NAMES._\n",
      "import ai.couture.obelisk.commons.Constants._\n",
      "import ai.couture.obelisk.commons.io._\n",
      "import ai.couture.obelisk.commons.utils.DateTimeUtil._\n",
      "import ai.couture.obelisk.commons.utils.DataFrameUtil.minMaxScaler\n",
      "import org.apache.spark.sql._\n",
      "import org.apache.spark.sql.expressions._\n",
      "import org.apache.spark.sql.functions._\n",
      "import org.apache.spark.sql.types._\n",
      "import spark.implicits._\n"
     ]
    }
   ],
   "source": [
    "import ai.couture.obelisk.commons.Constants._\n",
    "import ai.couture.obelisk.commons.Constants.STANDARD_COL_NAMES._\n",
    "import ai.couture.obelisk.commons.Constants._\n",
    "import ai.couture.obelisk.commons.io._\n",
    "import ai.couture.obelisk.commons.utils.DateTimeUtil._\n",
    "import ai.couture.obelisk.commons.utils.DataFrameUtil.minMaxScaler\n",
    "import org.apache.spark.sql._\n",
    "import org.apache.spark.sql.expressions._\n",
    "import org.apache.spark.sql.functions._\n",
    "import org.apache.spark.sql.types._\n",
    "import spark.implicits._"
   ]
  },
  {
   "cell_type": "code",
   "execution_count": 3,
   "metadata": {},
   "outputs": [
    {
     "data": {
      "application/vnd.jupyter.widget-view+json": {
       "model_id": "",
       "version_major": 2,
       "version_minor": 0
      },
      "text/plain": [
       "FloatProgress(value=0.0, bar_style='info', description='Progress:', layout=Layout(height='25px', width='50%'),…"
      ]
     },
     "metadata": {},
     "output_type": "display_data"
    },
    {
     "name": "stdout",
     "output_type": "stream",
     "text": [
      "\u001b[1m\u001b[34mproductAttrs\u001b[0m: \u001b[1m\u001b[32morg.apache.spark.sql.DataFrame\u001b[0m = [productid: string, colorfamily: string ... 4 more fields]\n",
      "\u001b[1m\u001b[34msleeveNormalised\u001b[0m: \u001b[1m\u001b[32morg.apache.spark.sql.DataFrame\u001b[0m = [sleeve: string, normalised_sleeve: string]\n",
      "\u001b[1m\u001b[34mstyleTypeNormalised\u001b[0m: \u001b[1m\u001b[32morg.apache.spark.sql.DataFrame\u001b[0m = [styletype: string, normalised_styletype: string]\n",
      "\u001b[1m\u001b[34mpatternNormalised\u001b[0m: \u001b[1m\u001b[32morg.apache.spark.sql.DataFrame\u001b[0m = [pattern: string, normalised_pattern: string]\n",
      "productAttrs: org.apache.spark.sql.DataFrame = [productid: string, colorfamily: string ... 4 more fields]\n",
      "\u001b[1m\u001b[34mcols\u001b[0m: \u001b[1m\u001b[32mArray[String]\u001b[0m = Array(productid, colorfamily, price, sleeve, styletype, pattern)\n",
      "productAttrs: org.apache.spark.sql.DataFrame = [productid: string, colorfamily: string ... 4 more fields]\n"
     ]
    }
   ],
   "source": [
    "var productAttrs = {\n",
    "    ParquetToDF.getDF(\"/data/ecomm/ajio/processed/productAttributesLegosFNL\")\n",
    "    .select(col(\"itemid\") as \"productid\", col(\"colorfamily\"), col(\"pattern\"), col(\"price\"), col(\"sleeve\"), col(\"styletype\"))\n",
    "}\n",
    "\n",
    "var sleeveNormalised = {\n",
    "    CSVToDF.getDF(\"/data/ecomm/ajio/processed/inventory/attributes/Sleevelength_normalised.csv\")\n",
    "      .withColumnRenamed(\"attribute\", \"sleeve\")\n",
    "      .withColumnRenamed(\"synonym\", \"normalised_sleeve\")\n",
    "}\n",
    "\n",
    "var styleTypeNormalised = {\n",
    "    CSVToDF.getDF(\"/data/ecomm/ajio/processed/inventory/attributes/Styletype_normalised.csv\")\n",
    "      .withColumnRenamed(\"attribute\", \"styletype\")\n",
    "      .withColumnRenamed(\"synonym\", \"normalised_styletype\")\n",
    "}\n",
    "\n",
    "var patternNormalised = {\n",
    "    CSVToDF.getDF(\"/data/ecomm/ajio/processed/inventory/attributes/Pattern_normalised.csv\")\n",
    "      .withColumnRenamed(\"attribute\", \"pattern\")\n",
    "      .withColumnRenamed(\"synonym\", \"normalised_pattern\")\n",
    "}\n",
    "\n",
    "productAttrs = {\n",
    "    productAttrs.na.fill(\"\")\n",
    "      .join(sleeveNormalised.na.fill(\"\"), Seq(\"sleeve\"), \"inner\")\n",
    "      .join(styleTypeNormalised.na.fill(\"\"), Seq(\"styletype\"), \"inner\")\n",
    "      .join(patternNormalised.na.fill(\"\"), Seq(\"pattern\"), \"inner\")\n",
    "      .drop(\"pattern\", \"sleeve\", \"styletype\")\n",
    "      .withColumnRenamed(\"normalised_sleeve\", \"sleeve\")\n",
    "      .withColumnRenamed(\"normalised_styletype\", \"styletype\")\n",
    "      .withColumnRenamed(\"normalised_pattern\", \"pattern\")\n",
    "}\n",
    "\n",
    "val cols = productAttrs.columns\n",
    "productAttrs = cols.foldLeft(productAttrs) { (memoDf, attr) =>\n",
    "  memoDf.withColumn(attr, when(col(attr) === \"\", null).otherwise(col(attr)))\n",
    "}"
   ]
  },
  {
   "cell_type": "code",
   "execution_count": 4,
   "metadata": {},
   "outputs": [
    {
     "data": {
      "application/vnd.jupyter.widget-view+json": {
       "model_id": "",
       "version_major": 2,
       "version_minor": 0
      },
      "text/plain": [
       "FloatProgress(value=0.0, bar_style='info', description='Progress:', layout=Layout(height='25px', width='50%'),…"
      ]
     },
     "metadata": {},
     "output_type": "display_data"
    },
    {
     "name": "stdout",
     "output_type": "stream",
     "text": [
      "\u001b[1m\u001b[34mqueryAvg\u001b[0m: \u001b[1m\u001b[32morg.apache.spark.sql.DataFrame\u001b[0m = [query: string, similargrouplevel: int ... 9 more fields]\n",
      "queryAvg: org.apache.spark.sql.DataFrame = [query: string, similargrouplevel: int ... 6 more fields]\n",
      "root\n",
      " |-- query: string (nullable = true)\n",
      " |-- similargrouplevel: integer (nullable = true)\n",
      " |-- m1: double (nullable = true)\n",
      " |-- m2: double (nullable = true)\n",
      " |-- m3: double (nullable = true)\n",
      " |-- m4: double (nullable = true)\n",
      " |-- m5: double (nullable = true)\n",
      " |-- m6: double (nullable = true)\n",
      "\n"
     ]
    }
   ],
   "source": [
    "var queryAvg = ParquetToDF.getDF(\"/data/Archive/bhavesh/InventoryPrediction/2023-04-30/NMonthsAheadExperiment/combinedProductDerivedFromQueryPredictions\")\n",
    "queryAvg = {\n",
    "    queryAvg.filter(col(\"viewsFraction\")>0 && col(\"quantityFraction\")>0)\n",
    "    .groupBy(\"query\", \"similargrouplevel\")\n",
    "    .agg(avg(\"m1\") as \"m1\", avg(\"m2\") as \"m2\", avg(\"m3\") as \"m3\", avg(\"m4\") as \"m4\", avg(\"m5\") as \"m5\", avg(\"m6\") as \"m6\")\n",
    "}\n",
    "queryAvg.printSchema"
   ]
  },
  {
   "cell_type": "markdown",
   "metadata": {},
   "source": [
    "### Gant"
   ]
  },
  {
   "cell_type": "code",
   "execution_count": 3,
   "metadata": {},
   "outputs": [
    {
     "data": {
      "application/vnd.jupyter.widget-view+json": {
       "model_id": "",
       "version_major": 2,
       "version_minor": 0
      },
      "text/plain": [
       "FloatProgress(value=0.0, bar_style='info', description='Progress:', layout=Layout(height='25px', width='50%'),…"
      ]
     },
     "metadata": {},
     "output_type": "display_data"
    },
    {
     "name": "stdout",
     "output_type": "stream",
     "text": [
      "\u001b[1m\u001b[34mgant\u001b[0m: \u001b[1m\u001b[32morg.apache.spark.sql.DataFrame\u001b[0m = [Buyer: string, Brand Name: string ... 18 more fields]\n",
      "root\n",
      " |-- Buyer: string (nullable = true)\n",
      " |-- Brand Name: string (nullable = true)\n",
      " |-- PO Number: long (nullable = true)\n",
      " |-- GenCol: string (nullable = true)\n",
      " |-- Vendor Code: string (nullable = true)\n",
      " |-- Vendor Article No.: long (nullable = true)\n",
      " |-- EAN: long (nullable = true)\n",
      " |-- Color: string (nullable = true)\n",
      " |-- Ven Art No & Color: string (nullable = true)\n",
      " |-- Style Code: string (nullable = true)\n",
      " |-- Size: string (nullable = true)\n",
      " |-- Segment: string (nullable = true)\n",
      " |-- Portfolio: string (nullable = true)\n",
      " |-- Category: string (nullable = true)\n",
      " |-- Vertical: string (nullable = true)\n",
      " |-- Brick: string (nullable = true)\n",
      " |-- Commercial Type: string (nullable = true)\n",
      " |-- Season Code: string (nullable = true)\n",
      " |-- Option Count: string (nullable = true)\n",
      " |-- MRP: integer (nullable = true)\n",
      "\n"
     ]
    }
   ],
   "source": [
    "var gant = CSVToDF.getDF(\"/data/Archive/bhavesh/InventoryPrediction/2023-04-30/ajio/gant/M&S Gant Aarke - Gant.csv\", inferSchema=true)\n",
    "gant.printSchema"
   ]
  },
  {
   "cell_type": "code",
   "execution_count": 6,
   "metadata": {},
   "outputs": [
    {
     "data": {
      "application/vnd.jupyter.widget-view+json": {
       "model_id": "",
       "version_major": 2,
       "version_minor": 0
      },
      "text/plain": [
       "FloatProgress(value=0.0, bar_style='info', description='Progress:', layout=Layout(height='25px', width='50%'),…"
      ]
     },
     "metadata": {},
     "output_type": "display_data"
    },
    {
     "name": "stdout",
     "output_type": "stream",
     "text": [
      "\u001b[1m\u001b[34mrequiredProducts\u001b[0m: \u001b[1m\u001b[32morg.apache.spark.sql.Dataset[org.apache.spark.sql.Row]\u001b[0m = [productid: string, brandname: string ... 1 more field]\n",
      "root\n",
      " |-- productid: string (nullable = true)\n",
      " |-- brandname: string (nullable = true)\n",
      " |-- mrp: integer (nullable = true)\n",
      "\n",
      "33\n",
      "+----------------+---------+-----+\n",
      "|       productid|brandname|  mrp|\n",
      "+----------------+---------+-----+\n",
      "| 465846548_white|     gant|10999|\n",
      "| 465766062_green|     gant| 7999|\n",
      "|  465861304_blue|     gant| 7499|\n",
      "|  465950120_blue|     gant| 9999|\n",
      "| 465950118_green|     gant| 9999|\n",
      "|  465876608_blue|     gant| 8499|\n",
      "| 465769195_green|     gant| 7999|\n",
      "| 465950109_green|     gant| 8499|\n",
      "|  465687785_blue|     gant| 7999|\n",
      "|  465688123_blue|     gant| 8999|\n",
      "|  465861305_pink|     gant| 7499|\n",
      "|  465846553_blue|     gant|10999|\n",
      "|465765226_orange|     gant| 7999|\n",
      "|  465876615_blue|     gant| 8499|\n",
      "|  465769197_blue|     gant| 7999|\n",
      "| 465950116_green|     gant|10999|\n",
      "| 465688117_green|     gant| 8999|\n",
      "| 465878750_beige|     gant| 9999|\n",
      "| 465840770_green|     gant| 7499|\n",
      "|  465767782_blue|     gant| 7999|\n",
      "+----------------+---------+-----+\n",
      "only showing top 20 rows\n",
      "\n"
     ]
    }
   ],
   "source": [
    "var requiredProducts = gant.select(col(\"GenCol\") as \"productid\", lower(col(\"Brand Name\")) as \"brandname\", col(\"MRP\") as \"mrp\").distinct\n",
    "requiredProducts.printSchema\n",
    "println(requiredProducts.count)\n",
    "requiredProducts.show"
   ]
  },
  {
   "cell_type": "code",
   "execution_count": 16,
   "metadata": {},
   "outputs": [
    {
     "data": {
      "application/vnd.jupyter.widget-view+json": {
       "model_id": "",
       "version_major": 2,
       "version_minor": 0
      },
      "text/plain": [
       "FloatProgress(value=0.0, bar_style='info', description='Progress:', layout=Layout(height='25px', width='50%'),…"
      ]
     },
     "metadata": {},
     "output_type": "display_data"
    },
    {
     "name": "stdout",
     "output_type": "stream",
     "text": [
      "\u001b[1m\u001b[34mrequiredProductAttrs\u001b[0m: \u001b[1m\u001b[32morg.apache.spark.sql.DataFrame\u001b[0m = [productid: string, brandname: string ... 6 more fields]\n",
      "requiredProductAttrs: org.apache.spark.sql.DataFrame = [productid: string, brandname: string ... 8 more fields]\n",
      "root\n",
      " |-- productid: string (nullable = true)\n",
      " |-- brandname: string (nullable = true)\n",
      " |-- mrp: integer (nullable = true)\n",
      " |-- colorfamily: string (nullable = true)\n",
      " |-- price: double (nullable = true)\n",
      " |-- sleeve: string (nullable = true)\n",
      " |-- styletype: string (nullable = true)\n",
      " |-- pattern: string (nullable = true)\n",
      " |-- pricebucket: string (nullable = false)\n",
      " |-- similargrouplevel: string (nullable = false)\n",
      "\n",
      "33\n",
      "+----------------+---------+-----+-----------+-------+------------------+---------+-------+-----------+-----------------+\n",
      "|productid       |brandname|mrp  |colorfamily|price  |sleeve            |styletype|pattern|pricebucket|similargrouplevel|\n",
      "+----------------+---------+-----+-----------+-------+------------------+---------+-------+-----------+-----------------+\n",
      "|465950109_green |gant     |8499 |green      |3824.55|short sleeve      |classic  |solid  |6          |830216013        |\n",
      "|465767782_blue  |gant     |7999 |blue       |3599.55|full-length sleeve|classic  |stripes|6          |830216013        |\n",
      "|465846553_blue  |gant     |10999|blue       |4399.6 |full-length sleeve|classic  |stripes|6          |830216013        |\n",
      "|465769197_blue  |gant     |7999 |blue       |3599.55|full-length sleeve|classic  |stripes|6          |830216013        |\n",
      "|465861305_pink  |gant     |7499 |pink       |4124.45|full-length sleeve|classic  |stripes|6          |830216013        |\n",
      "|465876615_blue  |gant     |8499 |blue       |3824.55|short sleeve      |classic  |solid  |6          |830216013        |\n",
      "|465840770_green |gant     |7499 |green      |3374.55|full-length sleeve|classic  |stripes|6          |830216013        |\n",
      "|465965047_blue  |gant     |9999 |blue       |5499.45|full-length sleeve|classic  |solid  |6          |830216013        |\n",
      "|465950122_blue  |gant     |12499|blue       |6874.45|full-length sleeve|classic  |check  |6          |830216013        |\n",
      "|465688123_blue  |gant     |8999 |blue       |3599.6 |full-length sleeve|classic  |solid  |6          |830216013        |\n",
      "|465765508_yellow|gant     |7999 |yellow     |3599.55|full-length sleeve|classic  |stripes|6          |830216013        |\n",
      "|465688111_beige |gant     |8999 |beige      |4049.55|full-length sleeve|classic  |solid  |6          |830216013        |\n",
      "|465766062_green |gant     |7999 |green      |4399.45|full-length sleeve|classic  |stripes|6          |830216013        |\n",
      "|465687785_blue  |gant     |7999 |blue       |5599.3 |full-length sleeve|classic  |solid  |6          |830216013        |\n",
      "|465950107_white |gant     |8499 |white      |3824.55|short sleeve      |classic  |solid  |6          |830216013        |\n",
      "|465846566_green |gant     |12499|green      |4999.6 |full-length sleeve|classic  |check  |6          |830216013        |\n",
      "|465765226_orange|gant     |7999 |orange     |4799.4 |full-length sleeve|classic  |stripes|6          |830216013        |\n",
      "|465769195_green |gant     |7999 |green      |3599.55|full-length sleeve|classic  |stripes|6          |830216013        |\n",
      "|465846569_orange|gant     |12499|orange     |6249.5 |full-length sleeve|classic  |check  |6          |830216013        |\n",
      "|465878756_orange|gant     |8499 |orange     |4249.5 |full-length sleeve|classic  |check  |6          |830216013        |\n",
      "+----------------+---------+-----+-----------+-------+------------------+---------+-------+-----------+-----------------+\n",
      "only showing top 20 rows\n",
      "\n"
     ]
    }
   ],
   "source": [
    "var requiredProductAttrs = requiredProducts.join(productAttrs, Seq(PRODUCTID), \"left\")\n",
    "requiredProductAttrs = {\n",
    "    requiredProductAttrs.withColumn(\"price\", when(col(\"price\").isNotNull, col(\"price\")).otherwise(col(\"mrp\")))\n",
    "    .withColumn(\"pricebucket\", \n",
    "               when(col(\"price\")<=500, lit(\"1\"))\n",
    "               .when(col(\"price\")<=1000, lit(\"2\"))\n",
    "               .when(col(\"price\")<=1500, lit(\"3\"))\n",
    "               .when(col(\"price\")<=2000, lit(\"4\"))\n",
    "               .when(col(\"price\")<=2500, lit(\"5\"))\n",
    "               .otherwise(lit(6))\n",
    "               )\n",
    "    .withColumn(\"similargrouplevel\", lit(\"830216013\"))\n",
    "}\n",
    "\n",
    "requiredProductAttrs.printSchema\n",
    "println(requiredProductAttrs.count)\n",
    "requiredProductAttrs.show(false)"
   ]
  },
  {
   "cell_type": "code",
   "execution_count": 17,
   "metadata": {},
   "outputs": [
    {
     "data": {
      "application/vnd.jupyter.widget-view+json": {
       "model_id": "",
       "version_major": 2,
       "version_minor": 0
      },
      "text/plain": [
       "FloatProgress(value=0.0, bar_style='info', description='Progress:', layout=Layout(height='25px', width='50%'),…"
      ]
     },
     "metadata": {},
     "output_type": "display_data"
    }
   ],
   "source": [
    "DFToParquet.putDF(\"/data/Archive/bhavesh/InventoryPrediction/2023-04-30/ajio/gant/RequiredProducts\", requiredProducts)\n",
    "DFToParquet.putDF(\"/data/Archive/bhavesh/InventoryPrediction/2023-04-30/ajio/gant/RequiredProductAttributes\", requiredProductAttrs)"
   ]
  },
  {
   "cell_type": "code",
   "execution_count": 4,
   "metadata": {},
   "outputs": [
    {
     "data": {
      "application/vnd.jupyter.widget-view+json": {
       "model_id": "",
       "version_major": 2,
       "version_minor": 0
      },
      "text/plain": [
       "FloatProgress(value=0.0, bar_style='info', description='Progress:', layout=Layout(height='25px', width='50%'),…"
      ]
     },
     "metadata": {},
     "output_type": "display_data"
    },
    {
     "name": "stdout",
     "output_type": "stream",
     "text": [
      "\u001b[1m\u001b[34mrequiredProducts\u001b[0m: \u001b[1m\u001b[32morg.apache.spark.sql.DataFrame\u001b[0m = [productid: string, brandname: string ... 1 more field]\n",
      "\u001b[1m\u001b[34mrequiredProductAttrs\u001b[0m: \u001b[1m\u001b[32morg.apache.spark.sql.DataFrame\u001b[0m = [productid: string, brandname: string ... 8 more fields]\n"
     ]
    }
   ],
   "source": [
    "var requiredProducts = ParquetToDF.getDF(\"/data/Archive/bhavesh/InventoryPrediction/2023-04-30/ajio/gant/RequiredProducts\")\n",
    "var requiredProductAttrs = ParquetToDF.getDF(\"/data/Archive/bhavesh/InventoryPrediction/2023-04-30/ajio/gant/RequiredProductAttributes\")"
   ]
  },
  {
   "cell_type": "code",
   "execution_count": 19,
   "metadata": {},
   "outputs": [
    {
     "data": {
      "application/vnd.jupyter.widget-view+json": {
       "model_id": "",
       "version_major": 2,
       "version_minor": 0
      },
      "text/plain": [
       "FloatProgress(value=0.0, bar_style='info', description='Progress:', layout=Layout(height='25px', width='50%'),…"
      ]
     },
     "metadata": {},
     "output_type": "display_data"
    },
    {
     "name": "stdout",
     "output_type": "stream",
     "text": [
      "+--------------------+---------+-----+-----------+-------+------------------+---------+-------+-----------+-----------------+\n",
      "|productid           |brandname|mrp  |colorfamily|price  |sleeve            |styletype|pattern|pricebucket|similargrouplevel|\n",
      "+--------------------+---------+-----+-----------+-------+------------------+---------+-------+-----------+-----------------+\n",
      "|465688111_beige     |gant     |8999 |beige      |4049.55|full-length sleeve|classic  |solid  |6          |830216013        |\n",
      "|465766062_green     |gant     |7999 |green      |4399.45|full-length sleeve|classic  |stripes|6          |830216013        |\n",
      "|465846548_white     |gant     |10999|white      |4399.6 |full-length sleeve|classic  |stripes|6          |830216013        |\n",
      "|465950118_green     |gant     |9999 |green      |3999.6 |full-length sleeve|classic  |solid  |6          |830216013        |\n",
      "|465765508_yellow    |gant     |7999 |yellow     |3599.55|full-length sleeve|classic  |stripes|6          |830216013        |\n",
      "|465765226_orange    |gant     |7999 |orange     |4799.4 |full-length sleeve|classic  |stripes|6          |830216013        |\n",
      "|465840770_green     |gant     |7499 |green      |3374.55|full-length sleeve|classic  |stripes|6          |830216013        |\n",
      "|465769195_green     |gant     |7999 |green      |3599.55|full-length sleeve|classic  |stripes|6          |830216013        |\n",
      "|465846569_orange    |gant     |12499|orange     |6249.5 |full-length sleeve|classic  |check  |6          |830216013        |\n",
      "|465878756_orange    |gant     |8499 |orange     |4249.5 |full-length sleeve|classic  |check  |6          |830216013        |\n",
      "|465950116_green     |gant     |10999|green      |4399.6 |full-length sleeve|classic  |stripes|6          |830216013        |\n",
      "|465950113_beige     |gant     |10999|beige      |4399.6 |full-length sleeve|classic  |stripes|6          |830216013        |\n",
      "|465767782_blue      |gant     |7999 |blue       |3599.55|full-length sleeve|classic  |stripes|6          |830216013        |\n",
      "|465846553_blue      |gant     |10999|blue       |4399.6 |full-length sleeve|classic  |stripes|6          |830216013        |\n",
      "|465769197_blue      |gant     |7999 |blue       |3599.55|full-length sleeve|classic  |stripes|6          |830216013        |\n",
      "|465861305_pink      |gant     |7499 |pink       |4124.45|full-length sleeve|classic  |stripes|6          |830216013        |\n",
      "|465846566_green     |gant     |12499|green      |4999.6 |full-length sleeve|classic  |check  |6          |830216013        |\n",
      "|465861304_blue      |gant     |7499 |blue       |5249.3 |full-length sleeve|classic  |stripes|6          |830216013        |\n",
      "|465688126_white     |gant     |7999 |white      |3999.5 |full-length sleeve|classic  |solid  |6          |830216013        |\n",
      "|465878750_beige     |gant     |9999 |beige      |3999.6 |full-length sleeve|classic  |solid  |6          |830216013        |\n",
      "|465878745_white     |gant     |9999 |white      |4499.55|full-length sleeve|classic  |solid  |6          |830216013        |\n",
      "|465688117_green     |gant     |8999 |green      |4499.5 |full-length sleeve|classic  |solid  |6          |830216013        |\n",
      "|465965047_blue      |gant     |9999 |blue       |5499.45|full-length sleeve|classic  |solid  |6          |830216013        |\n",
      "|465950122_blue      |gant     |12499|blue       |6874.45|full-length sleeve|classic  |check  |6          |830216013        |\n",
      "|465688123_blue      |gant     |8999 |blue       |3599.6 |full-length sleeve|classic  |solid  |6          |830216013        |\n",
      "|465687785_blue      |gant     |7999 |blue       |5599.3 |full-length sleeve|classic  |solid  |6          |830216013        |\n",
      "|465878527_pink      |gant     |9999 |pink       |3999.6 |full-length sleeve|classic  |solid  |6          |830216013        |\n",
      "|465950120_blue      |gant     |9999 |blue       |3999.6 |full-length sleeve|classic  |solid  |6          |830216013        |\n",
      "|465950109_green     |gant     |8499 |green      |3824.55|short sleeve      |classic  |solid  |6          |830216013        |\n",
      "|465950107_white     |gant     |8499 |white      |3824.55|short sleeve      |classic  |solid  |6          |830216013        |\n",
      "|465876615_blue      |gant     |8499 |blue       |3824.55|short sleeve      |classic  |solid  |6          |830216013        |\n",
      "|465876608_blue      |gant     |8499 |blue       |3399.6 |short sleeve      |classic  |solid  |6          |830216013        |\n",
      "|465688117_gr+D379een|gant     |8999 |null       |8999.0 |null              |null     |null   |6          |830216013        |\n",
      "+--------------------+---------+-----+-----------+-------+------------------+---------+-------+-----------+-----------------+\n",
      "\n"
     ]
    }
   ],
   "source": [
    "requiredProductAttrs.show(33, false)"
   ]
  },
  {
   "cell_type": "code",
   "execution_count": 5,
   "metadata": {},
   "outputs": [
    {
     "data": {
      "application/vnd.jupyter.widget-view+json": {
       "model_id": "",
       "version_major": 2,
       "version_minor": 0
      },
      "text/plain": [
       "FloatProgress(value=0.0, bar_style='info', description='Progress:', layout=Layout(height='25px', width='50%'),…"
      ]
     },
     "metadata": {},
     "output_type": "display_data"
    },
    {
     "name": "stdout",
     "output_type": "stream",
     "text": [
      "\u001b[1m\u001b[34mproductToQuery\u001b[0m: \u001b[1m\u001b[32morg.apache.spark.sql.DataFrame\u001b[0m = [productid: string, similargrouplevel: string ... 1 more field]\n",
      "+--------------------+-----------------+------------------------------------------------+\n",
      "|productid           |similargrouplevel|query                                           |\n",
      "+--------------------+-----------------+------------------------------------------------+\n",
      "|465688111_beige     |830216013        |gant_beige_solid_6_full-length sleeve_classic   |\n",
      "|465766062_green     |830216013        |gant_green_stripes_6_full-length sleeve_classic |\n",
      "|465846548_white     |830216013        |gant_white_stripes_6_full-length sleeve_classic |\n",
      "|465950118_green     |830216013        |gant_green_solid_6_full-length sleeve_classic   |\n",
      "|465765508_yellow    |830216013        |gant_yellow_stripes_6_full-length sleeve_classic|\n",
      "|465765226_orange    |830216013        |gant_orange_stripes_6_full-length sleeve_classic|\n",
      "|465840770_green     |830216013        |gant_green_stripes_6_full-length sleeve_classic |\n",
      "|465769195_green     |830216013        |gant_green_stripes_6_full-length sleeve_classic |\n",
      "|465846569_orange    |830216013        |gant_orange_check_6_full-length sleeve_classic  |\n",
      "|465878756_orange    |830216013        |gant_orange_check_6_full-length sleeve_classic  |\n",
      "|465950116_green     |830216013        |gant_green_stripes_6_full-length sleeve_classic |\n",
      "|465950113_beige     |830216013        |gant_beige_stripes_6_full-length sleeve_classic |\n",
      "|465767782_blue      |830216013        |gant_blue_stripes_6_full-length sleeve_classic  |\n",
      "|465846553_blue      |830216013        |gant_blue_stripes_6_full-length sleeve_classic  |\n",
      "|465769197_blue      |830216013        |gant_blue_stripes_6_full-length sleeve_classic  |\n",
      "|465861305_pink      |830216013        |gant_pink_stripes_6_full-length sleeve_classic  |\n",
      "|465846566_green     |830216013        |gant_green_check_6_full-length sleeve_classic   |\n",
      "|465861304_blue      |830216013        |gant_blue_stripes_6_full-length sleeve_classic  |\n",
      "|465688126_white     |830216013        |gant_white_solid_6_full-length sleeve_classic   |\n",
      "|465878750_beige     |830216013        |gant_beige_solid_6_full-length sleeve_classic   |\n",
      "|465878745_white     |830216013        |gant_white_solid_6_full-length sleeve_classic   |\n",
      "|465688117_green     |830216013        |gant_green_solid_6_full-length sleeve_classic   |\n",
      "|465965047_blue      |830216013        |gant_blue_solid_6_full-length sleeve_classic    |\n",
      "|465950122_blue      |830216013        |gant_blue_check_6_full-length sleeve_classic    |\n",
      "|465688123_blue      |830216013        |gant_blue_solid_6_full-length sleeve_classic    |\n",
      "|465687785_blue      |830216013        |gant_blue_solid_6_full-length sleeve_classic    |\n",
      "|465878527_pink      |830216013        |gant_pink_solid_6_full-length sleeve_classic    |\n",
      "|465950120_blue      |830216013        |gant_blue_solid_6_full-length sleeve_classic    |\n",
      "|465950109_green     |830216013        |gant_green_solid_6_short sleeve_classic         |\n",
      "|465950107_white     |830216013        |gant_white_solid_6_short sleeve_classic         |\n",
      "|465876615_blue      |830216013        |gant_blue_solid_6_short sleeve_classic          |\n",
      "|465876608_blue      |830216013        |gant_blue_solid_6_short sleeve_classic          |\n",
      "|465688117_gr+D379een|830216013        |gant_#_#_6_#_#                                  |\n",
      "+--------------------+-----------------+------------------------------------------------+\n",
      "\n"
     ]
    }
   ],
   "source": [
    "var productToQuery = {\n",
    "    requiredProductAttrs.na.fill(\"#\")\n",
    "    .withColumn(\"query\", concat_ws(\"_\", col(\"brandname\"), col(\"colorfamily\"), col(\"pattern\"), col(\"pricebucket\"), col(\"sleeve\"), col(\"styletype\")))\n",
    "    .select(\"productid\", \"similargrouplevel\", \"query\")\n",
    "}\n",
    "productToQuery.show(33, false)"
   ]
  },
  {
   "cell_type": "markdown",
   "metadata": {},
   "source": [
    "#### Product predictions"
   ]
  },
  {
   "cell_type": "code",
   "execution_count": 22,
   "metadata": {},
   "outputs": [
    {
     "data": {
      "application/vnd.jupyter.widget-view+json": {
       "model_id": "",
       "version_major": 2,
       "version_minor": 0
      },
      "text/plain": [
       "FloatProgress(value=0.0, bar_style='info', description='Progress:', layout=Layout(height='25px', width='50%'),…"
      ]
     },
     "metadata": {},
     "output_type": "display_data"
    },
    {
     "name": "stdout",
     "output_type": "stream",
     "text": [
      "\u001b[1m\u001b[34mnn_predictions\u001b[0m: \u001b[1m\u001b[32morg.apache.spark.sql.DataFrame\u001b[0m = [similargrouplevel: string, productid: string ... 2 more fields]\n",
      "nn_predictions: org.apache.spark.sql.DataFrame = [productid: string, similargrouplevel: string ... 6 more fields]\n",
      "root\n",
      " |-- productid: string (nullable = true)\n",
      " |-- similargrouplevel: string (nullable = true)\n",
      " |-- m1: double (nullable = true)\n",
      " |-- m2: double (nullable = true)\n",
      " |-- m3: double (nullable = true)\n",
      " |-- m4: double (nullable = true)\n",
      " |-- m5: double (nullable = true)\n",
      " |-- m6: double (nullable = true)\n",
      "\n"
     ]
    }
   ],
   "source": [
    "var nn_predictions = ParquetToDF.getDF(\"/data/Archive/bhavesh/InventoryPrediction/2023-04-30/NMonthsAheadExperiment/ProductLevelPredictions\")\n",
    "nn_predictions = {\n",
    "    nn_predictions.groupBy(\"productid\", \"similargrouplevel\")\n",
    "    .pivot(\"months\")\n",
    "    .agg(sum(\"predicted\"))\n",
    "}\n",
    "nn_predictions.printSchema"
   ]
  },
  {
   "cell_type": "code",
   "execution_count": 25,
   "metadata": {},
   "outputs": [
    {
     "data": {
      "application/vnd.jupyter.widget-view+json": {
       "model_id": "",
       "version_major": 2,
       "version_minor": 0
      },
      "text/plain": [
       "FloatProgress(value=0.0, bar_style='info', description='Progress:', layout=Layout(height='25px', width='50%'),…"
      ]
     },
     "metadata": {},
     "output_type": "display_data"
    },
    {
     "name": "stdout",
     "output_type": "stream",
     "text": [
      "nn_predictions: org.apache.spark.sql.DataFrame = [productid: string, similargrouplevel: string ... 6 more fields]\n",
      "\u001b[1m\u001b[34mres35\u001b[0m: \u001b[1m\u001b[32mLong\u001b[0m = 14\n"
     ]
    }
   ],
   "source": [
    "nn_predictions = nn_predictions.join(requiredProducts.select(PRODUCTID).distinct, Seq(\"productid\"))\n",
    "nn_predictions.count"
   ]
  },
  {
   "cell_type": "markdown",
   "metadata": {},
   "source": [
    "#### Query Avg"
   ]
  },
  {
   "cell_type": "code",
   "execution_count": 29,
   "metadata": {},
   "outputs": [
    {
     "data": {
      "application/vnd.jupyter.widget-view+json": {
       "model_id": "",
       "version_major": 2,
       "version_minor": 0
      },
      "text/plain": [
       "FloatProgress(value=0.0, bar_style='info', description='Progress:', layout=Layout(height='25px', width='50%'),…"
      ]
     },
     "metadata": {},
     "output_type": "display_data"
    },
    {
     "name": "stdout",
     "output_type": "stream",
     "text": [
      "\u001b[1m\u001b[34mqueryAvgPredictions\u001b[0m: \u001b[1m\u001b[32morg.apache.spark.sql.DataFrame\u001b[0m = [similargrouplevel: int, query: string ... 7 more fields]\n",
      "root\n",
      " |-- similargrouplevel: integer (nullable = true)\n",
      " |-- query: string (nullable = true)\n",
      " |-- m1: double (nullable = true)\n",
      " |-- m2: double (nullable = true)\n",
      " |-- m3: double (nullable = true)\n",
      " |-- m4: double (nullable = true)\n",
      " |-- m5: double (nullable = true)\n",
      " |-- m6: double (nullable = true)\n",
      " |-- productid: string (nullable = false)\n",
      "\n"
     ]
    }
   ],
   "source": [
    "var queryAvgPredictions = queryAvg.join(productToQuery, Seq(\"similargrouplevel\", \"query\"))\n",
    "queryAvgPredictions.printSchema"
   ]
  },
  {
   "cell_type": "code",
   "execution_count": 33,
   "metadata": {},
   "outputs": [
    {
     "data": {
      "application/vnd.jupyter.widget-view+json": {
       "model_id": "",
       "version_major": 2,
       "version_minor": 0
      },
      "text/plain": [
       "FloatProgress(value=0.0, bar_style='info', description='Progress:', layout=Layout(height='25px', width='50%'),…"
      ]
     },
     "metadata": {},
     "output_type": "display_data"
    },
    {
     "name": "stdout",
     "output_type": "stream",
     "text": [
      "32\n",
      "+-----------------+------------------------------------------------+------------------+------------------+------------------+------------------+------------------+------------------+--------------------+\n",
      "|similargrouplevel|query                                           |m1                |m2                |m3                |m4                |m5                |m6                |productid           |\n",
      "+-----------------+------------------------------------------------+------------------+------------------+------------------+------------------+------------------+------------------+--------------------+\n",
      "|830216013        |gant_white_stripes_6_full-length sleeve_classic |1.8039797970226836|1.951472529343196 |2.053013341767447 |1.9422415409769331|2.09832489490509  |1.965381579739707 |465846548_white     |\n",
      "|830216013        |gant_blue_solid_6_short sleeve_classic          |1.043427750468254 |1.0446764379739761|1.0585337281227112|1.0743151903152466|1.2893744260072708|0.9882813096046448|465876608_blue      |\n",
      "|830216013        |gant_blue_solid_6_short sleeve_classic          |1.043427750468254 |1.0446764379739761|1.0585337281227112|1.0743151903152466|1.2893744260072708|0.9882813096046448|465876615_blue      |\n",
      "|830216013        |gant_pink_stripes_6_full-length sleeve_classic  |4.958702201193031 |5.302181200547651 |5.4709335565567025|4.996452938426625 |5.260393863374537 |5.4430264830589286|465861305_pink      |\n",
      "|830216013        |gant_green_solid_6_short sleeve_classic         |2.4793110191822056|2.5473310351371765|2.5218015909194946|2.589408755302429 |3.0151768922805786|2.430258721113205 |465950109_green     |\n",
      "|830216013        |gant_white_solid_6_short sleeve_classic         |1.135851224263509 |1.2751109401384988|1.281232198079427 |1.3335480093955994|1.6175334453582764|1.1790668169657388|465950107_white     |\n",
      "|830216013        |gant_yellow_stripes_6_full-length sleeve_classic|3.1373924687504764|3.1563665643334393|3.255831241607666 |3.138166159391403 |3.4930961653590202|3.057865932583809 |465765508_yellow    |\n",
      "|830216013        |gant_pink_solid_6_full-length sleeve_classic    |3.6465399503707885|4.047603905200958 |4.03900284767151  |3.8776394367218017|4.0012358784675595|3.8464548707008355|465878527_pink      |\n",
      "|830216013        |gant_orange_check_6_full-length sleeve_classic  |28.676461458206177|27.277274310588837|30.008644104003906|29.834785044193268|31.544209599494934|35.47922027111054 |465878756_orange    |\n",
      "|830216013        |gant_orange_check_6_full-length sleeve_classic  |28.676461458206177|27.277274310588837|30.008644104003906|29.834785044193268|31.544209599494934|35.47922027111054 |465846569_orange    |\n",
      "|830216013        |gant_green_check_6_full-length sleeve_classic   |3.58324947754542  |3.4662044664223983|3.626683227221172 |3.1977362116177885|3.5823252717653915|3.348681191603343 |465846566_green     |\n",
      "|830216013        |gant_white_solid_6_full-length sleeve_classic   |1.534279902776082 |1.6075958033402764|1.6734813292821242|1.7691468477249144|2.0342062274614965|1.7722856601079302|465878745_white     |\n",
      "|830216013        |gant_white_solid_6_full-length sleeve_classic   |1.534279902776082 |1.6075958033402764|1.6734813292821242|1.7691468477249144|2.0342062274614965|1.7722856601079302|465688126_white     |\n",
      "|830216013        |gant_green_solid_6_full-length sleeve_classic   |4.446713054180146 |4.349597716331482 |4.437021378676096 |4.0296956698099775|4.418315776189169 |4.262770430246989 |465688117_green     |\n",
      "|830216013        |gant_green_solid_6_full-length sleeve_classic   |4.446713054180146 |4.349597716331482 |4.437021378676096 |4.0296956698099775|4.418315776189169 |4.262770430246989 |465950118_green     |\n",
      "|830216013        |gant_blue_check_6_full-length sleeve_classic    |1.6504578434053014|1.7289904531885363|1.7702191872674915|1.705453558046309 |1.8682976394403177|1.6891832947731025|465950122_blue      |\n",
      "|830216013        |gant_blue_stripes_6_full-length sleeve_classic  |2.9412367011225498|3.0335080485011257|3.207701398882756 |3.010561689387921 |3.1771228424338407|3.27642869394879  |465861304_blue      |\n",
      "|830216013        |gant_blue_stripes_6_full-length sleeve_classic  |2.9412367011225498|3.0335080485011257|3.207701398882756 |3.010561689387921 |3.1771228424338407|3.27642869394879  |465769197_blue      |\n",
      "|830216013        |gant_blue_stripes_6_full-length sleeve_classic  |2.9412367011225498|3.0335080485011257|3.207701398882756 |3.010561689387921 |3.1771228424338407|3.27642869394879  |465846553_blue      |\n",
      "|830216013        |gant_blue_stripes_6_full-length sleeve_classic  |2.9412367011225498|3.0335080485011257|3.207701398882756 |3.010561689387921 |3.1771228424338407|3.27642869394879  |465767782_blue      |\n",
      "|830216013        |gant_green_stripes_6_full-length sleeve_classic |2.1054146506569595|2.059630507772619 |2.222552678801797 |2.415707642381842 |3.191593782468276 |2.630199437791651 |465950116_green     |\n",
      "|830216013        |gant_green_stripes_6_full-length sleeve_classic |2.1054146506569595|2.059630507772619 |2.222552678801797 |2.415707642381842 |3.191593782468276 |2.630199437791651 |465769195_green     |\n",
      "|830216013        |gant_green_stripes_6_full-length sleeve_classic |2.1054146506569595|2.059630507772619 |2.222552678801797 |2.415707642381842 |3.191593782468276 |2.630199437791651 |465840770_green     |\n",
      "|830216013        |gant_green_stripes_6_full-length sleeve_classic |2.1054146506569595|2.059630507772619 |2.222552678801797 |2.415707642381842 |3.191593782468276 |2.630199437791651 |465766062_green     |\n",
      "|830216013        |gant_orange_stripes_6_full-length sleeve_classic|3.4785420497258506|3.7207558353741956|3.991484781106313 |3.517544746398926 |4.088934858640035 |3.52761564652125  |465765226_orange    |\n",
      "|830216013        |gant_blue_solid_6_full-length sleeve_classic    |1.6777215761442978|1.682209890335799 |1.6640081803003943|1.6966068322459862|1.916892221818367 |1.6706846803426734|465950120_blue      |\n",
      "|830216013        |gant_blue_solid_6_full-length sleeve_classic    |1.6777215761442978|1.682209890335799 |1.6640081803003943|1.6966068322459862|1.916892221818367 |1.6706846803426734|465687785_blue      |\n",
      "|830216013        |gant_blue_solid_6_full-length sleeve_classic    |1.6777215761442978|1.682209890335799 |1.6640081803003943|1.6966068322459862|1.916892221818367 |1.6706846803426734|465688123_blue      |\n",
      "|830216013        |gant_blue_solid_6_full-length sleeve_classic    |1.6777215761442978|1.682209890335799 |1.6640081803003943|1.6966068322459862|1.916892221818367 |1.6706846803426734|465965047_blue      |\n",
      "|830216013        |gant_#_#_6_#_#                                  |2.3804929444431626|2.451308680819232 |2.5575381743001153|2.3980924473843896|2.6101975265150807|2.4657481258565674|465688117_gr+D379een|\n",
      "|830216013        |gant_beige_solid_6_full-length sleeve_classic   |1.2986239790916443|1.2603111565113068|1.275043249130249 |1.3024461567401886|1.65705206990242  |1.2955446541309357|465878750_beige     |\n",
      "|830216013        |gant_beige_solid_6_full-length sleeve_classic   |1.2986239790916443|1.2603111565113068|1.275043249130249 |1.3024461567401886|1.65705206990242  |1.2955446541309357|465688111_beige     |\n",
      "+-----------------+------------------------------------------------+------------------+------------------+------------------+------------------+------------------+------------------+--------------------+\n",
      "\n"
     ]
    }
   ],
   "source": [
    "println(queryAvgPredictions.count)\n",
    "queryAvgPredictions.show(33, false)"
   ]
  },
  {
   "cell_type": "markdown",
   "metadata": {},
   "source": [
    "#### Missing Predictions"
   ]
  },
  {
   "cell_type": "code",
   "execution_count": 37,
   "metadata": {},
   "outputs": [
    {
     "data": {
      "application/vnd.jupyter.widget-view+json": {
       "model_id": "",
       "version_major": 2,
       "version_minor": 0
      },
      "text/plain": [
       "FloatProgress(value=0.0, bar_style='info', description='Progress:', layout=Layout(height='25px', width='50%'),…"
      ]
     },
     "metadata": {},
     "output_type": "display_data"
    },
    {
     "name": "stdout",
     "output_type": "stream",
     "text": [
      "\u001b[1m\u001b[34mproductsHavingPredictions\u001b[0m: \u001b[1m\u001b[32morg.apache.spark.sql.Dataset[org.apache.spark.sql.Row]\u001b[0m = [productid: string]\n",
      "\u001b[1m\u001b[34mmissingProducts\u001b[0m: \u001b[1m\u001b[32morg.apache.spark.sql.DataFrame\u001b[0m = [productid: string, brandname: string ... 1 more field]\n",
      "1\n",
      "\u001b[1m\u001b[34mmissingProductAttrs\u001b[0m: \u001b[1m\u001b[32morg.apache.spark.sql.DataFrame\u001b[0m = [productid: string, brandname: string ... 8 more fields]\n",
      "1\n",
      "+---------------+---------+-----+-----------+------+------------------+---------+-------+-----------+-----------------+\n",
      "|productid      |brandname|mrp  |colorfamily|price |sleeve            |styletype|pattern|pricebucket|similargrouplevel|\n",
      "+---------------+---------+-----+-----------+------+------------------+---------+-------+-----------+-----------------+\n",
      "|465950113_beige|gant     |10999|beige      |4399.6|full-length sleeve|classic  |stripes|6          |830216013        |\n",
      "+---------------+---------+-----+-----------+------+------------------+---------+-------+-----------+-----------------+\n",
      "\n"
     ]
    }
   ],
   "source": [
    "var productsHavingPredictions = {\n",
    "    nn_predictions.select(PRODUCTID).distinct\n",
    "    .union(queryAvgPredictions.select(PRODUCTID).distinct)\n",
    "    .distinct\n",
    "}\n",
    "\n",
    "var missingProducts = requiredProducts.join(productsHavingPredictions, Seq(PRODUCTID), \"leftanti\")\n",
    "println(missingProducts.count)\n",
    "\n",
    "var missingProductAttrs = missingProducts.drop(\"mrp\", \"brandname\").join(requiredProductAttrs, Seq(PRODUCTID))\n",
    "println(missingProductAttrs.count)\n",
    "missingProductAttrs.show(false)"
   ]
  },
  {
   "cell_type": "code",
   "execution_count": 38,
   "metadata": {},
   "outputs": [
    {
     "data": {
      "application/vnd.jupyter.widget-view+json": {
       "model_id": "",
       "version_major": 2,
       "version_minor": 0
      },
      "text/plain": [
       "FloatProgress(value=0.0, bar_style='info', description='Progress:', layout=Layout(height='25px', width='50%'),…"
      ]
     },
     "metadata": {},
     "output_type": "display_data"
    }
   ],
   "source": [
    "DFToParquet.putDF(\"/data/Archive/bhavesh/InventoryPrediction/2023-04-30/ajio/gant/MissingProducts\", missingProducts)\n",
    "DFToParquet.putDF(\"/data/Archive/bhavesh/InventoryPrediction/2023-04-30/ajio/gant/MissingProductAttrs\", missingProductAttrs)"
   ]
  },
  {
   "cell_type": "code",
   "execution_count": 41,
   "metadata": {},
   "outputs": [
    {
     "data": {
      "application/vnd.jupyter.widget-view+json": {
       "model_id": "",
       "version_major": 2,
       "version_minor": 0
      },
      "text/plain": [
       "FloatProgress(value=0.0, bar_style='info', description='Progress:', layout=Layout(height='25px', width='50%'),…"
      ]
     },
     "metadata": {},
     "output_type": "display_data"
    },
    {
     "name": "stdout",
     "output_type": "stream",
     "text": [
      "\u001b[1m\u001b[34mmissingProducts\u001b[0m: \u001b[1m\u001b[32morg.apache.spark.sql.DataFrame\u001b[0m = [productid: string, brandname: string ... 1 more field]\n",
      "\u001b[1m\u001b[34mmissingProductAttrs\u001b[0m: \u001b[1m\u001b[32morg.apache.spark.sql.DataFrame\u001b[0m = [productid: string, brandname: string ... 8 more fields]\n"
     ]
    }
   ],
   "source": [
    "var missingProducts = ParquetToDF.getDF(\"/data/Archive/bhavesh/InventoryPrediction/2023-04-30/ajio/gant/MissingProducts\")\n",
    "var missingProductAttrs = ParquetToDF.getDF(\"/data/Archive/bhavesh/InventoryPrediction/2023-04-30/ajio/gant/MissingProductAttrs\")"
   ]
  },
  {
   "cell_type": "code",
   "execution_count": 44,
   "metadata": {},
   "outputs": [
    {
     "data": {
      "application/vnd.jupyter.widget-view+json": {
       "model_id": "",
       "version_major": 2,
       "version_minor": 0
      },
      "text/plain": [
       "FloatProgress(value=0.0, bar_style='info', description='Progress:', layout=Layout(height='25px', width='50%'),…"
      ]
     },
     "metadata": {},
     "output_type": "display_data"
    },
    {
     "name": "stdout",
     "output_type": "stream",
     "text": [
      "\u001b[1m\u001b[34mqueryAvgTransformed\u001b[0m: \u001b[1m\u001b[32morg.apache.spark.sql.DataFrame\u001b[0m = [query: string, similargrouplevel: int ... 13 more fields]\n",
      "\u001b[1m\u001b[34mmissingProductAttrsTransformed\u001b[0m: \u001b[1m\u001b[32morg.apache.spark.sql.DataFrame\u001b[0m = [productid: string, similargrouplevel: string ... 7 more fields]\n",
      "\u001b[1m\u001b[34mmissingProductsPossibilities\u001b[0m: \u001b[1m\u001b[32morg.apache.spark.sql.DataFrame\u001b[0m = [similargrouplevel: string, brandname: string ... 14 more fields]\n"
     ]
    }
   ],
   "source": [
    "var queryAvgTransformed = {\n",
    "    queryAvg.withColumn(\"has_brandname\", split(col(\"query\"), \"_\")(0) =!= \"#\")\n",
    "    .withColumn(\"has_colorfamily\", split(col(\"query\"), \"_\")(1) =!= \"#\")\n",
    "    .withColumn(\"has_pattern\", split(col(\"query\"), \"_\")(2) =!= \"#\")\n",
    "    .withColumn(\"has_pricebucket\", split(col(\"query\"), \"_\")(3) =!= \"#\")\n",
    "    .withColumn(\"has_sleeve\", split(col(\"query\"), \"_\")(4) =!= \"#\")\n",
    "    .withColumn(\"has_styletype\", split(col(\"query\"), \"_\")(5) =!= \"#\")\n",
    "    .withColumn(\"brandname\", split(col(\"query\"), \"_\")(0))\n",
    "}\n",
    "\n",
    "var missingProductAttrsTransformed = {\n",
    "    missingProductAttrs.na.fill(\"#\")\n",
    "    .withColumn(\"has_brandname\", col(\"brandname\") =!= \"#\")\n",
    "    .withColumn(\"has_colorfamily\", col(\"colorfamily\") =!= \"#\")\n",
    "    .withColumn(\"has_pattern\", col(\"pattern\") =!= \"#\")\n",
    "    .withColumn(\"has_pricebucket\", col(\"pricebucket\") =!= \"#\")\n",
    "    .withColumn(\"has_sleeve\", col(\"sleeve\") =!= \"#\")\n",
    "    .withColumn(\"has_styletype\", col(\"styletype\") =!= \"#\")\n",
    "    .select(\"productid\", \"similargrouplevel\", \"brandname\", \"has_brandname\", \"has_colorfamily\", \"has_pattern\", \"has_pricebucket\", \"has_sleeve\", \"has_styletype\")\n",
    "}\n",
    "\n",
    "var missingProductsPossibilities = {\n",
    "    missingProductAttrsTransformed\n",
    "    .join(queryAvgTransformed, \n",
    "          Seq(\"similargrouplevel\", \"brandname\", \"has_brandname\", \"has_colorfamily\", \"has_pattern\", \"has_pricebucket\", \"has_sleeve\", \"has_styletype\")\n",
    "         )\n",
    "}"
   ]
  },
  {
   "cell_type": "code",
   "execution_count": 46,
   "metadata": {},
   "outputs": [
    {
     "data": {
      "application/vnd.jupyter.widget-view+json": {
       "model_id": "",
       "version_major": 2,
       "version_minor": 0
      },
      "text/plain": [
       "FloatProgress(value=0.0, bar_style='info', description='Progress:', layout=Layout(height='25px', width='50%'),…"
      ]
     },
     "metadata": {},
     "output_type": "display_data"
    }
   ],
   "source": [
    "DFToParquet.putDF(\"/data/Archive/bhavesh/InventoryPrediction/2023-04-30/ajio/gant/MissingProductsPossibilities\", missingProductsPossibilities)"
   ]
  },
  {
   "cell_type": "code",
   "execution_count": 51,
   "metadata": {},
   "outputs": [
    {
     "data": {
      "application/vnd.jupyter.widget-view+json": {
       "model_id": "",
       "version_major": 2,
       "version_minor": 0
      },
      "text/plain": [
       "FloatProgress(value=0.0, bar_style='info', description='Progress:', layout=Layout(height='25px', width='50%'),…"
      ]
     },
     "metadata": {},
     "output_type": "display_data"
    },
    {
     "name": "stdout",
     "output_type": "stream",
     "text": [
      "\u001b[1m\u001b[34mmissingProductsPossibilities\u001b[0m: \u001b[1m\u001b[32morg.apache.spark.sql.DataFrame\u001b[0m = [similargrouplevel: string, brandname: string ... 14 more fields]\n",
      "root\n",
      " |-- similargrouplevel: string (nullable = true)\n",
      " |-- brandname: string (nullable = true)\n",
      " |-- has_brandname: boolean (nullable = true)\n",
      " |-- has_colorfamily: boolean (nullable = true)\n",
      " |-- has_pattern: boolean (nullable = true)\n",
      " |-- has_pricebucket: boolean (nullable = true)\n",
      " |-- has_sleeve: boolean (nullable = true)\n",
      " |-- has_styletype: boolean (nullable = true)\n",
      " |-- productid: string (nullable = true)\n",
      " |-- query: string (nullable = true)\n",
      " |-- m1: double (nullable = true)\n",
      " |-- m2: double (nullable = true)\n",
      " |-- m3: double (nullable = true)\n",
      " |-- m4: double (nullable = true)\n",
      " |-- m5: double (nullable = true)\n",
      " |-- m6: double (nullable = true)\n",
      "\n"
     ]
    }
   ],
   "source": [
    "var missingProductsPossibilities = ParquetToDF.getDF(\"/data/Archive/bhavesh/InventoryPrediction/2023-04-30/ajio/gant/MissingProductsPossibilities\")\n",
    "missingProductsPossibilities.printSchema"
   ]
  },
  {
   "cell_type": "code",
   "execution_count": 53,
   "metadata": {},
   "outputs": [
    {
     "data": {
      "application/vnd.jupyter.widget-view+json": {
       "model_id": "",
       "version_major": 2,
       "version_minor": 0
      },
      "text/plain": [
       "FloatProgress(value=0.0, bar_style='info', description='Progress:', layout=Layout(height='25px', width='50%'),…"
      ]
     },
     "metadata": {},
     "output_type": "display_data"
    },
    {
     "name": "stdout",
     "output_type": "stream",
     "text": [
      "\u001b[1m\u001b[34mmissingProductsPredictions\u001b[0m: \u001b[1m\u001b[32morg.apache.spark.sql.DataFrame\u001b[0m = [productid: string, similargrouplevel: string ... 7 more fields]\n",
      "root\n",
      " |-- productid: string (nullable = true)\n",
      " |-- similargrouplevel: string (nullable = true)\n",
      " |-- m1: double (nullable = true)\n",
      " |-- m2: double (nullable = true)\n",
      " |-- m3: double (nullable = true)\n",
      " |-- m4: double (nullable = true)\n",
      " |-- m5: double (nullable = true)\n",
      " |-- m6: double (nullable = true)\n",
      " |-- consideredQueries: string (nullable = false)\n",
      "\n",
      "1\n"
     ]
    }
   ],
   "source": [
    "var missingProductsPredictions = {\n",
    "    missingProductsPossibilities.groupBy(\"productid\", \"similargrouplevel\")\n",
    "    .agg(\n",
    "        callUDF(\"percentile\", col(\"m1\"), lit(0.5)) as \"m1\",\n",
    "        callUDF(\"percentile\", col(\"m2\"), lit(0.5)) as \"m2\",\n",
    "        callUDF(\"percentile\", col(\"m3\"), lit(0.5)) as \"m3\",\n",
    "        callUDF(\"percentile\", col(\"m4\"), lit(0.5)) as \"m4\",\n",
    "        callUDF(\"percentile\", col(\"m5\"), lit(0.5)) as \"m5\",\n",
    "        callUDF(\"percentile\", col(\"m6\"), lit(0.5)) as \"m6\",\n",
    "        concat_ws(\", \", collect_list(col(\"query\"))) as \"consideredQueries\"\n",
    "    )\n",
    "}\n",
    "missingProductsPredictions.printSchema\n",
    "println(missingProductsPredictions.count)"
   ]
  },
  {
   "cell_type": "markdown",
   "metadata": {},
   "source": [
    "#### Combine predictions"
   ]
  },
  {
   "cell_type": "code",
   "execution_count": 54,
   "metadata": {},
   "outputs": [
    {
     "data": {
      "application/vnd.jupyter.widget-view+json": {
       "model_id": "",
       "version_major": 2,
       "version_minor": 0
      },
      "text/plain": [
       "FloatProgress(value=0.0, bar_style='info', description='Progress:', layout=Layout(height='25px', width='50%'),…"
      ]
     },
     "metadata": {},
     "output_type": "display_data"
    }
   ],
   "source": [
    "DFToParquet.putDF(\"/data/Archive/bhavesh/InventoryPrediction/2023-04-30/ajio/gant/predictions/product\", nn_predictions)\n",
    "DFToParquet.putDF(\"/data/Archive/bhavesh/InventoryPrediction/2023-04-30/ajio/gant/predictions/queryAvg\", queryAvgPredictions)\n",
    "DFToParquet.putDF(\"/data/Archive/bhavesh/InventoryPrediction/2023-04-30/ajio/gant/predictions/missing\", missingProductsPredictions)"
   ]
  },
  {
   "cell_type": "code",
   "execution_count": 3,
   "metadata": {},
   "outputs": [
    {
     "data": {
      "application/vnd.jupyter.widget-view+json": {
       "model_id": "",
       "version_major": 2,
       "version_minor": 0
      },
      "text/plain": [
       "FloatProgress(value=0.0, bar_style='info', description='Progress:', layout=Layout(height='25px', width='50%'),…"
      ]
     },
     "metadata": {},
     "output_type": "display_data"
    },
    {
     "name": "stdout",
     "output_type": "stream",
     "text": [
      "\u001b[1m\u001b[34mproductPredictions\u001b[0m: \u001b[1m\u001b[32morg.apache.spark.sql.DataFrame\u001b[0m = [productid: string, similargrouplevel: string ... 6 more fields]\n",
      "\u001b[1m\u001b[34mqueryAvgPredictions\u001b[0m: \u001b[1m\u001b[32morg.apache.spark.sql.DataFrame\u001b[0m = [similargrouplevel: int, query: string ... 7 more fields]\n",
      "\u001b[1m\u001b[34mmissingPredictions\u001b[0m: \u001b[1m\u001b[32morg.apache.spark.sql.DataFrame\u001b[0m = [productid: string, similargrouplevel: string ... 7 more fields]\n",
      "root\n",
      " |-- productid: string (nullable = true)\n",
      " |-- similargrouplevel: string (nullable = true)\n",
      " |-- m1: double (nullable = true)\n",
      " |-- m2: double (nullable = true)\n",
      " |-- m3: double (nullable = true)\n",
      " |-- m4: double (nullable = true)\n",
      " |-- m5: double (nullable = true)\n",
      " |-- m6: double (nullable = true)\n",
      "\n",
      "root\n",
      " |-- similargrouplevel: integer (nullable = true)\n",
      " |-- query: string (nullable = true)\n",
      " |-- m1: double (nullable = true)\n",
      " |-- m2: double (nullable = true)\n",
      " |-- m3: double (nullable = true)\n",
      " |-- m4: double (nullable = true)\n",
      " |-- m5: double (nullable = true)\n",
      " |-- m6: double (nullable = true)\n",
      " |-- productid: string (nullable = true)\n",
      "\n",
      "root\n",
      " |-- productid: string (nullable = true)\n",
      " |-- similargrouplevel: string (nullable = true)\n",
      " |-- m1: double (nullable = true)\n",
      " |-- m2: double (nullable = true)\n",
      " |-- m3: double (nullable = true)\n",
      " |-- m4: double (nullable = true)\n",
      " |-- m5: double (nullable = true)\n",
      " |-- m6: double (nullable = true)\n",
      " |-- consideredQueries: string (nullable = true)\n",
      "\n"
     ]
    }
   ],
   "source": [
    "var productPredictions = ParquetToDF.getDF(\"/data/Archive/bhavesh/InventoryPrediction/2023-04-30/ajio/gant/predictions/product\")\n",
    "var queryAvgPredictions = ParquetToDF.getDF(\"/data/Archive/bhavesh/InventoryPrediction/2023-04-30/ajio/gant/predictions/queryAvg\")\n",
    "var missingPredictions = ParquetToDF.getDF(\"/data/Archive/bhavesh/InventoryPrediction/2023-04-30/ajio/gant/predictions/missing\")\n",
    "productPredictions.printSchema\n",
    "queryAvgPredictions.printSchema\n",
    "missingPredictions.printSchema"
   ]
  },
  {
   "cell_type": "code",
   "execution_count": 6,
   "metadata": {},
   "outputs": [
    {
     "data": {
      "application/vnd.jupyter.widget-view+json": {
       "model_id": "",
       "version_major": 2,
       "version_minor": 0
      },
      "text/plain": [
       "FloatProgress(value=0.0, bar_style='info', description='Progress:', layout=Layout(height='25px', width='50%'),…"
      ]
     },
     "metadata": {},
     "output_type": "display_data"
    },
    {
     "name": "stdout",
     "output_type": "stream",
     "text": [
      "\u001b[1m\u001b[34mactual\u001b[0m: \u001b[1m\u001b[32morg.apache.spark.sql.DataFrame\u001b[0m = [productid: string, 2023-05: bigint ... 1 more field]\n",
      "root\n",
      " |-- productid: string (nullable = true)\n",
      " |-- 2023-05: long (nullable = true)\n",
      " |-- 2023-06: long (nullable = true)\n",
      "\n"
     ]
    }
   ],
   "source": [
    "var actual = ParquetToDF.getDF(\"/data/Archive/bhavesh/InventoryPrediction/2023-04-30/ajio/actual\")\n",
    "actual.printSchema"
   ]
  },
  {
   "cell_type": "code",
   "execution_count": 7,
   "metadata": {},
   "outputs": [
    {
     "data": {
      "application/vnd.jupyter.widget-view+json": {
       "model_id": "",
       "version_major": 2,
       "version_minor": 0
      },
      "text/plain": [
       "FloatProgress(value=0.0, bar_style='info', description='Progress:', layout=Layout(height='25px', width='50%'),…"
      ]
     },
     "metadata": {},
     "output_type": "display_data"
    },
    {
     "name": "stdout",
     "output_type": "stream",
     "text": [
      "productPredictions: org.apache.spark.sql.DataFrame = [productid: string, similargrouplevel: string ... 9 more fields]\n",
      "root\n",
      " |-- productid: string (nullable = true)\n",
      " |-- similargrouplevel: string (nullable = true)\n",
      " |-- m1: double (nullable = true)\n",
      " |-- m2: double (nullable = true)\n",
      " |-- m3: double (nullable = true)\n",
      " |-- m4: double (nullable = true)\n",
      " |-- m5: double (nullable = true)\n",
      " |-- m6: double (nullable = true)\n",
      " |-- query: string (nullable = false)\n",
      " |-- level: string (nullable = false)\n",
      " |-- consideredQueries: string (nullable = false)\n",
      "\n"
     ]
    }
   ],
   "source": [
    "productPredictions = {\n",
    "    productPredictions.join(productToQuery, Seq(PRODUCTID, \"similargrouplevel\"))\n",
    "    .withColumn(\"level\", lit(\"product\"))\n",
    "    .withColumn(\"consideredQueries\", lit(\"-\"))\n",
    "}\n",
    "productPredictions.printSchema"
   ]
  },
  {
   "cell_type": "code",
   "execution_count": 8,
   "metadata": {},
   "outputs": [
    {
     "data": {
      "application/vnd.jupyter.widget-view+json": {
       "model_id": "",
       "version_major": 2,
       "version_minor": 0
      },
      "text/plain": [
       "FloatProgress(value=0.0, bar_style='info', description='Progress:', layout=Layout(height='25px', width='50%'),…"
      ]
     },
     "metadata": {},
     "output_type": "display_data"
    },
    {
     "name": "stdout",
     "output_type": "stream",
     "text": [
      "queryAvgPredictions: org.apache.spark.sql.DataFrame = [similargrouplevel: int, productid: string ... 9 more fields]\n",
      "root\n",
      " |-- similargrouplevel: integer (nullable = true)\n",
      " |-- productid: string (nullable = true)\n",
      " |-- query: string (nullable = true)\n",
      " |-- m1: double (nullable = true)\n",
      " |-- m2: double (nullable = true)\n",
      " |-- m3: double (nullable = true)\n",
      " |-- m4: double (nullable = true)\n",
      " |-- m5: double (nullable = true)\n",
      " |-- m6: double (nullable = true)\n",
      " |-- level: string (nullable = false)\n",
      " |-- consideredQueries: string (nullable = true)\n",
      "\n"
     ]
    }
   ],
   "source": [
    "queryAvgPredictions = {\n",
    "    queryAvgPredictions.withColumn(\"level\", lit(\"queryAvg\"))\n",
    "    .withColumn(\"consideredQueries\", col(\"query\"))\n",
    "    .join(productPredictions, Seq(\"similargrouplevel\", \"productid\"), \"leftanti\")\n",
    "}\n",
    "queryAvgPredictions.printSchema"
   ]
  },
  {
   "cell_type": "code",
   "execution_count": 9,
   "metadata": {},
   "outputs": [
    {
     "data": {
      "application/vnd.jupyter.widget-view+json": {
       "model_id": "",
       "version_major": 2,
       "version_minor": 0
      },
      "text/plain": [
       "FloatProgress(value=0.0, bar_style='info', description='Progress:', layout=Layout(height='25px', width='50%'),…"
      ]
     },
     "metadata": {},
     "output_type": "display_data"
    },
    {
     "name": "stdout",
     "output_type": "stream",
     "text": [
      "missingPredictions: org.apache.spark.sql.DataFrame = [productid: string, similargrouplevel: string ... 9 more fields]\n",
      "root\n",
      " |-- productid: string (nullable = true)\n",
      " |-- similargrouplevel: string (nullable = true)\n",
      " |-- m1: double (nullable = true)\n",
      " |-- m2: double (nullable = true)\n",
      " |-- m3: double (nullable = true)\n",
      " |-- m4: double (nullable = true)\n",
      " |-- m5: double (nullable = true)\n",
      " |-- m6: double (nullable = true)\n",
      " |-- consideredQueries: string (nullable = true)\n",
      " |-- query: string (nullable = false)\n",
      " |-- level: string (nullable = false)\n",
      "\n"
     ]
    }
   ],
   "source": [
    "missingPredictions = {\n",
    "    missingPredictions.join(productToQuery, Seq(PRODUCTID, \"similargrouplevel\"))\n",
    "    .withColumn(\"level\", lit(\"missing\"))\n",
    "}\n",
    "missingPredictions.printSchema"
   ]
  },
  {
   "cell_type": "code",
   "execution_count": 10,
   "metadata": {},
   "outputs": [
    {
     "data": {
      "application/vnd.jupyter.widget-view+json": {
       "model_id": "",
       "version_major": 2,
       "version_minor": 0
      },
      "text/plain": [
       "FloatProgress(value=0.0, bar_style='info', description='Progress:', layout=Layout(height='25px', width='50%'),…"
      ]
     },
     "metadata": {},
     "output_type": "display_data"
    },
    {
     "name": "stdout",
     "output_type": "stream",
     "text": [
      "\u001b[1m\u001b[34mfinalPredictions\u001b[0m: \u001b[1m\u001b[32morg.apache.spark.sql.DataFrame\u001b[0m = [productid: string, similargrouplevel: string ... 11 more fields]\n",
      "root\n",
      " |-- productid: string (nullable = true)\n",
      " |-- similargrouplevel: string (nullable = true)\n",
      " |-- May-Prediction: integer (nullable = true)\n",
      " |-- June-Prediction: integer (nullable = true)\n",
      " |-- July-Prediction: integer (nullable = true)\n",
      " |-- August-Prediction: integer (nullable = true)\n",
      " |-- September-Prediction: integer (nullable = true)\n",
      " |-- October-Prediction: integer (nullable = true)\n",
      " |-- query: string (nullable = true)\n",
      " |-- level: string (nullable = false)\n",
      " |-- consideredQueries: string (nullable = true)\n",
      " |-- May-Actual: long (nullable = false)\n",
      " |-- June-Actual: long (nullable = false)\n",
      "\n"
     ]
    }
   ],
   "source": [
    "var finalPredictions = {\n",
    "    productPredictions.union(queryAvgPredictions.select(productPredictions.columns.map(col): _*))\n",
    "    .union(missingPredictions.select(productPredictions.columns.map(col): _*))\n",
    "    .join(actual, Seq(\"productid\"), \"left\")\n",
    "    .na.fill(0)\n",
    "    .withColumn(\"m1\", round(col(\"m1\")).cast(IntegerType))\n",
    "    .withColumnRenamed(\"m1\", \"May-Prediction\")\n",
    "    .withColumn(\"m2\", round(col(\"m2\")).cast(IntegerType))\n",
    "    .withColumnRenamed(\"m2\", \"June-Prediction\")\n",
    "    .withColumn(\"m3\", round(col(\"m3\")).cast(IntegerType))\n",
    "    .withColumnRenamed(\"m3\", \"July-Prediction\")\n",
    "    .withColumn(\"m4\", round(col(\"m4\")).cast(IntegerType))\n",
    "    .withColumnRenamed(\"m4\", \"August-Prediction\")\n",
    "    .withColumn(\"m5\", round(col(\"m5\")).cast(IntegerType))\n",
    "    .withColumnRenamed(\"m5\", \"September-Prediction\")\n",
    "    .withColumn(\"m6\", round(col(\"m6\")).cast(IntegerType))\n",
    "    .withColumnRenamed(\"m6\", \"October-Prediction\")\n",
    "    .withColumnRenamed(\"2023-05\", \"May-Actual\")\n",
    "    .withColumnRenamed(\"2023-06\", \"June-Actual\")\n",
    "    .select(\n",
    "        (\"productid,similargrouplevel,May-Prediction,June-Prediction,July-Prediction,August-Prediction,September-Prediction,October-Prediction,query\"\n",
    "        + \",level,consideredQueries,May-Actual,June-Actual\").split(\",\").map(col): _*\n",
    "    )\n",
    "}\n",
    "finalPredictions.printSchema"
   ]
  },
  {
   "cell_type": "code",
   "execution_count": 11,
   "metadata": {},
   "outputs": [
    {
     "data": {
      "application/vnd.jupyter.widget-view+json": {
       "model_id": "",
       "version_major": 2,
       "version_minor": 0
      },
      "text/plain": [
       "FloatProgress(value=0.0, bar_style='info', description='Progress:', layout=Layout(height='25px', width='50%'),…"
      ]
     },
     "metadata": {},
     "output_type": "display_data"
    }
   ],
   "source": [
    "DFToCSV.putDF(\"/data/Archive/bhavesh/InventoryPrediction/2023-04-30/ajio/gant/RequiredPredictions\", finalPredictions.coalesce(1))"
   ]
  },
  {
   "cell_type": "markdown",
   "metadata": {},
   "source": [
    "### Aarke"
   ]
  },
  {
   "cell_type": "code",
   "execution_count": 5,
   "metadata": {},
   "outputs": [
    {
     "data": {
      "application/vnd.jupyter.widget-view+json": {
       "model_id": "",
       "version_major": 2,
       "version_minor": 0
      },
      "text/plain": [
       "FloatProgress(value=0.0, bar_style='info', description='Progress:', layout=Layout(height='25px', width='50%'),…"
      ]
     },
     "metadata": {},
     "output_type": "display_data"
    },
    {
     "name": "stdout",
     "output_type": "stream",
     "text": [
      "\u001b[1m\u001b[34maarke\u001b[0m: \u001b[1m\u001b[32morg.apache.spark.sql.DataFrame\u001b[0m = [Buyer: string, Brand Name: string ... 16 more fields]\n",
      "root\n",
      " |-- Buyer: string (nullable = true)\n",
      " |-- Brand Name: string (nullable = true)\n",
      " |-- GenCol: string (nullable = true)\n",
      " |-- EAN: long (nullable = true)\n",
      " |-- Style code: string (nullable = true)\n",
      " |-- Vendor Article No.: long (nullable = true)\n",
      " |-- Color: string (nullable = true)\n",
      " |-- Ven Art No & Color: string (nullable = true)\n",
      " |-- Size: string (nullable = true)\n",
      " |-- Segment: string (nullable = true)\n",
      " |-- Portfolio: string (nullable = true)\n",
      " |-- Category: string (nullable = true)\n",
      " |-- Vertical: string (nullable = true)\n",
      " |-- Brick: string (nullable = true)\n",
      " |-- Commercial Type: string (nullable = true)\n",
      " |-- Season Code: string (nullable = true)\n",
      " |-- Option Count: integer (nullable = true)\n",
      " |-- MRP: integer (nullable = true)\n",
      "\n"
     ]
    }
   ],
   "source": [
    "var aarke = CSVToDF.getDF(\"/data/Archive/bhavesh/InventoryPrediction/2023-04-30/ajio/aarke-ritu-kumar/M&S Gant Aarke - Aarke.csv\", inferSchema=true)\n",
    "aarke.printSchema"
   ]
  },
  {
   "cell_type": "code",
   "execution_count": 6,
   "metadata": {},
   "outputs": [
    {
     "data": {
      "application/vnd.jupyter.widget-view+json": {
       "model_id": "",
       "version_major": 2,
       "version_minor": 0
      },
      "text/plain": [
       "FloatProgress(value=0.0, bar_style='info', description='Progress:', layout=Layout(height='25px', width='50%'),…"
      ]
     },
     "metadata": {},
     "output_type": "display_data"
    },
    {
     "name": "stdout",
     "output_type": "stream",
     "text": [
      "\u001b[1m\u001b[34mrequiredProducts\u001b[0m: \u001b[1m\u001b[32morg.apache.spark.sql.DataFrame\u001b[0m = [productid: string, brandname: string ... 1 more field]\n",
      "root\n",
      " |-- productid: string (nullable = true)\n",
      " |-- brandname: string (nullable = false)\n",
      " |-- mrp: integer (nullable = true)\n",
      "\n",
      "20\n",
      "+--------------------+----------------+----+\n",
      "|           productid|       brandname| mrp|\n",
      "+--------------------+----------------+----+\n",
      "|      410334557_blue|aarke-ritu-kumar|2400|\n",
      "|    410334456_purple|aarke-ritu-kumar|2700|\n",
      "|     410334361_green|aarke-ritu-kumar|3400|\n",
      "|      410334548_pink|aarke-ritu-kumar|3500|\n",
      "|      410334391_blue|aarke-ritu-kumar|3200|\n",
      "|      410334354_blue|aarke-ritu-kumar|3800|\n",
      "|      410334280_blue|aarke-ritu-kumar|2800|\n",
      "|    410331534_purple|aarke-ritu-kumar|3500|\n",
      "|      410334556_pink|aarke-ritu-kumar|2500|\n",
      "|     410334382_peach|aarke-ritu-kumar|2500|\n",
      "|      410334347_blue|aarke-ritu-kumar|1500|\n",
      "|    410334372_yellow|aarke-ritu-kumar|2900|\n",
      "|      410318152_ecru|aarke-ritu-kumar|2200|\n",
      "|      410334350_navy|aarke-ritu-kumar|2500|\n",
      "|410334382_powderblue|aarke-ritu-kumar|2500|\n",
      "|      410334454_grey|aarke-ritu-kumar|2600|\n",
      "|      410334433_blue|aarke-ritu-kumar|1900|\n",
      "|       410334279_red|aarke-ritu-kumar|3200|\n",
      "|     410334350_beige|aarke-ritu-kumar|2500|\n",
      "|      441093606_blue|aarke-ritu-kumar|2900|\n",
      "+--------------------+----------------+----+\n",
      "\n"
     ]
    }
   ],
   "source": [
    "var requiredProducts = {\n",
    "    aarke.select(col(\"GenCol\") as \"productid\", lower(col(\"Brand Name\")) as \"brandname\", col(\"MRP\") as \"mrp\")\n",
    "    .distinct\n",
    "    .withColumn(\"brandname\", lit(\"aarke-ritu-kumar\"))\n",
    "}\n",
    "requiredProducts.printSchema\n",
    "println(requiredProducts.count)\n",
    "requiredProducts.show"
   ]
  },
  {
   "cell_type": "code",
   "execution_count": 7,
   "metadata": {},
   "outputs": [
    {
     "data": {
      "application/vnd.jupyter.widget-view+json": {
       "model_id": "",
       "version_major": 2,
       "version_minor": 0
      },
      "text/plain": [
       "FloatProgress(value=0.0, bar_style='info', description='Progress:', layout=Layout(height='25px', width='50%'),…"
      ]
     },
     "metadata": {},
     "output_type": "display_data"
    },
    {
     "name": "stdout",
     "output_type": "stream",
     "text": [
      "\u001b[1m\u001b[34mrequiredProductAttrs\u001b[0m: \u001b[1m\u001b[32morg.apache.spark.sql.DataFrame\u001b[0m = [productid: string, brandname: string ... 6 more fields]\n",
      "requiredProductAttrs: org.apache.spark.sql.DataFrame = [productid: string, brandname: string ... 8 more fields]\n",
      "root\n",
      " |-- productid: string (nullable = true)\n",
      " |-- brandname: string (nullable = false)\n",
      " |-- mrp: integer (nullable = true)\n",
      " |-- colorfamily: string (nullable = true)\n",
      " |-- price: double (nullable = true)\n",
      " |-- sleeve: string (nullable = true)\n",
      " |-- styletype: string (nullable = true)\n",
      " |-- pattern: string (nullable = true)\n",
      " |-- pricebucket: string (nullable = false)\n",
      " |-- similargrouplevel: string (nullable = false)\n",
      "\n",
      "20\n",
      "+--------------------+----------------+----+-----------+------+------------------+---------+----------+-----------+-----------------+\n",
      "|productid           |brandname       |mrp |colorfamily|price |sleeve            |styletype|pattern   |pricebucket|similargrouplevel|\n",
      "+--------------------+----------------+----+-----------+------+------------------+---------+----------+-----------+-----------------+\n",
      "|410334382_peach     |aarke-ritu-kumar|2500|peach      |2500.0|3-4th sleeve      |a-line   |floral    |5          |830303011        |\n",
      "|410334354_blue      |aarke-ritu-kumar|3800|null       |3800.0|null              |null     |null      |6          |830303011        |\n",
      "|410334548_pink      |aarke-ritu-kumar|3500|pink       |3500.0|full-length sleeve|a-line   |floral    |6          |830303011        |\n",
      "|410334350_navy      |aarke-ritu-kumar|2500|navy       |1985.5|full-length sleeve|empire   |floral    |4          |830303011        |\n",
      "|410331534_purple    |aarke-ritu-kumar|3500|purple     |2170.0|short sleeve      |a-line   |embroidery|5          |830303011        |\n",
      "|410334279_red       |aarke-ritu-kumar|3200|red        |3200.0|3-4th sleeve      |straight |floral    |6          |830303011        |\n",
      "|410334350_beige     |aarke-ritu-kumar|2500|beige      |1925.0|full-length sleeve|empire   |floral    |4          |830303011        |\n",
      "|410334280_blue      |aarke-ritu-kumar|2800|blue       |1820.0|3-4th sleeve      |straight |floral    |4          |830303011        |\n",
      "|410334433_blue      |aarke-ritu-kumar|1900|blue       |1900.0|3-4th sleeve      |straight |stripes   |4          |830303011        |\n",
      "|410334361_green     |aarke-ritu-kumar|3400|green      |2618.0|3-4th sleeve      |a-line   |floral    |6          |830303011        |\n",
      "|410334391_blue      |aarke-ritu-kumar|3200|blue       |3200.0|short sleeve      |a-line   |paisley   |6          |830303011        |\n",
      "|410334347_blue      |aarke-ritu-kumar|1500|blue       |1200.0|3-4th sleeve      |straight |floral    |3          |830303011        |\n",
      "|410334456_purple    |aarke-ritu-kumar|2700|purple     |1755.0|null              |straight |paisley   |4          |830303011        |\n",
      "|441093606_blue      |aarke-ritu-kumar|2900|blue       |1450.0|3-4th sleeve      |a-line   |geometric |3          |830303011        |\n",
      "|410334557_blue      |aarke-ritu-kumar|2400|blue       |2400.0|null              |regular  |solid     |5          |830303011        |\n",
      "|410334454_grey      |aarke-ritu-kumar|2600|grey       |2600.0|3-4th sleeve      |a-line   |floral    |6          |830303011        |\n",
      "|410334556_pink      |aarke-ritu-kumar|2500|multi      |2500.0|null              |regular  |floral    |5          |830303011        |\n",
      "|410334382_powderblue|aarke-ritu-kumar|2500|blue       |2500.0|3-4th sleeve      |a-line   |indian    |5          |830303011        |\n",
      "|410318152_ecru      |aarke-ritu-kumar|2200|multi      |990.0 |3-4th sleeve      |a-line   |paisley   |2          |830303011        |\n",
      "|410334372_yellow    |aarke-ritu-kumar|2900|yellow     |2233.0|3-4th sleeve      |a-line   |floral    |5          |830303011        |\n",
      "+--------------------+----------------+----+-----------+------+------------------+---------+----------+-----------+-----------------+\n",
      "\n"
     ]
    }
   ],
   "source": [
    "var requiredProductAttrs = requiredProducts.join(productAttrs, Seq(PRODUCTID), \"left\")\n",
    "requiredProductAttrs = {\n",
    "    requiredProductAttrs.withColumn(\"price\", when(col(\"price\").isNotNull, col(\"price\")).otherwise(col(\"mrp\")))\n",
    "    .withColumn(\"pricebucket\", \n",
    "               when(col(\"price\")<=500, lit(\"1\"))\n",
    "               .when(col(\"price\")<=1000, lit(\"2\"))\n",
    "               .when(col(\"price\")<=1500, lit(\"3\"))\n",
    "               .when(col(\"price\")<=2000, lit(\"4\"))\n",
    "               .when(col(\"price\")<=2500, lit(\"5\"))\n",
    "               .otherwise(lit(6))\n",
    "               )\n",
    "    .withColumn(\"similargrouplevel\", lit(\"830303011\"))\n",
    "}\n",
    "\n",
    "requiredProductAttrs.printSchema\n",
    "println(requiredProductAttrs.count)\n",
    "requiredProductAttrs.show(false)"
   ]
  },
  {
   "cell_type": "code",
   "execution_count": 8,
   "metadata": {},
   "outputs": [
    {
     "data": {
      "application/vnd.jupyter.widget-view+json": {
       "model_id": "",
       "version_major": 2,
       "version_minor": 0
      },
      "text/plain": [
       "FloatProgress(value=0.0, bar_style='info', description='Progress:', layout=Layout(height='25px', width='50%'),…"
      ]
     },
     "metadata": {},
     "output_type": "display_data"
    }
   ],
   "source": [
    "DFToParquet.putDF(\"/data/Archive/bhavesh/InventoryPrediction/2023-04-30/ajio/aarke-ritu-kumar/RequiredProducts\", requiredProducts)\n",
    "DFToParquet.putDF(\"/data/Archive/bhavesh/InventoryPrediction/2023-04-30/ajio/aarke-ritu-kumar/RequiredProductAttributes\", requiredProductAttrs)"
   ]
  },
  {
   "cell_type": "code",
   "execution_count": 9,
   "metadata": {},
   "outputs": [
    {
     "data": {
      "application/vnd.jupyter.widget-view+json": {
       "model_id": "",
       "version_major": 2,
       "version_minor": 0
      },
      "text/plain": [
       "FloatProgress(value=0.0, bar_style='info', description='Progress:', layout=Layout(height='25px', width='50%'),…"
      ]
     },
     "metadata": {},
     "output_type": "display_data"
    },
    {
     "name": "stdout",
     "output_type": "stream",
     "text": [
      "\u001b[1m\u001b[34mrequiredProducts\u001b[0m: \u001b[1m\u001b[32morg.apache.spark.sql.DataFrame\u001b[0m = [productid: string, brandname: string ... 1 more field]\n",
      "\u001b[1m\u001b[34mrequiredProductAttrs\u001b[0m: \u001b[1m\u001b[32morg.apache.spark.sql.DataFrame\u001b[0m = [productid: string, brandname: string ... 8 more fields]\n"
     ]
    }
   ],
   "source": [
    "var requiredProducts = ParquetToDF.getDF(\"/data/Archive/bhavesh/InventoryPrediction/2023-04-30/ajio/aarke-ritu-kumar/RequiredProducts\")\n",
    "var requiredProductAttrs = ParquetToDF.getDF(\"/data/Archive/bhavesh/InventoryPrediction/2023-04-30/ajio/aarke-ritu-kumar/RequiredProductAttributes\")"
   ]
  },
  {
   "cell_type": "code",
   "execution_count": 10,
   "metadata": {},
   "outputs": [
    {
     "data": {
      "application/vnd.jupyter.widget-view+json": {
       "model_id": "",
       "version_major": 2,
       "version_minor": 0
      },
      "text/plain": [
       "FloatProgress(value=0.0, bar_style='info', description='Progress:', layout=Layout(height='25px', width='50%'),…"
      ]
     },
     "metadata": {},
     "output_type": "display_data"
    },
    {
     "name": "stdout",
     "output_type": "stream",
     "text": [
      "\u001b[1m\u001b[34mproductToQuery\u001b[0m: \u001b[1m\u001b[32morg.apache.spark.sql.DataFrame\u001b[0m = [productid: string, similargrouplevel: string ... 1 more field]\n",
      "+--------------------+-----------------+---------------------------------------------------------+\n",
      "|productid           |similargrouplevel|query                                                    |\n",
      "+--------------------+-----------------+---------------------------------------------------------+\n",
      "|410334279_red       |830303011        |aarke-ritu-kumar_red_floral_6_3-4th sleeve_straight      |\n",
      "|410334350_beige     |830303011        |aarke-ritu-kumar_beige_floral_4_full-length sleeve_empire|\n",
      "|410331534_purple    |830303011        |aarke-ritu-kumar_purple_embroidery_5_short sleeve_a-line |\n",
      "|410334548_pink      |830303011        |aarke-ritu-kumar_pink_floral_6_full-length sleeve_a-line |\n",
      "|410334350_navy      |830303011        |aarke-ritu-kumar_navy_floral_4_full-length sleeve_empire |\n",
      "|410334382_powderblue|830303011        |aarke-ritu-kumar_blue_indian_5_3-4th sleeve_a-line       |\n",
      "|410334372_yellow    |830303011        |aarke-ritu-kumar_yellow_floral_5_3-4th sleeve_a-line     |\n",
      "|441093606_blue      |830303011        |aarke-ritu-kumar_blue_geometric_3_3-4th sleeve_a-line    |\n",
      "|410334433_blue      |830303011        |aarke-ritu-kumar_blue_stripes_4_3-4th sleeve_straight    |\n",
      "|410334382_peach     |830303011        |aarke-ritu-kumar_peach_floral_5_3-4th sleeve_a-line      |\n",
      "|410334280_blue      |830303011        |aarke-ritu-kumar_blue_floral_4_3-4th sleeve_straight     |\n",
      "|410334361_green     |830303011        |aarke-ritu-kumar_green_floral_6_3-4th sleeve_a-line      |\n",
      "|410334347_blue      |830303011        |aarke-ritu-kumar_blue_floral_3_3-4th sleeve_straight     |\n",
      "|410318152_ecru      |830303011        |aarke-ritu-kumar_multi_paisley_2_3-4th sleeve_a-line     |\n",
      "|410334391_blue      |830303011        |aarke-ritu-kumar_blue_paisley_6_short sleeve_a-line      |\n",
      "|410334454_grey      |830303011        |aarke-ritu-kumar_grey_floral_6_3-4th sleeve_a-line       |\n",
      "|410334456_purple    |830303011        |aarke-ritu-kumar_purple_paisley_4_#_straight             |\n",
      "|410334556_pink      |830303011        |aarke-ritu-kumar_multi_floral_5_#_regular                |\n",
      "|410334557_blue      |830303011        |aarke-ritu-kumar_blue_solid_5_#_regular                  |\n",
      "|410334354_blue      |830303011        |aarke-ritu-kumar_#_#_6_#_#                               |\n",
      "+--------------------+-----------------+---------------------------------------------------------+\n",
      "\n"
     ]
    }
   ],
   "source": [
    "var productToQuery = {\n",
    "    requiredProductAttrs.na.fill(\"#\")\n",
    "    .withColumn(\"query\", concat_ws(\"_\", col(\"brandname\"), col(\"colorfamily\"), col(\"pattern\"), col(\"pricebucket\"), col(\"sleeve\"), col(\"styletype\")))\n",
    "    .select(\"productid\", \"similargrouplevel\", \"query\")\n",
    "}\n",
    "productToQuery.show(33, false)"
   ]
  },
  {
   "cell_type": "markdown",
   "metadata": {},
   "source": [
    "#### Product predictions"
   ]
  },
  {
   "cell_type": "code",
   "execution_count": 11,
   "metadata": {},
   "outputs": [
    {
     "data": {
      "application/vnd.jupyter.widget-view+json": {
       "model_id": "",
       "version_major": 2,
       "version_minor": 0
      },
      "text/plain": [
       "FloatProgress(value=0.0, bar_style='info', description='Progress:', layout=Layout(height='25px', width='50%'),…"
      ]
     },
     "metadata": {},
     "output_type": "display_data"
    },
    {
     "name": "stdout",
     "output_type": "stream",
     "text": [
      "\u001b[1m\u001b[34mnn_predictions\u001b[0m: \u001b[1m\u001b[32morg.apache.spark.sql.DataFrame\u001b[0m = [similargrouplevel: string, productid: string ... 2 more fields]\n",
      "nn_predictions: org.apache.spark.sql.DataFrame = [productid: string, similargrouplevel: string ... 6 more fields]\n",
      "root\n",
      " |-- productid: string (nullable = true)\n",
      " |-- similargrouplevel: string (nullable = true)\n",
      " |-- m1: double (nullable = true)\n",
      " |-- m2: double (nullable = true)\n",
      " |-- m3: double (nullable = true)\n",
      " |-- m4: double (nullable = true)\n",
      " |-- m5: double (nullable = true)\n",
      " |-- m6: double (nullable = true)\n",
      "\n"
     ]
    }
   ],
   "source": [
    "var nn_predictions = ParquetToDF.getDF(\"/data/Archive/bhavesh/InventoryPrediction/2023-04-30/NMonthsAheadExperiment/ProductLevelPredictions\")\n",
    "nn_predictions = {\n",
    "    nn_predictions.groupBy(\"productid\", \"similargrouplevel\")\n",
    "    .pivot(\"months\")\n",
    "    .agg(sum(\"predicted\"))\n",
    "}\n",
    "nn_predictions.printSchema"
   ]
  },
  {
   "cell_type": "code",
   "execution_count": 12,
   "metadata": {},
   "outputs": [
    {
     "data": {
      "application/vnd.jupyter.widget-view+json": {
       "model_id": "",
       "version_major": 2,
       "version_minor": 0
      },
      "text/plain": [
       "FloatProgress(value=0.0, bar_style='info', description='Progress:', layout=Layout(height='25px', width='50%'),…"
      ]
     },
     "metadata": {},
     "output_type": "display_data"
    },
    {
     "name": "stdout",
     "output_type": "stream",
     "text": [
      "nn_predictions: org.apache.spark.sql.DataFrame = [productid: string, similargrouplevel: string ... 6 more fields]\n",
      "\u001b[1m\u001b[34mres19\u001b[0m: \u001b[1m\u001b[32mLong\u001b[0m = 6\n"
     ]
    }
   ],
   "source": [
    "nn_predictions = nn_predictions.join(requiredProducts.select(PRODUCTID).distinct, Seq(\"productid\"))\n",
    "nn_predictions.count"
   ]
  },
  {
   "cell_type": "code",
   "execution_count": 13,
   "metadata": {},
   "outputs": [
    {
     "data": {
      "application/vnd.jupyter.widget-view+json": {
       "model_id": "",
       "version_major": 2,
       "version_minor": 0
      },
      "text/plain": [
       "FloatProgress(value=0.0, bar_style='info', description='Progress:', layout=Layout(height='25px', width='50%'),…"
      ]
     },
     "metadata": {},
     "output_type": "display_data"
    },
    {
     "name": "stdout",
     "output_type": "stream",
     "text": [
      "+----------------+-----------------+--------------------------------------------------------+\n",
      "|productid       |similargrouplevel|query                                                   |\n",
      "+----------------+-----------------+--------------------------------------------------------+\n",
      "|410331534_purple|830303011        |aarke-ritu-kumar_purple_embroidery_5_short sleeve_a-line|\n",
      "|410334456_purple|830303011        |aarke-ritu-kumar_purple_paisley_4_#_straight            |\n",
      "|410334361_green |830303011        |aarke-ritu-kumar_green_floral_6_3-4th sleeve_a-line     |\n",
      "|410334279_red   |830303011        |aarke-ritu-kumar_red_floral_6_3-4th sleeve_straight     |\n",
      "|410334372_yellow|830303011        |aarke-ritu-kumar_yellow_floral_5_3-4th sleeve_a-line    |\n",
      "|410318152_ecru  |830303011        |aarke-ritu-kumar_multi_paisley_2_3-4th sleeve_a-line    |\n",
      "+----------------+-----------------+--------------------------------------------------------+\n",
      "\n"
     ]
    }
   ],
   "source": [
    "nn_predictions.join(productToQuery, Seq(PRODUCTID, \"similargrouplevel\")).select(\"productid\", \"similargrouplevel\", \"query\").show(false)"
   ]
  },
  {
   "cell_type": "markdown",
   "metadata": {},
   "source": [
    "#### Query avg predictions"
   ]
  },
  {
   "cell_type": "code",
   "execution_count": 14,
   "metadata": {},
   "outputs": [
    {
     "data": {
      "application/vnd.jupyter.widget-view+json": {
       "model_id": "",
       "version_major": 2,
       "version_minor": 0
      },
      "text/plain": [
       "FloatProgress(value=0.0, bar_style='info', description='Progress:', layout=Layout(height='25px', width='50%'),…"
      ]
     },
     "metadata": {},
     "output_type": "display_data"
    },
    {
     "name": "stdout",
     "output_type": "stream",
     "text": [
      "\u001b[1m\u001b[34mqueryAvgPredictions\u001b[0m: \u001b[1m\u001b[32morg.apache.spark.sql.DataFrame\u001b[0m = [similargrouplevel: int, query: string ... 7 more fields]\n",
      "root\n",
      " |-- similargrouplevel: integer (nullable = true)\n",
      " |-- query: string (nullable = true)\n",
      " |-- m1: double (nullable = true)\n",
      " |-- m2: double (nullable = true)\n",
      " |-- m3: double (nullable = true)\n",
      " |-- m4: double (nullable = true)\n",
      " |-- m5: double (nullable = true)\n",
      " |-- m6: double (nullable = true)\n",
      " |-- productid: string (nullable = false)\n",
      "\n"
     ]
    }
   ],
   "source": [
    "var queryAvgPredictions = queryAvg.join(productToQuery, Seq(\"similargrouplevel\", \"query\"))\n",
    "queryAvgPredictions.printSchema"
   ]
  },
  {
   "cell_type": "code",
   "execution_count": 15,
   "metadata": {},
   "outputs": [
    {
     "data": {
      "application/vnd.jupyter.widget-view+json": {
       "model_id": "",
       "version_major": 2,
       "version_minor": 0
      },
      "text/plain": [
       "FloatProgress(value=0.0, bar_style='info', description='Progress:', layout=Layout(height='25px', width='50%'),…"
      ]
     },
     "metadata": {},
     "output_type": "display_data"
    },
    {
     "name": "stdout",
     "output_type": "stream",
     "text": [
      "4\n",
      "+-----------------+----------------------------------------------------+------------------+------------------+------------------+------------------+-----------------+------------------+----------------+\n",
      "|similargrouplevel|query                                               |m1                |m2                |m3                |m4                |m5               |m6                |productid       |\n",
      "+-----------------+----------------------------------------------------+------------------+------------------+------------------+------------------+-----------------+------------------+----------------+\n",
      "|830303011        |aarke-ritu-kumar_yellow_floral_5_3-4th sleeve_a-line|6.228254079818726 |6.650531053543091 |7.394933223724365 |7.087536811828613 |8.609011888504028|7.469300985336304 |410334372_yellow|\n",
      "|830303011        |aarke-ritu-kumar_#_#_6_#_#                          |2.4344528913497925|2.5854403972625732|2.7305211424827576|2.7982500791549683|2.990735173225403|3.0211694836616516|410334354_blue  |\n",
      "|830303011        |aarke-ritu-kumar_purple_paisley_4_#_straight        |7.71016800403595  |7.719395756721497 |8.314399242401123 |8.703550219535828 |9.066691875457764|8.923341512680054 |410334456_purple|\n",
      "|830303011        |aarke-ritu-kumar_red_floral_6_3-4th sleeve_straight |2.4344528913497925|2.5854403972625732|2.7305211424827576|2.7982500791549683|2.990735173225403|3.0211694836616516|410334279_red   |\n",
      "+-----------------+----------------------------------------------------+------------------+------------------+------------------+------------------+-----------------+------------------+----------------+\n",
      "\n"
     ]
    }
   ],
   "source": [
    "println(queryAvgPredictions.count)\n",
    "queryAvgPredictions.show(33, false)"
   ]
  },
  {
   "cell_type": "markdown",
   "metadata": {},
   "source": [
    "#### Missing Predictions"
   ]
  },
  {
   "cell_type": "code",
   "execution_count": 16,
   "metadata": {},
   "outputs": [
    {
     "data": {
      "application/vnd.jupyter.widget-view+json": {
       "model_id": "",
       "version_major": 2,
       "version_minor": 0
      },
      "text/plain": [
       "FloatProgress(value=0.0, bar_style='info', description='Progress:', layout=Layout(height='25px', width='50%'),…"
      ]
     },
     "metadata": {},
     "output_type": "display_data"
    },
    {
     "name": "stdout",
     "output_type": "stream",
     "text": [
      "\u001b[1m\u001b[34mproductsHavingPredictions\u001b[0m: \u001b[1m\u001b[32morg.apache.spark.sql.Dataset[org.apache.spark.sql.Row]\u001b[0m = [productid: string]\n",
      "\u001b[1m\u001b[34mmissingProducts\u001b[0m: \u001b[1m\u001b[32morg.apache.spark.sql.DataFrame\u001b[0m = [productid: string, brandname: string ... 1 more field]\n",
      "13\n",
      "\u001b[1m\u001b[34mmissingProductAttrs\u001b[0m: \u001b[1m\u001b[32morg.apache.spark.sql.DataFrame\u001b[0m = [productid: string, brandname: string ... 8 more fields]\n",
      "13\n",
      "+--------------------+----------------+----+-----------+------+------------------+---------+---------+-----------+-----------------+\n",
      "|productid           |brandname       |mrp |colorfamily|price |sleeve            |styletype|pattern  |pricebucket|similargrouplevel|\n",
      "+--------------------+----------------+----+-----------+------+------------------+---------+---------+-----------+-----------------+\n",
      "|410334350_beige     |aarke-ritu-kumar|2500|beige      |1925.0|full-length sleeve|empire   |floral   |4          |830303011        |\n",
      "|410334548_pink      |aarke-ritu-kumar|3500|pink       |3500.0|full-length sleeve|a-line   |floral   |6          |830303011        |\n",
      "|410334350_navy      |aarke-ritu-kumar|2500|navy       |1985.5|full-length sleeve|empire   |floral   |4          |830303011        |\n",
      "|410334382_powderblue|aarke-ritu-kumar|2500|blue       |2500.0|3-4th sleeve      |a-line   |indian   |5          |830303011        |\n",
      "|441093606_blue      |aarke-ritu-kumar|2900|blue       |1450.0|3-4th sleeve      |a-line   |geometric|3          |830303011        |\n",
      "|410334433_blue      |aarke-ritu-kumar|1900|blue       |1900.0|3-4th sleeve      |straight |stripes  |4          |830303011        |\n",
      "|410334382_peach     |aarke-ritu-kumar|2500|peach      |2500.0|3-4th sleeve      |a-line   |floral   |5          |830303011        |\n",
      "|410334280_blue      |aarke-ritu-kumar|2800|blue       |1820.0|3-4th sleeve      |straight |floral   |4          |830303011        |\n",
      "|410334347_blue      |aarke-ritu-kumar|1500|blue       |1200.0|3-4th sleeve      |straight |floral   |3          |830303011        |\n",
      "|410334391_blue      |aarke-ritu-kumar|3200|blue       |3200.0|short sleeve      |a-line   |paisley  |6          |830303011        |\n",
      "|410334454_grey      |aarke-ritu-kumar|2600|grey       |2600.0|3-4th sleeve      |a-line   |floral   |6          |830303011        |\n",
      "|410334556_pink      |aarke-ritu-kumar|2500|multi      |2500.0|null              |regular  |floral   |5          |830303011        |\n",
      "|410334557_blue      |aarke-ritu-kumar|2400|blue       |2400.0|null              |regular  |solid    |5          |830303011        |\n",
      "+--------------------+----------------+----+-----------+------+------------------+---------+---------+-----------+-----------------+\n",
      "\n"
     ]
    }
   ],
   "source": [
    "var productsHavingPredictions = {\n",
    "    nn_predictions.select(PRODUCTID).distinct\n",
    "    .union(queryAvgPredictions.select(PRODUCTID).distinct)\n",
    "    .distinct\n",
    "}\n",
    "\n",
    "var missingProducts = requiredProducts.join(productsHavingPredictions, Seq(PRODUCTID), \"leftanti\")\n",
    "println(missingProducts.count)\n",
    "\n",
    "var missingProductAttrs = missingProducts.drop(\"mrp\", \"brandname\").join(requiredProductAttrs, Seq(PRODUCTID))\n",
    "println(missingProductAttrs.count)\n",
    "missingProductAttrs.show(false)"
   ]
  },
  {
   "cell_type": "code",
   "execution_count": 17,
   "metadata": {},
   "outputs": [
    {
     "data": {
      "application/vnd.jupyter.widget-view+json": {
       "model_id": "",
       "version_major": 2,
       "version_minor": 0
      },
      "text/plain": [
       "FloatProgress(value=0.0, bar_style='info', description='Progress:', layout=Layout(height='25px', width='50%'),…"
      ]
     },
     "metadata": {},
     "output_type": "display_data"
    }
   ],
   "source": [
    "DFToParquet.putDF(\"/data/Archive/bhavesh/InventoryPrediction/2023-04-30/ajio/aarke-ritu-kumar/MissingProducts\", missingProducts)\n",
    "DFToParquet.putDF(\"/data/Archive/bhavesh/InventoryPrediction/2023-04-30/ajio/aarke-ritu-kumar/MissingProductAttrs\", missingProductAttrs)"
   ]
  },
  {
   "cell_type": "code",
   "execution_count": 18,
   "metadata": {},
   "outputs": [
    {
     "data": {
      "application/vnd.jupyter.widget-view+json": {
       "model_id": "",
       "version_major": 2,
       "version_minor": 0
      },
      "text/plain": [
       "FloatProgress(value=0.0, bar_style='info', description='Progress:', layout=Layout(height='25px', width='50%'),…"
      ]
     },
     "metadata": {},
     "output_type": "display_data"
    },
    {
     "name": "stdout",
     "output_type": "stream",
     "text": [
      "\u001b[1m\u001b[34mmissingProducts\u001b[0m: \u001b[1m\u001b[32morg.apache.spark.sql.DataFrame\u001b[0m = [productid: string, brandname: string ... 1 more field]\n",
      "\u001b[1m\u001b[34mmissingProductAttrs\u001b[0m: \u001b[1m\u001b[32morg.apache.spark.sql.DataFrame\u001b[0m = [productid: string, brandname: string ... 8 more fields]\n"
     ]
    }
   ],
   "source": [
    "var missingProducts = ParquetToDF.getDF(\"/data/Archive/bhavesh/InventoryPrediction/2023-04-30/ajio/aarke-ritu-kumar/MissingProducts\")\n",
    "var missingProductAttrs = ParquetToDF.getDF(\"/data/Archive/bhavesh/InventoryPrediction/2023-04-30/ajio/aarke-ritu-kumar/MissingProductAttrs\")"
   ]
  },
  {
   "cell_type": "code",
   "execution_count": 20,
   "metadata": {},
   "outputs": [
    {
     "data": {
      "application/vnd.jupyter.widget-view+json": {
       "model_id": "",
       "version_major": 2,
       "version_minor": 0
      },
      "text/plain": [
       "FloatProgress(value=0.0, bar_style='info', description='Progress:', layout=Layout(height='25px', width='50%'),…"
      ]
     },
     "metadata": {},
     "output_type": "display_data"
    },
    {
     "name": "stdout",
     "output_type": "stream",
     "text": [
      "\u001b[1m\u001b[34mqueryAvgTransformed\u001b[0m: \u001b[1m\u001b[32morg.apache.spark.sql.DataFrame\u001b[0m = [query: string, similargrouplevel: int ... 13 more fields]\n",
      "\u001b[1m\u001b[34mmissingProductAttrsTransformed\u001b[0m: \u001b[1m\u001b[32morg.apache.spark.sql.DataFrame\u001b[0m = [productid: string, similargrouplevel: string ... 7 more fields]\n",
      "\u001b[1m\u001b[34mmissingProductsPossibilities\u001b[0m: \u001b[1m\u001b[32morg.apache.spark.sql.DataFrame\u001b[0m = [similargrouplevel: string, brandname: string ... 14 more fields]\n"
     ]
    }
   ],
   "source": [
    "var queryAvgTransformed = {\n",
    "    queryAvg.withColumn(\"has_brandname\", split(col(\"query\"), \"_\")(0) =!= \"#\")\n",
    "    .withColumn(\"has_colorfamily\", split(col(\"query\"), \"_\")(1) =!= \"#\")\n",
    "    .withColumn(\"has_pattern\", split(col(\"query\"), \"_\")(2) =!= \"#\")\n",
    "    .withColumn(\"has_pricebucket\", split(col(\"query\"), \"_\")(3) =!= \"#\")\n",
    "    .withColumn(\"has_sleeve\", split(col(\"query\"), \"_\")(4) =!= \"#\")\n",
    "    .withColumn(\"has_styletype\", split(col(\"query\"), \"_\")(5) =!= \"#\")\n",
    "    .withColumn(\"brandname\", split(col(\"query\"), \"_\")(0))\n",
    "}\n",
    "\n",
    "var missingProductAttrsTransformed = {\n",
    "    missingProductAttrs.na.fill(\"#\")\n",
    "    .withColumn(\"has_brandname\", col(\"brandname\") =!= \"#\")\n",
    "    .withColumn(\"has_colorfamily\", col(\"colorfamily\") =!= \"#\")\n",
    "    .withColumn(\"has_pattern\", col(\"pattern\") =!= \"#\")\n",
    "    .withColumn(\"has_pricebucket\", col(\"pricebucket\") =!= \"#\")\n",
    "    .withColumn(\"has_sleeve\", col(\"sleeve\") =!= \"#\")\n",
    "    .withColumn(\"has_styletype\", col(\"styletype\") =!= \"#\")\n",
    "    .select(\"productid\", \"similargrouplevel\", \"brandname\", \"has_brandname\", \"has_colorfamily\", \"has_pattern\", \"has_pricebucket\", \"has_sleeve\", \"has_styletype\")\n",
    "}\n",
    "\n",
    "var missingProductsPossibilities = {\n",
    "    missingProductAttrsTransformed\n",
    "    .join(queryAvgTransformed, \n",
    "          Seq(\"similargrouplevel\", \"brandname\", \"has_brandname\", \"has_colorfamily\", \"has_pattern\", \"has_pricebucket\", \"has_sleeve\", \"has_styletype\")\n",
    "         )\n",
    "}"
   ]
  },
  {
   "cell_type": "code",
   "execution_count": 21,
   "metadata": {},
   "outputs": [
    {
     "data": {
      "application/vnd.jupyter.widget-view+json": {
       "model_id": "",
       "version_major": 2,
       "version_minor": 0
      },
      "text/plain": [
       "FloatProgress(value=0.0, bar_style='info', description='Progress:', layout=Layout(height='25px', width='50%'),…"
      ]
     },
     "metadata": {},
     "output_type": "display_data"
    }
   ],
   "source": [
    "DFToParquet.putDF(\"/data/Archive/bhavesh/InventoryPrediction/2023-04-30/ajio/aarke-ritu-kumar/MissingProductsPossibilities\", missingProductsPossibilities)"
   ]
  },
  {
   "cell_type": "code",
   "execution_count": 22,
   "metadata": {},
   "outputs": [
    {
     "data": {
      "application/vnd.jupyter.widget-view+json": {
       "model_id": "",
       "version_major": 2,
       "version_minor": 0
      },
      "text/plain": [
       "FloatProgress(value=0.0, bar_style='info', description='Progress:', layout=Layout(height='25px', width='50%'),…"
      ]
     },
     "metadata": {},
     "output_type": "display_data"
    },
    {
     "name": "stdout",
     "output_type": "stream",
     "text": [
      "\u001b[1m\u001b[34mmissingProductsPossibilities\u001b[0m: \u001b[1m\u001b[32morg.apache.spark.sql.DataFrame\u001b[0m = [similargrouplevel: string, brandname: string ... 14 more fields]\n",
      "root\n",
      " |-- similargrouplevel: string (nullable = true)\n",
      " |-- brandname: string (nullable = true)\n",
      " |-- has_brandname: boolean (nullable = true)\n",
      " |-- has_colorfamily: boolean (nullable = true)\n",
      " |-- has_pattern: boolean (nullable = true)\n",
      " |-- has_pricebucket: boolean (nullable = true)\n",
      " |-- has_sleeve: boolean (nullable = true)\n",
      " |-- has_styletype: boolean (nullable = true)\n",
      " |-- productid: string (nullable = true)\n",
      " |-- query: string (nullable = true)\n",
      " |-- m1: double (nullable = true)\n",
      " |-- m2: double (nullable = true)\n",
      " |-- m3: double (nullable = true)\n",
      " |-- m4: double (nullable = true)\n",
      " |-- m5: double (nullable = true)\n",
      " |-- m6: double (nullable = true)\n",
      "\n"
     ]
    }
   ],
   "source": [
    "var missingProductsPossibilities = ParquetToDF.getDF(\"/data/Archive/bhavesh/InventoryPrediction/2023-04-30/ajio/aarke-ritu-kumar/MissingProductsPossibilities\")\n",
    "missingProductsPossibilities.printSchema"
   ]
  },
  {
   "cell_type": "code",
   "execution_count": 23,
   "metadata": {},
   "outputs": [
    {
     "data": {
      "application/vnd.jupyter.widget-view+json": {
       "model_id": "",
       "version_major": 2,
       "version_minor": 0
      },
      "text/plain": [
       "FloatProgress(value=0.0, bar_style='info', description='Progress:', layout=Layout(height='25px', width='50%'),…"
      ]
     },
     "metadata": {},
     "output_type": "display_data"
    },
    {
     "name": "stdout",
     "output_type": "stream",
     "text": [
      "\u001b[1m\u001b[34mmissingProductsPredictions\u001b[0m: \u001b[1m\u001b[32morg.apache.spark.sql.DataFrame\u001b[0m = [productid: string, similargrouplevel: string ... 7 more fields]\n",
      "root\n",
      " |-- productid: string (nullable = true)\n",
      " |-- similargrouplevel: string (nullable = true)\n",
      " |-- m1: double (nullable = true)\n",
      " |-- m2: double (nullable = true)\n",
      " |-- m3: double (nullable = true)\n",
      " |-- m4: double (nullable = true)\n",
      " |-- m5: double (nullable = true)\n",
      " |-- m6: double (nullable = true)\n",
      " |-- consideredQueries: string (nullable = false)\n",
      "\n",
      "13\n"
     ]
    }
   ],
   "source": [
    "var missingProductsPredictions = {\n",
    "    missingProductsPossibilities.groupBy(\"productid\", \"similargrouplevel\")\n",
    "    .agg(\n",
    "        callUDF(\"percentile\", col(\"m1\"), lit(0.5)) as \"m1\",\n",
    "        callUDF(\"percentile\", col(\"m2\"), lit(0.5)) as \"m2\",\n",
    "        callUDF(\"percentile\", col(\"m3\"), lit(0.5)) as \"m3\",\n",
    "        callUDF(\"percentile\", col(\"m4\"), lit(0.5)) as \"m4\",\n",
    "        callUDF(\"percentile\", col(\"m5\"), lit(0.5)) as \"m5\",\n",
    "        callUDF(\"percentile\", col(\"m6\"), lit(0.5)) as \"m6\",\n",
    "        concat_ws(\", \", collect_list(col(\"query\"))) as \"consideredQueries\"\n",
    "    )\n",
    "}\n",
    "missingProductsPredictions.printSchema\n",
    "println(missingProductsPredictions.count)"
   ]
  },
  {
   "cell_type": "markdown",
   "metadata": {},
   "source": [
    "#### Combined Predictions"
   ]
  },
  {
   "cell_type": "code",
   "execution_count": 24,
   "metadata": {},
   "outputs": [
    {
     "data": {
      "application/vnd.jupyter.widget-view+json": {
       "model_id": "",
       "version_major": 2,
       "version_minor": 0
      },
      "text/plain": [
       "FloatProgress(value=0.0, bar_style='info', description='Progress:', layout=Layout(height='25px', width='50%'),…"
      ]
     },
     "metadata": {},
     "output_type": "display_data"
    }
   ],
   "source": [
    "DFToParquet.putDF(\"/data/Archive/bhavesh/InventoryPrediction/2023-04-30/ajio/aarke-ritu-kumar/predictions/product\", nn_predictions)\n",
    "DFToParquet.putDF(\"/data/Archive/bhavesh/InventoryPrediction/2023-04-30/ajio/aarke-ritu-kumar/predictions/queryAvg\", queryAvgPredictions)\n",
    "DFToParquet.putDF(\"/data/Archive/bhavesh/InventoryPrediction/2023-04-30/ajio/aarke-ritu-kumar/predictions/missing\", missingProductsPredictions)"
   ]
  },
  {
   "cell_type": "code",
   "execution_count": 25,
   "metadata": {},
   "outputs": [
    {
     "data": {
      "application/vnd.jupyter.widget-view+json": {
       "model_id": "",
       "version_major": 2,
       "version_minor": 0
      },
      "text/plain": [
       "FloatProgress(value=0.0, bar_style='info', description='Progress:', layout=Layout(height='25px', width='50%'),…"
      ]
     },
     "metadata": {},
     "output_type": "display_data"
    },
    {
     "name": "stdout",
     "output_type": "stream",
     "text": [
      "\u001b[1m\u001b[34mproductPredictions\u001b[0m: \u001b[1m\u001b[32morg.apache.spark.sql.DataFrame\u001b[0m = [productid: string, similargrouplevel: string ... 6 more fields]\n",
      "\u001b[1m\u001b[34mqueryAvgPredictions\u001b[0m: \u001b[1m\u001b[32morg.apache.spark.sql.DataFrame\u001b[0m = [similargrouplevel: int, query: string ... 7 more fields]\n",
      "\u001b[1m\u001b[34mmissingPredictions\u001b[0m: \u001b[1m\u001b[32morg.apache.spark.sql.DataFrame\u001b[0m = [productid: string, similargrouplevel: string ... 7 more fields]\n",
      "root\n",
      " |-- productid: string (nullable = true)\n",
      " |-- similargrouplevel: string (nullable = true)\n",
      " |-- m1: double (nullable = true)\n",
      " |-- m2: double (nullable = true)\n",
      " |-- m3: double (nullable = true)\n",
      " |-- m4: double (nullable = true)\n",
      " |-- m5: double (nullable = true)\n",
      " |-- m6: double (nullable = true)\n",
      "\n",
      "root\n",
      " |-- similargrouplevel: integer (nullable = true)\n",
      " |-- query: string (nullable = true)\n",
      " |-- m1: double (nullable = true)\n",
      " |-- m2: double (nullable = true)\n",
      " |-- m3: double (nullable = true)\n",
      " |-- m4: double (nullable = true)\n",
      " |-- m5: double (nullable = true)\n",
      " |-- m6: double (nullable = true)\n",
      " |-- productid: string (nullable = true)\n",
      "\n",
      "root\n",
      " |-- productid: string (nullable = true)\n",
      " |-- similargrouplevel: string (nullable = true)\n",
      " |-- m1: double (nullable = true)\n",
      " |-- m2: double (nullable = true)\n",
      " |-- m3: double (nullable = true)\n",
      " |-- m4: double (nullable = true)\n",
      " |-- m5: double (nullable = true)\n",
      " |-- m6: double (nullable = true)\n",
      " |-- consideredQueries: string (nullable = true)\n",
      "\n"
     ]
    }
   ],
   "source": [
    "var productPredictions = ParquetToDF.getDF(\"/data/Archive/bhavesh/InventoryPrediction/2023-04-30/ajio/aarke-ritu-kumar/predictions/product\")\n",
    "var queryAvgPredictions = ParquetToDF.getDF(\"/data/Archive/bhavesh/InventoryPrediction/2023-04-30/ajio/aarke-ritu-kumar/predictions/queryAvg\")\n",
    "var missingPredictions = ParquetToDF.getDF(\"/data/Archive/bhavesh/InventoryPrediction/2023-04-30/ajio/aarke-ritu-kumar/predictions/missing\")\n",
    "productPredictions.printSchema\n",
    "queryAvgPredictions.printSchema\n",
    "missingPredictions.printSchema"
   ]
  },
  {
   "cell_type": "code",
   "execution_count": 26,
   "metadata": {},
   "outputs": [
    {
     "data": {
      "application/vnd.jupyter.widget-view+json": {
       "model_id": "",
       "version_major": 2,
       "version_minor": 0
      },
      "text/plain": [
       "FloatProgress(value=0.0, bar_style='info', description='Progress:', layout=Layout(height='25px', width='50%'),…"
      ]
     },
     "metadata": {},
     "output_type": "display_data"
    },
    {
     "name": "stdout",
     "output_type": "stream",
     "text": [
      "\u001b[1m\u001b[34mactual\u001b[0m: \u001b[1m\u001b[32morg.apache.spark.sql.DataFrame\u001b[0m = [productid: string, 2023-05: bigint ... 1 more field]\n",
      "root\n",
      " |-- productid: string (nullable = true)\n",
      " |-- 2023-05: long (nullable = true)\n",
      " |-- 2023-06: long (nullable = true)\n",
      "\n"
     ]
    }
   ],
   "source": [
    "var actual = ParquetToDF.getDF(\"/data/Archive/bhavesh/InventoryPrediction/2023-04-30/ajio/actual\")\n",
    "actual.printSchema"
   ]
  },
  {
   "cell_type": "code",
   "execution_count": 27,
   "metadata": {},
   "outputs": [
    {
     "data": {
      "application/vnd.jupyter.widget-view+json": {
       "model_id": "",
       "version_major": 2,
       "version_minor": 0
      },
      "text/plain": [
       "FloatProgress(value=0.0, bar_style='info', description='Progress:', layout=Layout(height='25px', width='50%'),…"
      ]
     },
     "metadata": {},
     "output_type": "display_data"
    },
    {
     "name": "stdout",
     "output_type": "stream",
     "text": [
      "productPredictions: org.apache.spark.sql.DataFrame = [productid: string, similargrouplevel: string ... 9 more fields]\n",
      "root\n",
      " |-- productid: string (nullable = true)\n",
      " |-- similargrouplevel: string (nullable = true)\n",
      " |-- m1: double (nullable = true)\n",
      " |-- m2: double (nullable = true)\n",
      " |-- m3: double (nullable = true)\n",
      " |-- m4: double (nullable = true)\n",
      " |-- m5: double (nullable = true)\n",
      " |-- m6: double (nullable = true)\n",
      " |-- query: string (nullable = false)\n",
      " |-- level: string (nullable = false)\n",
      " |-- consideredQueries: string (nullable = false)\n",
      "\n"
     ]
    }
   ],
   "source": [
    "productPredictions = {\n",
    "    productPredictions.join(productToQuery, Seq(PRODUCTID, \"similargrouplevel\"))\n",
    "    .withColumn(\"level\", lit(\"product\"))\n",
    "    .withColumn(\"consideredQueries\", lit(\"-\"))\n",
    "}\n",
    "productPredictions.printSchema"
   ]
  },
  {
   "cell_type": "code",
   "execution_count": 28,
   "metadata": {},
   "outputs": [
    {
     "data": {
      "application/vnd.jupyter.widget-view+json": {
       "model_id": "",
       "version_major": 2,
       "version_minor": 0
      },
      "text/plain": [
       "FloatProgress(value=0.0, bar_style='info', description='Progress:', layout=Layout(height='25px', width='50%'),…"
      ]
     },
     "metadata": {},
     "output_type": "display_data"
    },
    {
     "name": "stdout",
     "output_type": "stream",
     "text": [
      "queryAvgPredictions: org.apache.spark.sql.DataFrame = [similargrouplevel: int, productid: string ... 9 more fields]\n",
      "root\n",
      " |-- similargrouplevel: integer (nullable = true)\n",
      " |-- productid: string (nullable = true)\n",
      " |-- query: string (nullable = true)\n",
      " |-- m1: double (nullable = true)\n",
      " |-- m2: double (nullable = true)\n",
      " |-- m3: double (nullable = true)\n",
      " |-- m4: double (nullable = true)\n",
      " |-- m5: double (nullable = true)\n",
      " |-- m6: double (nullable = true)\n",
      " |-- level: string (nullable = false)\n",
      " |-- consideredQueries: string (nullable = true)\n",
      "\n"
     ]
    }
   ],
   "source": [
    "queryAvgPredictions = {\n",
    "    queryAvgPredictions.withColumn(\"level\", lit(\"queryAvg\"))\n",
    "    .withColumn(\"consideredQueries\", col(\"query\"))\n",
    "    .join(productPredictions, Seq(\"similargrouplevel\", \"productid\"), \"leftanti\")\n",
    "}\n",
    "queryAvgPredictions.printSchema"
   ]
  },
  {
   "cell_type": "code",
   "execution_count": 29,
   "metadata": {},
   "outputs": [
    {
     "data": {
      "application/vnd.jupyter.widget-view+json": {
       "model_id": "",
       "version_major": 2,
       "version_minor": 0
      },
      "text/plain": [
       "FloatProgress(value=0.0, bar_style='info', description='Progress:', layout=Layout(height='25px', width='50%'),…"
      ]
     },
     "metadata": {},
     "output_type": "display_data"
    },
    {
     "name": "stdout",
     "output_type": "stream",
     "text": [
      "missingPredictions: org.apache.spark.sql.DataFrame = [productid: string, similargrouplevel: string ... 9 more fields]\n",
      "root\n",
      " |-- productid: string (nullable = true)\n",
      " |-- similargrouplevel: string (nullable = true)\n",
      " |-- m1: double (nullable = true)\n",
      " |-- m2: double (nullable = true)\n",
      " |-- m3: double (nullable = true)\n",
      " |-- m4: double (nullable = true)\n",
      " |-- m5: double (nullable = true)\n",
      " |-- m6: double (nullable = true)\n",
      " |-- consideredQueries: string (nullable = true)\n",
      " |-- query: string (nullable = false)\n",
      " |-- level: string (nullable = false)\n",
      "\n"
     ]
    }
   ],
   "source": [
    "missingPredictions = {\n",
    "    missingPredictions.join(productToQuery, Seq(PRODUCTID, \"similargrouplevel\"))\n",
    "    .withColumn(\"level\", lit(\"missing\"))\n",
    "}\n",
    "missingPredictions.printSchema"
   ]
  },
  {
   "cell_type": "code",
   "execution_count": 30,
   "metadata": {},
   "outputs": [
    {
     "data": {
      "application/vnd.jupyter.widget-view+json": {
       "model_id": "",
       "version_major": 2,
       "version_minor": 0
      },
      "text/plain": [
       "FloatProgress(value=0.0, bar_style='info', description='Progress:', layout=Layout(height='25px', width='50%'),…"
      ]
     },
     "metadata": {},
     "output_type": "display_data"
    },
    {
     "name": "stdout",
     "output_type": "stream",
     "text": [
      "\u001b[1m\u001b[34mfinalPredictions\u001b[0m: \u001b[1m\u001b[32morg.apache.spark.sql.DataFrame\u001b[0m = [productid: string, similargrouplevel: string ... 11 more fields]\n",
      "root\n",
      " |-- productid: string (nullable = true)\n",
      " |-- similargrouplevel: string (nullable = true)\n",
      " |-- May-Prediction: integer (nullable = true)\n",
      " |-- June-Prediction: integer (nullable = true)\n",
      " |-- July-Prediction: integer (nullable = true)\n",
      " |-- August-Prediction: integer (nullable = true)\n",
      " |-- September-Prediction: integer (nullable = true)\n",
      " |-- October-Prediction: integer (nullable = true)\n",
      " |-- query: string (nullable = true)\n",
      " |-- level: string (nullable = false)\n",
      " |-- consideredQueries: string (nullable = true)\n",
      " |-- May-Actual: long (nullable = false)\n",
      " |-- June-Actual: long (nullable = false)\n",
      "\n"
     ]
    }
   ],
   "source": [
    "var finalPredictions = {\n",
    "    productPredictions.union(queryAvgPredictions.select(productPredictions.columns.map(col): _*))\n",
    "    .union(missingPredictions.select(productPredictions.columns.map(col): _*))\n",
    "    .join(actual, Seq(\"productid\"), \"left\")\n",
    "    .na.fill(0)\n",
    "    .withColumn(\"m1\", round(col(\"m1\")).cast(IntegerType))\n",
    "    .withColumnRenamed(\"m1\", \"May-Prediction\")\n",
    "    .withColumn(\"m2\", round(col(\"m2\")).cast(IntegerType))\n",
    "    .withColumnRenamed(\"m2\", \"June-Prediction\")\n",
    "    .withColumn(\"m3\", round(col(\"m3\")).cast(IntegerType))\n",
    "    .withColumnRenamed(\"m3\", \"July-Prediction\")\n",
    "    .withColumn(\"m4\", round(col(\"m4\")).cast(IntegerType))\n",
    "    .withColumnRenamed(\"m4\", \"August-Prediction\")\n",
    "    .withColumn(\"m5\", round(col(\"m5\")).cast(IntegerType))\n",
    "    .withColumnRenamed(\"m5\", \"September-Prediction\")\n",
    "    .withColumn(\"m6\", round(col(\"m6\")).cast(IntegerType))\n",
    "    .withColumnRenamed(\"m6\", \"October-Prediction\")\n",
    "    .withColumnRenamed(\"2023-05\", \"May-Actual\")\n",
    "    .withColumnRenamed(\"2023-06\", \"June-Actual\")\n",
    "    .select(\n",
    "        (\"productid,similargrouplevel,May-Prediction,June-Prediction,July-Prediction,August-Prediction,September-Prediction,October-Prediction,query\"\n",
    "        + \",level,consideredQueries,May-Actual,June-Actual\").split(\",\").map(col): _*\n",
    "    )\n",
    "}\n",
    "finalPredictions.printSchema"
   ]
  },
  {
   "cell_type": "code",
   "execution_count": 31,
   "metadata": {},
   "outputs": [
    {
     "data": {
      "application/vnd.jupyter.widget-view+json": {
       "model_id": "",
       "version_major": 2,
       "version_minor": 0
      },
      "text/plain": [
       "FloatProgress(value=0.0, bar_style='info', description='Progress:', layout=Layout(height='25px', width='50%'),…"
      ]
     },
     "metadata": {},
     "output_type": "display_data"
    }
   ],
   "source": [
    "DFToCSV.putDF(\"/data/Archive/bhavesh/InventoryPrediction/2023-04-30/ajio/aarke-ritu-kumar/RequiredPredictions\", finalPredictions.coalesce(1))"
   ]
  }
 ],
 "metadata": {
  "kernelspec": {
   "display_name": "Spark",
   "language": "",
   "name": "sparkkernel"
  },
  "language_info": {
   "codemirror_mode": "text/x-scala",
   "mimetype": "text/x-scala",
   "name": "scala",
   "pygments_lexer": "scala"
  }
 },
 "nbformat": 4,
 "nbformat_minor": 4
}
