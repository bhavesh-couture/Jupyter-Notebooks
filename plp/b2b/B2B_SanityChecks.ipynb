{
 "cells": [
  {
   "cell_type": "code",
   "execution_count": null,
   "id": "c9163ede-6b8b-4d84-b0b9-695b8635c99f",
   "metadata": {},
   "outputs": [],
   "source": [
    "%%init_spark\n",
    "launcher.jars = [\"/app/setup/commons.jar\"]\n",
    "launcher.conf.spark.app.name = \"bhavesh_notebook\"\n",
    "launcher.conf.spark.queue = \"default\"\n",
    "launcher.conf.spark.local.dir = \"/app/tmp\"\n",
    "launcher.conf.spark.sql.shuffle.partitions = 210\n",
    "launcher.conf.spark.sql.shuffle.minPartitions = 20\n",
    "launcher.conf.spark.driver.memory = \"50g\"\n",
    "launcher.conf.spark.ui.showConsoleProgress = \"true\"\n",
    "launcher.master = \"local[15]\""
   ]
  },
  {
   "cell_type": "code",
   "execution_count": null,
   "id": "3f55d3bf-219c-4112-9c7c-c4f902cc274c",
   "metadata": {},
   "outputs": [],
   "source": [
    "import ai.couture.obelisk.commons.Constants.{DB_PRODUCT_INTERACTIONS_PATH, PROCESSED_GA_DATA, GA_USER_CLICK_DATA}\n",
    "import ai.couture.obelisk.commons.Constants.STANDARD_COL_NAMES._\n",
    "import ai.couture.obelisk.commons.Constants._\n",
    "import ai.couture.obelisk.commons.io._\n",
    "import ai.couture.obelisk.commons.utils.DateTimeUtil._\n",
    "import org.apache.spark.sql._\n",
    "import org.apache.spark.sql.expressions._\n",
    "import org.apache.spark.sql.functions._\n",
    "import org.apache.spark.sql.types._\n",
    "\n",
    "import spark.implicits._\n",
    "\n",
    "// val B2B_PLP_RELEVANCE_DAG_INIT_PATH: String = \"/data/ecomm/ajiob2b/metadata/plp/init\"\n",
    "// val LIVE_STYLES_DATE_WISE_PATH = \"/data/ecomm/ajiob2b/processed/LiveStyleCodesDateWise\"\n",
    "// val LIVE_STYLES_DATE_WISE_PATH_V2 = \"/data/ecomm/ajiob2b/processed/LiveStyleCodesDateWiseV2\"\n",
    "// val COMBINED_USER_PRODUCT_INTERACTIONS_PATH = \"/data/ecomm/ajiob2b/processed/CombinedUPI\"\n",
    "// val GA_INTERACTIONS_PATH = \"/data/ecomm/ajiob2b/processed/ga/ULevelProductGA\"\n",
    "// val USER_CLUSTER_MAPPING_PATH = \"/data/ecomm/ajiob2b/processed/output/clustering/AssignedUsersClusters.json\"\n",
    "// val WISHLIST_PATH = \"/data/ecomm/ajiob2b/processed/WishlistMaster\"\n",
    "val DAYS: String = \"daysInHis\"\n",
    "val DATASET: String = \"dataset\"\n",
    "val MODEL: String = \"model\"\n",
    "val TARGET: String = \"target\"\n",
    "val REVENUE: String = \"revenue\"\n",
    "val DISTINCT_PURCHASERS: String = \"distinctPurchasers\"\n",
    "val SALES = \"sales\"\n",
    "val REVENUE_PER_VIEW: String = \"RevenuePerView\"\n",
    "val QUANTITY_PER_VIEW: String = \"QuantityPerView\"\n",
    "val WISHLIST_PER_VIEW: String = \"WishlistPerView\"\n",
    "val CONSIDERATION: String = \"Consideration\"\n",
    "val CONVERSION: String = \"Conversion\"\n",
    "val PRODUCT_CLICKS: String = \"productClicks\"\n",
    "val PRODUCT_VIEWS: String = \"productViews\"\n",
    "val L1_NAME: String = \"L1_NAME\"\n",
    "val L2_NAME: String = \"L2_NAME\"\n",
    "\n",
    "// preprod paths\n",
    "val B2B_PLP_RELEVANCE_DAG_INIT_PATH: String = \"/data/ecomm/ajiob2b/metadata/plp/init\"\n",
    "val B2B_PLP_UC_DAG_INIT_PATH: String = \"/data/ecomm/ajiob2b/metadata/plp/uc/init\"\n",
    "val STYLECODE_TO_JIOCODE_MAPPING_PATH: String = \"/data/ecomm/ajiob2b/processed/20230511/StyleCodeToJioCodeMapping\"\n",
    "val B2B_BRICK_DETAILS_PATH: String = \"/data/ecomm/ajiob2b/processed/20230511/metadata/BrickDetails\"\n",
    "val B2B_PROCESSED_BRICK_DETAILS_PATH: String = \"/data/ecomm/ajiob2b/processed/20230511/metadata/processedBrickDetailsPLP\"\n",
    "val B2B_IMAGE_PER_STYLE_CODE_PATH: String = \"/data/ecomm/ajiob2b/processed/20230512/ImagePerStyleCode\"\n",
    "val LIVE_STYLES_DATE_WISE_PATH = \"/data/ecomm/ajiob2b/processed/LiveStyleCodesDateWise\"\n",
    "val LIVE_STYLES_DATE_WISE_PATH_V2 = \"/data/ecomm/ajiob2b/processed/LiveStyleCodesDateWiseV2\"\n",
    "val COMBINED_USER_PRODUCT_INTERACTIONS_PATH = \"/data/ecomm/ajiob2b/processed/20230511/CombinedUPI\"\n",
    "val COMBINED_PACK_ATTRIBUTES_PATH = \"/data/ecomm/ajiob2b/processed/20230511/CombinedPackAttributes\"\n",
    "val REFINED_STYLE_ATTRIBUTES_PATH = \"/data/ecomm/ajiob2b/processed/20230512/RefinedStyleAttributes\"\n",
    "val GA_INTERACTIONS_PATH = \"/data/ecomm/ajiob2b/processed/ga/ULevelProductGA\"\n",
    "val USER_CLUSTER_MAPPING_PATH = \"/data/ecomm/ajiob2b/processed/20230511/AssignedUsersClusters.json\"\n",
    "val WISHLIST_PATH = \"/data/ecomm/ajiob2b/processed/20230511/WishlistMaster\""
   ]
  },
  {
   "cell_type": "code",
   "execution_count": null,
   "id": "48915ff1-c7cb-4db3-ba7d-922739af81fc",
   "metadata": {},
   "outputs": [],
   "source": [
    "var upi = (\n",
    "    ParquetToDF.getDF(COMBINED_USER_PRODUCT_INTERACTIONS_PATH)\n",
    "    .filter(col(DATE).between(\"2023-04-07\", \"2023-05-06\"))\n",
    "    .filter(col(INTERACTIONTYPE) === \"Order\" && col(\"versionId\").isNull)\n",
    "    .withColumn(\"rank\", dense_rank().over(Window.partitionBy(INTERACTION_CODE, \"styleproduct\").orderBy(DATE)))\n",
    "    .filter(col(\"rank\") === 1)\n",
    "    .drop(\"rank\")\n",
    ")\n",
    "\n",
    "var ga = (\n",
    "    ParquetToDF.getDF(GA_INTERACTIONS_PATH)\n",
    "      .withColumn(DATE, date_format(to_timestamp(col(DATE).cast(StringType), \"yyyyMMdd\"), \"yyyy-MM-dd\"))\n",
    "      .filter(col(DATE).between(\"2023-04-07\", \"2023-05-06\"))\n",
    ")\n",
    "\n",
    "var liveStyles = (\n",
    "    ParquetToDF.getDF(LIVE_STYLES_DATE_WISE_PATH_V2)\n",
    "    .withColumn(DATE, date_format(to_timestamp(col(DATE).cast(StringType), \"yyyyMMdd\"), \"yyyy-MM-dd\"))\n",
    ")\n",
    "\n",
    "var liveStylesData = (\n",
    "    ParquetToDF.getDF(\"/data/ecomm/ajiob2b/processed/plp/liveStyles\")\n",
    ")"
   ]
  },
  {
   "cell_type": "markdown",
   "id": "93c01f8b-869c-4465-b51f-4c9d0e02e13a",
   "metadata": {},
   "source": [
    "### Train/test individual checks"
   ]
  },
  {
   "cell_type": "code",
   "execution_count": null,
   "id": "53256643-25d2-4a48-907e-006d5984af56",
   "metadata": {},
   "outputs": [],
   "source": [
    "var df = ParquetToDF.getDF(\"/data/ecomm/ajiob2b/processed/plp/features/individual/GARelated/dataset=train/Algorithm=GlobalPLP\")\n",
    "df.printSchema"
   ]
  },
  {
   "cell_type": "code",
   "execution_count": null,
   "id": "8668f7e6-01cf-4092-8d7f-39e2b49fb46c",
   "metadata": {},
   "outputs": [],
   "source": [
    "df.groupBy(length(col(\"stylecode\"))).count().show()"
   ]
  },
  {
   "cell_type": "code",
   "execution_count": null,
   "id": "534b0f36-eaa3-4568-9fb4-7058872ec6ce",
   "metadata": {},
   "outputs": [],
   "source": [
    "var df = ParquetToDF.getDF(\"/data/ecomm/ajiob2b/processed/plp/features/individual/UPIRelated/dataset=train/Algorithm=GlobalPLP\")\n",
    "df.printSchema"
   ]
  },
  {
   "cell_type": "code",
   "execution_count": null,
   "id": "ee1d99fa-aaf3-451f-a516-61b47c0588f5",
   "metadata": {},
   "outputs": [],
   "source": [
    "df.groupBy(DAYS).agg(countDistinct(STYLECODE) as \"count\", sum(\"revenue\") as \"revenue\", sum(\"quantity\") as \"quantity\").orderBy(DAYS).show(false)"
   ]
  },
  {
   "cell_type": "code",
   "execution_count": null,
   "id": "4ddfd60e-ec4d-41ef-8dbf-ce5f351cb725",
   "metadata": {},
   "outputs": [],
   "source": [
    "upi.withColumnRenamed(\"styleproduct\", STYLECODE).join(liveStyles.join(liveStyles.filter(col(DATE) === \"2023-05-09\").select(STYLECODE), Seq(STYLECODE)), Seq(STYLECODE, DATE)).groupBy(DATE).agg(countDistinct(STYLECODE) as \"count\", sum(\"orderprice\") as \"revenue\", sum(\"orderquantity\") as \"quantity\").orderBy(DATE).show(30, false)"
   ]
  },
  {
   "cell_type": "markdown",
   "id": "2f08290a-0e71-4c07-8e15-129f1eb044dd",
   "metadata": {},
   "source": [
    "### yData Individual checks"
   ]
  },
  {
   "cell_type": "code",
   "execution_count": null,
   "id": "b3efabdf-5565-4d9a-b528-be02f13e6857",
   "metadata": {},
   "outputs": [],
   "source": [
    "var df = ParquetToDF.getDF(\"/data/ecomm/ajiob2b/processed/plp/features/individual/UPIRelated/dataset=yData/Algorithm=GlobalPLP\")\n",
    "df.printSchema"
   ]
  },
  {
   "cell_type": "code",
   "execution_count": null,
   "id": "a94dbad3-282b-4b88-b624-0a679ed96191",
   "metadata": {},
   "outputs": [],
   "source": [
    "df.groupBy(DAYS).agg(countDistinct(STYLECODE) as \"count\", sum(\"revenue\") as \"revenue\", sum(\"quantity\") as \"quantity\").orderBy(DAYS).show(false)"
   ]
  },
  {
   "cell_type": "code",
   "execution_count": null,
   "id": "c11afb8d-b376-4adf-878a-7380d242179a",
   "metadata": {},
   "outputs": [],
   "source": [
    "upi.withColumnRenamed(\"styleproduct\", STYLECODE).join(liveStyles.filter(col(DATE) === \"2023-05-09\"), Seq(STYLECODE, DATE)).agg(countDistinct(STYLECODE) as \"count\", sum(\"orderprice\") as \"revenue\", sum(\"orderquantity\") as \"quantity\").show"
   ]
  },
  {
   "cell_type": "markdown",
   "id": "e9c95da0-3724-4bed-b4aa-eee2badb99d1",
   "metadata": {},
   "source": [
    "### Xdata sanity checks"
   ]
  },
  {
   "cell_type": "code",
   "execution_count": null,
   "id": "cde07e4d-8ab4-4676-9a98-220a9234fab2",
   "metadata": {},
   "outputs": [],
   "source": [
    "var features = ParquetToDF.getDF(\"/data/ecomm/ajiob2b/processed/plp/features/XData/dataset=train/Algorithm=GlobalPLP\")\n",
    "features.printSchema"
   ]
  },
  {
   "cell_type": "code",
   "execution_count": null,
   "id": "6ed3b927-966c-43e8-b645-92145c25f163",
   "metadata": {},
   "outputs": [],
   "source": [
    "var df = features.select(STYLECODE, \"1_RevenuePerView\", \"1_Consideration\", \"1_QuantityPerView\", \"1_WishlistPerView\", \"1_revenue\", \"1_quantity\", \"1_productViews\")\n",
    "df.printSchema"
   ]
  },
  {
   "cell_type": "code",
   "execution_count": null,
   "id": "ebe499aa-30dd-4352-adba-4ffb29019fb4",
   "metadata": {},
   "outputs": [],
   "source": [
    "df.filter(col(\"1_RevenuePerView\") =!= 0.0).show(5, false)"
   ]
  },
  {
   "cell_type": "code",
   "execution_count": null,
   "id": "639ca1c1-6600-44d2-8f57-3d5b2ba3f73a",
   "metadata": {},
   "outputs": [],
   "source": [
    "features.select(\"1_revenue\", \"1_quantity\", \"1_productViews\").describe().show(false)"
   ]
  },
  {
   "cell_type": "code",
   "execution_count": null,
   "id": "f4a3a75f-8ad7-4ccb-9081-96847a3957b3",
   "metadata": {},
   "outputs": [],
   "source": [
    "(33092.64/339110.92000000004)/(2.0 - (302.0/3076.0))"
   ]
  },
  {
   "cell_type": "code",
   "execution_count": null,
   "id": "fed8aa27-5a4c-44b6-b30a-f143ecb025e8",
   "metadata": {},
   "outputs": [],
   "source": [
    "upi.filter(col(DATE) === \"2023-04-28\" && col(\"styleproduct\") === \"420392462\").agg(sum(\"orderprice\")).show"
   ]
  },
  {
   "cell_type": "markdown",
   "id": "92985fd7-35ae-4c82-8bf8-fba670872bd9",
   "metadata": {},
   "source": [
    "### YData sanity checks"
   ]
  },
  {
   "cell_type": "code",
   "execution_count": null,
   "id": "e1f96f50-2d74-4736-bffd-704b5c74b1b8",
   "metadata": {},
   "outputs": [],
   "source": [
    "var y = ParquetToDF.getDF(\"/data/ecomm/ajiob2b/processed/plp/features/YData/Algorithm=GlobalPLP/clusterid=global\")\n",
    "y.printSchema"
   ]
  },
  {
   "cell_type": "code",
   "execution_count": null,
   "id": "707a54d3-873a-4aa9-a03b-7b4a4ecdd88d",
   "metadata": {},
   "outputs": [],
   "source": [
    "y.describe().show(false)"
   ]
  },
  {
   "cell_type": "code",
   "execution_count": null,
   "id": "036cd468-82e9-4bab-8bb3-08b43c03b04a",
   "metadata": {},
   "outputs": [],
   "source": [
    "upi.filter(col(DATE) === \"2023-04-30\").groupBy(\"styleproduct\").agg(sum(\"orderprice\") as \"revenue\", sum(\"orderquantity\") as QUANTITY).show(5, false)"
   ]
  },
  {
   "cell_type": "code",
   "execution_count": null,
   "id": "44b23de4-e7db-4cbe-98fc-14b68149af33",
   "metadata": {},
   "outputs": [],
   "source": [
    "ga.filter(col(DATE) === \"2023-04-30\").groupBy(STYLECODE).agg(sum(PRODUCT_VIEWS) as PRODUCT_VIEWS).filter(col(STYLECODE).isin(Array(\"420392467\", \"464589772\", \"465586796\"): _*)).show"
   ]
  },
  {
   "cell_type": "code",
   "execution_count": null,
   "id": "ff250bee-bcb0-455d-87a7-5d0f3def80dc",
   "metadata": {},
   "outputs": [],
   "source": [
    "ga.filter(col(DATE) === \"2023-04-30\").groupBy(STYLECODE).agg(sum(PRODUCT_VIEWS) as PRODUCT_VIEWS).agg(max(\"productViews\")).show"
   ]
  },
  {
   "cell_type": "code",
   "execution_count": null,
   "id": "34da993c-5ba7-4b26-8ffa-e9787b427b3b",
   "metadata": {},
   "outputs": [],
   "source": [
    "upi.filter(col(DATE) === \"2023-04-30\").groupBy(\"styleproduct\").agg(sum(\"orderprice\") as \"revenue\", sum(\"orderquantity\") as QUANTITY).agg(max(\"revenue\"), max(QUANTITY)).show(5, false)"
   ]
  },
  {
   "cell_type": "code",
   "execution_count": null,
   "id": "ad3f270c-b0a3-4ce0-9da3-5c861999d09a",
   "metadata": {},
   "outputs": [],
   "source": [
    "y.filter(col(STYLECODE).isin(Array(\"420392467\", \"464589772\", \"465586796\"): _*)).show"
   ]
  },
  {
   "cell_type": "code",
   "execution_count": null,
   "id": "16e854a8-30da-47b5-8e4e-4813bb34afdf",
   "metadata": {},
   "outputs": [],
   "source": [
    "val nv = 237/2603.0\n",
    "val nr = 66405.73000000001/415225.44000000006\n",
    "val nq = 77/240.0\n",
    "print(nr/(2-nv), nq/(2-nv))"
   ]
  },
  {
   "cell_type": "markdown",
   "id": "27649c22-7d22-4e8f-8de0-cd15ff2dda35",
   "metadata": {},
   "source": [
    "### Combined rankings checks"
   ]
  },
  {
   "cell_type": "code",
   "execution_count": null,
   "id": "c730d7b1-7fe9-43eb-ad06-2791ec4df6e3",
   "metadata": {},
   "outputs": [],
   "source": [
    "var rankings = ParquetToDF.getDF(\"/data/ecomm/ajiob2b/processed/plp/rankings\")\n",
    "var weights = ParquetToDF.getDF(\"/data/ecomm/ajiob2b/processed/plp/weights\")\n",
    "var combinedRanking = ParquetToDF.getDF(\"/data/ecomm/ajiob2b/processed/plp/combinedRanking\")"
   ]
  },
  {
   "cell_type": "code",
   "execution_count": null,
   "id": "f1803caa-a216-4236-97ca-cde56584b5e4",
   "metadata": {},
   "outputs": [],
   "source": [
    "rankings.printSchema"
   ]
  },
  {
   "cell_type": "code",
   "execution_count": null,
   "id": "1c193a85-9e41-4950-8b2a-bdfc90635023",
   "metadata": {},
   "outputs": [],
   "source": [
    "combinedRanking.printSchema"
   ]
  },
  {
   "cell_type": "code",
   "execution_count": null,
   "id": "76d29315-7c70-4445-929c-e8a4c66ebe7b",
   "metadata": {},
   "outputs": [],
   "source": [
    "combinedRanking.filter(col(PRODUCTRANK)<=5).orderBy(ALGORITHM, CLUSTERID).show(false)"
   ]
  },
  {
   "cell_type": "code",
   "execution_count": null,
   "id": "c0fc5cb3-be28-44fa-b509-f44f99ec3135",
   "metadata": {},
   "outputs": [],
   "source": [
    "rankings.filter(col(\"Algorithm\") === \"GlobalPLP\").filter(col(STYLECODE) === \"465645536\").show(5, false)"
   ]
  },
  {
   "cell_type": "code",
   "execution_count": null,
   "id": "219344d7-45ce-4d49-83de-b42bb17c4409",
   "metadata": {},
   "outputs": [],
   "source": [
    "rankings.join(weights, Seq(\"target\", \"Algorithm\")).count"
   ]
  },
  {
   "cell_type": "code",
   "execution_count": null,
   "id": "160eef8f-cf74-4458-b934-9c5c79d12532",
   "metadata": {},
   "outputs": [],
   "source": [
    "var XData = ParquetToDF.getDF(\"/data/ecomm/ajiob2b/processed/plp/standardizedDataset/test\")\n",
    "XData.printSchema"
   ]
  },
  {
   "cell_type": "code",
   "execution_count": null,
   "id": "8011593a-97cb-4ea0-8f60-a81fbabc0573",
   "metadata": {},
   "outputs": [],
   "source": [
    "var targets = Array(\"RevenuePerView\", \"QuantityPerView\")\n",
    "targets.map(target => {\n",
    "      if (!target.startsWith(\"yData\")) {\n",
    "        s\"yData$target\"\n",
    "      } else {\n",
    "        target\n",
    "      }\n",
    "    })"
   ]
  },
  {
   "cell_type": "code",
   "execution_count": null,
   "id": "21e0d790-d05d-4c85-9e6f-46e07a0874df",
   "metadata": {},
   "outputs": [],
   "source": [
    "var df = ParquetToDF.getDF(\"/data/ecomm/ajiob2b/processed/plp/combinedRanking/model=xgb/Algorithm=SegmentPLP\")\n",
    "df.printSchema"
   ]
  },
  {
   "cell_type": "markdown",
   "id": "6f2453da-7269-4d4a-bd70-8b85cbd824d6",
   "metadata": {},
   "source": [
    "### Target data analysis"
   ]
  },
  {
   "cell_type": "code",
   "execution_count": null,
   "id": "dc217259-91ac-43fb-b853-57a7b44bd5de",
   "metadata": {},
   "outputs": [],
   "source": [
    "var df = ParquetToDF.getDF(\"/data/ecomm/ajiob2b/processed/plp/features/YData\")\n",
    "df.printSchema"
   ]
  },
  {
   "cell_type": "code",
   "execution_count": null,
   "id": "266e3a6d-5439-4e3b-a0a1-c77e15656b13",
   "metadata": {},
   "outputs": [],
   "source": [
    "df.filter(col(\"yDataRevenuePerView\")>0.5).filter(col(CLUSTERID) === \"global\").show(5, false)"
   ]
  },
  {
   "cell_type": "code",
   "execution_count": null,
   "id": "56d44204-a4ba-4f04-8090-5ba9f18f9614",
   "metadata": {},
   "outputs": [],
   "source": [
    "upi.filter(col(\"styleproduct\") === \"420441999\").groupBy(DATE).agg(sum(\"orderprice\") as \"revenue\").orderBy(desc(DATE)).show(false)\n",
    "ga.filter(col(STYLECODE) ===\"420441999\").groupBy(DATE).agg(sum(\"productViews\") as \"views\").orderBy(desc(DATE)).show(false)"
   ]
  },
  {
   "cell_type": "markdown",
   "id": "8d2d6e49-55ca-402b-8581-60282af89b4b",
   "metadata": {
    "tags": []
   },
   "source": [
    "### Brick details Transformation"
   ]
  },
  {
   "cell_type": "code",
   "execution_count": null,
   "id": "19e3e28c-0555-4c5d-976a-822f8d486ecd",
   "metadata": {},
   "outputs": [],
   "source": [
    "var brickDetails = spark.read.parquet(\"/data/ecomm/ajiob2b/processed/20230511/metadata/BrickDetails\")\n",
    "brickDetails = brickDetails.withColumn(\"L1_CODE\", substring(col(\"brickid\"), 0, 4)).withColumn(\"L2_CODE\", substring(col(\"brickid\"), 0, 6))\n",
    "brickDetails = brickDetails.as(\"bd1\").join(\n",
    "    brickDetails.select(col(\"brickname\").as(\"L1_NAME\"), col(\"brickid\")).as(\"bd2\"), col(\"bd2.brickid\") === col(\"bd1.L1_CODE\")\n",
    ").join(\n",
    "    brickDetails.select(col(\"brickname\").as(\"L2_NAME\"), col(\"brickid\")).as(\"bd3\"), col(\"bd3.brickid\") === col(\"bd1.L2_CODE\")\n",
    ").filter(length(col(\"bd1.brickid\")) > 6).select(\"bd1.brickid\", \"L1_NAME\", \"L2_NAME\", \"brickname\").dropDuplicates().toDF(\"brickid\", \"l1name\", \"l2name\", \"brickname\")\n",
    "\n",
    "brickDetails.show(5, false)\n",
    "DFToParquet.putDF(\"/data/ecomm/ajiob2b/processed/20230511/metadata/processedBrickDetailsPLP\", brickDetails)\n",
    "// Self join to same df to get the corresponding L1 and L2 names\n",
    "// Input: processed/metadata/BrickDetails, output: processed/metadata/processedBrickDetailsPLP"
   ]
  },
  {
   "cell_type": "code",
   "execution_count": null,
   "id": "0f303a2b-14a6-4ad2-8b73-78c9bb82b376",
   "metadata": {},
   "outputs": [],
   "source": [
    "var brickDetails = ParquetToDF.getDF(\"/data/ecomm/ajiob2b/processed/20230511/metadata/processedBrickDetailsPLP\")\n",
    "brickDetails.printSchema"
   ]
  },
  {
   "cell_type": "markdown",
   "id": "8a177776-8a36-4e57-b1c6-5e9b09eaa98b",
   "metadata": {},
   "source": [
    "### Miscellaneous"
   ]
  },
  {
   "cell_type": "code",
   "execution_count": null,
   "id": "39b84479-1bbb-47da-8d61-d19a2351bf81",
   "metadata": {},
   "outputs": [],
   "source": [
    "var df = ParquetToDF.getDF(COMBINED_PACK_ATTRIBUTES_PATH)\n",
    "df.printSchema"
   ]
  },
  {
   "cell_type": "code",
   "execution_count": null,
   "id": "22ca3eb7-5073-4372-baf3-6266f2ac6105",
   "metadata": {},
   "outputs": [],
   "source": [
    "df.show(5)"
   ]
  },
  {
   "cell_type": "code",
   "execution_count": null,
   "id": "c509d110-e80d-4d36-bcdf-c6cb8c43c76e",
   "metadata": {},
   "outputs": [],
   "source": [
    "df.columns.foreach(println(_))"
   ]
  },
  {
   "cell_type": "code",
   "execution_count": null,
   "id": "ea6cdae7-54b7-41fe-9b27-2a8abedd5d01",
   "metadata": {},
   "outputs": [],
   "source": [
    "upi.printSchema"
   ]
  },
  {
   "cell_type": "code",
   "execution_count": null,
   "id": "8e26f94a-f934-47b2-ba22-e2aaca5b9105",
   "metadata": {},
   "outputs": [],
   "source": [
    "upi.show(1, false)"
   ]
  },
  {
   "cell_type": "code",
   "execution_count": null,
   "id": "2fbba174-c6f3-4219-8210-2348c6f178f8",
   "metadata": {},
   "outputs": [],
   "source": [
    "upi.filter(col(DATE) === \"2023-05-06\").groupBy(\"styleproduct\").agg(sum(\"orderprice\"), sum(\"packprice\"), sum(\"orderquantity\"), sum(\"packquantity\")).show(false)"
   ]
  },
  {
   "cell_type": "code",
   "execution_count": null,
   "id": "8bd3c9e0-634e-46ff-a4b7-6379dc5e8ff9",
   "metadata": {},
   "outputs": [],
   "source": [
    "upi.filter(col(\"interactionCode\") === \"49408387\" && col(DATE) === \"2023-05-06\").show(33, false)"
   ]
  },
  {
   "cell_type": "code",
   "execution_count": null,
   "id": "a8355d56-3300-4a9d-8179-1e3c047beee4",
   "metadata": {},
   "outputs": [],
   "source": [
    "upi.filter(col(\"interactionCode\") === \"49408387\").agg(sum(\"packprice\"), sum(\"packquantity\")).show(false)"
   ]
  },
  {
   "cell_type": "code",
   "execution_count": null,
   "id": "12f2bc1b-21d6-4641-8d16-9202ca55e94c",
   "metadata": {},
   "outputs": [],
   "source": [
    "var upi_full = spark.read.parquet(COMBINED_USER_PRODUCT_INTERACTIONS_PATH)"
   ]
  },
  {
   "cell_type": "code",
   "execution_count": null,
   "id": "3a744ba5-188f-4197-a5f9-ef626258465f",
   "metadata": {},
   "outputs": [],
   "source": [
    "upi_full.filter($\"interactionCode\"===\"49408387\").select(\"date\").distinct.show(false)"
   ]
  },
  {
   "cell_type": "code",
   "execution_count": null,
   "id": "73731463-6230-46ce-b6e0-eb068bda384d",
   "metadata": {},
   "outputs": [],
   "source": [
    "upi_full.orderBy(desc(\"date\")).show(1, false)"
   ]
  },
  {
   "cell_type": "code",
   "execution_count": null,
   "id": "cd79e452-4bc4-4b02-8dcb-b0cbe45756f4",
   "metadata": {},
   "outputs": [],
   "source": [
    "upi_full.filter($\"interactionCode\"===\"49408387\"&&$\"packquantity\"=!=0).distinct.count"
   ]
  },
  {
   "cell_type": "code",
   "execution_count": null,
   "id": "fc60d13e-6a85-4e35-bd72-0db268cb9f7c",
   "metadata": {},
   "outputs": [],
   "source": [
    "upi.filter(col(\"interactionCode\") === \"49408387\").agg(sum(\"packquantity\")).show(false)"
   ]
  },
  {
   "cell_type": "code",
   "execution_count": null,
   "id": "5b373133-fa80-4fe2-8c48-61729e8a452d",
   "metadata": {},
   "outputs": [],
   "source": [
    "upi.filter(col(\"interactionCode\") === \"49408387\").select(\"interactiontype\").distinct.show(false)"
   ]
  },
  {
   "cell_type": "code",
   "execution_count": null,
   "id": "c321070f-d40f-465f-a562-b8a8499b7105",
   "metadata": {},
   "outputs": [],
   "source": [
    "upi_full.filter(col(\"interactionCode\") === \"49408387\").distinct.show(false)"
   ]
  },
  {
   "cell_type": "code",
   "execution_count": null,
   "id": "2d37f0a0-5979-4b9c-82da-d4301b8eb69d",
   "metadata": {},
   "outputs": [],
   "source": [
    "upi_full.filter(col(\"interactionCode\") === \"49408387\").groupBy(\"styleproduct\").count.orderBy(desc(\"count\")).show(5, false)"
   ]
  },
  {
   "cell_type": "code",
   "execution_count": null,
   "id": "65834bdd-480b-48fa-aaf2-70b3e8c6631a",
   "metadata": {},
   "outputs": [],
   "source": [
    "upi_full.filter(col(\"interactionCode\")===\"420377466\" && col(\"styleproduct\")===\"420377466\").show(5, false)"
   ]
  },
  {
   "cell_type": "code",
   "execution_count": null,
   "id": "65ea4e3b-3ad7-40c9-b890-6218f522d88c",
   "metadata": {},
   "outputs": [],
   "source": [
    "upi_full.filter(col(\"interactionCode\") === \"420377466\" && col(\"packquantity\") === 0).select(\"itemid\").distinct.\n",
    "except(upi_full.filter(col(\"interactionCode\") === \"420377466\" && col(\"packquantity\") === 1).select(\"itemid\").distinct).show"
   ]
  },
  {
   "cell_type": "code",
   "execution_count": null,
   "id": "f2975f94-2a26-43a0-bb07-42f0049b6ea5",
   "metadata": {},
   "outputs": [],
   "source": [
    "var refineStyleAttributes = spark.read.parquet(\"/data/ecomm/ajiob2b/processed/20230512/RefinedStyleAttributes\")\n",
    "refineStyleAttributes.printSchema"
   ]
  },
  {
   "cell_type": "code",
   "execution_count": null,
   "id": "3f07ddae-a513-4c4c-a276-8f6120258592",
   "metadata": {},
   "outputs": [],
   "source": [
    "refineStyleAttributes.groupBy(STYLECODE).agg(max(\"stylename\"), max(\"brandname\")).show(5, false)"
   ]
  },
  {
   "cell_type": "code",
   "execution_count": null,
   "id": "dcd395f0-c691-49b6-adad-2828beab5f30",
   "metadata": {},
   "outputs": [],
   "source": [
    "var df = ParquetToDF.getDF(\"/data/ecomm/ajiob2b/processed/plp/output/uc/RankingWithStyleAttributes\")\n",
    "df.printSchema"
   ]
  },
  {
   "cell_type": "code",
   "execution_count": null,
   "id": "07f96468-50d8-4829-b235-6e0b9d62c41e",
   "metadata": {},
   "outputs": [],
   "source": [
    "df.groupBy(CLUSTERID).agg(countDistinct(STYLECODE) as \"count\", count(STYLECODE) as \"count2\").show()"
   ]
  },
  {
   "cell_type": "code",
   "execution_count": null,
   "id": "9142297f-b0fb-47e1-8899-240e0a0d7e6a",
   "metadata": {},
   "outputs": [],
   "source": [
    "var df2 = ParquetToDF.getDF(\"/data/ecomm/ajiob2b/processed/plp/combinedRanking/model=xgb\")\n",
    "df2.printSchema"
   ]
  },
  {
   "cell_type": "code",
   "execution_count": null,
   "id": "771d689b-84b8-45ec-9ee3-466ff2112572",
   "metadata": {},
   "outputs": [],
   "source": [
    "df2.groupBy(CLUSTERID).count().show"
   ]
  },
  {
   "cell_type": "code",
   "execution_count": null,
   "id": "0ba13a23-542c-4f02-a135-3af72f6fdcf0",
   "metadata": {},
   "outputs": [],
   "source": [
    "var images = ParquetToDF.getDF(B2B_IMAGE_PER_STYLE_CODE_PATH)\n",
    "images.printSchema"
   ]
  },
  {
   "cell_type": "code",
   "execution_count": null,
   "id": "7b9a9648-7652-4c38-8104-02cdaef8fe35",
   "metadata": {},
   "outputs": [],
   "source": [
    "ga.filter(col(STYLECODE) === \"466037126\").groupBy(DATE).agg(sum(PRODUCT_VIEWS) as PRODUCT_VIEWS, sum(PRODUCT_CLICKS) as PRODUCT_CLICKS).orderBy(desc(DATE)).show(false)"
   ]
  },
  {
   "cell_type": "code",
   "execution_count": null,
   "id": "2865c643-c355-4fbc-b531-b5edbafdb495",
   "metadata": {},
   "outputs": [],
   "source": [
    "var brickDetails = ParquetToDF.getDF(\"/data/ecomm/ajiob2b/processed/20230511/metadata/processedBrickDetailsPLP\")\n",
    "brickDetails.printSchema"
   ]
  },
  {
   "cell_type": "code",
   "execution_count": null,
   "id": "fbfa8149-1011-459a-a171-5100821abb86",
   "metadata": {},
   "outputs": [],
   "source": [
    "brickDetails.filter(col(\"l2name\") === \"830502\").show()"
   ]
  },
  {
   "cell_type": "code",
   "execution_count": null,
   "id": "f2b6b1b9-3de8-4212-9c7f-77b028edaa1d",
   "metadata": {},
   "outputs": [],
   "source": [
    "val df = ParquetToDF.getDF(\"/data/ecomm/ajiob2b/processed/20230511/metadata/BrickDetails\")\n",
    "df.printSchema"
   ]
  },
  {
   "cell_type": "code",
   "execution_count": null,
   "id": "9a2786e5-3800-40df-8ab4-9b5d217e7372",
   "metadata": {},
   "outputs": [],
   "source": [
    "df.filter(col(\"brickid\").startsWith(\"830311001\")).show(false)"
   ]
  },
  {
   "cell_type": "code",
   "execution_count": null,
   "id": "b44766b6-043c-49b3-9645-5e83436d22ef",
   "metadata": {},
   "outputs": [],
   "source": [
    "var df1 = ParquetToDF.getDF(\"/data/ecomm/ajiob2b/processed/plp/combinedRanking/model=lr/Algorithm=GlobalPLP\")\n",
    "var df2 = ParquetToDF.getDF(\"/data/ecomm/ajiob2b/processed/plp/combinedRanking/model=xgb/Algorithm=GlobalPLP\")\n",
    "df1.printSchema"
   ]
  },
  {
   "cell_type": "code",
   "execution_count": null,
   "id": "ad95a960-80fc-466a-ada3-e790dea86fc5",
   "metadata": {},
   "outputs": [],
   "source": [
    "df1.orderBy(PRODUCTRANK).show(5, false)\n",
    "df2.orderBy(PRODUCTRANK).show(5, false)"
   ]
  }
 ],
 "metadata": {
  "kernelspec": {
   "display_name": "spark",
   "language": "scala",
   "name": "spylon-kernel"
  },
  "language_info": {
   "codemirror_mode": "text/x-scala",
   "file_extension": ".scala",
   "help_links": [
    {
     "text": "MetaKernel Magics",
     "url": "https://metakernel.readthedocs.io/en/latest/source/README.html"
    }
   ],
   "mimetype": "text/x-scala",
   "name": "scala",
   "pygments_lexer": "scala",
   "version": "0.4.1"
  },
  "widgets": {
   "application/vnd.jupyter.widget-state+json": {
    "state": {},
    "version_major": 2,
    "version_minor": 0
   }
  }
 },
 "nbformat": 4,
 "nbformat_minor": 5
}
