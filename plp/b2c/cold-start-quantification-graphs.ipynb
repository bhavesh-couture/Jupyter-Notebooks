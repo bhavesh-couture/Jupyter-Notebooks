{
 "cells": [
  {
   "cell_type": "code",
   "execution_count": 2,
   "metadata": {},
   "outputs": [
    {
     "data": {
      "text/html": [
       "Current session configs: <tt>{'conf': {'spark.app.name': 'Bhavesh_Relevancy_notebook', 'spark.yarn.queue': 'workflow', 'spark.jars': '/apps/Jars/obelisk-retail-legos.jar', 'spark.driver.extraJavaOptions': '-Dscala.color', 'spark.driver.memory': '4g', 'spark.executor.memory': '4g', 'spark.executor.instances': '4'}, 'kind': 'spark'}</tt><br>"
      ],
      "text/plain": [
       "<IPython.core.display.HTML object>"
      ]
     },
     "metadata": {},
     "output_type": "display_data"
    },
    {
     "data": {
      "text/html": [
       "<table>\n",
       "<tr><th>ID</th><th>YARN Application ID</th><th>Kind</th><th>State</th><th>Spark UI</th><th>Driver log</th><th>Current session?</th></tr><tr><td>652</td><td>application_1681204775733_1877</td><td>spark</td><td>idle</td><td><a target=\"_blank\" href=\"http://JMNGD1BAF370C10:8088/proxy/application_1681204775733_1877/\">Link</a></td><td><a target=\"_blank\" href=\"http://JMNGD1BAG070C08:8042/node/containerlogs/container_e108_1681204775733_1877_01_000001/couture\">Link</a></td><td></td></tr></table>"
      ],
      "text/plain": [
       "<IPython.core.display.HTML object>"
      ]
     },
     "metadata": {},
     "output_type": "display_data"
    }
   ],
   "source": [
    "%%configure -f \n",
    "{\n",
    "    \"conf\":\n",
    "    {\n",
    "        \"spark.app.name\":\"Bhavesh_Relevancy_notebook\",\n",
    "        \"spark.yarn.queue\": \"workflow\",\n",
    "        \"spark.jars\": \"/apps/Jars/obelisk-retail-legos.jar\",\n",
    "        \"spark.driver.extraJavaOptions\": \"-Dscala.color\",\n",
    "        \"spark.driver.memory\": \"4g\",\n",
    "        \"spark.executor.memory\": \"4g\",\n",
    "        \"spark.executor.instances\": \"4\"\n",
    "    }\n",
    "}"
   ]
  },
  {
   "cell_type": "code",
   "execution_count": 1,
   "metadata": {},
   "outputs": [],
   "source": [
    "!kinit -kt $KRB5_CLIENT_KTNAME $KRB5_PRINCIPAL"
   ]
  },
  {
   "cell_type": "code",
   "execution_count": 3,
   "metadata": {},
   "outputs": [
    {
     "name": "stdout",
     "output_type": "stream",
     "text": [
      "Starting Spark application\n"
     ]
    },
    {
     "data": {
      "text/html": [
       "<table>\n",
       "<tr><th>ID</th><th>YARN Application ID</th><th>Kind</th><th>State</th><th>Spark UI</th><th>Driver log</th><th>Current session?</th></tr><tr><td>654</td><td>application_1681204775733_1900</td><td>spark</td><td>idle</td><td><a target=\"_blank\" href=\"http://JMNGD1BAF370C10:8088/proxy/application_1681204775733_1900/\">Link</a></td><td><a target=\"_blank\" href=\"http://JMNGD1BAE210V09:8042/node/containerlogs/container_e108_1681204775733_1900_01_000001/couture\">Link</a></td><td>✔</td></tr></table>"
      ],
      "text/plain": [
       "<IPython.core.display.HTML object>"
      ]
     },
     "metadata": {},
     "output_type": "display_data"
    },
    {
     "data": {
      "application/vnd.jupyter.widget-view+json": {
       "model_id": "",
       "version_major": 2,
       "version_minor": 0
      },
      "text/plain": [
       "FloatProgress(value=0.0, bar_style='info', description='Progress:', layout=Layout(height='25px', width='50%'),…"
      ]
     },
     "metadata": {},
     "output_type": "display_data"
    },
    {
     "name": "stdout",
     "output_type": "stream",
     "text": [
      "SparkSession available as 'spark'.\n"
     ]
    },
    {
     "data": {
      "application/vnd.jupyter.widget-view+json": {
       "model_id": "",
       "version_major": 2,
       "version_minor": 0
      },
      "text/plain": [
       "FloatProgress(value=0.0, bar_style='info', description='Progress:', layout=Layout(height='25px', width='50%'),…"
      ]
     },
     "metadata": {},
     "output_type": "display_data"
    },
    {
     "name": "stdout",
     "output_type": "stream",
     "text": [
      "import ai.couture.obelisk.commons.Constants.STANDARD_COL_NAMES._\n",
      "import ai.couture.obelisk.commons.Constants._\n",
      "import ai.couture.obelisk.commons.io._\n",
      "import ai.couture.obelisk.commons.utils.DateTimeUtil._\n",
      "import org.apache.spark.sql._\n",
      "import org.apache.spark.sql.expressions._\n",
      "import org.apache.spark.sql.functions._\n",
      "import org.apache.spark.sql.catalyst.expressions._\n",
      "import ai.couture.obelisk.commons.utils.DataFrameUtil.union\n"
     ]
    }
   ],
   "source": [
    "import ai.couture.obelisk.commons.Constants.STANDARD_COL_NAMES._\n",
    "import ai.couture.obelisk.commons.Constants._\n",
    "import ai.couture.obelisk.commons.io._\n",
    "import ai.couture.obelisk.commons.utils.DateTimeUtil._\n",
    "import org.apache.spark.sql._\n",
    "import org.apache.spark.sql.expressions._\n",
    "import org.apache.spark.sql.functions._\n",
    "import org.apache.spark.sql.catalyst.expressions._\n",
    "import ai.couture.obelisk.commons.utils.DataFrameUtil.union"
   ]
  },
  {
   "cell_type": "code",
   "execution_count": 30,
   "metadata": {},
   "outputs": [
    {
     "data": {
      "application/vnd.jupyter.widget-view+json": {
       "model_id": "",
       "version_major": 2,
       "version_minor": 0
      },
      "text/plain": [
       "FloatProgress(value=0.0, bar_style='info', description='Progress:', layout=Layout(height='25px', width='50%'),…"
      ]
     },
     "metadata": {},
     "output_type": "display_data"
    },
    {
     "name": "stdout",
     "output_type": "stream",
     "text": [
      "\u001b[1m\u001b[34mdf\u001b[0m: \u001b[1m\u001b[32morg.apache.spark.sql.DataFrame\u001b[0m = [Algorithm: string, clusterid: string ... 3 more fields]\n"
     ]
    }
   ],
   "source": [
    "var df = CSVToDF.getDF(\"/data/Archive/plp/bhavesh/experiments/ajioplp_2023-04-17/PLPResultsEvaluation/2023-04-18/RankingComparisonMetrics/RankwiseProductDistributionDF/brickname/ranking=Combined\")\n",
    "DFToCSV.putDF(\"/data/Archive/plp/bhavesh/files/temp/metrics\", df.coalesce(1))"
   ]
  },
  {
   "cell_type": "code",
   "execution_count": 3,
   "metadata": {},
   "outputs": [
    {
     "data": {
      "application/vnd.jupyter.widget-view+json": {
       "model_id": "",
       "version_major": 2,
       "version_minor": 0
      },
      "text/plain": [
       "FloatProgress(value=0.0, bar_style='info', description='Progress:', layout=Layout(height='25px', width='50%'),…"
      ]
     },
     "metadata": {},
     "output_type": "display_data"
    },
    {
     "name": "stdout",
     "output_type": "stream",
     "text": [
      "\u001b[1m\u001b[34mputDFMultiColumnPartition\u001b[0m: \u001b[1m\u001b[32m(filepath: String, df: org.apache.spark.sql.DataFrame, partitionedColumns: Seq[String])Unit\u001b[0m\n"
     ]
    }
   ],
   "source": [
    "def putDFMultiColumnPartition(filepath: String, df: DataFrame, partitionedColumns: Seq[String]): Unit = {\n",
    "\n",
    "df.repartition(partitionedColumns.map(col): _*)\n",
    "  .write\n",
    "  .option(\"header\", \"true\")\n",
    "  .option(\"delimiter\", \",\")\n",
    "  .option(\"escape\", \"\\\\\")\n",
    "  .mode(SaveMode.Overwrite)\n",
    "  .partitionBy(partitionedColumns: _*)\n",
    "  .csv(filepath)\n",
    "\n",
    "}"
   ]
  },
  {
   "cell_type": "code",
   "execution_count": 4,
   "metadata": {},
   "outputs": [
    {
     "data": {
      "application/vnd.jupyter.widget-view+json": {
       "model_id": "",
       "version_major": 2,
       "version_minor": 0
      },
      "text/plain": [
       "FloatProgress(value=0.0, bar_style='info', description='Progress:', layout=Layout(height='25px', width='50%'),…"
      ]
     },
     "metadata": {},
     "output_type": "display_data"
    },
    {
     "name": "stdout",
     "output_type": "stream",
     "text": [
      "\u001b[1m\u001b[34mputDFMultiColumnPartitionParquet\u001b[0m: \u001b[1m\u001b[32m(filepath: String, df: org.apache.spark.sql.DataFrame, partitionedColumns: Seq[String])Unit\u001b[0m\n"
     ]
    }
   ],
   "source": [
    "def putDFMultiColumnPartitionParquet(filepath: String, df: DataFrame, partitionedColumns: Seq[String]): Unit = {\n",
    "\n",
    "df.repartition(partitionedColumns.map(col): _*)\n",
    "  .write\n",
    "  .mode(SaveMode.Overwrite)\n",
    "  .partitionBy(partitionedColumns: _*)\n",
    "  .parquet(filepath)\n",
    "\n",
    "}"
   ]
  },
  {
   "cell_type": "code",
   "execution_count": 20,
   "metadata": {},
   "outputs": [
    {
     "data": {
      "application/vnd.jupyter.widget-view+json": {
       "model_id": "",
       "version_major": 2,
       "version_minor": 0
      },
      "text/plain": [
       "FloatProgress(value=0.0, bar_style='info', description='Progress:', layout=Layout(height='25px', width='50%'),…"
      ]
     },
     "metadata": {},
     "output_type": "display_data"
    },
    {
     "name": "stdout",
     "output_type": "stream",
     "text": [
      "\u001b[1m\u001b[34mnumBins\u001b[0m: \u001b[1m\u001b[32mInt\u001b[0m = 10\n",
      "\u001b[1m\u001b[34mk\u001b[0m: \u001b[1m\u001b[32mArray[Int]\u001b[0m = Array(100, 1000, 5000, 10000)\n",
      "\u001b[1m\u001b[34mhistoryNDays\u001b[0m: \u001b[1m\u001b[32mInt\u001b[0m = 30\n"
     ]
    }
   ],
   "source": [
    "val numBins = 10\n",
    "val k = Array(100, 1000, 5000, 10000)\n",
    "val historyNDays = 30"
   ]
  },
  {
   "cell_type": "code",
   "execution_count": 21,
   "metadata": {},
   "outputs": [
    {
     "data": {
      "application/vnd.jupyter.widget-view+json": {
       "model_id": "",
       "version_major": 2,
       "version_minor": 0
      },
      "text/plain": [
       "FloatProgress(value=0.0, bar_style='info', description='Progress:', layout=Layout(height='25px', width='50%'),…"
      ]
     },
     "metadata": {},
     "output_type": "display_data"
    },
    {
     "name": "stdout",
     "output_type": "stream",
     "text": [
      "import org.apache.spark.ml.feature.Bucketizer\n",
      "\u001b[1m\u001b[34mbins\u001b[0m: \u001b[1m\u001b[32mArray[Double]\u001b[0m = Array(0.0, 10.0, 20.0, 30.0, 40.0, 50.0, 60.0, 70.0, 80.0, 90.0, 100.0)\n",
      "\u001b[1m\u001b[34mbinsDF\u001b[0m: \u001b[1m\u001b[32morg.apache.spark.sql.DataFrame\u001b[0m = [percentile_lower_bound: double, binid: double ... 2 more fields]\n",
      "\u001b[1m\u001b[34mbucketizer\u001b[0m: \u001b[1m\u001b[32morg.apache.spark.ml.feature.Bucketizer\u001b[0m = bucketizer_3953068433c9\n"
     ]
    }
   ],
   "source": [
    "import org.apache.spark.ml.feature.Bucketizer\n",
    "val bins = (0 to 100 by 100/numBins).map(_/1.0).toArray\n",
    "val binsDF = bins.dropRight(1).toSeq.toDF(\"percentile_lower_bound\").withColumn(\"binid\", row_number().over(Window.orderBy(\"percentile_lower_bound\")) - lit(1.0)).withColumn(\"percentile_upper_bound\", (col(\"binid\")+lit(1.0))*(lit(100.0/numBins))).crossJoin(k.toSeq.toDF(\"k\"))\n",
    "val bucketizer = new Bucketizer().setInputCol(\"percentile\").setOutputCol(\"binid\").setSplits(bins)"
   ]
  },
  {
   "cell_type": "code",
   "execution_count": 22,
   "metadata": {},
   "outputs": [
    {
     "data": {
      "application/vnd.jupyter.widget-view+json": {
       "model_id": "",
       "version_major": 2,
       "version_minor": 0
      },
      "text/plain": [
       "FloatProgress(value=0.0, bar_style='info', description='Progress:', layout=Layout(height='25px', width='50%'),…"
      ]
     },
     "metadata": {},
     "output_type": "display_data"
    },
    {
     "name": "stdout",
     "output_type": "stream",
     "text": [
      "+----------------------+-----+----------------------+-----+\n",
      "|percentile_lower_bound|binid|percentile_upper_bound|k    |\n",
      "+----------------------+-----+----------------------+-----+\n",
      "|0.0                   |0.0  |10.0                  |100  |\n",
      "|0.0                   |0.0  |10.0                  |1000 |\n",
      "|0.0                   |0.0  |10.0                  |5000 |\n",
      "|0.0                   |0.0  |10.0                  |10000|\n",
      "|10.0                  |1.0  |20.0                  |100  |\n",
      "|10.0                  |1.0  |20.0                  |1000 |\n",
      "|10.0                  |1.0  |20.0                  |5000 |\n",
      "|10.0                  |1.0  |20.0                  |10000|\n",
      "|20.0                  |2.0  |30.0                  |100  |\n",
      "|20.0                  |2.0  |30.0                  |1000 |\n",
      "|20.0                  |2.0  |30.0                  |5000 |\n",
      "|20.0                  |2.0  |30.0                  |10000|\n",
      "|30.0                  |3.0  |40.0                  |100  |\n",
      "|30.0                  |3.0  |40.0                  |1000 |\n",
      "|30.0                  |3.0  |40.0                  |5000 |\n",
      "|30.0                  |3.0  |40.0                  |10000|\n",
      "|40.0                  |4.0  |50.0                  |100  |\n",
      "|40.0                  |4.0  |50.0                  |1000 |\n",
      "|40.0                  |4.0  |50.0                  |5000 |\n",
      "|40.0                  |4.0  |50.0                  |10000|\n",
      "+----------------------+-----+----------------------+-----+\n",
      "only showing top 20 rows\n",
      "\n"
     ]
    }
   ],
   "source": [
    "binsDF.show(false)"
   ]
  },
  {
   "cell_type": "code",
   "execution_count": 23,
   "metadata": {},
   "outputs": [
    {
     "data": {
      "application/vnd.jupyter.widget-view+json": {
       "model_id": "",
       "version_major": 2,
       "version_minor": 0
      },
      "text/plain": [
       "FloatProgress(value=0.0, bar_style='info', description='Progress:', layout=Layout(height='25px', width='50%'),…"
      ]
     },
     "metadata": {},
     "output_type": "display_data"
    },
    {
     "name": "stdout",
     "output_type": "stream",
     "text": [
      "\u001b[1m\u001b[34mnewProds\u001b[0m: \u001b[1m\u001b[32morg.apache.spark.sql.DataFrame\u001b[0m = [productid: string, Algorithm: string ... 1 more field]\n",
      "root\n",
      " |-- productid: string (nullable = true)\n",
      " |-- Algorithm: string (nullable = true)\n",
      " |-- clusterid: string (nullable = true)\n",
      "\n"
     ]
    }
   ],
   "source": [
    "var newProds = ParquetToDF.getDF(\"/data/Archive/plp/bhavesh/experiments/ajioplp_2023-04-17/lowExposureProductsInfo\")\n",
    "newProds.printSchema"
   ]
  },
  {
   "cell_type": "code",
   "execution_count": 24,
   "metadata": {},
   "outputs": [
    {
     "data": {
      "application/vnd.jupyter.widget-view+json": {
       "model_id": "",
       "version_major": 2,
       "version_minor": 0
      },
      "text/plain": [
       "FloatProgress(value=0.0, bar_style='info', description='Progress:', layout=Layout(height='25px', width='50%'),…"
      ]
     },
     "metadata": {},
     "output_type": "display_data"
    },
    {
     "name": "stdout",
     "output_type": "stream",
     "text": [
      "\u001b[1m\u001b[34mtestDate\u001b[0m: \u001b[1m\u001b[32mString\u001b[0m = 2023-04-17\n",
      "\u001b[1m\u001b[34mupperBoundDate\u001b[0m: \u001b[1m\u001b[32mString\u001b[0m = 2023-04-16\n",
      "\u001b[1m\u001b[34mlowerBoundDate\u001b[0m: \u001b[1m\u001b[32mString\u001b[0m = 2023-03-18\n",
      "\u001b[1m\u001b[34mgaData\u001b[0m: \u001b[1m\u001b[32morg.apache.spark.sql.DataFrame\u001b[0m = [productid: string, clusterid: string ... 7 more fields]\n",
      "gaData: org.apache.spark.sql.DataFrame = [productid: string, clusterid: string ... 7 more fields]\n",
      "gaData: org.apache.spark.sql.DataFrame = [productid: string, Algorithm: string ... 2 more fields]\n",
      "\u001b[1m\u001b[34mranking\u001b[0m: \u001b[1m\u001b[32morg.apache.spark.sql.DataFrame\u001b[0m = [productid: string, brickid: string ... 4 more fields]\n"
     ]
    }
   ],
   "source": [
    "var testDate = \"2023-04-17\"\n",
    "var upperBoundDate = getOldDateFromHere(1, testDate, \"yyyy-MM-dd\")\n",
    "var lowerBoundDate = getOldDateFromHere(historyNDays, testDate, \"yyyy-MM-dd\")\n",
    "var gaData = ParquetToDF.getDF(\"/data/ecomm/ajio/processed/GaCohortVisibilityLegosFNL\").filter(col(DATE).between(lowerBoundDate, upperBoundDate)).withColumn(ALGORITHM, lit(\"AjioPremiumClusteringlr\"))\n",
    "gaData = union(gaData, ParquetToDF.getDF(\"/data/ecomm/ajio/processed/ProcessedGAData\").filter(col(DATE).between(lowerBoundDate, upperBoundDate)).withColumn(ALGORITHM, lit(\"AjioGlobalRankinglr\")).withColumn(CLUSTERID, lit(\"cluster0\")))\n",
    "gaData = gaData.groupBy(PRODUCTID, ALGORITHM, CLUSTERID).agg(sum(\"PLPViewsPerDay\") as \"PLPViewsPerDay\")\n",
    "// var ranking = ParquetToDF.getDF(s\"/data/Archive/plp/bhavesh/experiments/ajioplp_${testDate}/perclusterProductRank\")\n",
    "var ranking = ParquetToDF.getDF(s\"/data/Archive/plp/bhavesh/experiments/ajioplp_${testDate}/perclusterProductRank\")"
   ]
  },
  {
   "cell_type": "code",
   "execution_count": 25,
   "metadata": {},
   "outputs": [
    {
     "data": {
      "application/vnd.jupyter.widget-view+json": {
       "model_id": "",
       "version_major": 2,
       "version_minor": 0
      },
      "text/plain": [
       "FloatProgress(value=0.0, bar_style='info', description='Progress:', layout=Layout(height='25px', width='50%'),…"
      ]
     },
     "metadata": {},
     "output_type": "display_data"
    },
    {
     "name": "stdout",
     "output_type": "stream",
     "text": [
      "\u001b[1m\u001b[34mdf\u001b[0m: \u001b[1m\u001b[32morg.apache.spark.sql.DataFrame\u001b[0m = [productid: string, Algorithm: string ... 4 more fields]\n",
      "df: org.apache.spark.sql.DataFrame = [productid: string, Algorithm: string ... 4 more fields]\n"
     ]
    }
   ],
   "source": [
    "var df = ranking.join(gaData, Seq(PRODUCTID, ALGORITHM, CLUSTERID), \"left\").na.fill(0).select(PRODUCTID, ALGORITHM, CLUSTERID, BRICKID, \"PLPViewsPerDay\", PRODUCTRANK)\n",
    "DFToParquet.putDF(\"/data/Archive/plp/bhavesh/temp/rankingJoinedGA\", df)\n",
    "df = ParquetToDF.getDF(\"/data/Archive/plp/bhavesh/temp/rankingJoinedGA\")"
   ]
  },
  {
   "cell_type": "code",
   "execution_count": 26,
   "metadata": {},
   "outputs": [
    {
     "data": {
      "application/vnd.jupyter.widget-view+json": {
       "model_id": "",
       "version_major": 2,
       "version_minor": 0
      },
      "text/plain": [
       "FloatProgress(value=0.0, bar_style='info', description='Progress:', layout=Layout(height='25px', width='50%'),…"
      ]
     },
     "metadata": {},
     "output_type": "display_data"
    },
    {
     "name": "stdout",
     "output_type": "stream",
     "text": [
      "root\n",
      " |-- productid: string (nullable = true)\n",
      " |-- Algorithm: string (nullable = true)\n",
      " |-- clusterid: string (nullable = true)\n",
      " |-- brickid: string (nullable = true)\n",
      " |-- PLPViewsPerDay: double (nullable = true)\n",
      " |-- productrank: integer (nullable = true)\n",
      "\n"
     ]
    }
   ],
   "source": [
    "df.printSchema"
   ]
  },
  {
   "cell_type": "code",
   "execution_count": 11,
   "metadata": {},
   "outputs": [
    {
     "data": {
      "application/vnd.jupyter.widget-view+json": {
       "model_id": "",
       "version_major": 2,
       "version_minor": 0
      },
      "text/plain": [
       "FloatProgress(value=0.0, bar_style='info', description='Progress:', layout=Layout(height='25px', width='50%'),…"
      ]
     },
     "metadata": {},
     "output_type": "display_data"
    },
    {
     "name": "stdout",
     "output_type": "stream",
     "text": [
      "\u001b[1m\u001b[34mdf\u001b[0m: \u001b[1m\u001b[32morg.apache.spark.sql.DataFrame\u001b[0m = [productid: string, Algorithm: string ... 4 more fields]\n",
      "df: org.apache.spark.sql.DataFrame = [productid: string, Algorithm: string ... 5 more fields]\n",
      "\u001b[1m\u001b[34mcnt1\u001b[0m: \u001b[1m\u001b[32mLong\u001b[0m = 4105518\n",
      "df: org.apache.spark.sql.DataFrame = [Algorithm: string, clusterid: string ... 6 more fields]\n",
      "\u001b[1m\u001b[34mcnt2\u001b[0m: \u001b[1m\u001b[32mLong\u001b[0m = 4105518\n",
      "df: org.apache.spark.sql.DataFrame = [productid: string, Algorithm: string ... 5 more fields]\n"
     ]
    }
   ],
   "source": [
    "/** Define percentiles */\n",
    "// Execute only once.\n",
    "var df = ParquetToDF.getDF(\"/data/Archive/plp/bhavesh/temp/rankingJoinedGA\")\n",
    "df = df.withColumn(\"rank\", row_number().over(Window.partitionBy(ALGORITHM, CLUSTERID, BRICKID).orderBy(\"PLPViewsPerDay\")))\n",
    "val cnt1 = df.count\n",
    "df = df.join(df.groupBy(ALGORITHM, CLUSTERID, BRICKID).agg(max(\"rank\") as \"maxrank\"), Seq(ALGORITHM, CLUSTERID, BRICKID))\n",
    "val cnt2 = df.count\n",
    "assert(cnt1 == cnt2, \"count must match\")\n",
    "df = df.withColumn(\"percentile\", (col(\"rank\")/col(\"maxrank\"))*lit(100)).select(PRODUCTID, ALGORITHM, CLUSTERID, BRICKID, \"PLPViewsPerDay\", PRODUCTRANK, \"percentile\")\n",
    "DFToParquet.putDF(s\"/data/Archive/plp/bhavesh/experiments/ajioplp_${testDate}/Analysis/percentilesBrickWise\", df.select(PRODUCTID, ALGORITHM, CLUSTERID, BRICKID, \"percentile\"))"
   ]
  },
  {
   "cell_type": "code",
   "execution_count": 27,
   "metadata": {},
   "outputs": [
    {
     "data": {
      "application/vnd.jupyter.widget-view+json": {
       "model_id": "",
       "version_major": 2,
       "version_minor": 0
      },
      "text/plain": [
       "FloatProgress(value=0.0, bar_style='info', description='Progress:', layout=Layout(height='25px', width='50%'),…"
      ]
     },
     "metadata": {},
     "output_type": "display_data"
    },
    {
     "name": "stdout",
     "output_type": "stream",
     "text": [
      "\u001b[1m\u001b[34mdf\u001b[0m: \u001b[1m\u001b[32morg.apache.spark.sql.DataFrame\u001b[0m = [productid: string, Algorithm: string ... 4 more fields]\n",
      "\u001b[1m\u001b[34mpercentiles\u001b[0m: \u001b[1m\u001b[32morg.apache.spark.sql.DataFrame\u001b[0m = [productid: string, Algorithm: string ... 3 more fields]\n",
      "\u001b[1m\u001b[34mcnt1\u001b[0m: \u001b[1m\u001b[32mLong\u001b[0m = 4105518\n",
      "df: org.apache.spark.sql.DataFrame = [productid: string, Algorithm: string ... 5 more fields]\n",
      "\u001b[1m\u001b[34mcnt2\u001b[0m: \u001b[1m\u001b[32mLong\u001b[0m = 4105518\n",
      "\u001b[1m\u001b[34mdiscretized_df\u001b[0m: \u001b[1m\u001b[32morg.apache.spark.sql.DataFrame\u001b[0m = [productid: string, Algorithm: string ... 6 more fields]\n",
      "discretized_df: org.apache.spark.sql.DataFrame = [Algorithm: string, clusterid: string ... 3 more fields]\n",
      "\u001b[1m\u001b[34malgo_cluster\u001b[0m: \u001b[1m\u001b[32morg.apache.spark.sql.Dataset[org.apache.spark.sql.Row]\u001b[0m = [Algorithm: string, clusterid: string]\n",
      "discretized_df: org.apache.spark.sql.DataFrame = [Algorithm: string, clusterid: string ... 4 more fields]\n"
     ]
    }
   ],
   "source": [
    "var df = ParquetToDF.getDF(\"/data/Archive/plp/bhavesh/temp/rankingJoinedGA\")\n",
    "val percentiles = ParquetToDF.getDF(s\"/data/Archive/plp/bhavesh/experiments/ajioplp_${testDate}/Analysis/percentilesBrickWise\")\n",
    "val cnt1 = df.count\n",
    "df = df.join(percentiles, Seq(PRODUCTID, ALGORITHM, CLUSTERID, BRICKID))\n",
    "val cnt2 = df.count\n",
    "assert(cnt1==cnt2, \"count must be same\")\n",
    "var discretized_df = bucketizer.transform(df)\n",
    "discretized_df = k.map(x=> discretized_df.filter(col(PRODUCTRANK)<=x).withColumn(\"k\", lit(x))).reduce(_.union(_)).groupBy(ALGORITHM, CLUSTERID, \"k\", \"binid\").agg(countDistinct(PRODUCTID) as \"count\")\n",
    "val algo_cluster = discretized_df.select(ALGORITHM, CLUSTERID).distinct()\n",
    "discretized_df = binsDF.crossJoin(algo_cluster).join(discretized_df, Seq(ALGORITHM, CLUSTERID, \"binid\", \"k\"), \"left\").na.fill(0.0).drop(\"binid\")\n",
    "DFToCSV.putDF(s\"/data/Archive/plp/bhavesh/experiments/ajioplp_${testDate}/Analysis/binnedData\", discretized_df.coalesce(1))"
   ]
  },
  {
   "cell_type": "markdown",
   "metadata": {},
   "source": [
    "### Old Way of binning"
   ]
  },
  {
   "cell_type": "code",
   "execution_count": 10,
   "metadata": {},
   "outputs": [
    {
     "data": {
      "application/vnd.jupyter.widget-view+json": {
       "model_id": "",
       "version_major": 2,
       "version_minor": 0
      },
      "text/plain": [
       "FloatProgress(value=0.0, bar_style='info', description='Progress:', layout=Layout(height='25px', width='50%'),…"
      ]
     },
     "metadata": {},
     "output_type": "display_data"
    },
    {
     "name": "stdout",
     "output_type": "stream",
     "text": [
      "\u001b[1m\u001b[34mpercentiles\u001b[0m: \u001b[1m\u001b[32mArray[Double]\u001b[0m = Array(0.0, 0.1, 0.2, 0.3, 0.4, 0.5, 0.6, 0.7, 0.8, 0.9, 1.0)\n",
      "\u001b[1m\u001b[34mpercentileCols\u001b[0m: \u001b[1m\u001b[32mArray[org.apache.spark.sql.Column]\u001b[0m = Array(percentile(PLPViewsPerDay, 0.0) AS `0'th percentile`, percentile(PLPViewsPerDay, 0.1) AS `10'th percentile`, percentile(PLPViewsPerDay, 0.2) AS `20'th percentile`, percentile(PLPViewsPerDay, 0.3) AS `30'th percentile`, percentile(PLPViewsPerDay, 0.4) AS `40'th percentile`, percentile(PLPViewsPerDay, 0.5) AS `50'th percentile`, percentile(PLPViewsPerDay, 0.6) AS `60'th percentile`, percentile(PLPViewsPerDay, 0.7) AS `70'th percentile`, percentile(PLPViewsPerDay, 0.8) AS `80'th percentile`, percentile(PLPViewsPerDay, 0.9) AS `90'th percentile`, percentile(PLPViewsPerDay, 1.0) AS `100'th percentile`)\n"
     ]
    }
   ],
   "source": [
    "val percentiles = (0 to 100 by 100/numBins).map(_/100.0).toArray\n",
    "val percentileCols = percentiles.map(p => callUDF(\"percentile\", col(\"PLPViewsPerDay\"), lit(p)).alias(s\"${(p*100).toInt}'th percentile\"))"
   ]
  },
  {
   "cell_type": "code",
   "execution_count": 11,
   "metadata": {},
   "outputs": [
    {
     "data": {
      "application/vnd.jupyter.widget-view+json": {
       "model_id": "",
       "version_major": 2,
       "version_minor": 0
      },
      "text/plain": [
       "FloatProgress(value=0.0, bar_style='info', description='Progress:', layout=Layout(height='25px', width='50%'),…"
      ]
     },
     "metadata": {},
     "output_type": "display_data"
    },
    {
     "name": "stdout",
     "output_type": "stream",
     "text": [
      "import org.apache.spark.ml.feature.{QuantileDiscretizer, Bucketizer}\n",
      "\u001b[1m\u001b[34mgroups\u001b[0m: \u001b[1m\u001b[32mArray[(String, String, String)]\u001b[0m = Array((AjioPremiumClusteringlr,cluster1,830311001), (AjioPremiumClusteringlr,cluster1,830207010), (AjioPremiumClusteringlr,cluster1,831102002), (AjioPremiumClusteringlr,cluster1,830307010), (AjioPremiumClusteringlr,cluster1,830216005), (AjioPremiumClusteringlr,cluster1,830605006), (AjioPremiumClusteringlr,cluster1,830211004), (AjioPremiumClusteringlr,cluster1,830316005), (AjioPremiumClusteringlr,cluster1,830306001), (AjioPremiumClusteringlr,cluster1,830603002), (AjioPremiumClusteringlr,cluster1,830212001), (AjioPremiumClusteringlr,cluster1,831206001), (AjioPremiumClusteringlr,cluster1,830216009), (AjioPremiumClusteringlr,cluster1,830710011), (AjioPremiumClusteringlr,cluster1,831202005), (AjioPremiumClusteringlr,cluster1...(AjioPremiumClusteringlr,cluster1,830311001)"
     ]
    }
   ],
   "source": [
    "import org.apache.spark.ml.feature.{QuantileDiscretizer, Bucketizer}\n",
    "val groups = df.select(ALGORITHM, CLUSTERID, BRICKID).distinct().collect().map(row => (row.getAs[String](ALGORITHM), row.getAs[String](CLUSTERID), row.getAs[String](BRICKID)))\n",
    "print(groups(0))"
   ]
  },
  {
   "cell_type": "code",
   "execution_count": 12,
   "metadata": {},
   "outputs": [
    {
     "data": {
      "application/vnd.jupyter.widget-view+json": {
       "model_id": "",
       "version_major": 2,
       "version_minor": 0
      },
      "text/plain": [
       "FloatProgress(value=0.0, bar_style='info', description='Progress:', layout=Layout(height='25px', width='50%'),…"
      ]
     },
     "metadata": {},
     "output_type": "display_data"
    },
    {
     "name": "stdout",
     "output_type": "stream",
     "text": [
      "\u001b[1m\u001b[34mres4\u001b[0m: \u001b[1m\u001b[32mInt\u001b[0m = 548\n"
     ]
    }
   ],
   "source": [
    "groups.length"
   ]
  },
  {
   "cell_type": "code",
   "execution_count": 13,
   "metadata": {},
   "outputs": [
    {
     "data": {
      "application/vnd.jupyter.widget-view+json": {
       "model_id": "",
       "version_major": 2,
       "version_minor": 0
      },
      "text/plain": [
       "FloatProgress(value=0.0, bar_style='info', description='Progress:', layout=Layout(height='25px', width='50%'),…"
      ]
     },
     "metadata": {},
     "output_type": "display_data"
    },
    {
     "name": "stdout",
     "output_type": "stream",
     "text": [
      "\u001b[1m\u001b[34mdiscretized_df\u001b[0m: \u001b[1m\u001b[32morg.apache.spark.sql.DataFrame\u001b[0m = [productid: string, Algorithm: string ... 5 more fields]\n"
     ]
    }
   ],
   "source": [
    "val discretized_df = groups.map(group => {\n",
    "    val algo = group._1\n",
    "    val cluster = group._2\n",
    "    val brick = group._3\n",
    "    val filtered_df = df.filter(col(ALGORITHM) === algo && col(CLUSTERID) === cluster && col(BRICKID) === brick)\n",
    "//     val bins = filtered_df.agg(percentileCols.head, percentileCols.tail: _*).head().toSeq.map(_.asInstanceOf[Double]).toArray\n",
    "//     val bucketizer = new Bucketizer().setInputCol(\"PLPViewsPerDay\").setOutputCol(\"binid\").setSplits(bins)\n",
    "//     val splits = bucketizer.getSplits\n",
    "//     DFToCSV.putDF(s\"/data/Archive/plp/bhavesh/experiments/ajioplp_${testDate}/Analysis/binSplits/Algorithm=$algo/clusterid=$cluster\",splits.toSeq.toDF(\"bins\").coalesce(1))\n",
    "//     DFToParquet.putDF(s\"/data/Archive/plp/bhavesh/experiments/ajioplp_${testDate}/AnalysisParquet/binSplits/Algorithm=$algo/clusterid=$cluster\",splits.toSeq.toDF(\"bins\").coalesce(1))\n",
    "    val bucketizer = new QuantileDiscretizer().setInputCol(\"PLPViewsPerDay\").setOutputCol(\"binid\").setNumBuckets(10)\n",
    "    bucketizer.fit(filtered_df).transform(filtered_df)\n",
    "}).reduce(_.union(_))"
   ]
  },
  {
   "cell_type": "code",
   "execution_count": 39,
   "metadata": {},
   "outputs": [
    {
     "data": {
      "application/vnd.jupyter.widget-view+json": {
       "model_id": "",
       "version_major": 2,
       "version_minor": 0
      },
      "text/plain": [
       "FloatProgress(value=0.0, bar_style='info', description='Progress:', layout=Layout(height='25px', width='50%'),…"
      ]
     },
     "metadata": {},
     "output_type": "display_data"
    }
   ],
   "source": [
    "var df_stat = k.map(x=> discretized_df.filter(col(PRODUCTRANK)<=x).withColumn(\"k\", lit(x))).reduce(_.union(_)).groupBy(ALGORITHM, CLUSTERID, \"k\", \"binid\").agg(countDistinct(PRODUCTID) as \"count\")\n",
    "df_stat.show(false)"
   ]
  },
  {
   "cell_type": "code",
   "execution_count": 40,
   "metadata": {},
   "outputs": [
    {
     "data": {
      "application/vnd.jupyter.widget-view+json": {
       "model_id": "",
       "version_major": 2,
       "version_minor": 0
      },
      "text/plain": [
       "FloatProgress(value=0.0, bar_style='info', description='Progress:', layout=Layout(height='25px', width='50%'),…"
      ]
     },
     "metadata": {},
     "output_type": "display_data"
    }
   ],
   "source": [
    "putDFMultiColumnPartition(s\"/data/Archive/plp/bhavesh/experiments/ajioplp_${testDate}/Analysis/binnedData\", df_stat, Seq(ALGORITHM, CLUSTERID, \"k\"))\n",
    "putDFMultiColumnPartitionParquet(s\"/data/Archive/plp/bhavesh/experiments/ajioplp_${testDate}/AnalysisParquet/binnedData\", df_stat, Seq(ALGORITHM, CLUSTERID, \"k\"))"
   ]
  },
  {
   "cell_type": "code",
   "execution_count": 16,
   "metadata": {},
   "outputs": [
    {
     "data": {
      "application/vnd.jupyter.widget-view+json": {
       "model_id": "",
       "version_major": 2,
       "version_minor": 0
      },
      "text/plain": [
       "FloatProgress(value=0.0, bar_style='info', description='Progress:', layout=Layout(height='25px', width='50%'),…"
      ]
     },
     "metadata": {},
     "output_type": "display_data"
    }
   ],
   "source": [
    "HdfsUtils.delete(\"/data/Archive/plp/bhavesh/temp\")"
   ]
  },
  {
   "cell_type": "markdown",
   "metadata": {},
   "source": [
    "### Sanity check"
   ]
  },
  {
   "cell_type": "code",
   "execution_count": 9,
   "metadata": {},
   "outputs": [
    {
     "data": {
      "application/vnd.jupyter.widget-view+json": {
       "model_id": "",
       "version_major": 2,
       "version_minor": 0
      },
      "text/plain": [
       "FloatProgress(value=0.0, bar_style='info', description='Progress:', layout=Layout(height='25px', width='50%'),…"
      ]
     },
     "metadata": {},
     "output_type": "display_data"
    },
    {
     "name": "stdout",
     "output_type": "stream",
     "text": [
      "import org.apache.spark.ml.feature.Bucketizer\n",
      "\u001b[1m\u001b[34mdf\u001b[0m: \u001b[1m\u001b[32morg.apache.spark.sql.DataFrame\u001b[0m = [productid: string, Algorithm: string ... 3 more fields]\n",
      "df: org.apache.spark.sql.DataFrame = [productid: string, Algorithm: string ... 3 more fields]\n",
      "\u001b[1m\u001b[34mbins\u001b[0m: \u001b[1m\u001b[32mArray[Double]\u001b[0m = Array(0.0, 16.0, 45.0, 90.0, 157.0, 262.0, 445.0, 799.0, 1587.0, 3852.0, 1982134.0)\n",
      "\u001b[1m\u001b[34mbucketizer\u001b[0m: \u001b[1m\u001b[32morg.apache.spark.ml.feature.Bucketizer\u001b[0m = bucketizer_ca3f326d5999\n",
      "df: org.apache.spark.sql.DataFrame = [productid: string, Algorithm: string ... 4 more fields]\n",
      "+-----+-------------------------+\n",
      "|binid|count(DISTINCT productid)|\n",
      "+-----+-------------------------+\n",
      "|8.0  |8                        |\n",
      "|0.0  |38                       |\n",
      "|7.0  |23                       |\n",
      "|1.0  |28                       |\n",
      "|4.0  |34                       |\n",
      "|3.0  |23                       |\n",
      "|2.0  |42                       |\n",
      "|6.0  |21                       |\n",
      "|5.0  |31                       |\n",
      "|9.0  |2                        |\n",
      "+-----+-------------------------+\n",
      "\n"
     ]
    }
   ],
   "source": [
    "import org.apache.spark.ml.feature.Bucketizer\n",
    "var df = ParquetToDF.getDF(\"/data/Archive/plp/bhavesh/temp/rankingJoinedGA\")\n",
    "df = newProds.join(df, Seq(PRODUCTID, ALGORITHM, CLUSTERID), \"left\").filter(col(CLUSTERID) === \"cluster1\")\n",
    "val bins = Array(0.0, 16.0, 45.0, 90.0, 157.0, 262.0, 445.0, 799.0, 1587.0, 3852.0, 1982134.0)\n",
    "val bucketizer = new Bucketizer().setInputCol(\"PLPViewsPerDay\").setOutputCol(\"binid\").setSplits(bins)\n",
    "df = bucketizer.transform(df)\n",
    "df.groupBy(\"binid\").agg(countDistinct(PRODUCTID)).orderBy().show(false)"
   ]
  },
  {
   "cell_type": "markdown",
   "metadata": {},
   "source": [
    "### Change kernel to python"
   ]
  },
  {
   "cell_type": "code",
   "execution_count": 1,
   "metadata": {},
   "outputs": [
    {
     "name": "stderr",
     "output_type": "stream",
     "text": [
      "<ipython-input-1-e6a9f2f20eb7>:8: DeprecationWarning: pyarrow.hdfs.connect is deprecated as of 2.0.0, please use pyarrow.fs.HadoopFileSystem instead.\n",
      "  fs = pa.hdfs.connect()\n"
     ]
    }
   ],
   "source": [
    "import pandas as pd\n",
    "import numpy as np\n",
    "import matplotlib.pyplot as plt\n",
    "import pyarrow as pa\n",
    "import pyarrow.parquet as pq\n",
    "import pyarrow.csv as pcsv\n",
    "\n",
    "fs = pa.hdfs.connect()"
   ]
  },
  {
   "cell_type": "code",
   "execution_count": 2,
   "metadata": {},
   "outputs": [],
   "source": [
    "df = pq.ParquetDataset(\"/data/Archive/plp/bhavesh/experiments/ajioplp_2023-04-17/AnalysisParquet/binnedData\", fs).read().to_pandas()\n",
    "bins_info = pq.ParquetDataset(\"/data/Archive/plp/bhavesh/experiments/ajioplp_2023-04-17/AnalysisParquet/binSplits\", fs).read().to_pandas()"
   ]
  },
  {
   "cell_type": "code",
   "execution_count": 4,
   "metadata": {},
   "outputs": [],
   "source": [
    "df[\"binid\"] = df[\"binid\"].astype(int)\n",
    "df[\"Algorithm\"] = df[\"Algorithm\"].astype(str)\n",
    "df[\"clusterid\"] = df[\"clusterid\"].astype(str)\n",
    "df[\"k\"] = df[\"k\"].astype(int)"
   ]
  },
  {
   "cell_type": "code",
   "execution_count": 5,
   "metadata": {},
   "outputs": [
    {
     "name": "stdout",
     "output_type": "stream",
     "text": [
      "['AjioGlobalRankinglr_cluster0', 'AjioPremiumClusteringlr_cluster0', 'AjioPremiumClusteringlr_cluster1']\n",
      "[100, 1000, 10000, 5000]\n"
     ]
    }
   ],
   "source": [
    "algo_clusters = list((df[\"Algorithm\"] + \"_\" + df[\"clusterid\"]).unique())\n",
    "k = list(df[\"k\"].unique())\n",
    "print(algo_clusters)\n",
    "print(k)"
   ]
  },
  {
   "cell_type": "code",
   "execution_count": 6,
   "metadata": {},
   "outputs": [
    {
     "name": "stdout",
     "output_type": "stream",
     "text": [
      "k = 100\n",
      "                         x     y  count\n",
      "0          0.0<=views<16.0  0.02    2.0\n",
      "1         16.0<=views<45.0  0.00    0.0\n",
      "2         45.0<=views<90.0  0.00    0.0\n",
      "3        90.0<=views<157.0  0.00    0.0\n",
      "4       157.0<=views<262.0  0.00    0.0\n",
      "5       262.0<=views<445.0  0.01    1.0\n",
      "6       445.0<=views<799.0  0.01    1.0\n",
      "7      799.0<=views<1587.0  0.01    1.0\n",
      "8     1587.0<=views<3852.0  0.00    0.0\n",
      "9  3852.0<=views<1982134.0  0.95   95.0\n"
     ]
    },
    {
     "data": {
      "image/png": "[encoded data removed]",
      "text/plain": [
       "<Figure size 720x720 with 1 Axes>"
      ]
     },
     "metadata": {
      "needs_background": "light"
     },
     "output_type": "display_data"
    }
   ],
   "source": [
    "rank_limit = 100\n",
    "sdf = df[(df[\"Algorithm\"] == \"AjioPremiumClusteringlr\") & (df[\"clusterid\"] == \"cluster1\")]\n",
    "sdf = sdf[sdf[\"k\"] == rank_limit]\n",
    "bins_info_new = list(bins_info[(bins_info[\"Algorithm\"] == \"AjioPremiumClusteringlr\") & (bins_info[\"clusterid\"] == \"cluster1\")][\"bins\"].values)\n",
    "num_bins = len(bins_info_new) - 1\n",
    "binids = pd.DataFrame({\"binid\": list(range(num_bins))})\n",
    "sdf = pd.merge(sdf, binids, on=[\"binid\"], how=\"right\")\n",
    "sdf = sdf.sort_values(by=[\"binid\"])\n",
    "sdf[\"count\"] = sdf[\"count\"].fillna(0)\n",
    "sdf[\"k\"] = sdf[\"k\"].fillna(rank_limit)\n",
    "sdf[\"x\"] = [f\"{bins_info_new[i]}<=views<{bins_info_new[i+1]}\" for i in range(len(bins_info_new)-1)]\n",
    "sdf[\"y\"] = sdf[\"count\"]/sdf[\"k\"]\n",
    "plt.figure(figsize=(10,10))\n",
    "plt.xticks(rotation=60)\n",
    "plt.bar(sdf[\"x\"],sdf[\"y\"])\n",
    "print(f\"k = {rank_limit}\")\n",
    "print(sdf[[\"x\", \"y\", \"count\"]])"
   ]
  },
  {
   "cell_type": "code",
   "execution_count": 7,
   "metadata": {},
   "outputs": [
    {
     "name": "stdout",
     "output_type": "stream",
     "text": [
      "k = 1000\n",
      "                         x      y  count\n",
      "0          0.0<=views<16.0  0.007      7\n",
      "1         16.0<=views<45.0  0.006      6\n",
      "2         45.0<=views<90.0  0.007      7\n",
      "3        90.0<=views<157.0  0.006      6\n",
      "4       157.0<=views<262.0  0.008      8\n",
      "5       262.0<=views<445.0  0.006      6\n",
      "6       445.0<=views<799.0  0.004      4\n",
      "7      799.0<=views<1587.0  0.003      3\n",
      "8     1587.0<=views<3852.0  0.005      5\n",
      "9  3852.0<=views<1982134.0  0.948    948\n"
     ]
    },
    {
     "data": {
      "image/png": "[encoded data removed]",
      "text/plain": [
       "<Figure size 720x720 with 1 Axes>"
      ]
     },
     "metadata": {
      "needs_background": "light"
     },
     "output_type": "display_data"
    }
   ],
   "source": [
    "rank_limit = 1000\n",
    "sdf = df[(df[\"Algorithm\"] == \"AjioPremiumClusteringlr\") & (df[\"clusterid\"] == \"cluster1\")]\n",
    "sdf = sdf[sdf[\"k\"] == rank_limit]\n",
    "bins_info_new = list(bins_info[(bins_info[\"Algorithm\"] == \"AjioPremiumClusteringlr\") & (bins_info[\"clusterid\"] == \"cluster1\")][\"bins\"].values)\n",
    "num_bins = len(bins_info_new) - 1\n",
    "binids = pd.DataFrame({\"binid\": list(range(num_bins))})\n",
    "sdf = pd.merge(sdf, binids, on=[\"binid\"], how=\"right\")\n",
    "sdf = sdf.sort_values(by=[\"binid\"])\n",
    "sdf[\"count\"] = sdf[\"count\"].fillna(0)\n",
    "sdf[\"k\"] = sdf[\"k\"].fillna(rank_limit)\n",
    "sdf[\"x\"] = [f\"{bins_info_new[i]}<=views<{bins_info_new[i+1]}\" for i in range(len(bins_info_new)-1)]\n",
    "sdf[\"y\"] = sdf[\"count\"]/sdf[\"k\"]\n",
    "plt.figure(figsize=(10,10))\n",
    "plt.xticks(rotation=60)\n",
    "plt.bar(sdf[\"x\"],sdf[\"y\"])\n",
    "print(f\"k = {rank_limit}\")\n",
    "print(sdf[[\"x\", \"y\", \"count\"]])"
   ]
  },
  {
   "cell_type": "code",
   "execution_count": 8,
   "metadata": {},
   "outputs": [
    {
     "name": "stdout",
     "output_type": "stream",
     "text": [
      "k = 5000\n",
      "                         x       y  count\n",
      "0          0.0<=views<16.0  0.0076     38\n",
      "1         16.0<=views<45.0  0.0058     29\n",
      "2         45.0<=views<90.0  0.0082     41\n",
      "3        90.0<=views<157.0  0.0052     26\n",
      "4       157.0<=views<262.0  0.0066     33\n",
      "5       262.0<=views<445.0  0.0068     34\n",
      "6       445.0<=views<799.0  0.0044     22\n",
      "7      799.0<=views<1587.0  0.0064     32\n",
      "8     1587.0<=views<3852.0  0.0128     64\n",
      "9  3852.0<=views<1982134.0  0.9362   4681\n"
     ]
    },
    {
     "data": {
      "image/png": "[encoded data removed]",
      "text/plain": [
       "<Figure size 720x720 with 1 Axes>"
      ]
     },
     "metadata": {
      "needs_background": "light"
     },
     "output_type": "display_data"
    }
   ],
   "source": [
    "rank_limit = 5000\n",
    "sdf = df[(df[\"Algorithm\"] == \"AjioPremiumClusteringlr\") & (df[\"clusterid\"] == \"cluster1\")]\n",
    "sdf = sdf[sdf[\"k\"] == rank_limit]\n",
    "bins_info_new = list(bins_info[(bins_info[\"Algorithm\"] == \"AjioPremiumClusteringlr\") & (bins_info[\"clusterid\"] == \"cluster1\")][\"bins\"].values)\n",
    "num_bins = len(bins_info_new) - 1\n",
    "binids = pd.DataFrame({\"binid\": list(range(num_bins))})\n",
    "sdf = pd.merge(sdf, binids, on=[\"binid\"], how=\"right\")\n",
    "sdf = sdf.sort_values(by=[\"binid\"])\n",
    "sdf[\"count\"] = sdf[\"count\"].fillna(0)\n",
    "sdf[\"k\"] = sdf[\"k\"].fillna(rank_limit)\n",
    "sdf[\"x\"] = [f\"{bins_info_new[i]}<=views<{bins_info_new[i+1]}\" for i in range(len(bins_info_new)-1)]\n",
    "sdf[\"y\"] = sdf[\"count\"]/sdf[\"k\"]\n",
    "plt.figure(figsize=(10,10))\n",
    "plt.xticks(rotation=60)\n",
    "plt.bar(sdf[\"x\"],sdf[\"y\"])\n",
    "print(f\"k = {rank_limit}\")\n",
    "print(sdf[[\"x\", \"y\", \"count\"]])"
   ]
  },
  {
   "cell_type": "code",
   "execution_count": 9,
   "metadata": {},
   "outputs": [
    {
     "name": "stdout",
     "output_type": "stream",
     "text": [
      "k = 10000\n",
      "                         x       y  count\n",
      "0          0.0<=views<16.0  0.0040     40\n",
      "1         16.0<=views<45.0  0.0030     30\n",
      "2         45.0<=views<90.0  0.0044     44\n",
      "3        90.0<=views<157.0  0.0030     30\n",
      "4       157.0<=views<262.0  0.0036     36\n",
      "5       262.0<=views<445.0  0.0042     42\n",
      "6       445.0<=views<799.0  0.0041     41\n",
      "7      799.0<=views<1587.0  0.0078     78\n",
      "8     1587.0<=views<3852.0  0.0208    208\n",
      "9  3852.0<=views<1982134.0  0.9451   9451\n"
     ]
    },
    {
     "data": {
      "image/png": "[encoded data removed]",
      "text/plain": [
       "<Figure size 720x720 with 1 Axes>"
      ]
     },
     "metadata": {
      "needs_background": "light"
     },
     "output_type": "display_data"
    }
   ],
   "source": [
    "rank_limit = 10000\n",
    "sdf = df[(df[\"Algorithm\"] == \"AjioPremiumClusteringlr\") & (df[\"clusterid\"] == \"cluster1\")]\n",
    "sdf = sdf[sdf[\"k\"] == rank_limit]\n",
    "bins_info_new = list(bins_info[(bins_info[\"Algorithm\"] == \"AjioPremiumClusteringlr\") & (bins_info[\"clusterid\"] == \"cluster1\")][\"bins\"].values)\n",
    "num_bins = len(bins_info_new) - 1\n",
    "binids = pd.DataFrame({\"binid\": list(range(num_bins))})\n",
    "sdf = pd.merge(sdf, binids, on=[\"binid\"], how=\"right\")\n",
    "sdf = sdf.sort_values(by=[\"binid\"])\n",
    "sdf[\"count\"] = sdf[\"count\"].fillna(0)\n",
    "sdf[\"k\"] = sdf[\"k\"].fillna(rank_limit)\n",
    "sdf[\"x\"] = [f\"{bins_info_new[i]}<=views<{bins_info_new[i+1]}\" for i in range(len(bins_info_new)-1)]\n",
    "sdf[\"y\"] = sdf[\"count\"]/sdf[\"k\"]\n",
    "plt.figure(figsize=(10,10))\n",
    "plt.xticks(rotation=60)\n",
    "plt.bar(sdf[\"x\"],sdf[\"y\"])\n",
    "print(f\"k = {rank_limit}\")\n",
    "print(sdf[[\"x\", \"y\", \"count\"]])"
   ]
  },
  {
   "cell_type": "markdown",
   "metadata": {},
   "source": [
    "### Reformat and paste in excel"
   ]
  },
  {
   "cell_type": "code",
   "execution_count": 10,
   "metadata": {},
   "outputs": [],
   "source": [
    "binnedData = pq.ParquetDataset(\"/data/Archive/plp/bhavesh/experiments/ajioplp_2023-04-17/AnalysisParquet/binnedData\", fs).read().to_pandas()\n",
    "num_bins = 10"
   ]
  },
  {
   "cell_type": "code",
   "execution_count": 28,
   "metadata": {},
   "outputs": [
    {
     "name": "stderr",
     "output_type": "stream",
     "text": [
      "An error was encountered:\n",
      "Invalid status code '404' from http://10.144.97.194:8999/sessions/634 with error payload: \"Session '634' not found.\"\n"
     ]
    }
   ],
   "source": [
    "binids = pd.DataFrame({\"binid\": list(range(10))})\n",
    "binids[\"key\"] = 1\n",
    "binnedData[\"key\"] = 1\n",
    "df = pd.merge(binnedData, binids, on=[\"key\"]).drop(columns=[\"key\"])\n",
    "df[\"count\"] = df[\"count\"].fillna(0.0)"
   ]
  },
  {
   "cell_type": "code",
   "execution_count": 13,
   "metadata": {},
   "outputs": [],
   "source": [
    "df = df[df[\"binid\"] != 10.0]\n",
    "df[\"percentile_lower_bound\"] = [f\"{int(i)*(100/num_bins)}%\" for i in df[\"binid\"].values]\n",
    "df[\"percentile_upper_bound\"] = [f\"{(int(i)+1)*(100/num_bins)}%\" for i in df[\"binid\"].values]\n",
    "df[\"fraction\"] = df[\"count\"]/df[\"k\"]\n",
    "df = df[[\"Algorithm\", \"clusterid\", \"k\", \"percentile_lower_bound\", \"percentile_upper_bound\", \"count\", \"fraction\"]]"
   ]
  },
  {
   "cell_type": "code",
   "execution_count": 14,
   "metadata": {},
   "outputs": [],
   "source": [
    "df.to_csv(\"binnedDataAnalysis.csv\", index=False)"
   ]
  }
 ],
 "metadata": {
  "kernelspec": {
   "display_name": "Spark",
   "language": "",
   "name": "sparkkernel"
  },
  "language_info": {
   "codemirror_mode": "text/x-scala",
   "mimetype": "text/x-scala",
   "name": "scala",
   "pygments_lexer": "scala"
  }
 },
 "nbformat": 4,
 "nbformat_minor": 4
}
